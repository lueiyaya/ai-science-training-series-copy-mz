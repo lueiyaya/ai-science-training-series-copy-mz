{
  "cells": [
    {
      "cell_type": "markdown",
      "metadata": {
        "id": "J1tOS7oWba4s"
      },
      "source": [
        "# Large language models (LLMs): Part II\n",
        "\n",
        "Author: Archit Vasan , including materials on LLMs by Varuni Sastri, and discussion/editorial work by Taylor Childers, Carlo Graziani, Bethany Lusch, and Venkat Vishwanath (Argonne)\n",
        "\n",
        "Inspiration from the blog posts \"The Illustrated Transformer\" and \"The Illustrated GPT2\" by Jay Alammar, highly recommended reading.\n",
        "\n",
        "Before you begin, make sure that you have your environment set up and your repo refreshed, as described in previous lessons, and reviewed in the accompanying 'Readme.md' file. Make sure that you select the kernel 'datascience/conda-2023-01-10' at the top-left of the Jupyter notebook."
      ]
    },
    {
      "cell_type": "markdown",
      "metadata": {
        "id": "WIljEzFTRkHy"
      },
      "source": [
        "## Overview\n",
        "1. Training and inference using Hugging Face\n",
        "2. Elements of an LLM\n",
        "3. Attention mechanisms\n",
        "4. Positional encoding\n",
        "5. Output layers\n",
        "6. Training loops"
      ]
    },
    {
      "cell_type": "code",
      "execution_count": 4,
      "metadata": {
        "id": "POfxRG2YRkHz"
      },
      "outputs": [],
      "source": [
        "import os\n",
        "os.environ[\"HTTP_PROXY\"]=\"http://proxy-01.pub.alcf.anl.gov:3128\"\n",
        "os.environ[\"HTTPS_PROXY\"]=\"http://proxy-01.pub.alcf.anl.gov:3128\"\n",
        "os.environ[\"http_proxy\"]=\"http://proxy-01.pub.alcf.anl.gov:3128\"\n",
        "os.environ[\"https_proxy\"]=\"http://proxy-01.pub.alcf.anl.gov:3128\"\n",
        "os.environ[\"ftp_proxy\"]=\"http://proxy-01.pub.alcf.anl.gov:3128\""
      ]
    },
    {
      "cell_type": "markdown",
      "metadata": {
        "id": "_Swm4Z8QRkH1"
      },
      "source": [
        "## LLM training and inference using HuggingFace"
      ]
    },
    {
      "cell_type": "markdown",
      "metadata": {
        "id": "dccYx66rRkH1"
      },
      "source": [
        "<img src=\"https://github.com/lueiyaya/ai-science-training-series-copy-mz/blob/main/05_llm_part2/images/hf-logo-with-title.png?raw=1\" alt=\"Drawing\" style=\"width: 300px;\"/>\n",
        "HuggingFace is a platform and community that provides open-source library tools and resources like pre-trained models and datasets.\n",
        "Refer to the following links for more information :\n",
        "\n",
        "https://huggingface.co/docs/hub/index\n",
        "\n",
        "https://huggingface.co/docs/transformers/en/index"
      ]
    },
    {
      "cell_type": "markdown",
      "metadata": {
        "id": "CvHPvYDVRkH2"
      },
      "source": [
        "Warning: _Large Language Models are only as good as their training data. They have no ethics, no judgement, or editing ability. We will be using some pretrained models from Hugging Face which used wide samples of internet hosted text. The datasets have not been strictly filtered to restrict all malign content so the generated text may be surprisingly dark or questionable. They do not reflect our core values and are only used for demonstration purposes._"
      ]
    },
    {
      "cell_type": "markdown",
      "metadata": {
        "id": "29OG5ryJRkH2"
      },
      "source": [
        "### Inference\n",
        "\n",
        "We can use the Huggingface pipeline with a pretrained GPT2 model to generate text given a prompt."
      ]
    },
    {
      "cell_type": "code",
      "execution_count": 10,
      "metadata": {
        "scrolled": true,
        "id": "GRRjHsDPRkH3",
        "outputId": "bee642a4-09c6-4cac-9dd7-2af714f5690c",
        "colab": {
          "base_uri": "https://localhost:8080/"
        }
      },
      "outputs": [
        {
          "output_type": "stream",
          "name": "stderr",
          "text": [
            "Truncation was not explicitly activated but `max_length` is provided a specific value, please use `truncation=True` to explicitly truncate examples to max length. Defaulting to 'longest_first' truncation strategy. If you encode pairs of sequences (GLUE-style) with the tokenizer you can select this strategy more precisely by providing a specific strategy to `truncation`.\n",
            "Setting `pad_token_id` to `eos_token_id`:50256 for open-end generation.\n"
          ]
        },
        {
          "output_type": "execute_result",
          "data": {
            "text/plain": [
              "[{'generated_text': 'My dog really wanted to tell me everything to my surprise when I came out of it at the end'},\n",
              " {'generated_text': 'My dog really wanted to be one. But when he got off the dogs, the whole thing came'},\n",
              " {'generated_text': 'My dog really wanted to try it,\" says Miele.\\n\\nHabitat\\n\\n'},\n",
              " {'generated_text': 'My dog really wanted to sit on me.\"\\n\\nWhat are your thoughts on the new program,'},\n",
              " {'generated_text': 'My dog really wanted to have a chat with you.\" After making her decision to walk away and being'}]"
            ]
          },
          "metadata": {},
          "execution_count": 10
        }
      ],
      "source": [
        "from transformers import AutoTokenizer,AutoModelForCausalLM, AutoConfig\n",
        "input_text = \"My dog really wanted to\"\n",
        "from transformers import pipeline\n",
        "generator = pipeline(\"text-generation\", model=\"openai-community/gpt2\")\n",
        "generator(input_text, max_length=20, num_return_sequences=5)"
      ]
    },
    {
      "cell_type": "markdown",
      "metadata": {
        "id": "uuhlZNQTRkId"
      },
      "source": [
        "We will cover  evaluation metrics,as well as safe and responsibilities practices when using LLMs in **Session 8**."
      ]
    },
    {
      "cell_type": "markdown",
      "metadata": {
        "id": "vB5m3A7CRkId"
      },
      "source": [
        "### Training"
      ]
    },
    {
      "cell_type": "markdown",
      "metadata": {
        "id": "Mf30VluYRkIe"
      },
      "source": [
        "We can also load in our own dataset and train a model with this data as follows:"
      ]
    },
    {
      "cell_type": "code",
      "source": [
        "! pip3 install -U accelerate\n",
        "! pip3 install -U transformers"
      ],
      "metadata": {
        "id": "PnsXRGXYvXkX",
        "outputId": "f008fac4-efd2-4860-ac44-f4e0ef2eddc5",
        "colab": {
          "base_uri": "https://localhost:8080/"
        }
      },
      "execution_count": 3,
      "outputs": [
        {
          "output_type": "stream",
          "name": "stdout",
          "text": [
            "Requirement already satisfied: accelerate in /usr/local/lib/python3.10/dist-packages (0.27.2)\n",
            "Collecting accelerate\n",
            "  Downloading accelerate-0.28.0-py3-none-any.whl (290 kB)\n",
            "\u001b[2K     \u001b[90m━━━━━━━━━━━━━━━━━━━━━━━━━━━━━━━━━━━━━━━━\u001b[0m \u001b[32m290.1/290.1 kB\u001b[0m \u001b[31m2.2 MB/s\u001b[0m eta \u001b[36m0:00:00\u001b[0m\n",
            "\u001b[?25hRequirement already satisfied: numpy>=1.17 in /usr/local/lib/python3.10/dist-packages (from accelerate) (1.25.2)\n",
            "Requirement already satisfied: packaging>=20.0 in /usr/local/lib/python3.10/dist-packages (from accelerate) (23.2)\n",
            "Requirement already satisfied: psutil in /usr/local/lib/python3.10/dist-packages (from accelerate) (5.9.5)\n",
            "Requirement already satisfied: pyyaml in /usr/local/lib/python3.10/dist-packages (from accelerate) (6.0.1)\n",
            "Requirement already satisfied: torch>=1.10.0 in /usr/local/lib/python3.10/dist-packages (from accelerate) (2.1.0+cu121)\n",
            "Requirement already satisfied: huggingface-hub in /usr/local/lib/python3.10/dist-packages (from accelerate) (0.20.3)\n",
            "Requirement already satisfied: safetensors>=0.3.1 in /usr/local/lib/python3.10/dist-packages (from accelerate) (0.4.2)\n",
            "Requirement already satisfied: filelock in /usr/local/lib/python3.10/dist-packages (from torch>=1.10.0->accelerate) (3.13.1)\n",
            "Requirement already satisfied: typing-extensions in /usr/local/lib/python3.10/dist-packages (from torch>=1.10.0->accelerate) (4.10.0)\n",
            "Requirement already satisfied: sympy in /usr/local/lib/python3.10/dist-packages (from torch>=1.10.0->accelerate) (1.12)\n",
            "Requirement already satisfied: networkx in /usr/local/lib/python3.10/dist-packages (from torch>=1.10.0->accelerate) (3.2.1)\n",
            "Requirement already satisfied: jinja2 in /usr/local/lib/python3.10/dist-packages (from torch>=1.10.0->accelerate) (3.1.3)\n",
            "Requirement already satisfied: fsspec in /usr/local/lib/python3.10/dist-packages (from torch>=1.10.0->accelerate) (2023.6.0)\n",
            "Requirement already satisfied: triton==2.1.0 in /usr/local/lib/python3.10/dist-packages (from torch>=1.10.0->accelerate) (2.1.0)\n",
            "Requirement already satisfied: requests in /usr/local/lib/python3.10/dist-packages (from huggingface-hub->accelerate) (2.31.0)\n",
            "Requirement already satisfied: tqdm>=4.42.1 in /usr/local/lib/python3.10/dist-packages (from huggingface-hub->accelerate) (4.66.2)\n",
            "Requirement already satisfied: MarkupSafe>=2.0 in /usr/local/lib/python3.10/dist-packages (from jinja2->torch>=1.10.0->accelerate) (2.1.5)\n",
            "Requirement already satisfied: charset-normalizer<4,>=2 in /usr/local/lib/python3.10/dist-packages (from requests->huggingface-hub->accelerate) (3.3.2)\n",
            "Requirement already satisfied: idna<4,>=2.5 in /usr/local/lib/python3.10/dist-packages (from requests->huggingface-hub->accelerate) (3.6)\n",
            "Requirement already satisfied: urllib3<3,>=1.21.1 in /usr/local/lib/python3.10/dist-packages (from requests->huggingface-hub->accelerate) (2.0.7)\n",
            "Requirement already satisfied: certifi>=2017.4.17 in /usr/local/lib/python3.10/dist-packages (from requests->huggingface-hub->accelerate) (2024.2.2)\n",
            "Requirement already satisfied: mpmath>=0.19 in /usr/local/lib/python3.10/dist-packages (from sympy->torch>=1.10.0->accelerate) (1.3.0)\n",
            "Installing collected packages: accelerate\n",
            "  Attempting uninstall: accelerate\n",
            "    Found existing installation: accelerate 0.27.2\n",
            "    Uninstalling accelerate-0.27.2:\n",
            "      Successfully uninstalled accelerate-0.27.2\n",
            "Successfully installed accelerate-0.28.0\n",
            "Requirement already satisfied: transformers in /usr/local/lib/python3.10/dist-packages (4.38.2)\n",
            "Requirement already satisfied: filelock in /usr/local/lib/python3.10/dist-packages (from transformers) (3.13.1)\n",
            "Requirement already satisfied: huggingface-hub<1.0,>=0.19.3 in /usr/local/lib/python3.10/dist-packages (from transformers) (0.20.3)\n",
            "Requirement already satisfied: numpy>=1.17 in /usr/local/lib/python3.10/dist-packages (from transformers) (1.25.2)\n",
            "Requirement already satisfied: packaging>=20.0 in /usr/local/lib/python3.10/dist-packages (from transformers) (23.2)\n",
            "Requirement already satisfied: pyyaml>=5.1 in /usr/local/lib/python3.10/dist-packages (from transformers) (6.0.1)\n",
            "Requirement already satisfied: regex!=2019.12.17 in /usr/local/lib/python3.10/dist-packages (from transformers) (2023.12.25)\n",
            "Requirement already satisfied: requests in /usr/local/lib/python3.10/dist-packages (from transformers) (2.31.0)\n",
            "Requirement already satisfied: tokenizers<0.19,>=0.14 in /usr/local/lib/python3.10/dist-packages (from transformers) (0.15.2)\n",
            "Requirement already satisfied: safetensors>=0.4.1 in /usr/local/lib/python3.10/dist-packages (from transformers) (0.4.2)\n",
            "Requirement already satisfied: tqdm>=4.27 in /usr/local/lib/python3.10/dist-packages (from transformers) (4.66.2)\n",
            "Requirement already satisfied: fsspec>=2023.5.0 in /usr/local/lib/python3.10/dist-packages (from huggingface-hub<1.0,>=0.19.3->transformers) (2023.6.0)\n",
            "Requirement already satisfied: typing-extensions>=3.7.4.3 in /usr/local/lib/python3.10/dist-packages (from huggingface-hub<1.0,>=0.19.3->transformers) (4.10.0)\n",
            "Requirement already satisfied: charset-normalizer<4,>=2 in /usr/local/lib/python3.10/dist-packages (from requests->transformers) (3.3.2)\n",
            "Requirement already satisfied: idna<4,>=2.5 in /usr/local/lib/python3.10/dist-packages (from requests->transformers) (3.6)\n",
            "Requirement already satisfied: urllib3<3,>=1.21.1 in /usr/local/lib/python3.10/dist-packages (from requests->transformers) (2.0.7)\n",
            "Requirement already satisfied: certifi>=2017.4.17 in /usr/local/lib/python3.10/dist-packages (from requests->transformers) (2024.2.2)\n"
          ]
        }
      ]
    },
    {
      "cell_type": "code",
      "source": [
        "# check the package instalment\n",
        "from transformers.utils import is_accelerate_available\n",
        "is_accelerate_available()"
      ],
      "metadata": {
        "id": "RJ1zUZrsF4ob",
        "outputId": "aa121435-f1b2-4213-af11-4b35f94b80a5",
        "colab": {
          "base_uri": "https://localhost:8080/"
        }
      },
      "execution_count": 4,
      "outputs": [
        {
          "output_type": "execute_result",
          "data": {
            "text/plain": [
              "True"
            ]
          },
          "metadata": {},
          "execution_count": 4
        }
      ]
    },
    {
      "cell_type": "code",
      "execution_count": 5,
      "metadata": {
        "id": "5R4QdzSRRkIf"
      },
      "outputs": [],
      "source": [
        "from transformers import TextDataset,DataCollatorForLanguageModeling\n",
        "\n",
        "def load_dataset(train_path,test_path,tokenizer):\n",
        "    train_dataset = TextDataset(\n",
        "          tokenizer=tokenizer,\n",
        "          file_path=train_path,\n",
        "          block_size=128)\n",
        "    test_dataset = TextDataset(\n",
        "          tokenizer=tokenizer,\n",
        "          file_path=test_path,\n",
        "          block_size=128)\n",
        "    data_collator = DataCollatorForLanguageModeling(\n",
        "        tokenizer=tokenizer, mlm=False,\n",
        "    )\n",
        "    return train_dataset,test_dataset,data_collator"
      ]
    },
    {
      "cell_type": "code",
      "execution_count": 7,
      "metadata": {
        "id": "e3NPmiCCRkIf",
        "outputId": "55e5ef07-f723-409f-b106-6e1b2987a823",
        "colab": {
          "base_uri": "https://localhost:8080/",
          "height": 422,
          "referenced_widgets": [
            "f377c4dc8a874d9a976a9355e0684ad0",
            "086c8aa6cd3741bd82e5e14ea877ff37",
            "fb6319f368644431a22e3cb3cb80b1d4",
            "05562e354d1e4cbfadfb3a0ff44adcd3",
            "5772cf5ca930420fa866aee16e0fa337",
            "4a2b0645755c478089eb325d9c8664c8",
            "a3e0f5d549be4b809068dbbaf59c5582",
            "371cda03909b4145804aa218b2d24e86",
            "986e297c8ba84a918563db6da8b54080",
            "cdcdbf423bd849beaf823ebe124c9dee",
            "bc69caf65a8c48aca3982d7b7d49829e",
            "6814773d160d4c71831db27ae5f0fa72",
            "1319def5718d4397846fe945a28b669e",
            "fb13460704f7415a82f77d189dfea92c",
            "278a10b1848b41729c74eaf3ec4fc609",
            "d57ba5c6a67b443f8fbc40f625e3d995",
            "c6da7198b77a4958815b46fd948ace3a",
            "e8292ac93c124da79be2525ee45be013",
            "b7272e828365438bb71aed097b6d9c65",
            "cb992a1d981340c2b75dcf9b05c83dca",
            "08ed8d4307aa47d9b4d1f49e3ca9e961",
            "9c62183e11b849c6868f934f27b49ba3",
            "2f440a92d009477aa39af929631876a0",
            "aa7cb6bce19d43d2aa5ba5360f760947",
            "c49ed470c9a3443dac7a894cc8ac52a1",
            "3a38021e5ec0481fb6c89f1af35d0630",
            "e64befe259a84a38b215d13b6aafb8cf",
            "3be8bec8f2df412aa36bbc465b6ccb8a",
            "139c81d0717c43008ec4300b795c5a0a",
            "a8d080b5cdee48568884f1dc9576636d",
            "1dc38caf28294f81afb903adb66d87bd",
            "79c90446d3434ec39aef9a0dadebbff8",
            "80426c02c97b42c0a7f64626d2005222",
            "4f83f3b67f4546529bc51cb06868dedd",
            "1d6fdecdf10a461a9b2ed895544912dd",
            "1d0f3b8b49334794a8a115486693017a",
            "ddc5957a09224bfc8c53f7131f227fa8",
            "82b0be325c634eeba480cf89b7f2a68f",
            "0c65736da5e64a688931246f9db617be",
            "d2912d1aa6b64ef8b01b2d249538f793",
            "1064f82e258a4f28af35f2db292147b8",
            "4f7aa2b6213043658cacc1d9f09e2b80",
            "459cf38b63014559be23ce9a3af8becf",
            "9c3b3fbf2a114f5a95bcc6a86c03421a",
            "429e29db3be94ba18c8745022398d68d",
            "3d17263cfdf64cc0910bf480e4a917ca",
            "8309c821785b4c8f8579c19159c4ec18",
            "bb3584cf2d4c4624b4f3275c43d82693",
            "628af388b57f48af9b66cdb475e68fc1",
            "30fad2e52fa64f48bb92d3ba30be2542",
            "b2b25ed14e1445d28394d9baeb0094ff",
            "fa0d655b1fba429f994de873fc21dadf",
            "a583d34b94ab4c689e2f947c660d8436",
            "7128836bb6f247acb5face2e7d2f992f",
            "48f5149070b44d6398cd49f357a2048b",
            "d5ac08da265a474792dde863ed06776d",
            "91802db65bbf4504b2f38397fd21ce5a",
            "fd35b71ececb43118aa5ddd1fd22f2c2",
            "ba60de05e7d340e2b4fc06a5b8dc95c8",
            "1717a67959924be0ab31bb8f23716759",
            "6298700dc11341b49354303043d6682c",
            "ae4324d9cfc6469ab7374dd5e7f88edf",
            "cfba745585044f9bb6153cdca2fa3285",
            "c25aa9c4517c4ddc858126849492fe85",
            "64f976418d2241c18c56bc802fbc3dc8",
            "3b017ece42e84485b5c3542e047603c4",
            "e54d6c053de549f39960a297c252b0c6",
            "dca95e9ea74f4c889b36bba05a3f1055",
            "770bb43438064ec7b12c7ea30540fc28",
            "639121757f354ff3b74e985e01bd0496",
            "08dea39e67da4a12a8a0069a20df25b6",
            "98f875b96621488d9bdb3c8d805c6cd6",
            "2e03fc141c7645a1800ea0a0cfc2532f",
            "b6ec9e5499b4474b98d60b311c1aff33",
            "09e7cac5065842ecb8955589d00822d3",
            "34531706cdf24f71820905e2841aa250",
            "12ad4036828543e4bb0c98c1a00687ed"
          ]
        }
      },
      "outputs": [
        {
          "output_type": "stream",
          "name": "stderr",
          "text": [
            "/usr/local/lib/python3.10/dist-packages/huggingface_hub/utils/_token.py:88: UserWarning: \n",
            "The secret `HF_TOKEN` does not exist in your Colab secrets.\n",
            "To authenticate with the Hugging Face Hub, create a token in your settings tab (https://huggingface.co/settings/tokens), set it as secret in your Google Colab and restart your session.\n",
            "You will be able to reuse this secret in all of your notebooks.\n",
            "Please note that authentication is recommended but still optional to access public models or datasets.\n",
            "  warnings.warn(\n"
          ]
        },
        {
          "output_type": "display_data",
          "data": {
            "text/plain": [
              "tokenizer_config.json:   0%|          | 0.00/26.0 [00:00<?, ?B/s]"
            ],
            "application/vnd.jupyter.widget-view+json": {
              "version_major": 2,
              "version_minor": 0,
              "model_id": "f377c4dc8a874d9a976a9355e0684ad0"
            }
          },
          "metadata": {}
        },
        {
          "output_type": "display_data",
          "data": {
            "text/plain": [
              "config.json:   0%|          | 0.00/665 [00:00<?, ?B/s]"
            ],
            "application/vnd.jupyter.widget-view+json": {
              "version_major": 2,
              "version_minor": 0,
              "model_id": "6814773d160d4c71831db27ae5f0fa72"
            }
          },
          "metadata": {}
        },
        {
          "output_type": "display_data",
          "data": {
            "text/plain": [
              "vocab.json:   0%|          | 0.00/1.04M [00:00<?, ?B/s]"
            ],
            "application/vnd.jupyter.widget-view+json": {
              "version_major": 2,
              "version_minor": 0,
              "model_id": "2f440a92d009477aa39af929631876a0"
            }
          },
          "metadata": {}
        },
        {
          "output_type": "display_data",
          "data": {
            "text/plain": [
              "merges.txt:   0%|          | 0.00/456k [00:00<?, ?B/s]"
            ],
            "application/vnd.jupyter.widget-view+json": {
              "version_major": 2,
              "version_minor": 0,
              "model_id": "4f83f3b67f4546529bc51cb06868dedd"
            }
          },
          "metadata": {}
        },
        {
          "output_type": "display_data",
          "data": {
            "text/plain": [
              "tokenizer.json:   0%|          | 0.00/1.36M [00:00<?, ?B/s]"
            ],
            "application/vnd.jupyter.widget-view+json": {
              "version_major": 2,
              "version_minor": 0,
              "model_id": "429e29db3be94ba18c8745022398d68d"
            }
          },
          "metadata": {}
        },
        {
          "output_type": "display_data",
          "data": {
            "text/plain": [
              "model.safetensors:   0%|          | 0.00/548M [00:00<?, ?B/s]"
            ],
            "application/vnd.jupyter.widget-view+json": {
              "version_major": 2,
              "version_minor": 0,
              "model_id": "d5ac08da265a474792dde863ed06776d"
            }
          },
          "metadata": {}
        },
        {
          "output_type": "display_data",
          "data": {
            "text/plain": [
              "generation_config.json:   0%|          | 0.00/124 [00:00<?, ?B/s]"
            ],
            "application/vnd.jupyter.widget-view+json": {
              "version_major": 2,
              "version_minor": 0,
              "model_id": "e54d6c053de549f39960a297c252b0c6"
            }
          },
          "metadata": {}
        },
        {
          "output_type": "stream",
          "name": "stderr",
          "text": [
            "/usr/local/lib/python3.10/dist-packages/transformers/data/datasets/language_modeling.py:53: FutureWarning: This dataset will be removed from the library soon, preprocessing should be handled with the 🤗 Datasets library. You can have a look at this example script for pointers: https://github.com/huggingface/transformers/blob/main/examples/pytorch/language-modeling/run_mlm.py\n",
            "  warnings.warn(\n",
            "Token indices sequence length is longer than the specified maximum sequence length for this model (272065 > 1024). Running this sequence through the model will result in indexing errors\n"
          ]
        }
      ],
      "source": [
        "from transformers import AutoTokenizer,AutoModelForCausalLM\n",
        "\n",
        "tokenizer = AutoTokenizer.from_pretrained(\"openai-community/gpt2\")\n",
        "model = AutoModelForCausalLM.from_pretrained(\"openai-community/gpt2\")\n",
        "\n",
        "train_dataset,test_dataset,data_collator = load_dataset('dataset/train_input.txt','dataset/test_input.txt', tokenizer)\n",
        "\n",
        "from transformers import Trainer, TrainingArguments\n",
        "\n",
        "training_args = TrainingArguments(\n",
        "    output_dir=\"./gpt2\", #The output directory\n",
        "    overwrite_output_dir=True, #overwrite the content of the output directory\n",
        "    num_train_epochs=3, # number of training epochs\n",
        "    per_device_train_batch_size=32, # batch size for training\n",
        "    per_device_eval_batch_size=64,  # batch size for evaluation\n",
        "    eval_steps = 40, # Number of update steps between two evaluations.\n",
        "    save_steps=80, # after # steps model is saved\n",
        "    warmup_steps=50,# number of warmup steps for learning rate scheduler\n",
        "    prediction_loss_only=True,\n",
        "    )\n",
        "\n",
        "trainer = Trainer(\n",
        "    model=model,\n",
        "    args=training_args,\n",
        "    data_collator=data_collator,\n",
        "    train_dataset=train_dataset,\n",
        "    eval_dataset=test_dataset,\n",
        ")"
      ]
    },
    {
      "cell_type": "markdown",
      "metadata": {
        "id": "ydDFChtERkIg"
      },
      "source": [
        "## What is going on below the hood?"
      ]
    },
    {
      "cell_type": "markdown",
      "metadata": {
        "id": "pNUHGf3xRkIg"
      },
      "source": [
        "There are two components that are \"black-boxes\" here:\n",
        "1. The method for tokenization\n",
        "2. The model that generates novel text.\n",
        "\n",
        "Carlo Graziani already gave a great explanation of tokenization last week and how this affects embeddings (https://github.com/argonne-lcf/ai-science-training-series/blob/main/04_intro_to_llms/Sequential_Data_Models.ipynb)"
      ]
    },
    {
      "cell_type": "markdown",
      "metadata": {
        "id": "JYu7V37ZRkIg"
      },
      "source": [
        "Today we will take a closer look at how the model is designed to deal with language."
      ]
    },
    {
      "cell_type": "markdown",
      "metadata": {
        "id": "wLwL83_4RkIg"
      },
      "source": [
        "Let's look inside GPT2! GPT2 incorporates the `GPT2LMHeadModel` architecture so let's inspect this more closely."
      ]
    },
    {
      "cell_type": "code",
      "execution_count": 49,
      "metadata": {
        "scrolled": true,
        "id": "g61bLq7-RkIh",
        "outputId": "d88d53d9-94d0-4000-cddf-6c795d91db08",
        "colab": {
          "base_uri": "https://localhost:8080/"
        }
      },
      "outputs": [
        {
          "output_type": "stream",
          "name": "stdout",
          "text": [
            "GPT2LMHeadModel(\n",
            "  (transformer): GPT2Model(\n",
            "    (wte): Embedding(50257, 768)\n",
            "    (wpe): Embedding(1024, 768)\n",
            "    (drop): Dropout(p=0.1, inplace=False)\n",
            "    (h): ModuleList(\n",
            "      (0-11): 12 x GPT2Block(\n",
            "        (ln_1): LayerNorm((768,), eps=1e-05, elementwise_affine=True)\n",
            "        (attn): GPT2Attention(\n",
            "          (c_attn): Conv1D()\n",
            "          (c_proj): Conv1D()\n",
            "          (attn_dropout): Dropout(p=0.1, inplace=False)\n",
            "          (resid_dropout): Dropout(p=0.1, inplace=False)\n",
            "        )\n",
            "        (ln_2): LayerNorm((768,), eps=1e-05, elementwise_affine=True)\n",
            "        (mlp): GPT2MLP(\n",
            "          (c_fc): Conv1D()\n",
            "          (c_proj): Conv1D()\n",
            "          (act): NewGELUActivation()\n",
            "          (dropout): Dropout(p=0.1, inplace=False)\n",
            "        )\n",
            "      )\n",
            "    )\n",
            "    (ln_f): LayerNorm((768,), eps=1e-05, elementwise_affine=True)\n",
            "  )\n",
            "  (lm_head): Linear(in_features=768, out_features=50257, bias=False)\n",
            ")\n"
          ]
        }
      ],
      "source": [
        "from transformers import GPT2Tokenizer, GPT2LMHeadModel\n",
        "model = GPT2LMHeadModel.from_pretrained('openai-community/gpt2')\n",
        "print(model)"
      ]
    },
    {
      "cell_type": "markdown",
      "metadata": {
        "id": "SrUOdSzjRkIh"
      },
      "source": [
        "## General elements of an LLM"
      ]
    },
    {
      "cell_type": "markdown",
      "metadata": {
        "id": "2FE3WwkTRkIh"
      },
      "source": [
        "GPT-2 is an example of the popular Transformer architecture.\n"
      ]
    },
    {
      "cell_type": "markdown",
      "metadata": {
        "id": "cig2mvfguetQ"
      },
      "source": [
        "<img src=\"https://github.com/lueiyaya/ai-science-training-series-copy-mz/blob/main/05_llm_part2/images/decoder_only_block.png?raw=1\" alt=\"Drawing\" style=\"width: 200px;\"/>\n",
        "Image credit: https://arxiv.org/pdf/1706.03762.pdf"
      ]
    },
    {
      "cell_type": "markdown",
      "metadata": {
        "id": "CKXmYb9jRkIi"
      },
      "source": [
        "The gray section in this figure is the Transfomer Decoder and it is the main mechanism GPT2 uses to encode context of language into its predictions.\n",
        "\n",
        "<img src=\"https://github.com/lueiyaya/ai-science-training-series-copy-mz/blob/main/05_llm_part2/images/transformer-decoder-intro.png?raw=1\" alt=\"Drawing\" style=\"width: 600px;\"/>\n",
        "Image credit: https://jalammar.github.io/illustrated-gpt2/"
      ]
    },
    {
      "cell_type": "markdown",
      "metadata": {
        "id": "SjLLcHhkRkIi"
      },
      "source": [
        "The Transformer-Decoder is composed of Decoder blocks stacked ontop of each other where each contains two types of layers:\n",
        "1. Masked Self-Attention and\n",
        "2. Feed Forward Neural Networks."
      ]
    },
    {
      "cell_type": "markdown",
      "metadata": {
        "id": "swMEPL-yRkIi"
      },
      "source": [
        "You have already discussed Feed Forward Neural Networks in detail in the other lectures in this series. To review this, please look at https://github.com/argonne-lcf/ai-science-training-series/blob/main/02_intro_neural_networks/01_introduction_mnist.ipynb"
      ]
    },
    {
      "cell_type": "markdown",
      "metadata": {
        "id": "71oJi2GWRkIj"
      },
      "source": [
        "In this lecture, we will\n",
        "* First, discuss attention mechanisms at length as this is arguably the greatest contribution by Transformers.\n",
        "* Second, extend the discussion from last week (https://github.com/argonne-lcf/ai-science-training-series/blob/main/04_intro_to_llms/Sequential_Data_Models.ipynb) on embedding input data while taking into account position.\n",
        "* Third, discuss outputting real text/sequences from the models.\n",
        "* Fourth, build a training loop for a mini-LLM."
      ]
    },
    {
      "cell_type": "markdown",
      "metadata": {
        "id": "AHM0qzerRkIj"
      },
      "source": [
        "**Let's set up all the imports we will need**"
      ]
    },
    {
      "cell_type": "code",
      "execution_count": 6,
      "metadata": {
        "scrolled": true,
        "id": "l3dgpohlRkIj",
        "outputId": "d813c155-c8ad-41a3-cb2e-51df5b8e3925",
        "colab": {
          "base_uri": "https://localhost:8080/"
        }
      },
      "outputs": [
        {
          "output_type": "execute_result",
          "data": {
            "text/plain": [
              "<torch._C.Generator at 0x7b63daba8750>"
            ]
          },
          "metadata": {},
          "execution_count": 6
        }
      ],
      "source": [
        "## IMPORTS\n",
        "\n",
        "import torch\n",
        "import torch.nn as nn\n",
        "from torch.nn import functional as F\n",
        "torch.manual_seed(1337)\n",
        "# hyperparameters\n",
        "batch_size = 16 # how many independent sequences will we process in parallel?\n",
        "block_size = 32 # what is the maximum context length for predictions?\n",
        "max_iters = 5000\n",
        "eval_interval = 100\n",
        "learning_rate = 1e-3\n",
        "device = 'cuda' if torch.cuda.is_available() else 'cpu'\n",
        "eval_iters = 200\n",
        "n_embd = 64\n",
        "n_head = 4 ## so head_size = 16\n",
        "n_layer = 4\n",
        "dropout = 0.0\n",
        "# ------------\n",
        "\n",
        "torch.manual_seed(1337)"
      ]
    },
    {
      "cell_type": "markdown",
      "metadata": {
        "id": "BowLYFlCrDrr"
      },
      "source": [
        "## Attention mechanisms\n",
        "\n",
        "Suppose the following sentence is an input sentence we want to translate using an LLM:\n",
        "\n",
        "`”The animal didn't cross the street because it was too tired”`\n",
        "\n",
        "Last week, Carlo mentioned that the Transformer learns an embedding of all words allowing interpretation of meanings of words.\n",
        "\n",
        "<img src=\"https://github.com/lueiyaya/ai-science-training-series-copy-mz/blob/main/05_llm_part2/images/viz-bert-voc-verbs.png?raw=1\" alt=\"Drawing\" style=\"width: 400px;\"/>\n",
        "\n",
        "So, if the model did a good job in token embedding, it will \"know\" what all the words in this sentence mean."
      ]
    },
    {
      "cell_type": "markdown",
      "metadata": {
        "id": "KA0tsPIBRkIk"
      },
      "source": [
        "But to understand a full sentence, the model also need to understand what each word means in relation to other words.\n",
        "\n",
        "For example, when we read the sentence:\n",
        "`”The animal didn't cross the street because it was too tired”`\n",
        "we know intuitively that the word `\"it\"` refers to `\"animal\"`, the state for `\"it\"` is `\"tired\"`, and the associated action is `\"didn't cross\"`.\n",
        "\n",
        "However, the model needs a way to learn all of this information in a simple yet generalizable way.\n",
        "What makes Transformers particularly powerful compared to earlier sequential architectures is how it encodes context with the **self-attention mechanism**.\n",
        "\n",
        "As the model processes each word in the input sequence, attention looks at other positions in the input sequence for clues to a better understanding for this word."
      ]
    },
    {
      "cell_type": "markdown",
      "metadata": {
        "id": "7MAAsGWwRkIk"
      },
      "source": [
        "<img src=\"https://github.com/lueiyaya/ai-science-training-series-copy-mz/blob/main/05_llm_part2/images/transformer_self-attention_visualization.png?raw=1\" alt=\"Drawing\" style=\"width: 300px;\"/>"
      ]
    },
    {
      "cell_type": "markdown",
      "metadata": {
        "id": "UGbAi0cJ7x3a"
      },
      "source": [
        "Image credit: https://jalammar.github.io/illustrated-transformer/"
      ]
    },
    {
      "cell_type": "markdown",
      "metadata": {
        "id": "6OevE0-NRkIk"
      },
      "source": [
        "Self-attention mechanisms use 3 vectors to encode the context of a word in a sequence with another word:\n",
        "1. Query: the word representation we score other words against using the other word's keys\n",
        "2. Key: labels for the words in a sequence that we match against the query\n",
        "3. Value: actual word representation. We will use the queries and keys to score the word's relevance to the query, and multiply this by the value.\n",
        "\n",
        "An analogy provided by Jay Alammar is thinking about attention as choosing a file from a file cabinet according to information on a post-it note. You can use the post-it note (query) to identify the folder (key) that most matches the topic you are looking up. Then you access the contents of the file (value) according to its relevance to your query."
      ]
    },
    {
      "cell_type": "markdown",
      "metadata": {
        "id": "tyRbUupGRkIl"
      },
      "source": [
        "<img src=\"https://github.com/lueiyaya/ai-science-training-series-copy-mz/blob/main/05_llm_part2/images/self-attention-example-folders-3.png?raw=1\" alt=\"Drawing\" style=\"width: 500px;\"/>\n",
        "Image credit: https://jalammar.github.io/illustrated-gpt2/"
      ]
    },
    {
      "cell_type": "markdown",
      "metadata": {
        "id": "avbVx-0mRkIl"
      },
      "source": [
        "In our models, we can encode queries, keys, and values using simple linear layers with the same size (`sequence length, head_size`). During the training process, these layers will be updated to best encode context."
      ]
    },
    {
      "cell_type": "code",
      "execution_count": 7,
      "metadata": {
        "id": "iTuIkytERkIl"
      },
      "outputs": [],
      "source": [
        "C = 32 # channels\n",
        "head_size = 16\n",
        "\n",
        "key = nn.Linear(C, head_size, bias=False)\n",
        "query = nn.Linear(C, head_size, bias=False)\n",
        "value = nn.Linear(C, head_size, bias=False)"
      ]
    },
    {
      "cell_type": "markdown",
      "metadata": {
        "id": "Jzf9VE_AqWeR"
      },
      "source": [
        "The algorithm for self-attention is as follows:\n",
        "\n",
        "1. Generate query, key and value vectors for each word\n",
        "2. Calculate a score for each word in the input sentence against each other.\n",
        "3. Divide the scores by the square root of the dimension of the key vectors to stabilize the gradients. This is then passed through a softmax operation.\n",
        "4. Multiply each value vector by the softmax score.\n",
        "5. Sum up the weighted value vectors to produce the output.\n"
      ]
    },
    {
      "cell_type": "markdown",
      "metadata": {
        "id": "aJ0KwaBDRkIl"
      },
      "source": [
        "<img src=\"https://github.com/lueiyaya/ai-science-training-series-copy-mz/blob/main/05_llm_part2/images/self-attention-output.png?raw=1\" alt=\"Drawing\" style=\"width: 450px;\"/>"
      ]
    },
    {
      "cell_type": "markdown",
      "metadata": {
        "id": "yOwm-NkXA8U3"
      },
      "source": [
        "Image credit: https://jalammar.github.io/illustrated-transformer/"
      ]
    },
    {
      "cell_type": "code",
      "source": [
        "import math\n",
        "math.exp(12)/(math.exp(12)+math.exp(14))"
      ],
      "metadata": {
        "id": "-siB5dZwIFiY",
        "outputId": "70d35dd2-6622-4500-dade-2f34892335ce",
        "colab": {
          "base_uri": "https://localhost:8080/"
        }
      },
      "execution_count": 15,
      "outputs": [
        {
          "output_type": "execute_result",
          "data": {
            "text/plain": [
              "0.11920292202211756"
            ]
          },
          "metadata": {},
          "execution_count": 15
        }
      ]
    },
    {
      "cell_type": "markdown",
      "metadata": {
        "id": "2b7fCTvQRkIy"
      },
      "source": [
        "Let's see how attention is performed in the code."
      ]
    },
    {
      "cell_type": "code",
      "execution_count": 8,
      "metadata": {
        "id": "B4tzJUH2RkIy"
      },
      "outputs": [],
      "source": [
        "import torch\n",
        "import torch.nn as nn\n",
        "from torch.nn import functional as F\n",
        "torch.manual_seed(1337)\n",
        "B,T,C = 4,8,32 # batch, time, channels\n",
        "x = torch.randn(B,T,C)\n",
        "\n",
        "# Here we want the wei to be data dependent - ie gather info from the past but in a data dependant way\n",
        "\n",
        "head_size = 16\n",
        "key = nn.Linear(C, head_size, bias=False)\n",
        "query = nn.Linear(C, head_size, bias=False)\n",
        "value = nn.Linear(C, head_size, bias=False)\n",
        "k = key(x)   # (B, T, 16) # each token here (totally B*T) produce a key and query in parallel and independently\n",
        "q = query(x) # (B, T, 16)\n",
        "v = value(x)\n",
        "\n",
        "wei =  q @ k.transpose(-2, -1) * head_size**-0.5 # (B, T, 16) @ (B, 16, T) ---> (B, T, T). #\n",
        "wei = F.softmax(wei, dim=-1) # exponentiate and normalize giving a nice distibution that sums to 1 and\n",
        "                             # now it tells us that in a data dependent manner how much of info to aggregate from\n",
        "\n",
        "out = wei @ v # aggregate the attention scores and value vector.\n"
      ]
    },
    {
      "cell_type": "code",
      "execution_count": 11,
      "metadata": {
        "scrolled": false,
        "id": "2tTn6EIrRkIz",
        "outputId": "59ee0561-7b24-4f5d-ae6e-ab33c0de253e",
        "colab": {
          "base_uri": "https://localhost:8080/"
        }
      },
      "outputs": [
        {
          "output_type": "stream",
          "name": "stdout",
          "text": [
            "tensor([[ 0.0618, -0.0091, -0.3488,  0.3208,  0.2971, -0.1573, -0.0561,  0.1068,\n",
            "          0.0368,  0.0139, -0.0017,  0.3110,  0.1404, -0.0158,  0.1853,  0.4290],\n",
            "        [ 0.1578, -0.0971, -0.4256,  0.3538,  0.3621, -0.2392, -0.0536,  0.1759,\n",
            "          0.1115,  0.0282, -0.0649,  0.3641,  0.1928,  0.0261,  0.2162,  0.3758],\n",
            "        [ 0.1293,  0.0759, -0.2946,  0.2292,  0.2215, -0.0710, -0.0107,  0.1616,\n",
            "         -0.0930, -0.0877,  0.0567,  0.1899,  0.0311, -0.0894,  0.0309,  0.5471],\n",
            "        [ 0.1247,  0.1400, -0.2436,  0.1819,  0.1976,  0.0338, -0.0028,  0.1124,\n",
            "         -0.1477, -0.0748,  0.0650,  0.1392, -0.0314, -0.0989,  0.0613,  0.5433],\n",
            "        [ 0.0667,  0.1845, -0.2135,  0.2813,  0.2064,  0.0873,  0.0084,  0.2055,\n",
            "         -0.1130, -0.1466,  0.0459,  0.1923, -0.0275, -0.1107,  0.0065,  0.4674],\n",
            "        [ 0.1924,  0.1693, -0.1568,  0.2284,  0.1620,  0.0737,  0.0443,  0.2519,\n",
            "         -0.1912, -0.1979,  0.0832,  0.0713, -0.0826, -0.0848, -0.1047,  0.6089],\n",
            "        [ 0.1184,  0.0884, -0.2652,  0.2560,  0.1840,  0.0284, -0.0621,  0.1181,\n",
            "         -0.0880,  0.0104,  0.1123,  0.1850,  0.0369, -0.0730,  0.0663,  0.5242],\n",
            "        [ 0.1243,  0.0453, -0.3412,  0.2709,  0.2335, -0.0948, -0.0421,  0.2143,\n",
            "         -0.0330, -0.0313,  0.0520,  0.2378,  0.1084, -0.0959,  0.0300,  0.4707]],\n",
            "       grad_fn=<SelectBackward0>)\n"
          ]
        }
      ],
      "source": [
        "print(out[0])"
      ]
    },
    {
      "cell_type": "markdown",
      "metadata": {
        "id": "4lwyFlxKW6oA"
      },
      "source": [
        "### Multi-head attention\n",
        "\n",
        "In practice, multiple attention heads are used which\n",
        "1. Expands the model’s ability to focus on different positions and prevent the attention to be dominated by the word itself.\n",
        "2. Have multiple “representation subspaces”. Have multiple sets of Query/Key/Value weight matrices"
      ]
    },
    {
      "cell_type": "markdown",
      "metadata": {
        "id": "-63zO2yURkI0"
      },
      "source": [
        "<img src=\"https://github.com/lueiyaya/ai-science-training-series-copy-mz/blob/main/05_llm_part2/images/transformer_multi-headed_self-attention-recap.png?raw=1\" alt=\"Drawing\" style=\"width: 700px;\"/>"
      ]
    },
    {
      "cell_type": "markdown",
      "metadata": {
        "id": "6oHsezdVBIaf"
      },
      "source": [
        "Image credit: https://jalammar.github.io/illustrated-transformer/"
      ]
    },
    {
      "cell_type": "markdown",
      "metadata": {
        "id": "RDsXVEzXRkI1"
      },
      "source": [
        "### Let's see attention mechanisms in action!"
      ]
    },
    {
      "cell_type": "markdown",
      "metadata": {
        "id": "CGnU-B_wRkI1"
      },
      "source": [
        "We are going to use the powerful visualization tool bertviz, which allows an interactive experience of the attention mechanisms. Normally these mechanisms are abstracted away but this will allow us to inspect our model in more detail."
      ]
    },
    {
      "cell_type": "code",
      "execution_count": 17,
      "metadata": {
        "scrolled": true,
        "id": "jYdqf2uKRkI1",
        "outputId": "0cdc9aa5-bcaf-4352-a785-a30e395241e3",
        "colab": {
          "base_uri": "https://localhost:8080/"
        }
      },
      "outputs": [
        {
          "output_type": "stream",
          "name": "stdout",
          "text": [
            "Collecting bertviz\n",
            "  Downloading bertviz-1.4.0-py3-none-any.whl (157 kB)\n",
            "\u001b[2K     \u001b[90m━━━━━━━━━━━━━━━━━━━━━━━━━━━━━━━━━━━━━━━━\u001b[0m \u001b[32m157.6/157.6 kB\u001b[0m \u001b[31m1.6 MB/s\u001b[0m eta \u001b[36m0:00:00\u001b[0m\n",
            "\u001b[?25hRequirement already satisfied: transformers>=2.0 in /usr/local/lib/python3.10/dist-packages (from bertviz) (4.38.2)\n",
            "Requirement already satisfied: torch>=1.0 in /usr/local/lib/python3.10/dist-packages (from bertviz) (2.1.0+cu121)\n",
            "Requirement already satisfied: tqdm in /usr/local/lib/python3.10/dist-packages (from bertviz) (4.66.2)\n",
            "Collecting boto3 (from bertviz)\n",
            "  Downloading boto3-1.34.60-py3-none-any.whl (139 kB)\n",
            "\u001b[2K     \u001b[90m━━━━━━━━━━━━━━━━━━━━━━━━━━━━━━━━━━━━━━━━\u001b[0m \u001b[32m139.3/139.3 kB\u001b[0m \u001b[31m7.2 MB/s\u001b[0m eta \u001b[36m0:00:00\u001b[0m\n",
            "\u001b[?25hRequirement already satisfied: requests in /usr/local/lib/python3.10/dist-packages (from bertviz) (2.31.0)\n",
            "Requirement already satisfied: regex in /usr/local/lib/python3.10/dist-packages (from bertviz) (2023.12.25)\n",
            "Requirement already satisfied: sentencepiece in /usr/local/lib/python3.10/dist-packages (from bertviz) (0.1.99)\n",
            "Requirement already satisfied: filelock in /usr/local/lib/python3.10/dist-packages (from torch>=1.0->bertviz) (3.13.1)\n",
            "Requirement already satisfied: typing-extensions in /usr/local/lib/python3.10/dist-packages (from torch>=1.0->bertviz) (4.10.0)\n",
            "Requirement already satisfied: sympy in /usr/local/lib/python3.10/dist-packages (from torch>=1.0->bertviz) (1.12)\n",
            "Requirement already satisfied: networkx in /usr/local/lib/python3.10/dist-packages (from torch>=1.0->bertviz) (3.2.1)\n",
            "Requirement already satisfied: jinja2 in /usr/local/lib/python3.10/dist-packages (from torch>=1.0->bertviz) (3.1.3)\n",
            "Requirement already satisfied: fsspec in /usr/local/lib/python3.10/dist-packages (from torch>=1.0->bertviz) (2023.6.0)\n",
            "Requirement already satisfied: triton==2.1.0 in /usr/local/lib/python3.10/dist-packages (from torch>=1.0->bertviz) (2.1.0)\n",
            "Requirement already satisfied: huggingface-hub<1.0,>=0.19.3 in /usr/local/lib/python3.10/dist-packages (from transformers>=2.0->bertviz) (0.20.3)\n",
            "Requirement already satisfied: numpy>=1.17 in /usr/local/lib/python3.10/dist-packages (from transformers>=2.0->bertviz) (1.25.2)\n",
            "Requirement already satisfied: packaging>=20.0 in /usr/local/lib/python3.10/dist-packages (from transformers>=2.0->bertviz) (23.2)\n",
            "Requirement already satisfied: pyyaml>=5.1 in /usr/local/lib/python3.10/dist-packages (from transformers>=2.0->bertviz) (6.0.1)\n",
            "Requirement already satisfied: tokenizers<0.19,>=0.14 in /usr/local/lib/python3.10/dist-packages (from transformers>=2.0->bertviz) (0.15.2)\n",
            "Requirement already satisfied: safetensors>=0.4.1 in /usr/local/lib/python3.10/dist-packages (from transformers>=2.0->bertviz) (0.4.2)\n",
            "Collecting botocore<1.35.0,>=1.34.60 (from boto3->bertviz)\n",
            "  Downloading botocore-1.34.60-py3-none-any.whl (12.0 MB)\n",
            "\u001b[2K     \u001b[90m━━━━━━━━━━━━━━━━━━━━━━━━━━━━━━━━━━━━━━━━\u001b[0m \u001b[32m12.0/12.0 MB\u001b[0m \u001b[31m49.1 MB/s\u001b[0m eta \u001b[36m0:00:00\u001b[0m\n",
            "\u001b[?25hCollecting jmespath<2.0.0,>=0.7.1 (from boto3->bertviz)\n",
            "  Downloading jmespath-1.0.1-py3-none-any.whl (20 kB)\n",
            "Collecting s3transfer<0.11.0,>=0.10.0 (from boto3->bertviz)\n",
            "  Downloading s3transfer-0.10.0-py3-none-any.whl (82 kB)\n",
            "\u001b[2K     \u001b[90m━━━━━━━━━━━━━━━━━━━━━━━━━━━━━━━━━━━━━━━━\u001b[0m \u001b[32m82.1/82.1 kB\u001b[0m \u001b[31m14.2 MB/s\u001b[0m eta \u001b[36m0:00:00\u001b[0m\n",
            "\u001b[?25hRequirement already satisfied: charset-normalizer<4,>=2 in /usr/local/lib/python3.10/dist-packages (from requests->bertviz) (3.3.2)\n",
            "Requirement already satisfied: idna<4,>=2.5 in /usr/local/lib/python3.10/dist-packages (from requests->bertviz) (3.6)\n",
            "Requirement already satisfied: urllib3<3,>=1.21.1 in /usr/local/lib/python3.10/dist-packages (from requests->bertviz) (2.0.7)\n",
            "Requirement already satisfied: certifi>=2017.4.17 in /usr/local/lib/python3.10/dist-packages (from requests->bertviz) (2024.2.2)\n",
            "Requirement already satisfied: python-dateutil<3.0.0,>=2.1 in /usr/local/lib/python3.10/dist-packages (from botocore<1.35.0,>=1.34.60->boto3->bertviz) (2.8.2)\n",
            "Requirement already satisfied: MarkupSafe>=2.0 in /usr/local/lib/python3.10/dist-packages (from jinja2->torch>=1.0->bertviz) (2.1.5)\n",
            "Requirement already satisfied: mpmath>=0.19 in /usr/local/lib/python3.10/dist-packages (from sympy->torch>=1.0->bertviz) (1.3.0)\n",
            "Requirement already satisfied: six>=1.5 in /usr/local/lib/python3.10/dist-packages (from python-dateutil<3.0.0,>=2.1->botocore<1.35.0,>=1.34.60->boto3->bertviz) (1.16.0)\n",
            "Installing collected packages: jmespath, botocore, s3transfer, boto3, bertviz\n",
            "Successfully installed bertviz-1.4.0 boto3-1.34.60 botocore-1.34.60 jmespath-1.0.1 s3transfer-0.10.0\n"
          ]
        }
      ],
      "source": [
        "!pip install bertviz"
      ]
    },
    {
      "cell_type": "markdown",
      "metadata": {
        "id": "POEg9uvNRkI2"
      },
      "source": [
        "Let's load in the model, GPT2 and look at the attention mechanisms.\n",
        "\n",
        "**Hint... click on the different blocks in the visualization to see the attention**"
      ]
    },
    {
      "cell_type": "code",
      "execution_count": 18,
      "metadata": {
        "scrolled": false,
        "id": "FYP01TPkRkI2",
        "outputId": "c71a2f6e-e391-4f9e-99b2-5a0091e38644",
        "colab": {
          "base_uri": "https://localhost:8080/",
          "height": 703
        }
      },
      "outputs": [
        {
          "output_type": "display_data",
          "data": {
            "text/plain": [
              "<IPython.core.display.HTML object>"
            ],
            "text/html": [
              "<script src=\"https://cdnjs.cloudflare.com/ajax/libs/require.js/2.3.6/require.min.js\"></script>"
            ]
          },
          "metadata": {}
        },
        {
          "output_type": "display_data",
          "data": {
            "text/plain": [
              "<IPython.core.display.HTML object>"
            ],
            "text/html": [
              "      \n",
              "        <div id=\"bertviz-03bc481939a04e91b577b401d9c92302\" style=\"font-family:'Helvetica Neue', Helvetica, Arial, sans-serif;\">\n",
              "            <span style=\"user-select:none\">\n",
              "                \n",
              "            </span>\n",
              "            <div id='vis'></div>\n",
              "        </div>\n",
              "    "
            ]
          },
          "metadata": {}
        },
        {
          "output_type": "display_data",
          "data": {
            "text/plain": [
              "<IPython.core.display.Javascript object>"
            ],
            "application/javascript": [
              "/**\n",
              " * @fileoverview Transformer Visualization D3 javascript code.\n",
              " *\n",
              " * Based on: https://github.com/tensorflow/tensor2tensor/blob/master/tensor2tensor/visualization/attention.js\n",
              " *\n",
              " * Change log:\n",
              " *\n",
              " * 02/01/19  Jesse Vig   Initial implementation\n",
              " * 12/31/20  Jesse Vig   Support multiple visualizations in single notebook.\n",
              " * 01/19/21  Jesse Vig   Support light/dark modes\n",
              " * 02/06/21  Jesse Vig   Move require config from separate jupyter notebook step\n",
              " * 05/03/21  Jesse Vig   Adjust visualization height dynamically\n",
              " * 03/23/22  Daniel SC   Update requirement URLs for d3 and jQuery (source of bug not allowing end result to be displayed on browsers)\n",
              " **/\n",
              "\n",
              "require.config({\n",
              "  paths: {\n",
              "      d3: 'https://cdnjs.cloudflare.com/ajax/libs/d3/5.7.0/d3.min',\n",
              "    jquery: 'https://cdnjs.cloudflare.com/ajax/libs/jquery/2.0.0/jquery.min',\n",
              "  }\n",
              "});\n",
              "\n",
              "requirejs(['jquery', 'd3'], function($, d3) {\n",
              "\n",
              "        const params = {\"attention\": [{\"name\": null, \"attn\": [[[[1.0, 0.0, 0.0, 0.0, 0.0, 0.0], [0.961219847202301, 0.038780149072408676, 0.0, 0.0, 0.0, 0.0], [0.7466980218887329, 0.11987310647964478, 0.1334289014339447, 0.0, 0.0, 0.0], [0.5885030031204224, 0.13792069256305695, 0.21213731169700623, 0.06143898516893387, 0.0, 0.0], [0.657085657119751, 0.08996297419071198, 0.1275128275156021, 0.08361561596393585, 0.04182284325361252, 0.0], [0.272887259721756, 0.11203359812498093, 0.1663985252380371, 0.08467116951942444, 0.16952726244926453, 0.19448213279247284]], [[1.0, 0.0, 0.0, 0.0, 0.0, 0.0], [0.010616553947329521, 0.9893833994865417, 0.0, 0.0, 0.0, 0.0], [0.002467755926772952, 0.008448011241853237, 0.9890841841697693, 0.0, 0.0, 0.0], [0.00012328448065090925, 0.001873313682153821, 0.013126945123076439, 0.9848763942718506, 0.0, 0.0], [0.0010669530602172017, 0.0011366248363628983, 0.0030349851585924625, 0.0015735042979940772, 0.9931879043579102, 0.0], [0.00019791982776951045, 0.0010528112761676311, 0.0015437351539731026, 0.0009642747463658452, 3.49243673554156e-05, 0.9962062835693359]], [[1.0, 0.0, 0.0, 0.0, 0.0, 0.0], [0.4757843017578125, 0.5242156386375427, 0.0, 0.0, 0.0, 0.0], [0.5906046032905579, 0.2486610859632492, 0.1607343554496765, 0.0, 0.0, 0.0], [0.5529289841651917, 0.18856704235076904, 0.14457567036151886, 0.11392829567193985, 0.0, 0.0], [0.4509407877922058, 0.16486789286136627, 0.17318040132522583, 0.11748013645410538, 0.09353077411651611, 0.0], [0.425724595785141, 0.17328648269176483, 0.15651948750019073, 0.07022645324468613, 0.080870121717453, 0.09337273985147476]], [[1.0, 0.0, 0.0, 0.0, 0.0, 0.0], [0.6133621335029602, 0.3866378664970398, 0.0, 0.0, 0.0, 0.0], [0.060985080897808075, 0.03253461420536041, 0.9064803123474121, 0.0, 0.0, 0.0], [0.006717076525092125, 0.00040128835826180875, 0.7572958469390869, 0.23558573424816132, 0.0, 0.0], [0.03722768649458885, 0.002948854584246874, 0.10081078857183456, 0.04142271354794502, 0.8175899982452393, 0.0], [0.0498976930975914, 0.00030758281354792416, 0.0024198235478252172, 0.003433493198826909, 0.0006823905860073864, 0.9432590007781982]], [[1.0, 0.0, 0.0, 0.0, 0.0, 0.0], [0.9489555954933167, 0.05104443058371544, 0.0, 0.0, 0.0, 0.0], [0.6821409463882446, 0.13952413201332092, 0.17833486199378967, 0.0, 0.0, 0.0], [0.20366328954696655, 0.05641485005617142, 0.06399296224117279, 0.6759289503097534, 0.0, 0.0], [0.34195470809936523, 0.06725442409515381, 0.0792618840932846, 0.17836196720600128, 0.3331669867038727, 0.0], [0.09464015811681747, 0.007428206969052553, 0.006983966566622257, 0.007184373214840889, 0.01872425526380539, 0.865039050579071]], [[1.0, 0.0, 0.0, 0.0, 0.0, 0.0], [0.33834606409072876, 0.6616539359092712, 0.0, 0.0, 0.0, 0.0], [0.07855980098247528, 0.006165443919599056, 0.9152747988700867, 0.0, 0.0, 0.0], [0.01677597686648369, 0.0004037702165078372, 0.0033404589630663395, 0.9794798493385315, 0.0, 0.0], [0.027600426226854324, 0.0004441527707967907, 0.0006541680195368826, 0.0002266185765620321, 0.971074640750885, 0.0], [0.010248193517327309, 3.70155721611809e-05, 0.00016064071678556502, 2.734187182795722e-05, 1.0187313819187693e-05, 0.98951655626297]], [[1.0, 0.0, 0.0, 0.0, 0.0, 0.0], [0.982503354549408, 0.017496665939688683, 0.0, 0.0, 0.0, 0.0], [0.8874197006225586, 0.05467937886714935, 0.05790088325738907, 0.0, 0.0, 0.0], [0.6849910020828247, 0.12280681729316711, 0.04972028359770775, 0.14248189330101013, 0.0, 0.0], [0.601585328578949, 0.09881895035505295, 0.07070115953683853, 0.16652552783489227, 0.06236904487013817, 0.0], [0.32325056195259094, 0.12567415833473206, 0.04432179778814316, 0.0707697868347168, 0.06606655567884445, 0.3699171245098114]], [[1.0, 0.0, 0.0, 0.0, 0.0, 0.0], [0.9191646575927734, 0.08083535730838776, 0.0, 0.0, 0.0, 0.0], [0.45986419916152954, 0.3970310091972351, 0.14310479164123535, 0.0, 0.0, 0.0], [0.3003872334957123, 0.22181729972362518, 0.38161537051200867, 0.09618016332387924, 0.0, 0.0], [0.1896393597126007, 0.13763722777366638, 0.20173484086990356, 0.23632164299488068, 0.23466689884662628, 0.0], [0.1541045904159546, 0.09489500522613525, 0.11902559548616409, 0.10277960449457169, 0.43172192573547363, 0.09747329354286194]], [[1.0, 0.0, 0.0, 0.0, 0.0, 0.0], [0.3649998903274536, 0.6350001096725464, 0.0, 0.0, 0.0, 0.0], [0.24595215916633606, 0.5519201755523682, 0.20212766528129578, 0.0, 0.0, 0.0], [0.27213579416275024, 0.40738630294799805, 0.25186213850975037, 0.06861573457717896, 0.0, 0.0], [0.1024254709482193, 0.16683605313301086, 0.5248051881790161, 0.05445460230112076, 0.15147872269153595, 0.0], [0.2502949833869934, 0.22198131680488586, 0.18899975717067719, 0.10677111893892288, 0.1303267925977707, 0.10162601619958878]], [[1.0, 0.0, 0.0, 0.0, 0.0, 0.0], [0.6990506649017334, 0.300949364900589, 0.0, 0.0, 0.0, 0.0], [0.5107942819595337, 0.2948642373085022, 0.1943414956331253, 0.0, 0.0, 0.0], [0.46047067642211914, 0.28051915764808655, 0.19174796342849731, 0.06726215779781342, 0.0, 0.0], [0.3764842748641968, 0.21120665967464447, 0.20214535295963287, 0.10207019001245499, 0.10809348523616791, 0.0], [0.30138447880744934, 0.20456178486347198, 0.18250331282615662, 0.11019379645586014, 0.16291271150112152, 0.03844383731484413]], [[1.0, 0.0, 0.0, 0.0, 0.0, 0.0], [0.7131583094596863, 0.2868416905403137, 0.0, 0.0, 0.0, 0.0], [0.4058799147605896, 0.18063293397426605, 0.41348710656166077, 0.0, 0.0, 0.0], [0.265546053647995, 0.16985860466957092, 0.33585938811302185, 0.22873589396476746, 0.0, 0.0], [0.3138540983200073, 0.1831670105457306, 0.14928355813026428, 0.053776707500219345, 0.29991868138313293, 0.0], [0.20466552674770355, 0.18731117248535156, 0.15959148108959198, 0.06381773203611374, 0.03642304614186287, 0.34819111227989197]], [[1.0, 0.0, 0.0, 0.0, 0.0, 0.0], [0.6586242318153381, 0.34137579798698425, 0.0, 0.0, 0.0, 0.0], [0.5917777419090271, 0.3160035312175751, 0.0922187939286232, 0.0, 0.0, 0.0], [0.5477152466773987, 0.23586949706077576, 0.06145597621798515, 0.1549593061208725, 0.0, 0.0], [0.4587060511112213, 0.22439999878406525, 0.07887423038482666, 0.0992034450173378, 0.13881629705429077, 0.0], [0.32743728160858154, 0.19600822031497955, 0.06805708259344101, 0.0892510712146759, 0.11618075519800186, 0.20306557416915894]]], [[[1.0, 0.0, 0.0, 0.0, 0.0, 0.0], [0.9961552023887634, 0.0038448371924459934, 0.0, 0.0, 0.0, 0.0], [0.8594855070114136, 0.06906107068061829, 0.07145338505506516, 0.0, 0.0, 0.0], [0.38000547885894775, 0.04127562418580055, 0.5496610999107361, 0.029057776555418968, 0.0, 0.0], [0.2144521176815033, 0.05088742822408676, 0.43174421787261963, 0.25869274139404297, 0.0442233607172966, 0.0], [0.11175268888473511, 0.017593074589967728, 0.027507463470101357, 0.04086770862340927, 0.7754668593406677, 0.02681218646466732]], [[1.0, 0.0, 0.0, 0.0, 0.0, 0.0], [0.9285967946052551, 0.07140322029590607, 0.0, 0.0, 0.0, 0.0], [0.6077284812927246, 0.31214287877082825, 0.08012861013412476, 0.0, 0.0, 0.0], [0.4942910373210907, 0.28503695130348206, 0.11849308758974075, 0.10217895358800888, 0.0, 0.0], [0.4183880388736725, 0.23117899894714355, 0.08340618759393692, 0.11365947872400284, 0.15336735546588898, 0.0], [0.4221585988998413, 0.1291714757680893, 0.08740919083356857, 0.1016375795006752, 0.2123025357723236, 0.047320567071437836]], [[1.0, 0.0, 0.0, 0.0, 0.0, 0.0], [0.9786475896835327, 0.021352365612983704, 0.0, 0.0, 0.0, 0.0], [0.7749121785163879, 0.06510373950004578, 0.15998412668704987, 0.0, 0.0, 0.0], [0.6484924554824829, 0.07483132183551788, 0.14751601219177246, 0.12916019558906555, 0.0, 0.0], [0.5224637389183044, 0.06921813637018204, 0.13823401927947998, 0.11106595396995544, 0.15901818871498108, 0.0], [0.3964517414569855, 0.073258176445961, 0.12938149273395538, 0.10642433911561966, 0.1486400067806244, 0.14584428071975708]], [[1.0, 0.0, 0.0, 0.0, 0.0, 0.0], [0.552590548992157, 0.447409451007843, 0.0, 0.0, 0.0, 0.0], [0.5585010051727295, 0.21762590110301971, 0.2238730639219284, 0.0, 0.0, 0.0], [0.5143128633499146, 0.15964673459529877, 0.1549195945262909, 0.1711207926273346, 0.0, 0.0], [0.5039962530136108, 0.11401884257793427, 0.11974020302295685, 0.12552589178085327, 0.13671885430812836, 0.0], [0.5061843395233154, 0.08567393571138382, 0.08903013914823532, 0.09759818762540817, 0.10275726020336151, 0.11875616759061813]], [[1.0, 0.0, 0.0, 0.0, 0.0, 0.0], [0.9242545366287231, 0.07574543356895447, 0.0, 0.0, 0.0, 0.0], [0.8257425427436829, 0.07932531088590622, 0.09493210911750793, 0.0, 0.0, 0.0], [0.7306379675865173, 0.08571833372116089, 0.08043930679559708, 0.1032043844461441, 0.0, 0.0], [0.6383241415023804, 0.07886384427547455, 0.07815022021532059, 0.08758097887039185, 0.11708088219165802, 0.0], [0.5552158951759338, 0.07409120351076126, 0.06834884732961655, 0.07778597623109818, 0.09999320656061172, 0.12456493824720383]], [[1.0, 0.0, 0.0, 0.0, 0.0, 0.0], [0.8578914999961853, 0.1421085000038147, 0.0, 0.0, 0.0, 0.0], [0.6423037648200989, 0.1662902683019638, 0.19140595197677612, 0.0, 0.0, 0.0], [0.5530980229377747, 0.10609275847673416, 0.07821261882781982, 0.26259660720825195, 0.0, 0.0], [0.40121686458587646, 0.12223605066537857, 0.19347317516803741, 0.14164632558822632, 0.14142745733261108, 0.0], [0.40212583541870117, 0.1845075935125351, 0.07516807317733765, 0.05849039927124977, 0.1444634050130844, 0.13524475693702698]], [[1.0, 0.0, 0.0, 0.0, 0.0, 0.0], [0.9791558980941772, 0.020844031125307083, 0.0, 0.0, 0.0, 0.0], [0.8829842209815979, 0.062332458794116974, 0.054683297872543335, 0.0, 0.0, 0.0], [0.8105454444885254, 0.08617080748081207, 0.07321779429912567, 0.030065899714827538, 0.0, 0.0], [0.6819812655448914, 0.04990816488862038, 0.08296555280685425, 0.08369530737400055, 0.10144980251789093, 0.0], [0.4056686460971832, 0.0733765959739685, 0.08601400256156921, 0.06170933321118355, 0.1322644054889679, 0.24096693098545074]], [[1.0, 0.0, 0.0, 0.0, 0.0, 0.0], [0.9670192003250122, 0.03298087790608406, 0.0, 0.0, 0.0, 0.0], [0.8449065089225769, 0.08514498919248581, 0.06994852423667908, 0.0, 0.0, 0.0], [0.712357223033905, 0.07896047085523605, 0.05541076511144638, 0.15327154099941254, 0.0, 0.0], [0.6402611136436462, 0.07397554069757462, 0.04439307004213333, 0.14322128891944885, 0.0981488823890686, 0.0], [0.5073902606964111, 0.07523060590028763, 0.07754653692245483, 0.11362478882074356, 0.13947956264019012, 0.08672826737165451]], [[1.0, 0.0, 0.0, 0.0, 0.0, 0.0], [0.8487567901611328, 0.1512432098388672, 0.0, 0.0, 0.0, 0.0], [0.8415648341178894, 0.12107236683368683, 0.0373627245426178, 0.0, 0.0, 0.0], [0.7505518198013306, 0.11348949372768402, 0.0617995448410511, 0.07415911555290222, 0.0, 0.0], [0.6614715456962585, 0.10242652893066406, 0.052934300154447556, 0.07529734820127487, 0.10787034034729004, 0.0], [0.6014202833175659, 0.11340398341417313, 0.05631924420595169, 0.07096721976995468, 0.10906259715557098, 0.04882657900452614]], [[1.0, 0.0, 0.0, 0.0, 0.0, 0.0], [0.944548487663269, 0.055451542139053345, 0.0, 0.0, 0.0, 0.0], [0.8874567747116089, 0.05474216118454933, 0.0578010268509388, 0.0, 0.0, 0.0], [0.8281888961791992, 0.06894998252391815, 0.059034693986177444, 0.04382640868425369, 0.0, 0.0], [0.642989456653595, 0.06747537106275558, 0.11629704385995865, 0.05417947471141815, 0.11905866861343384, 0.0], [0.7367822527885437, 0.056119002401828766, 0.06857287138700485, 0.03421957045793533, 0.07875380665063858, 0.025552397593855858]], [[1.0, 0.0, 0.0, 0.0, 0.0, 0.0], [0.00029133891803212464, 0.9997085928916931, 0.0, 0.0, 0.0, 0.0], [0.0007981196977198124, 0.5288338661193848, 0.47036805748939514, 0.0, 0.0, 0.0], [0.0007648474420420825, 0.3451984226703644, 0.30852657556533813, 0.34551018476486206, 0.0, 0.0], [0.0010283151641488075, 0.24135908484458923, 0.23320138454437256, 0.25557151436805725, 0.26883968710899353, 0.0], [0.000974681053776294, 0.17789696156978607, 0.1674315184354782, 0.18587608635425568, 0.18734437227249146, 0.2804764211177826]], [[1.0, 0.0, 0.0, 0.0, 0.0, 0.0], [0.8244927525520325, 0.17550718784332275, 0.0, 0.0, 0.0, 0.0], [0.12386859208345413, 0.04449988901615143, 0.8316314816474915, 0.0, 0.0, 0.0], [0.07924358546733856, 0.01296590082347393, 0.0015277155907824636, 0.9062628149986267, 0.0, 0.0], [0.08806420117616653, 0.02134108915925026, 0.0028886175714433193, 0.002845386741682887, 0.8848607540130615, 0.0], [0.09983227401971817, 0.03363397717475891, 0.005499998107552528, 0.0024330588057637215, 0.0015082466416060925, 0.8570924401283264]]], [[[1.0, 0.0, 0.0, 0.0, 0.0, 0.0], [0.9646892547607422, 0.03531073406338692, 0.0, 0.0, 0.0, 0.0], [0.7529156804084778, 0.08733482658863068, 0.15974941849708557, 0.0, 0.0, 0.0], [0.420228511095047, 0.09195118397474289, 0.23549826443195343, 0.2523220181465149, 0.0, 0.0], [0.30848971009254456, 0.05908144637942314, 0.38391271233558655, 0.15659144520759583, 0.09192466735839844, 0.0], [0.4479040503501892, 0.04329307749867439, 0.07969176024198532, 0.11081922799348831, 0.22124609351158142, 0.09704580157995224]], [[1.0, 0.0, 0.0, 0.0, 0.0, 0.0], [0.991096019744873, 0.008904009126126766, 0.0, 0.0, 0.0, 0.0], [0.9697675704956055, 0.02608449012041092, 0.004147922620177269, 0.0, 0.0, 0.0], [0.9082902073860168, 0.03320595249533653, 0.009421144612133503, 0.049082621932029724, 0.0, 0.0], [0.8949137330055237, 0.05544532835483551, 0.005577603355050087, 0.031506773084402084, 0.012556545436382294, 0.0], [0.8497738242149353, 0.028890090063214302, 0.0036647962406277657, 0.037519872188568115, 0.03842796012759209, 0.04172345995903015]], [[1.0, 0.0, 0.0, 0.0, 0.0, 0.0], [0.9984525442123413, 0.0015474491519853473, 0.0, 0.0, 0.0, 0.0], [0.48947739601135254, 0.4812203049659729, 0.02930222637951374, 0.0, 0.0, 0.0], [0.11772172152996063, 0.13121232390403748, 0.6702309250831604, 0.08083505928516388, 0.0, 0.0], [0.13043761253356934, 0.04068687930703163, 0.26520398259162903, 0.4114348292350769, 0.1522367000579834, 0.0], [0.12661877274513245, 0.03275126963853836, 0.03567875176668167, 0.06039175018668175, 0.6021823883056641, 0.1423770636320114]], [[1.0, 0.0, 0.0, 0.0, 0.0, 0.0], [0.9805176854133606, 0.01948230341076851, 0.0, 0.0, 0.0, 0.0], [0.7948848009109497, 0.12061917036771774, 0.08449594676494598, 0.0, 0.0, 0.0], [0.5612360239028931, 0.157431498169899, 0.20339691638946533, 0.0779355838894844, 0.0, 0.0], [0.4258384704589844, 0.10742021352052689, 0.1512364149093628, 0.08754995465278625, 0.2279549241065979, 0.0], [0.247526153922081, 0.024188272655010223, 0.030395247042179108, 0.08586956560611725, 0.5714338421821594, 0.04058681055903435]], [[1.0, 0.0, 0.0, 0.0, 0.0, 0.0], [0.9887767434120178, 0.011223204433918, 0.0, 0.0, 0.0, 0.0], [0.7572693228721619, 0.2231736034154892, 0.019557051360607147, 0.0, 0.0, 0.0], [0.5341882705688477, 0.22107592225074768, 0.17621809244155884, 0.06851780414581299, 0.0, 0.0], [0.1709531992673874, 0.0822942703962326, 0.5760217308998108, 0.1109759658575058, 0.059754859656095505, 0.0], [0.24871113896369934, 0.08880813419818878, 0.08980178087949753, 0.09729329496622086, 0.4413091242313385, 0.034076545387506485]], [[1.0, 0.0, 0.0, 0.0, 0.0, 0.0], [0.8422133922576904, 0.15778659284114838, 0.0, 0.0, 0.0, 0.0], [0.46841269731521606, 0.4610537588596344, 0.07053357362747192, 0.0, 0.0, 0.0], [0.2588143050670624, 0.46358901262283325, 0.1850348562002182, 0.09256180375814438, 0.0, 0.0], [0.18399596214294434, 0.29154205322265625, 0.17031076550483704, 0.2717297077178955, 0.08242152631282806, 0.0], [0.16469870507717133, 0.2472696751356125, 0.0877055823802948, 0.22574977576732635, 0.17745362222194672, 0.09712248295545578]], [[1.0, 0.0, 0.0, 0.0, 0.0, 0.0], [0.9919946193695068, 0.008005399256944656, 0.0, 0.0, 0.0, 0.0], [0.9068724513053894, 0.04406513273715973, 0.04906242713332176, 0.0, 0.0, 0.0], [0.8582223653793335, 0.05534828081727028, 0.04041934758424759, 0.04601002484560013, 0.0, 0.0], [0.7855252027511597, 0.04124244675040245, 0.08369285613298416, 0.04887618124485016, 0.04066331684589386, 0.0], [0.7856320142745972, 0.05014640837907791, 0.04751259833574295, 0.02736588381230831, 0.05614747107028961, 0.03319564089179039]], [[1.0, 0.0, 0.0, 0.0, 0.0, 0.0], [0.9041033387184143, 0.0958966314792633, 0.0, 0.0, 0.0, 0.0], [0.586230993270874, 0.07199838757514954, 0.34177058935165405, 0.0, 0.0, 0.0], [0.3878961503505707, 0.04660806804895401, 0.20278990268707275, 0.36270585656166077, 0.0, 0.0], [0.26652440428733826, 0.024533040821552277, 0.12211934477090836, 0.20041200518608093, 0.386411190032959, 0.0], [0.2335740625858307, 0.020537318661808968, 0.09610333293676376, 0.13062253594398499, 0.2299049347639084, 0.28925785422325134]], [[1.0, 0.0, 0.0, 0.0, 0.0, 0.0], [0.9639912247657776, 0.036008838564157486, 0.0, 0.0, 0.0, 0.0], [0.7075548768043518, 0.2542780041694641, 0.038167089223861694, 0.0, 0.0, 0.0], [0.2566526234149933, 0.20589327812194824, 0.016656603664159775, 0.5207974910736084, 0.0, 0.0], [0.10379397124052048, 0.04639101028442383, 0.008698621764779091, 0.7866847515106201, 0.054431650787591934, 0.0], [0.22143366932868958, 0.033797487616539, 0.029023895040154457, 0.5412922501564026, 0.1528611183166504, 0.021591654047369957]], [[1.0, 0.0, 0.0, 0.0, 0.0, 0.0], [0.9891703724861145, 0.010829661041498184, 0.0, 0.0, 0.0, 0.0], [0.791315495967865, 0.1230965107679367, 0.08558806031942368, 0.0, 0.0, 0.0], [0.2954605221748352, 0.15808317065238953, 0.4217236042022705, 0.12473273277282715, 0.0, 0.0], [0.23441065847873688, 0.09886536747217178, 0.33160144090652466, 0.19713930785655975, 0.13798321783542633, 0.0], [0.19728365540504456, 0.057418446987867355, 0.06909018754959106, 0.1646982878446579, 0.27972763776779175, 0.23178179562091827]], [[1.0, 0.0, 0.0, 0.0, 0.0, 0.0], [0.9359129071235657, 0.06408713757991791, 0.0, 0.0, 0.0, 0.0], [0.7888627648353577, 0.08673477917909622, 0.1244024857878685, 0.0, 0.0, 0.0], [0.6535121202468872, 0.0757354199886322, 0.09732566028833389, 0.1734268069267273, 0.0, 0.0], [0.5222766995429993, 0.05827881768345833, 0.09920475631952286, 0.17020834982395172, 0.15003131330013275, 0.0], [0.41088390350341797, 0.04730609059333801, 0.07265674322843552, 0.10560747236013412, 0.10550011694431305, 0.2580457031726837]], [[1.0, 0.0, 0.0, 0.0, 0.0, 0.0], [0.9683833122253418, 0.0316166952252388, 0.0, 0.0, 0.0, 0.0], [0.8965396881103516, 0.038870569318532944, 0.06458976864814758, 0.0, 0.0, 0.0], [0.8264952898025513, 0.03213461861014366, 0.051967162638902664, 0.08940290659666061, 0.0, 0.0], [0.7718174457550049, 0.03040284290909767, 0.04582742229104042, 0.0711846724152565, 0.08076760917901993, 0.0], [0.7292331457138062, 0.021699847653508186, 0.033074747771024704, 0.047200944274663925, 0.06474561989307404, 0.10404574126005173]]], [[[1.0, 0.0, 0.0, 0.0, 0.0, 0.0], [0.9979567527770996, 0.0020432821474969387, 0.0, 0.0, 0.0, 0.0], [0.9552940726280212, 0.008025329560041428, 0.03668059781193733, 0.0, 0.0, 0.0], [0.9254711866378784, 0.002755575580522418, 0.002062985673546791, 0.06971028447151184, 0.0, 0.0], [0.8660573363304138, 0.0038883702363818884, 0.0006785988807678223, 0.0006981453043408692, 0.12867748737335205, 0.0], [0.8455933332443237, 0.003780402010306716, 0.000253422767855227, 6.027032213751227e-05, 0.00011820720828836784, 0.15019436180591583]], [[1.0, 0.0, 0.0, 0.0, 0.0, 0.0], [0.9262455105781555, 0.07375453412532806, 0.0, 0.0, 0.0, 0.0], [0.771714985370636, 0.16242027282714844, 0.06586480140686035, 0.0, 0.0, 0.0], [0.8167642951011658, 0.07807141542434692, 0.06324014067649841, 0.04192417487502098, 0.0, 0.0], [0.6867169141769409, 0.07755205035209656, 0.10056959092617035, 0.059551142156124115, 0.07561037689447403, 0.0], [0.642116367816925, 0.11014898866415024, 0.07688190788030624, 0.054033342748880386, 0.10333625227212906, 0.013483121991157532]], [[1.0, 0.0, 0.0, 0.0, 0.0, 0.0], [0.9395954608917236, 0.06040453538298607, 0.0, 0.0, 0.0, 0.0], [0.2300451695919037, 0.6617391705513, 0.10821568220853806, 0.0, 0.0, 0.0], [0.2670232951641083, 0.3607955574989319, 0.32496151328086853, 0.047219567000865936, 0.0, 0.0], [0.5952017307281494, 0.12269250303506851, 0.06302029639482498, 0.08916808664798737, 0.12991733849048615, 0.0], [0.10284561663866043, 0.029379982501268387, 0.013738967478275299, 0.04586034640669823, 0.76985102891922, 0.03832400217652321]], [[1.0, 0.0, 0.0, 0.0, 0.0, 0.0], [0.9040981531143188, 0.09590181708335876, 0.0, 0.0, 0.0, 0.0], [0.35723674297332764, 0.6274624466896057, 0.015300842933356762, 0.0, 0.0, 0.0], [0.591800332069397, 0.2764039933681488, 0.10475990176200867, 0.027035808190703392, 0.0, 0.0], [0.7254418134689331, 0.049831025302410126, 0.014982691965997219, 0.17781370878219604, 0.031930748373270035, 0.0], [0.7612757086753845, 0.06158933788537979, 0.005942173767834902, 0.016426799818873405, 0.12678009271621704, 0.027985943481326103]], [[1.0, 0.0, 0.0, 0.0, 0.0, 0.0], [0.9947587847709656, 0.005241225007921457, 0.0, 0.0, 0.0, 0.0], [0.9632415771484375, 0.01781640015542507, 0.018942026421427727, 0.0, 0.0, 0.0], [0.9671077132225037, 0.00850959774106741, 0.008562241680920124, 0.01582047902047634, 0.0, 0.0], [0.9340997338294983, 0.011952388100326061, 0.02018018066883087, 0.02675074338912964, 0.0070169041864573956, 0.0], [0.9587239027023315, 0.0046570985578000546, 0.0033267696853727102, 0.006545271258801222, 0.010182434692978859, 0.016564495861530304]], [[1.0, 0.0, 0.0, 0.0, 0.0, 0.0], [0.9769991040229797, 0.023000862449407578, 0.0, 0.0, 0.0, 0.0], [0.7917608618736267, 0.17533215880393982, 0.03290707245469093, 0.0, 0.0, 0.0], [0.7949196100234985, 0.10531824082136154, 0.04021841287612915, 0.05954369530081749, 0.0, 0.0], [0.7097726464271545, 0.1055251806974411, 0.06597544252872467, 0.057655785232782364, 0.06107087433338165, 0.0], [0.7506598234176636, 0.026514500379562378, 0.021576065570116043, 0.03429672494530678, 0.08494465053081512, 0.08200820535421371]], [[1.0, 0.0, 0.0, 0.0, 0.0, 0.0], [0.983751654624939, 0.016248304396867752, 0.0, 0.0, 0.0, 0.0], [0.5615496039390564, 0.08956832438707352, 0.34888210892677307, 0.0, 0.0, 0.0], [0.3292927145957947, 0.02411484345793724, 0.5428037047386169, 0.10378878563642502, 0.0, 0.0], [0.3433037996292114, 0.013086413033306599, 0.5121961236000061, 0.11146281659603119, 0.01995091512799263, 0.0], [0.47928088903427124, 0.01733355224132538, 0.11805342882871628, 0.061303019523620605, 0.20071935653686523, 0.12330981343984604]], [[1.0, 0.0, 0.0, 0.0, 0.0, 0.0], [0.9908847212791443, 0.009115300141274929, 0.0, 0.0, 0.0, 0.0], [0.5282686352729797, 0.3292277753353119, 0.142503559589386, 0.0, 0.0, 0.0], [0.48788881301879883, 0.2336852103471756, 0.17577938735485077, 0.10264664888381958, 0.0, 0.0], [0.3144476115703583, 0.18065112829208374, 0.1687137633562088, 0.0950656309723854, 0.2411217838525772, 0.0], [0.5168756246566772, 0.03589708358049393, 0.026188060641288757, 0.04039747267961502, 0.187918022274971, 0.19272363185882568]], [[1.0, 0.0, 0.0, 0.0, 0.0, 0.0], [0.8750304579734802, 0.12496957182884216, 0.0, 0.0, 0.0, 0.0], [0.4550616145133972, 0.4900423586368561, 0.05489598214626312, 0.0, 0.0, 0.0], [0.2933724522590637, 0.5449897646903992, 0.0944431945681572, 0.06719467043876648, 0.0, 0.0], [0.4897082448005676, 0.2720988988876343, 0.06861957907676697, 0.14694933593273163, 0.02262401022017002, 0.0], [0.4729056656360626, 0.0810307189822197, 0.0160521250218153, 0.3067241311073303, 0.10120714455842972, 0.02208022028207779]], [[1.0, 0.0, 0.0, 0.0, 0.0, 0.0], [0.9630220532417297, 0.03697797283530235, 0.0, 0.0, 0.0, 0.0], [0.7557185888290405, 0.16436448693275452, 0.07991694658994675, 0.0, 0.0, 0.0], [0.6947718858718872, 0.0840982124209404, 0.0638255849480629, 0.15730427205562592, 0.0, 0.0], [0.5821166038513184, 0.03297781944274902, 0.07936520874500275, 0.19441376626491547, 0.11112649738788605, 0.0], [0.5974528789520264, 0.04261098802089691, 0.0691971480846405, 0.1456352323293686, 0.12481781840324402, 0.02028588019311428]], [[1.0, 0.0, 0.0, 0.0, 0.0, 0.0], [0.9957822561264038, 0.004217814654111862, 0.0, 0.0, 0.0, 0.0], [0.9312828779220581, 0.010560296475887299, 0.05815676972270012, 0.0, 0.0, 0.0], [0.8435326814651489, 0.015695003792643547, 0.045751072466373444, 0.09502113610506058, 0.0, 0.0], [0.7724102735519409, 0.011981209740042686, 0.03504594415426254, 0.038767602294683456, 0.14179487526416779, 0.0], [0.7642900943756104, 0.009868830442428589, 0.008122773841023445, 0.01331443153321743, 0.04824421554803848, 0.15615971386432648]], [[1.0, 0.0, 0.0, 0.0, 0.0, 0.0], [0.9701175093650818, 0.029882490634918213, 0.0, 0.0, 0.0, 0.0], [0.6563995480537415, 0.2250623106956482, 0.11853810399770737, 0.0, 0.0, 0.0], [0.6958063840866089, 0.14701835811138153, 0.07145968824625015, 0.08571559935808182, 0.0, 0.0], [0.6353276968002319, 0.1346065253019333, 0.030994204804301262, 0.05691637471318245, 0.14215517044067383, 0.0], [0.6779400110244751, 0.053654227405786514, 0.018006278201937675, 0.0628453865647316, 0.11038217693567276, 0.07717187702655792]]], [[[1.0, 0.0, 0.0, 0.0, 0.0, 0.0], [0.9822332859039307, 0.01776670478284359, 0.0, 0.0, 0.0, 0.0], [0.9037663340568542, 0.06541534513235092, 0.030818354338407516, 0.0, 0.0, 0.0], [0.8119199275970459, 0.03679008036851883, 0.060560524463653564, 0.09072957932949066, 0.0, 0.0], [0.40546250343322754, 0.10383891314268112, 0.10211245715618134, 0.35434386134147644, 0.03424229100346565, 0.0], [0.22824399173259735, 0.01727863773703575, 0.050554390996694565, 0.6015741229057312, 0.09411736577749252, 0.008231471292674541]], [[1.0, 0.0, 0.0, 0.0, 0.0, 0.0], [0.9873148202896118, 0.012685160152614117, 0.0, 0.0, 0.0, 0.0], [0.35445693135261536, 0.531760573387146, 0.11378251761198044, 0.0, 0.0, 0.0], [0.07823432236909866, 0.7221350073814392, 0.10936608165502548, 0.09026452898979187, 0.0, 0.0], [0.21968010067939758, 0.4048420488834381, 0.12358085066080093, 0.20018890500068665, 0.051708102226257324, 0.0], [0.3608969748020172, 0.1045902818441391, 0.06983812898397446, 0.297649085521698, 0.13869863748550415, 0.0283268503844738]], [[1.0, 0.0, 0.0, 0.0, 0.0, 0.0], [0.9732162356376648, 0.026783829554915428, 0.0, 0.0, 0.0, 0.0], [0.9167556166648865, 0.06145264580845833, 0.021791856735944748, 0.0, 0.0, 0.0], [0.8543084859848022, 0.08049586415290833, 0.030334845185279846, 0.034860871732234955, 0.0, 0.0], [0.891922116279602, 0.04280758276581764, 0.022044913843274117, 0.023470545187592506, 0.019754810258746147, 0.0], [0.8116766810417175, 0.03413528949022293, 0.035676565021276474, 0.0474858321249485, 0.02539711445569992, 0.04562851041555405]], [[1.0, 0.0, 0.0, 0.0, 0.0, 0.0], [0.9502761363983154, 0.04972393810749054, 0.0, 0.0, 0.0, 0.0], [0.7637452483177185, 0.20073631405830383, 0.03551851585507393, 0.0, 0.0, 0.0], [0.6279091835021973, 0.037681374698877335, 0.1994539201259613, 0.134955495595932, 0.0, 0.0], [0.6397067904472351, 0.0270072054117918, 0.0908198207616806, 0.20653848350048065, 0.03592776134610176, 0.0], [0.45594221353530884, 0.021641230210661888, 0.12939594686031342, 0.21800953149795532, 0.103798046708107, 0.07121298462152481]], [[1.0, 0.0, 0.0, 0.0, 0.0, 0.0], [0.9498406648635864, 0.050159383565187454, 0.0, 0.0, 0.0, 0.0], [0.8688722848892212, 0.08722198754549026, 0.04390574246644974, 0.0, 0.0, 0.0], [0.6937955021858215, 0.06359204649925232, 0.09179050475358963, 0.15082195401191711, 0.0, 0.0], [0.7266594767570496, 0.04389890283346176, 0.046839844435453415, 0.09851814806461334, 0.084083691239357, 0.0], [0.7848992347717285, 0.03714780509471893, 0.012907834723591805, 0.010539383627474308, 0.12079228460788727, 0.03371351957321167]], [[1.0, 0.0, 0.0, 0.0, 0.0, 0.0], [0.9891054034233093, 0.010894612409174442, 0.0, 0.0, 0.0, 0.0], [0.8929507732391357, 0.08700141310691833, 0.020047733560204506, 0.0, 0.0, 0.0], [0.789111852645874, 0.09797287732362747, 0.08633226901292801, 0.02658304199576378, 0.0, 0.0], [0.885063886642456, 0.036450065672397614, 0.05395425483584404, 0.012377267703413963, 0.012154527008533478, 0.0], [0.6861324906349182, 0.0572039969265461, 0.01163627952337265, 0.02166060544550419, 0.17488032579421997, 0.04848625883460045]], [[1.0, 0.0, 0.0, 0.0, 0.0, 0.0], [0.9396193027496338, 0.0603807270526886, 0.0, 0.0, 0.0, 0.0], [0.7851800322532654, 0.19751396775245667, 0.017306048423051834, 0.0, 0.0, 0.0], [0.7660515904426575, 0.1544462889432907, 0.03188285604119301, 0.047619279474020004, 0.0, 0.0], [0.7035233378410339, 0.05171412229537964, 0.07760976999998093, 0.15339040756225586, 0.013762427493929863, 0.0], [0.7121891975402832, 0.0499422661960125, 0.037725500762462616, 0.08649113774299622, 0.06541385501623154, 0.04823807626962662]], [[1.0, 0.0, 0.0, 0.0, 0.0, 0.0], [0.974072277545929, 0.025927728042006493, 0.0, 0.0, 0.0, 0.0], [0.7925394773483276, 0.011715604923665524, 0.19574497640132904, 0.0, 0.0, 0.0], [0.5106780529022217, 0.007296772673726082, 0.03961995616555214, 0.44240522384643555, 0.0, 0.0], [0.5862482190132141, 0.012099691666662693, 0.024585146456956863, 0.06737814098596573, 0.30968886613845825, 0.0], [0.30196312069892883, 0.0077240015380084515, 0.011518091894686222, 0.046947184950113297, 0.2214672565460205, 0.41038036346435547]], [[1.0, 0.0, 0.0, 0.0, 0.0, 0.0], [0.9744554758071899, 0.025544548407197, 0.0, 0.0, 0.0, 0.0], [0.9769196510314941, 0.015048476867377758, 0.008031906560063362, 0.0, 0.0, 0.0], [0.9060622453689575, 0.0258753914386034, 0.025954771786928177, 0.04210769757628441, 0.0, 0.0], [0.9400082230567932, 0.005556631367653608, 0.005828288849443197, 0.031757790595293045, 0.01684907078742981, 0.0], [0.9105739593505859, 0.0019752136431634426, 0.008646698668599129, 0.013360842131078243, 0.0354396291077137, 0.030003638938069344]], [[1.0, 0.0, 0.0, 0.0, 0.0, 0.0], [0.9791666865348816, 0.0208333358168602, 0.0, 0.0, 0.0, 0.0], [0.8444864153862, 0.13507826626300812, 0.020435357466340065, 0.0, 0.0, 0.0], [0.7903088331222534, 0.14559155702590942, 0.03753000870347023, 0.02656973898410797, 0.0, 0.0], [0.7298933863639832, 0.05649607628583908, 0.032735440880060196, 0.1040046215057373, 0.07687044888734818, 0.0], [0.5684202313423157, 0.043888140469789505, 0.026293348520994186, 0.0811711996793747, 0.24314729869365692, 0.03707972168922424]], [[1.0, 0.0, 0.0, 0.0, 0.0, 0.0], [0.9499868154525757, 0.050013136118650436, 0.0, 0.0, 0.0, 0.0], [0.9336172342300415, 0.05848857760429382, 0.007894263602793217, 0.0, 0.0, 0.0], [0.789783775806427, 0.11071787029504776, 0.05360175296664238, 0.045896533876657486, 0.0, 0.0], [0.8859305381774902, 0.05752955377101898, 0.013743233866989613, 0.0033877354580909014, 0.03940894827246666, 0.0], [0.9337607622146606, 0.026470616459846497, 0.004523396957665682, 0.0061904797330498695, 0.014132946729660034, 0.014921708963811398]], [[1.0, 0.0, 0.0, 0.0, 0.0, 0.0], [1.0, 1.8521577604957429e-09, 0.0, 0.0, 0.0, 0.0], [6.675839813397033e-06, 0.9999804496765137, 1.2841268471674994e-05, 0.0, 0.0, 0.0], [2.2194322824020674e-08, 2.6685040843688057e-09, 0.9999971389770508, 2.813701712511829e-06, 0.0, 0.0], [1.014519853015372e-06, 4.464065739284706e-08, 0.00035355458385311067, 0.9993677735328674, 0.00027762542595155537, 0.0], [9.43665812158656e-10, 1.3820389277441336e-11, 5.017710691390675e-10, 2.9652009736480522e-09, 0.9999971389770508, 2.864426051019109e-06]]], [[[1.0, 0.0, 0.0, 0.0, 0.0, 0.0], [0.9948632121086121, 0.00513678602874279, 0.0, 0.0, 0.0, 0.0], [0.9274215698242188, 0.018323831260204315, 0.05425458401441574, 0.0, 0.0, 0.0], [0.9678993821144104, 0.004143415950238705, 0.004314432851970196, 0.02364276722073555, 0.0, 0.0], [0.8999072909355164, 0.001467162393964827, 0.0002913347852881998, 0.0025850096717476845, 0.0957491397857666, 0.0], [0.9386117458343506, 0.00022248220921028405, 0.0006146623054519296, 0.0015495610423386097, 0.030689312145113945, 0.0283123217523098]], [[1.0, 0.0, 0.0, 0.0, 0.0, 0.0], [0.9999959468841553, 4.042735781695228e-06, 0.0, 0.0, 0.0, 0.0], [0.9982761144638062, 3.261380015828763e-06, 0.001720669330097735, 0.0, 0.0, 0.0], [0.9998809099197388, 5.328845986696251e-08, 6.376191095114336e-07, 0.0001184707143693231, 0.0, 0.0], [0.9996154308319092, 3.4731729670056666e-07, 3.892052546916602e-08, 4.4684119870908034e-07, 0.00038369710091501474, 0.0], [0.9994840621948242, 1.6550142589721872e-08, 2.8715284372538008e-08, 1.0638243566063466e-06, 0.00021266618568915874, 0.0003021192387677729]], [[1.0, 0.0, 0.0, 0.0, 0.0, 0.0], [0.9514135122299194, 0.04858650639653206, 0.0, 0.0, 0.0, 0.0], [0.5749927163124084, 0.3902830183506012, 0.034724265336990356, 0.0, 0.0, 0.0], [0.7442320585250854, 0.1752411425113678, 0.07564745098352432, 0.004879296291619539, 0.0, 0.0], [0.5232062339782715, 0.09429318457841873, 0.11381882429122925, 0.19979412853717804, 0.0688876062631607, 0.0], [0.47472456097602844, 0.05636609345674515, 0.04530378431081772, 0.06967338919639587, 0.30980268120765686, 0.044129595160484314]], [[1.0, 0.0, 0.0, 0.0, 0.0, 0.0], [0.8734649419784546, 0.12653504312038422, 0.0, 0.0, 0.0, 0.0], [0.6097904443740845, 0.3541734218597412, 0.036036089062690735, 0.0, 0.0, 0.0], [0.45984190702438354, 0.38697871565818787, 0.09960109740495682, 0.053578317165374756, 0.0, 0.0], [0.5722200870513916, 0.23636260628700256, 0.08344568312168121, 0.0692194327712059, 0.03875222057104111, 0.0], [0.5143583416938782, 0.16723021864891052, 0.09019359201192856, 0.07654457539319992, 0.10578052699565887, 0.04589271545410156]], [[1.0, 0.0, 0.0, 0.0, 0.0, 0.0], [0.981228768825531, 0.01877124421298504, 0.0, 0.0, 0.0, 0.0], [0.6142942309379578, 0.3503977358341217, 0.03530803322792053, 0.0, 0.0, 0.0], [0.5770686268806458, 0.3285845220088959, 0.0550825372338295, 0.0392642468214035, 0.0, 0.0], [0.17188133299350739, 0.011042500846087933, 0.054578736424446106, 0.732658863067627, 0.029838504269719124, 0.0], [0.3783022165298462, 0.017070038244128227, 0.021754080429673195, 0.4409681558609009, 0.06093825772404671, 0.0809672474861145]], [[1.0, 0.0, 0.0, 0.0, 0.0, 0.0], [0.9923112392425537, 0.0076887644827365875, 0.0, 0.0, 0.0, 0.0], [0.9498787522315979, 0.0167098231613636, 0.03341146558523178, 0.0, 0.0, 0.0], [0.9961295127868652, 0.000878729042597115, 0.0006868155323900282, 0.0023048415314406157, 0.0, 0.0], [0.9935757517814636, 0.003263498190790415, 0.0009993816493079066, 0.0002793235471472144, 0.0018820646218955517, 0.0], [0.9907532930374146, 0.00021344318520277739, 0.0004595224454533309, 0.0007905631209723651, 0.004424748942255974, 0.003358360379934311]], [[1.0, 0.0, 0.0, 0.0, 0.0, 0.0], [0.9647740125656128, 0.03522592782974243, 0.0, 0.0, 0.0, 0.0], [0.8194129467010498, 0.13654382526874542, 0.044043298810720444, 0.0, 0.0, 0.0], [0.7584245800971985, 0.0068789334036409855, 0.20653390884399414, 0.028162555769085884, 0.0, 0.0], [0.5298126935958862, 0.002678810153156519, 0.07857989519834518, 0.35983750224113464, 0.0290911216288805, 0.0], [0.7544419765472412, 0.00036782328970730305, 0.0019713498186320066, 0.0032400551717728376, 0.19423381984233856, 0.045745015144348145]], [[1.0, 0.0, 0.0, 0.0, 0.0, 0.0], [0.9749132394790649, 0.02508677914738655, 0.0, 0.0, 0.0, 0.0], [0.9306467771530151, 0.05705687403678894, 0.012296292930841446, 0.0, 0.0, 0.0], [0.9305251836776733, 0.052771005779504776, 0.011119438335299492, 0.005584425758570433, 0.0, 0.0], [0.8863328099250793, 0.01292411144822836, 0.017724568024277687, 0.0615016408264637, 0.021516920998692513, 0.0], [0.7916848659515381, 0.015036086551845074, 0.03174794837832451, 0.033922094851732254, 0.03707980364561081, 0.09052912145853043]], [[1.0, 0.0, 0.0, 0.0, 0.0, 0.0], [0.960849940776825, 0.03915002942085266, 0.0, 0.0, 0.0, 0.0], [0.9121271371841431, 0.02257651463150978, 0.06529626995325089, 0.0, 0.0, 0.0], [0.9364106059074402, 0.015584473498165607, 0.02454494498670101, 0.023459957912564278, 0.0, 0.0], [0.9454619288444519, 0.006762274540960789, 0.022026117891073227, 0.00913781113922596, 0.016611842438578606, 0.0], [0.8346164226531982, 0.0018816981464624405, 0.0056090219877660275, 0.018873613327741623, 0.1244921013712883, 0.01452712994068861]], [[1.0, 0.0, 0.0, 0.0, 0.0, 0.0], [0.9964227080345154, 0.003577282652258873, 0.0, 0.0, 0.0, 0.0], [0.9713928699493408, 0.024453066289424896, 0.0041540684178471565, 0.0, 0.0, 0.0], [0.9735793471336365, 0.01900339312851429, 0.003664407879114151, 0.003752913326025009, 0.0, 0.0], [0.9586312174797058, 0.0071162013337016106, 0.00921841524541378, 0.022725671529769897, 0.0023084906861186028, 0.0], [0.973607063293457, 0.008490578271448612, 0.00325124547816813, 0.003606440033763647, 0.004877470899373293, 0.006167220883071423]], [[1.0, 0.0, 0.0, 0.0, 0.0, 0.0], [0.97598797082901, 0.024012047797441483, 0.0, 0.0, 0.0, 0.0], [0.9460636377334595, 0.04211386665701866, 0.011822440661489964, 0.0, 0.0, 0.0], [0.844681441783905, 0.04293115437030792, 0.05218186601996422, 0.060205549001693726, 0.0, 0.0], [0.9378373622894287, 0.033548470586538315, 0.008826438337564468, 0.002879225881770253, 0.01690845377743244, 0.0], [0.812493622303009, 0.026967551559209824, 0.059991877526044846, 0.03445727378129959, 0.011011872440576553, 0.05507795140147209]], [[1.0, 0.0, 0.0, 0.0, 0.0, 0.0], [0.9001205563545227, 0.0998794212937355, 0.0, 0.0, 0.0, 0.0], [0.6271926760673523, 0.07988721132278442, 0.2929200530052185, 0.0, 0.0, 0.0], [0.7624081373214722, 0.02734426222741604, 0.03867943212389946, 0.17156817018985748, 0.0, 0.0], [0.7995961308479309, 0.01433626189827919, 0.01437564380466938, 0.02543848566710949, 0.146253302693367, 0.0], [0.7851977348327637, 0.042040422558784485, 0.02525356411933899, 0.02908390387892723, 0.029306234791874886, 0.0891181156039238]]], [[[1.0, 0.0, 0.0, 0.0, 0.0, 0.0], [0.9954467415809631, 0.004553209990262985, 0.0, 0.0, 0.0, 0.0], [0.9356003999710083, 0.04476733133196831, 0.019632287323474884, 0.0, 0.0, 0.0], [0.5605546832084656, 0.09861995279788971, 0.29983294010162354, 0.040992371737957, 0.0, 0.0], [0.5893703103065491, 0.11000976711511612, 0.08033645898103714, 0.16754084825515747, 0.0527426153421402, 0.0], [0.22305940091609955, 0.05680793523788452, 0.05467953160405159, 0.24733982980251312, 0.31112435460090637, 0.10698901861906052]], [[1.0, 0.0, 0.0, 0.0, 0.0, 0.0], [0.9301448464393616, 0.06985516101121902, 0.0, 0.0, 0.0, 0.0], [0.8936476707458496, 0.08535725623369217, 0.020995063707232475, 0.0, 0.0, 0.0], [0.8404541611671448, 0.10619179904460907, 0.023636724799871445, 0.029717344790697098, 0.0, 0.0], [0.8927384614944458, 0.024784687906503677, 0.008319015614688396, 0.05165465548634529, 0.022503210231661797, 0.0], [0.8646609783172607, 0.009503178298473358, 0.00243298034183681, 0.0479675717651844, 0.04273209720849991, 0.032703250646591187]], [[1.0, 0.0, 0.0, 0.0, 0.0, 0.0], [0.9859625697135925, 0.014037402346730232, 0.0, 0.0, 0.0, 0.0], [0.9702037572860718, 0.016807029023766518, 0.012989101000130177, 0.0, 0.0, 0.0], [0.9524770379066467, 0.016064422205090523, 0.013456201180815697, 0.018002288416028023, 0.0, 0.0], [0.9332927465438843, 0.018971972167491913, 0.020146844908595085, 0.017023751512169838, 0.010564562864601612, 0.0], [0.9113593697547913, 0.012528621591627598, 0.022096149623394012, 0.017518572509288788, 0.01851790025830269, 0.017979338765144348]], [[1.0, 0.0, 0.0, 0.0, 0.0, 0.0], [0.9681769013404846, 0.03182310611009598, 0.0, 0.0, 0.0, 0.0], [0.9096420407295227, 0.07916669547557831, 0.011191215366125107, 0.0, 0.0, 0.0], [0.8379939794540405, 0.1307821273803711, 0.012140960432589054, 0.019082972779870033, 0.0, 0.0], [0.9116525053977966, 0.05451960489153862, 0.009499355219304562, 0.007465856149792671, 0.016862740740180016, 0.0], [0.8510288000106812, 0.07338212430477142, 0.008022487163543701, 0.009083160199224949, 0.04261011630296707, 0.015873296186327934]], [[1.0, 0.0, 0.0, 0.0, 0.0, 0.0], [0.9799023866653442, 0.020097654312849045, 0.0, 0.0, 0.0, 0.0], [0.9558743238449097, 0.029063209891319275, 0.015062456019222736, 0.0, 0.0, 0.0], [0.7943132519721985, 0.06074099987745285, 0.06907662749290466, 0.07586915045976639, 0.0, 0.0], [0.5494321584701538, 0.03154706582427025, 0.05482015013694763, 0.0578807108104229, 0.30631983280181885, 0.0], [0.6453981995582581, 0.010770930908620358, 0.01752805896103382, 0.021579844877123833, 0.24958281219005585, 0.055140089243650436]], [[1.0, 0.0, 0.0, 0.0, 0.0, 0.0], [0.9506809115409851, 0.0493190735578537, 0.0, 0.0, 0.0, 0.0], [0.8553208708763123, 0.09256314486265182, 0.0521160289645195, 0.0, 0.0, 0.0], [0.8508524298667908, 0.04734595865011215, 0.04417727142572403, 0.05762424319982529, 0.0, 0.0], [0.7697128057479858, 0.027885818853974342, 0.03101726807653904, 0.06842507421970367, 0.10295902192592621, 0.0], [0.7931903004646301, 0.04052191227674484, 0.029242003336548805, 0.04478134959936142, 0.048947013914585114, 0.04331740736961365]], [[1.0, 0.0, 0.0, 0.0, 0.0, 0.0], [0.9770310521125793, 0.02296891249716282, 0.0, 0.0, 0.0, 0.0], [0.9429818391799927, 0.017321480438113213, 0.03969673812389374, 0.0, 0.0, 0.0], [0.9144347310066223, 0.008583562448620796, 0.013035789132118225, 0.06394598633050919, 0.0, 0.0], [0.9222431182861328, 0.0036440163385123014, 0.003740256652235985, 0.010410315357148647, 0.05996221676468849, 0.0], [0.9198878407478333, 0.0030822623521089554, 0.0034827389754354954, 0.0042068022303283215, 0.021254288032650948, 0.04808596149086952]], [[1.0, 0.0, 0.0, 0.0, 0.0, 0.0], [0.9774582386016846, 0.022541815415024757, 0.0, 0.0, 0.0, 0.0], [0.8929324150085449, 0.07475479692220688, 0.032312821596860886, 0.0, 0.0, 0.0], [0.842351496219635, 0.05980279669165611, 0.037400729954242706, 0.06044498458504677, 0.0, 0.0], [0.7674636840820312, 0.03536335006356239, 0.04215497896075249, 0.0665862113237381, 0.08843175321817398, 0.0], [0.6182606220245361, 0.01611064374446869, 0.020167671144008636, 0.0386890210211277, 0.23147042095661163, 0.0753016397356987]], [[1.0, 0.0, 0.0, 0.0, 0.0, 0.0], [0.9634857773780823, 0.036514297127723694, 0.0, 0.0, 0.0, 0.0], [0.4363943338394165, 0.5226365327835083, 0.04096917435526848, 0.0, 0.0, 0.0], [0.36086180806159973, 0.351296603679657, 0.2655103802680969, 0.02233116701245308, 0.0, 0.0], [0.39429134130477905, 0.021704545244574547, 0.07794338464736938, 0.37168973684310913, 0.13437101244926453, 0.0], [0.6310718059539795, 0.016983916983008385, 0.025942010805010796, 0.08615943044424057, 0.2183198779821396, 0.021522900089621544]], [[1.0, 0.0, 0.0, 0.0, 0.0, 0.0], [0.9988250136375427, 0.0011750253615900874, 0.0, 0.0, 0.0, 0.0], [0.9944871068000793, 0.00048264084034599364, 0.005030250176787376, 0.0, 0.0, 0.0], [0.9981209635734558, 2.7051630240748636e-05, 0.00011307386739645153, 0.0017389393178746104, 0.0, 0.0], [0.9982239603996277, 6.836571265012026e-05, 0.00010199935059063137, 6.028358984622173e-05, 0.001545315026305616, 0.0], [0.9982888102531433, 1.0552178082434693e-06, 3.278078293078579e-05, 0.0001303895260207355, 0.0006605856469832361, 0.0008863697294145823]], [[1.0, 0.0, 0.0, 0.0, 0.0, 0.0], [0.9936710596084595, 0.0063289157114923, 0.0, 0.0, 0.0, 0.0], [0.9727688431739807, 0.0018561341566964984, 0.025375083088874817, 0.0, 0.0, 0.0], [0.9724301099777222, 0.001958605833351612, 0.01119242049753666, 0.014418858103454113, 0.0, 0.0], [0.9782042503356934, 0.0009589139372110367, 0.001870640553534031, 0.006326551549136639, 0.012639685533940792, 0.0], [0.9592596888542175, 0.0024555125273764133, 0.0016124151879921556, 0.005019658245146275, 0.006687100511044264, 0.024965668097138405]], [[1.0, 0.0, 0.0, 0.0, 0.0, 0.0], [0.9629000425338745, 0.03710000589489937, 0.0, 0.0, 0.0, 0.0], [0.36802077293395996, 0.6152244210243225, 0.01675482466816902, 0.0, 0.0, 0.0], [0.3173517882823944, 0.6140004396438599, 0.053751587867736816, 0.014896097593009472, 0.0, 0.0], [0.4898739755153656, 0.21071362495422363, 0.04693009331822395, 0.20700454711914062, 0.045477770268917084, 0.0], [0.48774147033691406, 0.17695252597332, 0.06915221363306046, 0.098493292927742, 0.12091471254825592, 0.046745747327804565]]], [[[1.0, 0.0, 0.0, 0.0, 0.0, 0.0], [0.9794419407844543, 0.02055804431438446, 0.0, 0.0, 0.0, 0.0], [0.6677895188331604, 0.31032443046569824, 0.021886125206947327, 0.0, 0.0, 0.0], [0.7118759751319885, 0.11108522862195969, 0.1418738067150116, 0.03516499698162079, 0.0, 0.0], [0.4501466155052185, 0.04036038741469383, 0.04045821353793144, 0.38856956362724304, 0.08046522736549377, 0.0], [0.49346256256103516, 0.013696923851966858, 0.008126811124384403, 0.13074487447738647, 0.30861377716064453, 0.045355040580034256]], [[1.0, 0.0, 0.0, 0.0, 0.0, 0.0], [0.9846054315567017, 0.015394587069749832, 0.0, 0.0, 0.0, 0.0], [0.9806739091873169, 0.007713791914284229, 0.01161231379956007, 0.0, 0.0, 0.0], [0.9326629042625427, 0.019578445702791214, 0.024103591218590736, 0.023654984310269356, 0.0, 0.0], [0.9422017931938171, 0.000953896960709244, 0.0010898043401539326, 0.0031933726277202368, 0.05256116762757301, 0.0], [0.9352929592132568, 0.0010279390262439847, 0.00444444827735424, 0.0016371407546103, 0.010591003112494946, 0.047006525099277496]], [[1.0, 0.0, 0.0, 0.0, 0.0, 0.0], [0.9985783100128174, 0.0014216763665899634, 0.0, 0.0, 0.0, 0.0], [0.9893348813056946, 0.0011178896529600024, 0.009547133930027485, 0.0, 0.0, 0.0], [0.9979978203773499, 7.997065404197201e-05, 0.0001321886375080794, 0.0017900315579026937, 0.0, 0.0], [0.9986976385116577, 4.104396066395566e-05, 3.86832516596769e-06, 2.367610068176873e-05, 0.0012337067164480686, 0.0], [0.9971562623977661, 1.8522143363952637e-05, 1.882652213680558e-06, 2.790012331388425e-05, 0.0006533475825563073, 0.0021419920958578587]], [[1.0, 0.0, 0.0, 0.0, 0.0, 0.0], [0.9768233299255371, 0.023176657035946846, 0.0, 0.0, 0.0, 0.0], [0.9194678068161011, 0.05088191106915474, 0.029650341719388962, 0.0, 0.0, 0.0], [0.8474555015563965, 0.061001650989055634, 0.04372372850775719, 0.047819118946790695, 0.0, 0.0], [0.8011621236801147, 0.04186706617474556, 0.04375816509127617, 0.041894786059856415, 0.0713178962469101, 0.0], [0.8031870126724243, 0.024504896253347397, 0.017323534935712814, 0.04744390398263931, 0.06109936535358429, 0.046441271901130676]], [[1.0, 0.0, 0.0, 0.0, 0.0, 0.0], [0.9829429388046265, 0.01705712266266346, 0.0, 0.0, 0.0, 0.0], [0.8863738179206848, 0.09492640197277069, 0.018699800595641136, 0.0, 0.0, 0.0], [0.9231084585189819, 0.03696344420313835, 0.03219839930534363, 0.007729677949100733, 0.0, 0.0], [0.9068528413772583, 0.01604657992720604, 0.014310497790575027, 0.04543786123394966, 0.01735222339630127, 0.0], [0.6555967330932617, 0.050910331308841705, 0.02838495746254921, 0.1256554126739502, 0.10546863824129105, 0.033983927220106125]], [[1.0, 0.0, 0.0, 0.0, 0.0, 0.0], [0.9502318501472473, 0.049768172204494476, 0.0, 0.0, 0.0, 0.0], [0.8829864859580994, 0.10009636729955673, 0.01691718026995659, 0.0, 0.0, 0.0], [0.8057456016540527, 0.1446356177330017, 0.030189262703061104, 0.01942942477762699, 0.0, 0.0], [0.8706230521202087, 0.03244061768054962, 0.02695167437195778, 0.04410310834646225, 0.025881577283143997, 0.0], [0.6883641481399536, 0.009681464172899723, 0.01644936017692089, 0.09871132671833038, 0.08971207588911057, 0.09708157181739807]], [[1.0, 0.0, 0.0, 0.0, 0.0, 0.0], [0.9792683124542236, 0.02073170244693756, 0.0, 0.0, 0.0, 0.0], [0.9523283243179321, 0.02593384124338627, 0.021737758070230484, 0.0, 0.0, 0.0], [0.9144353866577148, 0.017671288922429085, 0.02235858328640461, 0.04553478583693504, 0.0, 0.0], [0.9448293447494507, 0.006467604544013739, 0.006386082153767347, 0.032630886882543564, 0.00968618132174015, 0.0], [0.9347907900810242, 0.007862484082579613, 0.007788173854351044, 0.021432731300592422, 0.008491113781929016, 0.019634759053587914]], [[1.0, 0.0, 0.0, 0.0, 0.0, 0.0], [0.983370304107666, 0.01662970893085003, 0.0, 0.0, 0.0, 0.0], [0.9631112813949585, 0.009229965507984161, 0.027658741921186447, 0.0, 0.0, 0.0], [0.9706627130508423, 0.004149416461586952, 0.0068131363950669765, 0.018374674022197723, 0.0, 0.0], [0.987951934337616, 0.00216589099727571, 0.00034901060280390084, 0.0015838148538023233, 0.007949447259306908, 0.0], [0.9457950592041016, 0.014583580195903778, 0.0003652965242508799, 0.0009569551330059767, 0.01362164318561554, 0.024677490815520287]], [[1.0, 0.0, 0.0, 0.0, 0.0, 0.0], [0.9878059029579163, 0.012194057926535606, 0.0, 0.0, 0.0, 0.0], [0.87103670835495, 0.09448165446519852, 0.03448169678449631, 0.0, 0.0, 0.0], [0.630977988243103, 0.11090389639139175, 0.1923026740550995, 0.06581542640924454, 0.0, 0.0], [0.5360497236251831, 0.04618946462869644, 0.13605323433876038, 0.26455429196357727, 0.017153320834040642, 0.0], [0.8287516832351685, 0.023732801899313927, 0.0200804453343153, 0.07245279848575592, 0.030431242659687996, 0.024550994858145714]], [[1.0, 0.0, 0.0, 0.0, 0.0, 0.0], [0.8995685577392578, 0.10043147951364517, 0.0, 0.0, 0.0, 0.0], [0.2703429162502289, 0.6504334211349487, 0.0792236328125, 0.0, 0.0, 0.0], [0.20541740953922272, 0.5892507433891296, 0.180858314037323, 0.024473484605550766, 0.0, 0.0], [0.5573874711990356, 0.17741289734840393, 0.08806780725717545, 0.0988181084394455, 0.0783136710524559, 0.0], [0.5922905206680298, 0.0870063304901123, 0.0564328171312809, 0.05685894936323166, 0.12181543558835983, 0.0855960100889206]], [[1.0, 0.0, 0.0, 0.0, 0.0, 0.0], [0.9316378831863403, 0.06836217641830444, 0.0, 0.0, 0.0, 0.0], [0.9572947025299072, 0.02624352276325226, 0.016461821272969246, 0.0, 0.0, 0.0], [0.9880543351173401, 0.004273326601833105, 0.00295458547770977, 0.004717648960649967, 0.0, 0.0], [0.99403977394104, 0.000941342965234071, 0.00047398245078511536, 0.0001164695349871181, 0.004428444895893335, 0.0], [0.9806033968925476, 2.5468882085988298e-05, 0.00016239409160334617, 0.00014764141815248877, 0.001344245974905789, 0.01771688461303711]], [[1.0, 0.0, 0.0, 0.0, 0.0, 0.0], [0.993178129196167, 0.006821860559284687, 0.0, 0.0, 0.0, 0.0], [0.9756524562835693, 0.013184094801545143, 0.011163455434143543, 0.0, 0.0, 0.0], [0.9418966770172119, 0.004721757955849171, 0.0023818134795874357, 0.05099979043006897, 0.0, 0.0], [0.9905040860176086, 0.0022848115768283606, 6.19848069618456e-05, 0.0005984468152746558, 0.006550685502588749, 0.0], [0.9697660207748413, 0.000887882022652775, 0.00023466692073270679, 0.0017040784005075693, 0.00412834994494915, 0.023278910666704178]]], [[[1.0, 0.0, 0.0, 0.0, 0.0, 0.0], [0.9716230630874634, 0.028376881033182144, 0.0, 0.0, 0.0, 0.0], [0.9223619699478149, 0.028907235711812973, 0.048730745911598206, 0.0, 0.0, 0.0], [0.8426315784454346, 0.023872163146734238, 0.04748138412833214, 0.08601487427949905, 0.0, 0.0], [0.8521119356155396, 0.020744262263178825, 0.04494629427790642, 0.057650092989206314, 0.024547481909394264, 0.0], [0.8800724744796753, 0.02244853600859642, 0.01823573186993599, 0.019254812970757484, 0.01585429348051548, 0.044134095311164856]], [[1.0, 0.0, 0.0, 0.0, 0.0, 0.0], [0.9412722587585449, 0.05872771888971329, 0.0, 0.0, 0.0, 0.0], [0.9163140058517456, 0.05759194493293762, 0.026094084605574608, 0.0, 0.0, 0.0], [0.8392424583435059, 0.05769054964184761, 0.013829058036208153, 0.08923790603876114, 0.0, 0.0], [0.8987157344818115, 0.013477900996804237, 0.00034564663656055927, 0.0032987622544169426, 0.08416196703910828, 0.0], [0.8701688647270203, 0.0027008680626749992, 0.0014350003330036998, 0.00566617539152503, 0.08874333649873734, 0.03128569573163986]], [[1.0, 0.0, 0.0, 0.0, 0.0, 0.0], [0.9656725525856018, 0.03432747349143028, 0.0, 0.0, 0.0, 0.0], [0.9178615212440491, 0.062257975339889526, 0.019880516454577446, 0.0, 0.0, 0.0], [0.8233147859573364, 0.06282391399145126, 0.036704376339912415, 0.07715694606304169, 0.0, 0.0], [0.8501746654510498, 0.03816922754049301, 0.031965043395757675, 0.051601435989141464, 0.0280896108597517, 0.0], [0.6572403907775879, 0.058774013072252274, 0.043360184878110886, 0.09013211727142334, 0.08146581798791885, 0.06902754306793213]], [[1.0, 0.0, 0.0, 0.0, 0.0, 0.0], [0.916206419467926, 0.08379358053207397, 0.0, 0.0, 0.0, 0.0], [0.9451774954795837, 0.04099272936582565, 0.01382982823997736, 0.0, 0.0, 0.0], [0.8928355574607849, 0.0536867156624794, 0.017596973106265068, 0.03588072583079338, 0.0, 0.0], [0.8337051868438721, 0.04799612984061241, 0.033513281494379044, 0.04680860787630081, 0.03797680139541626, 0.0], [0.8167193531990051, 0.06337127089500427, 0.013286267407238483, 0.020469745621085167, 0.025292303413152695, 0.06086096540093422]], [[1.0, 0.0, 0.0, 0.0, 0.0, 0.0], [0.9525133371353149, 0.04748665913939476, 0.0, 0.0, 0.0, 0.0], [0.3019866645336151, 0.6520941853523254, 0.045919183641672134, 0.0, 0.0, 0.0], [0.2855834662914276, 0.5569518208503723, 0.14447422325611115, 0.012990490533411503, 0.0, 0.0], [0.8438042402267456, 0.03225122019648552, 0.039542876183986664, 0.06848160177469254, 0.01592010259628296, 0.0], [0.6664933562278748, 0.06095919385552406, 0.04064353555440903, 0.06804479658603668, 0.09186356514692307, 0.0719955638051033]], [[1.0, 0.0, 0.0, 0.0, 0.0, 0.0], [0.9682656526565552, 0.03173442557454109, 0.0, 0.0, 0.0, 0.0], [0.7385218739509583, 0.2285684049129486, 0.032909661531448364, 0.0, 0.0, 0.0], [0.5946672558784485, 0.23033154010772705, 0.1486765444278717, 0.026324644684791565, 0.0, 0.0], [0.6339259147644043, 0.05813009291887283, 0.09654296934604645, 0.1429193764925003, 0.06848166137933731, 0.0], [0.40375733375549316, 0.0894535630941391, 0.07635077834129333, 0.25587043166160583, 0.14330393075942993, 0.03126387298107147]], [[1.0, 0.0, 0.0, 0.0, 0.0, 0.0], [0.9869793653488159, 0.013020612299442291, 0.0, 0.0, 0.0, 0.0], [0.863138735294342, 0.11056644469499588, 0.026294855400919914, 0.0, 0.0, 0.0], [0.9488077759742737, 0.02861505188047886, 0.006535578519105911, 0.01604156754910946, 0.0, 0.0], [0.9672170877456665, 0.00660500256344676, 0.000451717060059309, 0.00484442850574851, 0.020881790667772293, 0.0], [0.9354623556137085, 0.020478004589676857, 0.001170022296719253, 0.0070569380186498165, 0.016318127512931824, 0.01951460912823677]], [[1.0, 0.0, 0.0, 0.0, 0.0, 0.0], [0.9846673011779785, 0.015332723967730999, 0.0, 0.0, 0.0, 0.0], [0.9052750468254089, 0.08373577147722244, 0.010989219881594181, 0.0, 0.0, 0.0], [0.814594030380249, 0.04283740371465683, 0.10568289458751678, 0.036885686218738556, 0.0, 0.0], [0.23519720137119293, 0.012018431909382343, 0.052801091223955154, 0.6516191959381104, 0.04836409166455269, 0.0], [0.3181873559951782, 0.01863233558833599, 0.03948170691728592, 0.37555375695228577, 0.2078721970319748, 0.040272682905197144]], [[1.0, 0.0, 0.0, 0.0, 0.0, 0.0], [0.9811733365058899, 0.018826717510819435, 0.0, 0.0, 0.0, 0.0], [0.8618941307067871, 0.0647914782166481, 0.0733143761754036, 0.0, 0.0, 0.0], [0.7664541006088257, 0.0733042061328888, 0.1035352423787117, 0.05670648068189621, 0.0, 0.0], [0.812849760055542, 0.032154861837625504, 0.059005606919527054, 0.05416528508067131, 0.041824452579021454, 0.0], [0.8687863945960999, 0.02698773704469204, 0.02046991139650345, 0.01629730686545372, 0.032183703035116196, 0.03527507930994034]], [[1.0, 0.0, 0.0, 0.0, 0.0, 0.0], [0.9264582395553589, 0.07354176044464111, 0.0, 0.0, 0.0, 0.0], [0.8403536677360535, 0.06373763084411621, 0.09590867906808853, 0.0, 0.0, 0.0], [0.7330994009971619, 0.06451122462749481, 0.10380087792873383, 0.09858854860067368, 0.0, 0.0], [0.9143611788749695, 0.00825779139995575, 0.007320405449718237, 0.017966296523809433, 0.05209442973136902, 0.0], [0.8971914052963257, 0.008555497974157333, 0.007019452750682831, 0.014860563911497593, 0.033997680991888046, 0.0383753627538681]], [[1.0, 0.0, 0.0, 0.0, 0.0, 0.0], [0.9180346727371216, 0.08196533471345901, 0.0, 0.0, 0.0, 0.0], [0.8328662514686584, 0.12199050188064575, 0.04514326900243759, 0.0, 0.0, 0.0], [0.7994154691696167, 0.08744151145219803, 0.03605785593390465, 0.0770852193236351, 0.0, 0.0], [0.8809850811958313, 0.02074962481856346, 0.020554568618535995, 0.01712079346179962, 0.060589827597141266, 0.0], [0.7453038692474365, 0.044334013015031815, 0.0225492212921381, 0.03315272554755211, 0.03357044979929924, 0.12108976393938065]], [[1.0, 0.0, 0.0, 0.0, 0.0, 0.0], [0.9867060780525208, 0.013293899595737457, 0.0, 0.0, 0.0, 0.0], [0.982177734375, 0.012414101511240005, 0.005408096127212048, 0.0, 0.0, 0.0], [0.9630486369132996, 0.015290781855583191, 0.010345703922212124, 0.011314942501485348, 0.0, 0.0], [0.9213569760322571, 0.014132505282759666, 0.017639201134443283, 0.016567667946219444, 0.03030373528599739, 0.0], [0.9373326301574707, 0.009064307436347008, 0.007548361551016569, 0.006576443091034889, 0.011827628128230572, 0.027650395408272743]]], [[[1.0, 0.0, 0.0, 0.0, 0.0, 0.0], [0.9951004385948181, 0.004899634979665279, 0.0, 0.0, 0.0, 0.0], [0.9476008415222168, 0.04140787944197655, 0.010991265997290611, 0.0, 0.0, 0.0], [0.9142175316810608, 0.02352379448711872, 0.03914506360888481, 0.02311364933848381, 0.0, 0.0], [0.9534734487533569, 0.008932997472584248, 0.015272882767021656, 0.00790832657366991, 0.014412370510399342, 0.0], [0.9427105188369751, 0.008233043365180492, 0.004650980234146118, 0.004178098868578672, 0.005463507957756519, 0.03476397693157196]], [[1.0, 0.0, 0.0, 0.0, 0.0, 0.0], [0.9543376564979553, 0.045662373304367065, 0.0, 0.0, 0.0, 0.0], [0.9696040749549866, 0.019547605887055397, 0.010848315432667732, 0.0, 0.0, 0.0], [0.9710449576377869, 0.012425404042005539, 0.008068892173469067, 0.00846072006970644, 0.0, 0.0], [0.9726192951202393, 0.0026976573280990124, 0.0004483137163333595, 0.0013814778067171574, 0.0228531863540411, 0.0], [0.9675466418266296, 0.009613418020308018, 0.0032030262518674135, 0.004248831421136856, 0.007442242931574583, 0.00794588215649128]], [[1.0, 0.0, 0.0, 0.0, 0.0, 0.0], [0.9887008666992188, 0.011299137957394123, 0.0, 0.0, 0.0, 0.0], [0.9382632374763489, 0.04204237088561058, 0.01969439722597599, 0.0, 0.0, 0.0], [0.8351992964744568, 0.03487858921289444, 0.05134483054280281, 0.07857727259397507, 0.0, 0.0], [0.9042677283287048, 0.010541580617427826, 0.016426725313067436, 0.025921951979398727, 0.04284194856882095, 0.0], [0.8913140296936035, 0.008912655524909496, 0.005010697059333324, 0.008175604976713657, 0.01351469662040472, 0.07307226955890656]], [[1.0, 0.0, 0.0, 0.0, 0.0, 0.0], [0.8693912029266357, 0.13060875236988068, 0.0, 0.0, 0.0, 0.0], [0.35079866647720337, 0.6063522696495056, 0.042849101126194, 0.0, 0.0, 0.0], [0.3547576069831848, 0.35020169615745544, 0.24722355604171753, 0.04781724885106087, 0.0, 0.0], [0.35370713472366333, 0.035277336835861206, 0.09567102789878845, 0.4497959017753601, 0.06554868817329407, 0.0], [0.4132586717605591, 0.09055551886558533, 0.05286578834056854, 0.17467999458312988, 0.1738487184047699, 0.09479133039712906]], [[1.0, 0.0, 0.0, 0.0, 0.0, 0.0], [0.9629756212234497, 0.0370243564248085, 0.0, 0.0, 0.0, 0.0], [0.9756426811218262, 0.019658589735627174, 0.004698721691966057, 0.0, 0.0, 0.0], [0.9775736331939697, 0.013286286033689976, 0.0025590427685528994, 0.006581075489521027, 0.0, 0.0], [0.9870141744613647, 0.007388271391391754, 0.0009579231846146286, 0.0018318331567570567, 0.0028077661991119385, 0.0], [0.9409247040748596, 0.016633691266179085, 0.002297908067703247, 0.005890644155442715, 0.005512923002243042, 0.028740182518959045]], [[1.0, 0.0, 0.0, 0.0, 0.0, 0.0], [0.9628270864486694, 0.037172842770814896, 0.0, 0.0, 0.0, 0.0], [0.9582237601280212, 0.0246418584138155, 0.017134418711066246, 0.0, 0.0, 0.0], [0.9351301193237305, 0.015331575646996498, 0.014810962602496147, 0.034727420657873154, 0.0, 0.0], [0.9225173592567444, 0.010528759099543095, 0.011010156944394112, 0.01944001391530037, 0.03650376573204994, 0.0], [0.8420169353485107, 0.04357187822461128, 0.007488256320357323, 0.014961502514779568, 0.023852793499827385, 0.06810855120420456]], [[1.0, 0.0, 0.0, 0.0, 0.0, 0.0], [0.9926387071609497, 0.007361318916082382, 0.0, 0.0, 0.0, 0.0], [0.9957393407821655, 0.003346983576193452, 0.0009136915905401111, 0.0, 0.0, 0.0], [0.9869900345802307, 0.001974785001948476, 0.0015245546819642186, 0.009510691277682781, 0.0, 0.0], [0.9933527708053589, 0.0010203277925029397, 0.0003433742094784975, 0.0010291151702404022, 0.004254395607858896, 0.0], [0.9749016761779785, 0.00043480106978677213, 0.00043065487989224494, 0.0012364371214061975, 0.0015347721055150032, 0.021461615338921547]], [[1.0, 0.0, 0.0, 0.0, 0.0, 0.0], [0.9897475242614746, 0.010252452455461025, 0.0, 0.0, 0.0, 0.0], [0.9790639281272888, 0.0165090411901474, 0.004427103791385889, 0.0, 0.0, 0.0], [0.9521434903144836, 0.02943234145641327, 0.00894317775964737, 0.009480922482907772, 0.0, 0.0], [0.9395942091941833, 0.021510882303118706, 0.010278544388711452, 0.004555218853056431, 0.024061087518930435, 0.0], [0.9205074310302734, 0.016153650358319283, 0.010818619281053543, 0.016644416376948357, 0.014566431753337383, 0.021309472620487213]], [[1.0, 0.0, 0.0, 0.0, 0.0, 0.0], [0.9898502826690674, 0.010149767622351646, 0.0, 0.0, 0.0, 0.0], [0.9820910096168518, 0.006907524075359106, 0.011001519858837128, 0.0, 0.0, 0.0], [0.9684997200965881, 0.0089876102283597, 0.015342594124376774, 0.007170107681304216, 0.0, 0.0], [0.9274120330810547, 0.009485266171395779, 0.02206614799797535, 0.032228872179985046, 0.008807661011815071, 0.0], [0.9006660580635071, 0.021623726934194565, 0.013808242976665497, 0.00984384398907423, 0.008521358482539654, 0.04553684964776039]], [[1.0, 0.0, 0.0, 0.0, 0.0, 0.0], [0.9954444169998169, 0.004555594641715288, 0.0, 0.0, 0.0, 0.0], [0.995254397392273, 0.002460234332829714, 0.0022854814305901527, 0.0, 0.0, 0.0], [0.9862446188926697, 0.0015168151585385203, 0.0040722922421991825, 0.008166349492967129, 0.0, 0.0], [0.9889962673187256, 0.0012260463554412127, 0.0007996400818228722, 0.0006774258799850941, 0.008300593122839928, 0.0], [0.9865202903747559, 0.0003942710463888943, 0.0009571771952323616, 0.0004954362520948052, 0.0009604956139810383, 0.010672265663743019]], [[1.0, 0.0, 0.0, 0.0, 0.0, 0.0], [0.9821295142173767, 0.017870483919978142, 0.0, 0.0, 0.0, 0.0], [0.7489438652992249, 0.22002694010734558, 0.03102920763194561, 0.0, 0.0, 0.0], [0.28547871112823486, 0.21125629544258118, 0.4787156581878662, 0.024549327790737152, 0.0, 0.0], [0.8056636452674866, 0.026974579319357872, 0.04302816465497017, 0.06993761658668518, 0.05439596623182297, 0.0], [0.33072158694267273, 0.02232649177312851, 0.01662701740860939, 0.08019447326660156, 0.41574782133102417, 0.13438254594802856]], [[1.0, 0.0, 0.0, 0.0, 0.0, 0.0], [0.9697746634483337, 0.03022528998553753, 0.0, 0.0, 0.0, 0.0], [0.9800565838813782, 0.015018886886537075, 0.004924531560391188, 0.0, 0.0, 0.0], [0.9237862229347229, 0.05276470258831978, 0.006302402354776859, 0.017146728932857513, 0.0, 0.0], [0.9451842904090881, 0.036180492490530014, 0.0019892146810889244, 0.003958729561418295, 0.0126873217523098, 0.0], [0.9633325934410095, 0.018662991002202034, 0.0030418462119996548, 0.007070919498801231, 0.0050094276666641235, 0.002882068045437336]]], [[[1.0, 0.0, 0.0, 0.0, 0.0, 0.0], [0.987324595451355, 0.012675454840064049, 0.0, 0.0, 0.0, 0.0], [0.9904569983482361, 0.005541946738958359, 0.00400111498311162, 0.0, 0.0, 0.0], [0.9814971685409546, 0.004653459880501032, 0.003725278889760375, 0.010124045424163342, 0.0, 0.0], [0.9744364619255066, 0.004632262047380209, 0.002379997167736292, 0.0065180836245417595, 0.012033039703965187, 0.0], [0.962449848651886, 0.0033743497915565968, 0.0013198532396927476, 0.0017274923156946898, 0.0029446734115481377, 0.02818375453352928]], [[1.0, 0.0, 0.0, 0.0, 0.0, 0.0], [0.9807673692703247, 0.019232643768191338, 0.0, 0.0, 0.0, 0.0], [0.9664245843887329, 0.015413948334753513, 0.018161429092288017, 0.0, 0.0, 0.0], [0.9632683396339417, 0.0045381267555058, 0.0029253889806568623, 0.029268156737089157, 0.0, 0.0], [0.9562349915504456, 0.0012223637895658612, 0.0005304078222252429, 0.008671474643051624, 0.03334079682826996, 0.0], [0.9657101035118103, 0.0009808293543756008, 0.0016686235321685672, 0.002634828444570303, 0.005866356194019318, 0.023139307275414467]], [[1.0, 0.0, 0.0, 0.0, 0.0, 0.0], [0.9639714956283569, 0.036028482019901276, 0.0, 0.0, 0.0, 0.0], [0.9562800526618958, 0.03373313695192337, 0.009986838325858116, 0.0, 0.0, 0.0], [0.853999674320221, 0.08073029667139053, 0.03334450721740723, 0.03192552179098129, 0.0, 0.0], [0.9547489881515503, 0.009605048224329948, 0.004146174527704716, 0.0020133245270699263, 0.02948645129799843, 0.0], [0.933113694190979, 0.028699694201350212, 0.005477478262037039, 0.006368071772158146, 0.012613082304596901, 0.01372809149324894]], [[1.0, 0.0, 0.0, 0.0, 0.0, 0.0], [0.9392993450164795, 0.06070064753293991, 0.0, 0.0, 0.0, 0.0], [0.929839015007019, 0.061895474791526794, 0.008265514858067036, 0.0, 0.0, 0.0], [0.8471820950508118, 0.09035061299800873, 0.01763615757226944, 0.04483114555478096, 0.0, 0.0], [0.8857700228691101, 0.03918186202645302, 0.007867734879255295, 0.02276589162647724, 0.044414542615413666, 0.0], [0.8563281893730164, 0.10088979452848434, 0.006531456485390663, 0.008485918864607811, 0.007368456572294235, 0.02039625309407711]], [[1.0, 0.0, 0.0, 0.0, 0.0, 0.0], [0.8353262543678284, 0.16467368602752686, 0.0, 0.0, 0.0, 0.0], [0.6160860061645508, 0.3137648403644562, 0.07014915347099304, 0.0, 0.0, 0.0], [0.34316328167915344, 0.2758496403694153, 0.11966029554605484, 0.26132670044898987, 0.0, 0.0], [0.5908163189888, 0.05029091611504555, 0.04166606068611145, 0.21994976699352264, 0.097276970744133, 0.0], [0.8481417894363403, 0.06318076699972153, 0.014733624644577503, 0.05526724457740784, 0.009014982730150223, 0.009661629796028137]], [[1.0, 0.0, 0.0, 0.0, 0.0, 0.0], [0.9627320766448975, 0.03726796805858612, 0.0, 0.0, 0.0, 0.0], [0.7757525444030762, 0.17996244132518768, 0.044284969568252563, 0.0, 0.0, 0.0], [0.6317057609558105, 0.24380731582641602, 0.10925661027431488, 0.015230287797749043, 0.0, 0.0], [0.9539909958839417, 0.01818227395415306, 0.011601822450757027, 0.012299099937081337, 0.003925768658518791, 0.0], [0.4035700857639313, 0.1423753947019577, 0.05661207064986229, 0.19757357239723206, 0.09299185872077942, 0.10687700659036636]], [[1.0, 0.0, 0.0, 0.0, 0.0, 0.0], [0.9802618026733398, 0.01973814144730568, 0.0, 0.0, 0.0, 0.0], [0.9873908162117004, 0.007800452411174774, 0.004808681085705757, 0.0, 0.0, 0.0], [0.9283919334411621, 0.008301244117319584, 0.013305652886629105, 0.050001174211502075, 0.0, 0.0], [0.8981053233146667, 0.01559136901050806, 0.010177613236010075, 0.039987094700336456, 0.036138664931058884, 0.0], [0.975350022315979, 0.0003543298807926476, 0.000586602371186018, 0.0011877468787133694, 0.0010750875808298588, 0.021446365863084793]], [[1.0, 0.0, 0.0, 0.0, 0.0, 0.0], [0.9295330047607422, 0.0704670250415802, 0.0, 0.0, 0.0, 0.0], [0.9361505508422852, 0.04116692394018173, 0.022682568058371544, 0.0, 0.0, 0.0], [0.8486821055412292, 0.05802803859114647, 0.024856189265847206, 0.0684337243437767, 0.0, 0.0], [0.8661178946495056, 0.02232474647462368, 0.010369163006544113, 0.02600198984146118, 0.07518628239631653, 0.0], [0.8074422478675842, 0.04438253492116928, 0.018497100099921227, 0.03357789292931557, 0.018561240285634995, 0.07753897458314896]], [[1.0, 0.0, 0.0, 0.0, 0.0, 0.0], [0.9680536389350891, 0.03194637969136238, 0.0, 0.0, 0.0, 0.0], [0.9693689942359924, 0.025684911757707596, 0.004946073051542044, 0.0, 0.0, 0.0], [0.9620568156242371, 0.02255242131650448, 0.005471329670399427, 0.009919446893036366, 0.0, 0.0], [0.9727528095245361, 0.010137123987078667, 0.0007573281181976199, 0.0028828938957303762, 0.013469832949340343, 0.0], [0.9624637365341187, 0.0031108956318348646, 0.0010007566306740046, 0.001947588985785842, 0.008266217075288296, 0.023210830986499786]], [[1.0, 0.0, 0.0, 0.0, 0.0, 0.0], [0.8542503118515015, 0.14574967324733734, 0.0, 0.0, 0.0, 0.0], [0.9725967645645142, 0.014116301201283932, 0.013286850415170193, 0.0, 0.0, 0.0], [0.925762414932251, 0.03257258981466293, 0.014612067490816116, 0.027053024619817734, 0.0, 0.0], [0.792343258857727, 0.027305010706186295, 0.018806690350174904, 0.13854101300239563, 0.0230039544403553, 0.0], [0.6152051091194153, 0.026655320078134537, 0.029353082180023193, 0.05590897426009178, 0.11611281335353851, 0.1567647010087967]], [[1.0, 0.0, 0.0, 0.0, 0.0, 0.0], [0.9804654121398926, 0.019534561783075333, 0.0, 0.0, 0.0, 0.0], [0.9882452487945557, 0.0075094737112522125, 0.004245338030159473, 0.0, 0.0, 0.0], [0.9584206342697144, 0.010963569395244122, 0.010456085205078125, 0.02015971578657627, 0.0, 0.0], [0.9604811668395996, 0.007182627450674772, 0.0030723437666893005, 0.006898913532495499, 0.022365091368556023, 0.0], [0.966888964176178, 0.003281285986304283, 0.00550053408369422, 0.004234079271554947, 0.005038041155785322, 0.01505716796964407]], [[1.0, 0.0, 0.0, 0.0, 0.0, 0.0], [0.9498193860054016, 0.05018061399459839, 0.0, 0.0, 0.0, 0.0], [0.9781363606452942, 0.016430014744400978, 0.005433553829789162, 0.0, 0.0, 0.0], [0.8618696928024292, 0.036093614995479584, 0.07555557787418365, 0.026481185108423233, 0.0, 0.0], [0.5449838042259216, 0.015411172062158585, 0.02351655624806881, 0.2574363648891449, 0.15865212678909302, 0.0], [0.9571873545646667, 0.0030803836416453123, 0.0014446867862716317, 0.006861567962914705, 0.014818796887993813, 0.016607260331511497]]], [[[1.0, 0.0, 0.0, 0.0, 0.0, 0.0], [0.6156559586524963, 0.38434407114982605, 0.0, 0.0, 0.0, 0.0], [0.36760640144348145, 0.42816370725631714, 0.2042299062013626, 0.0, 0.0, 0.0], [0.16471561789512634, 0.41367918252944946, 0.2509235739707947, 0.17068161070346832, 0.0, 0.0], [0.41844597458839417, 0.15247611701488495, 0.103053979575634, 0.11071508377790451, 0.21530891954898834, 0.0], [0.19686944782733917, 0.2014620304107666, 0.12827251851558685, 0.09203251451253891, 0.09167565405368805, 0.2896878123283386]], [[1.0, 0.0, 0.0, 0.0, 0.0, 0.0], [0.9027365446090698, 0.09726344794034958, 0.0, 0.0, 0.0, 0.0], [0.9736634492874146, 0.014004289172589779, 0.01233229786157608, 0.0, 0.0, 0.0], [0.8504456281661987, 0.05690573528409004, 0.0320608951151371, 0.06058765575289726, 0.0, 0.0], [0.7661212682723999, 0.03530392423272133, 0.034330423921346664, 0.09675194323062897, 0.06749241054058075, 0.0], [0.8650375008583069, 0.020085245370864868, 0.011498057283461094, 0.01855834759771824, 0.018430309370160103, 0.0663905069231987]], [[1.0, 0.0, 0.0, 0.0, 0.0, 0.0], [0.9653082489967346, 0.03469172492623329, 0.0, 0.0, 0.0, 0.0], [0.9816323518753052, 0.014176085591316223, 0.004191522020846605, 0.0, 0.0, 0.0], [0.9275254607200623, 0.04737222194671631, 0.011528272181749344, 0.013573983684182167, 0.0, 0.0], [0.9293117523193359, 0.02583332546055317, 0.0072271269746124744, 0.014300626702606678, 0.023327292874455452, 0.0], [0.8895062804222107, 0.04689617455005646, 0.004717112984508276, 0.006286591291427612, 0.006090148817747831, 0.046503711491823196]], [[1.0, 0.0, 0.0, 0.0, 0.0, 0.0], [0.8938026428222656, 0.10619732737541199, 0.0, 0.0, 0.0, 0.0], [0.8221707344055176, 0.06304489821195602, 0.11478440463542938, 0.0, 0.0, 0.0], [0.5047377347946167, 0.15375754237174988, 0.22770385444164276, 0.11380089074373245, 0.0, 0.0], [0.408207505941391, 0.09066356718540192, 0.11696861684322357, 0.24553203582763672, 0.1386282742023468, 0.0], [0.7291042804718018, 0.066388800740242, 0.023112773895263672, 0.031103070825338364, 0.057143133133649826, 0.09314797073602676]], [[1.0, 0.0, 0.0, 0.0, 0.0, 0.0], [0.9247532486915588, 0.07524671405553818, 0.0, 0.0, 0.0, 0.0], [0.8957376480102539, 0.06989558041095734, 0.034366779029369354, 0.0, 0.0, 0.0], [0.7924939393997192, 0.0960114598274231, 0.05509115755558014, 0.05640348419547081, 0.0, 0.0], [0.7891508340835571, 0.07880301028490067, 0.03840154409408569, 0.05396975204348564, 0.03967493027448654, 0.0], [0.780785858631134, 0.07993538677692413, 0.04253173619508743, 0.03234212473034859, 0.017816945910453796, 0.04658801481127739]], [[1.0, 0.0, 0.0, 0.0, 0.0, 0.0], [0.9480886459350586, 0.05191135033965111, 0.0, 0.0, 0.0, 0.0], [0.8636949062347412, 0.04756208136677742, 0.08874306827783585, 0.0, 0.0, 0.0], [0.9341371059417725, 0.02222408726811409, 0.02262447215616703, 0.021014338359236717, 0.0, 0.0], [0.9588144421577454, 0.00802090298384428, 0.004490075167268515, 0.005862294230610132, 0.0228123776614666, 0.0], [0.9385918378829956, 0.02122771367430687, 0.004872466903179884, 0.010940168052911758, 0.009524591267108917, 0.014843414537608624]], [[1.0, 0.0, 0.0, 0.0, 0.0, 0.0], [0.9763734340667725, 0.023626582697033882, 0.0, 0.0, 0.0, 0.0], [0.9884802103042603, 0.005189398769289255, 0.006330376956611872, 0.0, 0.0, 0.0], [0.9477092027664185, 0.017985161393880844, 0.010156610049307346, 0.02414901927113533, 0.0, 0.0], [0.967192530632019, 0.006552813574671745, 0.0033227845560759306, 0.00556332478299737, 0.017368387430906296, 0.0], [0.9584562182426453, 0.007502947002649307, 0.005136323627084494, 0.008071637712419033, 0.005997127387672663, 0.014835808426141739]], [[1.0, 0.0, 0.0, 0.0, 0.0, 0.0], [0.884070873260498, 0.11592914164066315, 0.0, 0.0, 0.0, 0.0], [0.9931254386901855, 0.005070803686976433, 0.0018038046546280384, 0.0, 0.0, 0.0], [0.9534159302711487, 0.02382904477417469, 0.007748984266072512, 0.015006089583039284, 0.0, 0.0], [0.9151288270950317, 0.010873109102249146, 0.013190999627113342, 0.011050445958971977, 0.049756646156311035, 0.0], [0.8769674301147461, 0.03385206311941147, 0.008486478589475155, 0.009969150647521019, 0.03468579798936844, 0.03603912517428398]], [[1.0, 0.0, 0.0, 0.0, 0.0, 0.0], [0.00037095125298947096, 0.999629020690918, 0.0, 0.0, 0.0, 0.0], [6.52503440505825e-05, 0.3737829029560089, 0.6261518597602844, 0.0, 0.0, 0.0], [4.606043148669414e-05, 0.21050876379013062, 0.41159671545028687, 0.37784847617149353, 0.0, 0.0], [4.7530887968605384e-05, 0.11616974323987961, 0.23264279961585999, 0.3985332250595093, 0.25260674953460693, 0.0], [1.247643581336888e-06, 0.14819703996181488, 0.15813179314136505, 0.30074378848075867, 0.11939027160406113, 0.2735357880592346]], [[1.0, 0.0, 0.0, 0.0, 0.0, 0.0], [0.971555769443512, 0.02844417281448841, 0.0, 0.0, 0.0, 0.0], [0.9529065489768982, 0.032330743968486786, 0.014762775972485542, 0.0, 0.0, 0.0], [0.9343128204345703, 0.02351297065615654, 0.020498069003224373, 0.02167624421417713, 0.0, 0.0], [0.9529677033424377, 0.008551422506570816, 0.004359331447631121, 0.008064559660851955, 0.026056941598653793, 0.0], [0.9653593897819519, 0.008487631566822529, 0.0034992785658687353, 0.002721573691815138, 0.003282879013568163, 0.016649343073368073]], [[1.0, 0.0, 0.0, 0.0, 0.0, 0.0], [0.8630780577659607, 0.13692191243171692, 0.0, 0.0, 0.0, 0.0], [0.7696157693862915, 0.08513335138559341, 0.1452508419752121, 0.0, 0.0, 0.0], [0.7133336067199707, 0.10170900821685791, 0.11931277066469193, 0.06564458459615707, 0.0, 0.0], [0.7186216711997986, 0.05444304645061493, 0.01386819127947092, 0.0780804231762886, 0.13498668372631073, 0.0], [0.7990152835845947, 0.05805584415793419, 0.009447006508708, 0.01777043752372265, 0.021138539537787437, 0.09457292407751083]], [[1.0, 0.0, 0.0, 0.0, 0.0, 0.0], [0.9518988728523254, 0.04810108244419098, 0.0, 0.0, 0.0, 0.0], [0.8580654263496399, 0.029445741325616837, 0.11248882114887238, 0.0, 0.0, 0.0], [0.6577739119529724, 0.08513443917036057, 0.12613078951835632, 0.13096082210540771, 0.0, 0.0], [0.8087369799613953, 0.032301630824804306, 0.018418163061141968, 0.06856144219636917, 0.07198183238506317, 0.0], [0.6683300733566284, 0.13281364738941193, 0.02188059873878956, 0.027877409011125565, 0.049234092235565186, 0.09986424446105957]]]], \"left_text\": [\"No\", \",\", \" I\", \" am\", \" your\", \" father\"], \"right_text\": [\"No\", \",\", \" I\", \" am\", \" your\", \" father\"]}], \"default_filter\": \"0\", \"display_mode\": \"dark\", \"root_div_id\": \"bertviz-03bc481939a04e91b577b401d9c92302\", \"include_layers\": [0, 1, 2, 3, 4, 5, 6, 7, 8, 9, 10, 11], \"include_heads\": [0, 1, 2, 3, 4, 5, 6, 7, 8, 9, 10, 11], \"total_heads\": 12}; // HACK: {\"attention\": [{\"name\": null, \"attn\": [[[[1.0, 0.0, 0.0, 0.0, 0.0, 0.0], [0.961219847202301, 0.038780149072408676, 0.0, 0.0, 0.0, 0.0], [0.7466980218887329, 0.11987310647964478, 0.1334289014339447, 0.0, 0.0, 0.0], [0.5885030031204224, 0.13792069256305695, 0.21213731169700623, 0.06143898516893387, 0.0, 0.0], [0.657085657119751, 0.08996297419071198, 0.1275128275156021, 0.08361561596393585, 0.04182284325361252, 0.0], [0.272887259721756, 0.11203359812498093, 0.1663985252380371, 0.08467116951942444, 0.16952726244926453, 0.19448213279247284]], [[1.0, 0.0, 0.0, 0.0, 0.0, 0.0], [0.010616553947329521, 0.9893833994865417, 0.0, 0.0, 0.0, 0.0], [0.002467755926772952, 0.008448011241853237, 0.9890841841697693, 0.0, 0.0, 0.0], [0.00012328448065090925, 0.001873313682153821, 0.013126945123076439, 0.9848763942718506, 0.0, 0.0], [0.0010669530602172017, 0.0011366248363628983, 0.0030349851585924625, 0.0015735042979940772, 0.9931879043579102, 0.0], [0.00019791982776951045, 0.0010528112761676311, 0.0015437351539731026, 0.0009642747463658452, 3.49243673554156e-05, 0.9962062835693359]], [[1.0, 0.0, 0.0, 0.0, 0.0, 0.0], [0.4757843017578125, 0.5242156386375427, 0.0, 0.0, 0.0, 0.0], [0.5906046032905579, 0.2486610859632492, 0.1607343554496765, 0.0, 0.0, 0.0], [0.5529289841651917, 0.18856704235076904, 0.14457567036151886, 0.11392829567193985, 0.0, 0.0], [0.4509407877922058, 0.16486789286136627, 0.17318040132522583, 0.11748013645410538, 0.09353077411651611, 0.0], [0.425724595785141, 0.17328648269176483, 0.15651948750019073, 0.07022645324468613, 0.080870121717453, 0.09337273985147476]], [[1.0, 0.0, 0.0, 0.0, 0.0, 0.0], [0.6133621335029602, 0.3866378664970398, 0.0, 0.0, 0.0, 0.0], [0.060985080897808075, 0.03253461420536041, 0.9064803123474121, 0.0, 0.0, 0.0], [0.006717076525092125, 0.00040128835826180875, 0.7572958469390869, 0.23558573424816132, 0.0, 0.0], [0.03722768649458885, 0.002948854584246874, 0.10081078857183456, 0.04142271354794502, 0.8175899982452393, 0.0], [0.0498976930975914, 0.00030758281354792416, 0.0024198235478252172, 0.003433493198826909, 0.0006823905860073864, 0.9432590007781982]], [[1.0, 0.0, 0.0, 0.0, 0.0, 0.0], [0.9489555954933167, 0.05104443058371544, 0.0, 0.0, 0.0, 0.0], [0.6821409463882446, 0.13952413201332092, 0.17833486199378967, 0.0, 0.0, 0.0], [0.20366328954696655, 0.05641485005617142, 0.06399296224117279, 0.6759289503097534, 0.0, 0.0], [0.34195470809936523, 0.06725442409515381, 0.0792618840932846, 0.17836196720600128, 0.3331669867038727, 0.0], [0.09464015811681747, 0.007428206969052553, 0.006983966566622257, 0.007184373214840889, 0.01872425526380539, 0.865039050579071]], [[1.0, 0.0, 0.0, 0.0, 0.0, 0.0], [0.33834606409072876, 0.6616539359092712, 0.0, 0.0, 0.0, 0.0], [0.07855980098247528, 0.006165443919599056, 0.9152747988700867, 0.0, 0.0, 0.0], [0.01677597686648369, 0.0004037702165078372, 0.0033404589630663395, 0.9794798493385315, 0.0, 0.0], [0.027600426226854324, 0.0004441527707967907, 0.0006541680195368826, 0.0002266185765620321, 0.971074640750885, 0.0], [0.010248193517327309, 3.70155721611809e-05, 0.00016064071678556502, 2.734187182795722e-05, 1.0187313819187693e-05, 0.98951655626297]], [[1.0, 0.0, 0.0, 0.0, 0.0, 0.0], [0.982503354549408, 0.017496665939688683, 0.0, 0.0, 0.0, 0.0], [0.8874197006225586, 0.05467937886714935, 0.05790088325738907, 0.0, 0.0, 0.0], [0.6849910020828247, 0.12280681729316711, 0.04972028359770775, 0.14248189330101013, 0.0, 0.0], [0.601585328578949, 0.09881895035505295, 0.07070115953683853, 0.16652552783489227, 0.06236904487013817, 0.0], [0.32325056195259094, 0.12567415833473206, 0.04432179778814316, 0.0707697868347168, 0.06606655567884445, 0.3699171245098114]], [[1.0, 0.0, 0.0, 0.0, 0.0, 0.0], [0.9191646575927734, 0.08083535730838776, 0.0, 0.0, 0.0, 0.0], [0.45986419916152954, 0.3970310091972351, 0.14310479164123535, 0.0, 0.0, 0.0], [0.3003872334957123, 0.22181729972362518, 0.38161537051200867, 0.09618016332387924, 0.0, 0.0], [0.1896393597126007, 0.13763722777366638, 0.20173484086990356, 0.23632164299488068, 0.23466689884662628, 0.0], [0.1541045904159546, 0.09489500522613525, 0.11902559548616409, 0.10277960449457169, 0.43172192573547363, 0.09747329354286194]], [[1.0, 0.0, 0.0, 0.0, 0.0, 0.0], [0.3649998903274536, 0.6350001096725464, 0.0, 0.0, 0.0, 0.0], [0.24595215916633606, 0.5519201755523682, 0.20212766528129578, 0.0, 0.0, 0.0], [0.27213579416275024, 0.40738630294799805, 0.25186213850975037, 0.06861573457717896, 0.0, 0.0], [0.1024254709482193, 0.16683605313301086, 0.5248051881790161, 0.05445460230112076, 0.15147872269153595, 0.0], [0.2502949833869934, 0.22198131680488586, 0.18899975717067719, 0.10677111893892288, 0.1303267925977707, 0.10162601619958878]], [[1.0, 0.0, 0.0, 0.0, 0.0, 0.0], [0.6990506649017334, 0.300949364900589, 0.0, 0.0, 0.0, 0.0], [0.5107942819595337, 0.2948642373085022, 0.1943414956331253, 0.0, 0.0, 0.0], [0.46047067642211914, 0.28051915764808655, 0.19174796342849731, 0.06726215779781342, 0.0, 0.0], [0.3764842748641968, 0.21120665967464447, 0.20214535295963287, 0.10207019001245499, 0.10809348523616791, 0.0], [0.30138447880744934, 0.20456178486347198, 0.18250331282615662, 0.11019379645586014, 0.16291271150112152, 0.03844383731484413]], [[1.0, 0.0, 0.0, 0.0, 0.0, 0.0], [0.7131583094596863, 0.2868416905403137, 0.0, 0.0, 0.0, 0.0], [0.4058799147605896, 0.18063293397426605, 0.41348710656166077, 0.0, 0.0, 0.0], [0.265546053647995, 0.16985860466957092, 0.33585938811302185, 0.22873589396476746, 0.0, 0.0], [0.3138540983200073, 0.1831670105457306, 0.14928355813026428, 0.053776707500219345, 0.29991868138313293, 0.0], [0.20466552674770355, 0.18731117248535156, 0.15959148108959198, 0.06381773203611374, 0.03642304614186287, 0.34819111227989197]], [[1.0, 0.0, 0.0, 0.0, 0.0, 0.0], [0.6586242318153381, 0.34137579798698425, 0.0, 0.0, 0.0, 0.0], [0.5917777419090271, 0.3160035312175751, 0.0922187939286232, 0.0, 0.0, 0.0], [0.5477152466773987, 0.23586949706077576, 0.06145597621798515, 0.1549593061208725, 0.0, 0.0], [0.4587060511112213, 0.22439999878406525, 0.07887423038482666, 0.0992034450173378, 0.13881629705429077, 0.0], [0.32743728160858154, 0.19600822031497955, 0.06805708259344101, 0.0892510712146759, 0.11618075519800186, 0.20306557416915894]]], [[[1.0, 0.0, 0.0, 0.0, 0.0, 0.0], [0.9961552023887634, 0.0038448371924459934, 0.0, 0.0, 0.0, 0.0], [0.8594855070114136, 0.06906107068061829, 0.07145338505506516, 0.0, 0.0, 0.0], [0.38000547885894775, 0.04127562418580055, 0.5496610999107361, 0.029057776555418968, 0.0, 0.0], [0.2144521176815033, 0.05088742822408676, 0.43174421787261963, 0.25869274139404297, 0.0442233607172966, 0.0], [0.11175268888473511, 0.017593074589967728, 0.027507463470101357, 0.04086770862340927, 0.7754668593406677, 0.02681218646466732]], [[1.0, 0.0, 0.0, 0.0, 0.0, 0.0], [0.9285967946052551, 0.07140322029590607, 0.0, 0.0, 0.0, 0.0], [0.6077284812927246, 0.31214287877082825, 0.08012861013412476, 0.0, 0.0, 0.0], [0.4942910373210907, 0.28503695130348206, 0.11849308758974075, 0.10217895358800888, 0.0, 0.0], [0.4183880388736725, 0.23117899894714355, 0.08340618759393692, 0.11365947872400284, 0.15336735546588898, 0.0], [0.4221585988998413, 0.1291714757680893, 0.08740919083356857, 0.1016375795006752, 0.2123025357723236, 0.047320567071437836]], [[1.0, 0.0, 0.0, 0.0, 0.0, 0.0], [0.9786475896835327, 0.021352365612983704, 0.0, 0.0, 0.0, 0.0], [0.7749121785163879, 0.06510373950004578, 0.15998412668704987, 0.0, 0.0, 0.0], [0.6484924554824829, 0.07483132183551788, 0.14751601219177246, 0.12916019558906555, 0.0, 0.0], [0.5224637389183044, 0.06921813637018204, 0.13823401927947998, 0.11106595396995544, 0.15901818871498108, 0.0], [0.3964517414569855, 0.073258176445961, 0.12938149273395538, 0.10642433911561966, 0.1486400067806244, 0.14584428071975708]], [[1.0, 0.0, 0.0, 0.0, 0.0, 0.0], [0.552590548992157, 0.447409451007843, 0.0, 0.0, 0.0, 0.0], [0.5585010051727295, 0.21762590110301971, 0.2238730639219284, 0.0, 0.0, 0.0], [0.5143128633499146, 0.15964673459529877, 0.1549195945262909, 0.1711207926273346, 0.0, 0.0], [0.5039962530136108, 0.11401884257793427, 0.11974020302295685, 0.12552589178085327, 0.13671885430812836, 0.0], [0.5061843395233154, 0.08567393571138382, 0.08903013914823532, 0.09759818762540817, 0.10275726020336151, 0.11875616759061813]], [[1.0, 0.0, 0.0, 0.0, 0.0, 0.0], [0.9242545366287231, 0.07574543356895447, 0.0, 0.0, 0.0, 0.0], [0.8257425427436829, 0.07932531088590622, 0.09493210911750793, 0.0, 0.0, 0.0], [0.7306379675865173, 0.08571833372116089, 0.08043930679559708, 0.1032043844461441, 0.0, 0.0], [0.6383241415023804, 0.07886384427547455, 0.07815022021532059, 0.08758097887039185, 0.11708088219165802, 0.0], [0.5552158951759338, 0.07409120351076126, 0.06834884732961655, 0.07778597623109818, 0.09999320656061172, 0.12456493824720383]], [[1.0, 0.0, 0.0, 0.0, 0.0, 0.0], [0.8578914999961853, 0.1421085000038147, 0.0, 0.0, 0.0, 0.0], [0.6423037648200989, 0.1662902683019638, 0.19140595197677612, 0.0, 0.0, 0.0], [0.5530980229377747, 0.10609275847673416, 0.07821261882781982, 0.26259660720825195, 0.0, 0.0], [0.40121686458587646, 0.12223605066537857, 0.19347317516803741, 0.14164632558822632, 0.14142745733261108, 0.0], [0.40212583541870117, 0.1845075935125351, 0.07516807317733765, 0.05849039927124977, 0.1444634050130844, 0.13524475693702698]], [[1.0, 0.0, 0.0, 0.0, 0.0, 0.0], [0.9791558980941772, 0.020844031125307083, 0.0, 0.0, 0.0, 0.0], [0.8829842209815979, 0.062332458794116974, 0.054683297872543335, 0.0, 0.0, 0.0], [0.8105454444885254, 0.08617080748081207, 0.07321779429912567, 0.030065899714827538, 0.0, 0.0], [0.6819812655448914, 0.04990816488862038, 0.08296555280685425, 0.08369530737400055, 0.10144980251789093, 0.0], [0.4056686460971832, 0.0733765959739685, 0.08601400256156921, 0.06170933321118355, 0.1322644054889679, 0.24096693098545074]], [[1.0, 0.0, 0.0, 0.0, 0.0, 0.0], [0.9670192003250122, 0.03298087790608406, 0.0, 0.0, 0.0, 0.0], [0.8449065089225769, 0.08514498919248581, 0.06994852423667908, 0.0, 0.0, 0.0], [0.712357223033905, 0.07896047085523605, 0.05541076511144638, 0.15327154099941254, 0.0, 0.0], [0.6402611136436462, 0.07397554069757462, 0.04439307004213333, 0.14322128891944885, 0.0981488823890686, 0.0], [0.5073902606964111, 0.07523060590028763, 0.07754653692245483, 0.11362478882074356, 0.13947956264019012, 0.08672826737165451]], [[1.0, 0.0, 0.0, 0.0, 0.0, 0.0], [0.8487567901611328, 0.1512432098388672, 0.0, 0.0, 0.0, 0.0], [0.8415648341178894, 0.12107236683368683, 0.0373627245426178, 0.0, 0.0, 0.0], [0.7505518198013306, 0.11348949372768402, 0.0617995448410511, 0.07415911555290222, 0.0, 0.0], [0.6614715456962585, 0.10242652893066406, 0.052934300154447556, 0.07529734820127487, 0.10787034034729004, 0.0], [0.6014202833175659, 0.11340398341417313, 0.05631924420595169, 0.07096721976995468, 0.10906259715557098, 0.04882657900452614]], [[1.0, 0.0, 0.0, 0.0, 0.0, 0.0], [0.944548487663269, 0.055451542139053345, 0.0, 0.0, 0.0, 0.0], [0.8874567747116089, 0.05474216118454933, 0.0578010268509388, 0.0, 0.0, 0.0], [0.8281888961791992, 0.06894998252391815, 0.059034693986177444, 0.04382640868425369, 0.0, 0.0], [0.642989456653595, 0.06747537106275558, 0.11629704385995865, 0.05417947471141815, 0.11905866861343384, 0.0], [0.7367822527885437, 0.056119002401828766, 0.06857287138700485, 0.03421957045793533, 0.07875380665063858, 0.025552397593855858]], [[1.0, 0.0, 0.0, 0.0, 0.0, 0.0], [0.00029133891803212464, 0.9997085928916931, 0.0, 0.0, 0.0, 0.0], [0.0007981196977198124, 0.5288338661193848, 0.47036805748939514, 0.0, 0.0, 0.0], [0.0007648474420420825, 0.3451984226703644, 0.30852657556533813, 0.34551018476486206, 0.0, 0.0], [0.0010283151641488075, 0.24135908484458923, 0.23320138454437256, 0.25557151436805725, 0.26883968710899353, 0.0], [0.000974681053776294, 0.17789696156978607, 0.1674315184354782, 0.18587608635425568, 0.18734437227249146, 0.2804764211177826]], [[1.0, 0.0, 0.0, 0.0, 0.0, 0.0], [0.8244927525520325, 0.17550718784332275, 0.0, 0.0, 0.0, 0.0], [0.12386859208345413, 0.04449988901615143, 0.8316314816474915, 0.0, 0.0, 0.0], [0.07924358546733856, 0.01296590082347393, 0.0015277155907824636, 0.9062628149986267, 0.0, 0.0], [0.08806420117616653, 0.02134108915925026, 0.0028886175714433193, 0.002845386741682887, 0.8848607540130615, 0.0], [0.09983227401971817, 0.03363397717475891, 0.005499998107552528, 0.0024330588057637215, 0.0015082466416060925, 0.8570924401283264]]], [[[1.0, 0.0, 0.0, 0.0, 0.0, 0.0], [0.9646892547607422, 0.03531073406338692, 0.0, 0.0, 0.0, 0.0], [0.7529156804084778, 0.08733482658863068, 0.15974941849708557, 0.0, 0.0, 0.0], [0.420228511095047, 0.09195118397474289, 0.23549826443195343, 0.2523220181465149, 0.0, 0.0], [0.30848971009254456, 0.05908144637942314, 0.38391271233558655, 0.15659144520759583, 0.09192466735839844, 0.0], [0.4479040503501892, 0.04329307749867439, 0.07969176024198532, 0.11081922799348831, 0.22124609351158142, 0.09704580157995224]], [[1.0, 0.0, 0.0, 0.0, 0.0, 0.0], [0.991096019744873, 0.008904009126126766, 0.0, 0.0, 0.0, 0.0], [0.9697675704956055, 0.02608449012041092, 0.004147922620177269, 0.0, 0.0, 0.0], [0.9082902073860168, 0.03320595249533653, 0.009421144612133503, 0.049082621932029724, 0.0, 0.0], [0.8949137330055237, 0.05544532835483551, 0.005577603355050087, 0.031506773084402084, 0.012556545436382294, 0.0], [0.8497738242149353, 0.028890090063214302, 0.0036647962406277657, 0.037519872188568115, 0.03842796012759209, 0.04172345995903015]], [[1.0, 0.0, 0.0, 0.0, 0.0, 0.0], [0.9984525442123413, 0.0015474491519853473, 0.0, 0.0, 0.0, 0.0], [0.48947739601135254, 0.4812203049659729, 0.02930222637951374, 0.0, 0.0, 0.0], [0.11772172152996063, 0.13121232390403748, 0.6702309250831604, 0.08083505928516388, 0.0, 0.0], [0.13043761253356934, 0.04068687930703163, 0.26520398259162903, 0.4114348292350769, 0.1522367000579834, 0.0], [0.12661877274513245, 0.03275126963853836, 0.03567875176668167, 0.06039175018668175, 0.6021823883056641, 0.1423770636320114]], [[1.0, 0.0, 0.0, 0.0, 0.0, 0.0], [0.9805176854133606, 0.01948230341076851, 0.0, 0.0, 0.0, 0.0], [0.7948848009109497, 0.12061917036771774, 0.08449594676494598, 0.0, 0.0, 0.0], [0.5612360239028931, 0.157431498169899, 0.20339691638946533, 0.0779355838894844, 0.0, 0.0], [0.4258384704589844, 0.10742021352052689, 0.1512364149093628, 0.08754995465278625, 0.2279549241065979, 0.0], [0.247526153922081, 0.024188272655010223, 0.030395247042179108, 0.08586956560611725, 0.5714338421821594, 0.04058681055903435]], [[1.0, 0.0, 0.0, 0.0, 0.0, 0.0], [0.9887767434120178, 0.011223204433918, 0.0, 0.0, 0.0, 0.0], [0.7572693228721619, 0.2231736034154892, 0.019557051360607147, 0.0, 0.0, 0.0], [0.5341882705688477, 0.22107592225074768, 0.17621809244155884, 0.06851780414581299, 0.0, 0.0], [0.1709531992673874, 0.0822942703962326, 0.5760217308998108, 0.1109759658575058, 0.059754859656095505, 0.0], [0.24871113896369934, 0.08880813419818878, 0.08980178087949753, 0.09729329496622086, 0.4413091242313385, 0.034076545387506485]], [[1.0, 0.0, 0.0, 0.0, 0.0, 0.0], [0.8422133922576904, 0.15778659284114838, 0.0, 0.0, 0.0, 0.0], [0.46841269731521606, 0.4610537588596344, 0.07053357362747192, 0.0, 0.0, 0.0], [0.2588143050670624, 0.46358901262283325, 0.1850348562002182, 0.09256180375814438, 0.0, 0.0], [0.18399596214294434, 0.29154205322265625, 0.17031076550483704, 0.2717297077178955, 0.08242152631282806, 0.0], [0.16469870507717133, 0.2472696751356125, 0.0877055823802948, 0.22574977576732635, 0.17745362222194672, 0.09712248295545578]], [[1.0, 0.0, 0.0, 0.0, 0.0, 0.0], [0.9919946193695068, 0.008005399256944656, 0.0, 0.0, 0.0, 0.0], [0.9068724513053894, 0.04406513273715973, 0.04906242713332176, 0.0, 0.0, 0.0], [0.8582223653793335, 0.05534828081727028, 0.04041934758424759, 0.04601002484560013, 0.0, 0.0], [0.7855252027511597, 0.04124244675040245, 0.08369285613298416, 0.04887618124485016, 0.04066331684589386, 0.0], [0.7856320142745972, 0.05014640837907791, 0.04751259833574295, 0.02736588381230831, 0.05614747107028961, 0.03319564089179039]], [[1.0, 0.0, 0.0, 0.0, 0.0, 0.0], [0.9041033387184143, 0.0958966314792633, 0.0, 0.0, 0.0, 0.0], [0.586230993270874, 0.07199838757514954, 0.34177058935165405, 0.0, 0.0, 0.0], [0.3878961503505707, 0.04660806804895401, 0.20278990268707275, 0.36270585656166077, 0.0, 0.0], [0.26652440428733826, 0.024533040821552277, 0.12211934477090836, 0.20041200518608093, 0.386411190032959, 0.0], [0.2335740625858307, 0.020537318661808968, 0.09610333293676376, 0.13062253594398499, 0.2299049347639084, 0.28925785422325134]], [[1.0, 0.0, 0.0, 0.0, 0.0, 0.0], [0.9639912247657776, 0.036008838564157486, 0.0, 0.0, 0.0, 0.0], [0.7075548768043518, 0.2542780041694641, 0.038167089223861694, 0.0, 0.0, 0.0], [0.2566526234149933, 0.20589327812194824, 0.016656603664159775, 0.5207974910736084, 0.0, 0.0], [0.10379397124052048, 0.04639101028442383, 0.008698621764779091, 0.7866847515106201, 0.054431650787591934, 0.0], [0.22143366932868958, 0.033797487616539, 0.029023895040154457, 0.5412922501564026, 0.1528611183166504, 0.021591654047369957]], [[1.0, 0.0, 0.0, 0.0, 0.0, 0.0], [0.9891703724861145, 0.010829661041498184, 0.0, 0.0, 0.0, 0.0], [0.791315495967865, 0.1230965107679367, 0.08558806031942368, 0.0, 0.0, 0.0], [0.2954605221748352, 0.15808317065238953, 0.4217236042022705, 0.12473273277282715, 0.0, 0.0], [0.23441065847873688, 0.09886536747217178, 0.33160144090652466, 0.19713930785655975, 0.13798321783542633, 0.0], [0.19728365540504456, 0.057418446987867355, 0.06909018754959106, 0.1646982878446579, 0.27972763776779175, 0.23178179562091827]], [[1.0, 0.0, 0.0, 0.0, 0.0, 0.0], [0.9359129071235657, 0.06408713757991791, 0.0, 0.0, 0.0, 0.0], [0.7888627648353577, 0.08673477917909622, 0.1244024857878685, 0.0, 0.0, 0.0], [0.6535121202468872, 0.0757354199886322, 0.09732566028833389, 0.1734268069267273, 0.0, 0.0], [0.5222766995429993, 0.05827881768345833, 0.09920475631952286, 0.17020834982395172, 0.15003131330013275, 0.0], [0.41088390350341797, 0.04730609059333801, 0.07265674322843552, 0.10560747236013412, 0.10550011694431305, 0.2580457031726837]], [[1.0, 0.0, 0.0, 0.0, 0.0, 0.0], [0.9683833122253418, 0.0316166952252388, 0.0, 0.0, 0.0, 0.0], [0.8965396881103516, 0.038870569318532944, 0.06458976864814758, 0.0, 0.0, 0.0], [0.8264952898025513, 0.03213461861014366, 0.051967162638902664, 0.08940290659666061, 0.0, 0.0], [0.7718174457550049, 0.03040284290909767, 0.04582742229104042, 0.0711846724152565, 0.08076760917901993, 0.0], [0.7292331457138062, 0.021699847653508186, 0.033074747771024704, 0.047200944274663925, 0.06474561989307404, 0.10404574126005173]]], [[[1.0, 0.0, 0.0, 0.0, 0.0, 0.0], [0.9979567527770996, 0.0020432821474969387, 0.0, 0.0, 0.0, 0.0], [0.9552940726280212, 0.008025329560041428, 0.03668059781193733, 0.0, 0.0, 0.0], [0.9254711866378784, 0.002755575580522418, 0.002062985673546791, 0.06971028447151184, 0.0, 0.0], [0.8660573363304138, 0.0038883702363818884, 0.0006785988807678223, 0.0006981453043408692, 0.12867748737335205, 0.0], [0.8455933332443237, 0.003780402010306716, 0.000253422767855227, 6.027032213751227e-05, 0.00011820720828836784, 0.15019436180591583]], [[1.0, 0.0, 0.0, 0.0, 0.0, 0.0], [0.9262455105781555, 0.07375453412532806, 0.0, 0.0, 0.0, 0.0], [0.771714985370636, 0.16242027282714844, 0.06586480140686035, 0.0, 0.0, 0.0], [0.8167642951011658, 0.07807141542434692, 0.06324014067649841, 0.04192417487502098, 0.0, 0.0], [0.6867169141769409, 0.07755205035209656, 0.10056959092617035, 0.059551142156124115, 0.07561037689447403, 0.0], [0.642116367816925, 0.11014898866415024, 0.07688190788030624, 0.054033342748880386, 0.10333625227212906, 0.013483121991157532]], [[1.0, 0.0, 0.0, 0.0, 0.0, 0.0], [0.9395954608917236, 0.06040453538298607, 0.0, 0.0, 0.0, 0.0], [0.2300451695919037, 0.6617391705513, 0.10821568220853806, 0.0, 0.0, 0.0], [0.2670232951641083, 0.3607955574989319, 0.32496151328086853, 0.047219567000865936, 0.0, 0.0], [0.5952017307281494, 0.12269250303506851, 0.06302029639482498, 0.08916808664798737, 0.12991733849048615, 0.0], [0.10284561663866043, 0.029379982501268387, 0.013738967478275299, 0.04586034640669823, 0.76985102891922, 0.03832400217652321]], [[1.0, 0.0, 0.0, 0.0, 0.0, 0.0], [0.9040981531143188, 0.09590181708335876, 0.0, 0.0, 0.0, 0.0], [0.35723674297332764, 0.6274624466896057, 0.015300842933356762, 0.0, 0.0, 0.0], [0.591800332069397, 0.2764039933681488, 0.10475990176200867, 0.027035808190703392, 0.0, 0.0], [0.7254418134689331, 0.049831025302410126, 0.014982691965997219, 0.17781370878219604, 0.031930748373270035, 0.0], [0.7612757086753845, 0.06158933788537979, 0.005942173767834902, 0.016426799818873405, 0.12678009271621704, 0.027985943481326103]], [[1.0, 0.0, 0.0, 0.0, 0.0, 0.0], [0.9947587847709656, 0.005241225007921457, 0.0, 0.0, 0.0, 0.0], [0.9632415771484375, 0.01781640015542507, 0.018942026421427727, 0.0, 0.0, 0.0], [0.9671077132225037, 0.00850959774106741, 0.008562241680920124, 0.01582047902047634, 0.0, 0.0], [0.9340997338294983, 0.011952388100326061, 0.02018018066883087, 0.02675074338912964, 0.0070169041864573956, 0.0], [0.9587239027023315, 0.0046570985578000546, 0.0033267696853727102, 0.006545271258801222, 0.010182434692978859, 0.016564495861530304]], [[1.0, 0.0, 0.0, 0.0, 0.0, 0.0], [0.9769991040229797, 0.023000862449407578, 0.0, 0.0, 0.0, 0.0], [0.7917608618736267, 0.17533215880393982, 0.03290707245469093, 0.0, 0.0, 0.0], [0.7949196100234985, 0.10531824082136154, 0.04021841287612915, 0.05954369530081749, 0.0, 0.0], [0.7097726464271545, 0.1055251806974411, 0.06597544252872467, 0.057655785232782364, 0.06107087433338165, 0.0], [0.7506598234176636, 0.026514500379562378, 0.021576065570116043, 0.03429672494530678, 0.08494465053081512, 0.08200820535421371]], [[1.0, 0.0, 0.0, 0.0, 0.0, 0.0], [0.983751654624939, 0.016248304396867752, 0.0, 0.0, 0.0, 0.0], [0.5615496039390564, 0.08956832438707352, 0.34888210892677307, 0.0, 0.0, 0.0], [0.3292927145957947, 0.02411484345793724, 0.5428037047386169, 0.10378878563642502, 0.0, 0.0], [0.3433037996292114, 0.013086413033306599, 0.5121961236000061, 0.11146281659603119, 0.01995091512799263, 0.0], [0.47928088903427124, 0.01733355224132538, 0.11805342882871628, 0.061303019523620605, 0.20071935653686523, 0.12330981343984604]], [[1.0, 0.0, 0.0, 0.0, 0.0, 0.0], [0.9908847212791443, 0.009115300141274929, 0.0, 0.0, 0.0, 0.0], [0.5282686352729797, 0.3292277753353119, 0.142503559589386, 0.0, 0.0, 0.0], [0.48788881301879883, 0.2336852103471756, 0.17577938735485077, 0.10264664888381958, 0.0, 0.0], [0.3144476115703583, 0.18065112829208374, 0.1687137633562088, 0.0950656309723854, 0.2411217838525772, 0.0], [0.5168756246566772, 0.03589708358049393, 0.026188060641288757, 0.04039747267961502, 0.187918022274971, 0.19272363185882568]], [[1.0, 0.0, 0.0, 0.0, 0.0, 0.0], [0.8750304579734802, 0.12496957182884216, 0.0, 0.0, 0.0, 0.0], [0.4550616145133972, 0.4900423586368561, 0.05489598214626312, 0.0, 0.0, 0.0], [0.2933724522590637, 0.5449897646903992, 0.0944431945681572, 0.06719467043876648, 0.0, 0.0], [0.4897082448005676, 0.2720988988876343, 0.06861957907676697, 0.14694933593273163, 0.02262401022017002, 0.0], [0.4729056656360626, 0.0810307189822197, 0.0160521250218153, 0.3067241311073303, 0.10120714455842972, 0.02208022028207779]], [[1.0, 0.0, 0.0, 0.0, 0.0, 0.0], [0.9630220532417297, 0.03697797283530235, 0.0, 0.0, 0.0, 0.0], [0.7557185888290405, 0.16436448693275452, 0.07991694658994675, 0.0, 0.0, 0.0], [0.6947718858718872, 0.0840982124209404, 0.0638255849480629, 0.15730427205562592, 0.0, 0.0], [0.5821166038513184, 0.03297781944274902, 0.07936520874500275, 0.19441376626491547, 0.11112649738788605, 0.0], [0.5974528789520264, 0.04261098802089691, 0.0691971480846405, 0.1456352323293686, 0.12481781840324402, 0.02028588019311428]], [[1.0, 0.0, 0.0, 0.0, 0.0, 0.0], [0.9957822561264038, 0.004217814654111862, 0.0, 0.0, 0.0, 0.0], [0.9312828779220581, 0.010560296475887299, 0.05815676972270012, 0.0, 0.0, 0.0], [0.8435326814651489, 0.015695003792643547, 0.045751072466373444, 0.09502113610506058, 0.0, 0.0], [0.7724102735519409, 0.011981209740042686, 0.03504594415426254, 0.038767602294683456, 0.14179487526416779, 0.0], [0.7642900943756104, 0.009868830442428589, 0.008122773841023445, 0.01331443153321743, 0.04824421554803848, 0.15615971386432648]], [[1.0, 0.0, 0.0, 0.0, 0.0, 0.0], [0.9701175093650818, 0.029882490634918213, 0.0, 0.0, 0.0, 0.0], [0.6563995480537415, 0.2250623106956482, 0.11853810399770737, 0.0, 0.0, 0.0], [0.6958063840866089, 0.14701835811138153, 0.07145968824625015, 0.08571559935808182, 0.0, 0.0], [0.6353276968002319, 0.1346065253019333, 0.030994204804301262, 0.05691637471318245, 0.14215517044067383, 0.0], [0.6779400110244751, 0.053654227405786514, 0.018006278201937675, 0.0628453865647316, 0.11038217693567276, 0.07717187702655792]]], [[[1.0, 0.0, 0.0, 0.0, 0.0, 0.0], [0.9822332859039307, 0.01776670478284359, 0.0, 0.0, 0.0, 0.0], [0.9037663340568542, 0.06541534513235092, 0.030818354338407516, 0.0, 0.0, 0.0], [0.8119199275970459, 0.03679008036851883, 0.060560524463653564, 0.09072957932949066, 0.0, 0.0], [0.40546250343322754, 0.10383891314268112, 0.10211245715618134, 0.35434386134147644, 0.03424229100346565, 0.0], [0.22824399173259735, 0.01727863773703575, 0.050554390996694565, 0.6015741229057312, 0.09411736577749252, 0.008231471292674541]], [[1.0, 0.0, 0.0, 0.0, 0.0, 0.0], [0.9873148202896118, 0.012685160152614117, 0.0, 0.0, 0.0, 0.0], [0.35445693135261536, 0.531760573387146, 0.11378251761198044, 0.0, 0.0, 0.0], [0.07823432236909866, 0.7221350073814392, 0.10936608165502548, 0.09026452898979187, 0.0, 0.0], [0.21968010067939758, 0.4048420488834381, 0.12358085066080093, 0.20018890500068665, 0.051708102226257324, 0.0], [0.3608969748020172, 0.1045902818441391, 0.06983812898397446, 0.297649085521698, 0.13869863748550415, 0.0283268503844738]], [[1.0, 0.0, 0.0, 0.0, 0.0, 0.0], [0.9732162356376648, 0.026783829554915428, 0.0, 0.0, 0.0, 0.0], [0.9167556166648865, 0.06145264580845833, 0.021791856735944748, 0.0, 0.0, 0.0], [0.8543084859848022, 0.08049586415290833, 0.030334845185279846, 0.034860871732234955, 0.0, 0.0], [0.891922116279602, 0.04280758276581764, 0.022044913843274117, 0.023470545187592506, 0.019754810258746147, 0.0], [0.8116766810417175, 0.03413528949022293, 0.035676565021276474, 0.0474858321249485, 0.02539711445569992, 0.04562851041555405]], [[1.0, 0.0, 0.0, 0.0, 0.0, 0.0], [0.9502761363983154, 0.04972393810749054, 0.0, 0.0, 0.0, 0.0], [0.7637452483177185, 0.20073631405830383, 0.03551851585507393, 0.0, 0.0, 0.0], [0.6279091835021973, 0.037681374698877335, 0.1994539201259613, 0.134955495595932, 0.0, 0.0], [0.6397067904472351, 0.0270072054117918, 0.0908198207616806, 0.20653848350048065, 0.03592776134610176, 0.0], [0.45594221353530884, 0.021641230210661888, 0.12939594686031342, 0.21800953149795532, 0.103798046708107, 0.07121298462152481]], [[1.0, 0.0, 0.0, 0.0, 0.0, 0.0], [0.9498406648635864, 0.050159383565187454, 0.0, 0.0, 0.0, 0.0], [0.8688722848892212, 0.08722198754549026, 0.04390574246644974, 0.0, 0.0, 0.0], [0.6937955021858215, 0.06359204649925232, 0.09179050475358963, 0.15082195401191711, 0.0, 0.0], [0.7266594767570496, 0.04389890283346176, 0.046839844435453415, 0.09851814806461334, 0.084083691239357, 0.0], [0.7848992347717285, 0.03714780509471893, 0.012907834723591805, 0.010539383627474308, 0.12079228460788727, 0.03371351957321167]], [[1.0, 0.0, 0.0, 0.0, 0.0, 0.0], [0.9891054034233093, 0.010894612409174442, 0.0, 0.0, 0.0, 0.0], [0.8929507732391357, 0.08700141310691833, 0.020047733560204506, 0.0, 0.0, 0.0], [0.789111852645874, 0.09797287732362747, 0.08633226901292801, 0.02658304199576378, 0.0, 0.0], [0.885063886642456, 0.036450065672397614, 0.05395425483584404, 0.012377267703413963, 0.012154527008533478, 0.0], [0.6861324906349182, 0.0572039969265461, 0.01163627952337265, 0.02166060544550419, 0.17488032579421997, 0.04848625883460045]], [[1.0, 0.0, 0.0, 0.0, 0.0, 0.0], [0.9396193027496338, 0.0603807270526886, 0.0, 0.0, 0.0, 0.0], [0.7851800322532654, 0.19751396775245667, 0.017306048423051834, 0.0, 0.0, 0.0], [0.7660515904426575, 0.1544462889432907, 0.03188285604119301, 0.047619279474020004, 0.0, 0.0], [0.7035233378410339, 0.05171412229537964, 0.07760976999998093, 0.15339040756225586, 0.013762427493929863, 0.0], [0.7121891975402832, 0.0499422661960125, 0.037725500762462616, 0.08649113774299622, 0.06541385501623154, 0.04823807626962662]], [[1.0, 0.0, 0.0, 0.0, 0.0, 0.0], [0.974072277545929, 0.025927728042006493, 0.0, 0.0, 0.0, 0.0], [0.7925394773483276, 0.011715604923665524, 0.19574497640132904, 0.0, 0.0, 0.0], [0.5106780529022217, 0.007296772673726082, 0.03961995616555214, 0.44240522384643555, 0.0, 0.0], [0.5862482190132141, 0.012099691666662693, 0.024585146456956863, 0.06737814098596573, 0.30968886613845825, 0.0], [0.30196312069892883, 0.0077240015380084515, 0.011518091894686222, 0.046947184950113297, 0.2214672565460205, 0.41038036346435547]], [[1.0, 0.0, 0.0, 0.0, 0.0, 0.0], [0.9744554758071899, 0.025544548407197, 0.0, 0.0, 0.0, 0.0], [0.9769196510314941, 0.015048476867377758, 0.008031906560063362, 0.0, 0.0, 0.0], [0.9060622453689575, 0.0258753914386034, 0.025954771786928177, 0.04210769757628441, 0.0, 0.0], [0.9400082230567932, 0.005556631367653608, 0.005828288849443197, 0.031757790595293045, 0.01684907078742981, 0.0], [0.9105739593505859, 0.0019752136431634426, 0.008646698668599129, 0.013360842131078243, 0.0354396291077137, 0.030003638938069344]], [[1.0, 0.0, 0.0, 0.0, 0.0, 0.0], [0.9791666865348816, 0.0208333358168602, 0.0, 0.0, 0.0, 0.0], [0.8444864153862, 0.13507826626300812, 0.020435357466340065, 0.0, 0.0, 0.0], [0.7903088331222534, 0.14559155702590942, 0.03753000870347023, 0.02656973898410797, 0.0, 0.0], [0.7298933863639832, 0.05649607628583908, 0.032735440880060196, 0.1040046215057373, 0.07687044888734818, 0.0], [0.5684202313423157, 0.043888140469789505, 0.026293348520994186, 0.0811711996793747, 0.24314729869365692, 0.03707972168922424]], [[1.0, 0.0, 0.0, 0.0, 0.0, 0.0], [0.9499868154525757, 0.050013136118650436, 0.0, 0.0, 0.0, 0.0], [0.9336172342300415, 0.05848857760429382, 0.007894263602793217, 0.0, 0.0, 0.0], [0.789783775806427, 0.11071787029504776, 0.05360175296664238, 0.045896533876657486, 0.0, 0.0], [0.8859305381774902, 0.05752955377101898, 0.013743233866989613, 0.0033877354580909014, 0.03940894827246666, 0.0], [0.9337607622146606, 0.026470616459846497, 0.004523396957665682, 0.0061904797330498695, 0.014132946729660034, 0.014921708963811398]], [[1.0, 0.0, 0.0, 0.0, 0.0, 0.0], [1.0, 1.8521577604957429e-09, 0.0, 0.0, 0.0, 0.0], [6.675839813397033e-06, 0.9999804496765137, 1.2841268471674994e-05, 0.0, 0.0, 0.0], [2.2194322824020674e-08, 2.6685040843688057e-09, 0.9999971389770508, 2.813701712511829e-06, 0.0, 0.0], [1.014519853015372e-06, 4.464065739284706e-08, 0.00035355458385311067, 0.9993677735328674, 0.00027762542595155537, 0.0], [9.43665812158656e-10, 1.3820389277441336e-11, 5.017710691390675e-10, 2.9652009736480522e-09, 0.9999971389770508, 2.864426051019109e-06]]], [[[1.0, 0.0, 0.0, 0.0, 0.0, 0.0], [0.9948632121086121, 0.00513678602874279, 0.0, 0.0, 0.0, 0.0], [0.9274215698242188, 0.018323831260204315, 0.05425458401441574, 0.0, 0.0, 0.0], [0.9678993821144104, 0.004143415950238705, 0.004314432851970196, 0.02364276722073555, 0.0, 0.0], [0.8999072909355164, 0.001467162393964827, 0.0002913347852881998, 0.0025850096717476845, 0.0957491397857666, 0.0], [0.9386117458343506, 0.00022248220921028405, 0.0006146623054519296, 0.0015495610423386097, 0.030689312145113945, 0.0283123217523098]], [[1.0, 0.0, 0.0, 0.0, 0.0, 0.0], [0.9999959468841553, 4.042735781695228e-06, 0.0, 0.0, 0.0, 0.0], [0.9982761144638062, 3.261380015828763e-06, 0.001720669330097735, 0.0, 0.0, 0.0], [0.9998809099197388, 5.328845986696251e-08, 6.376191095114336e-07, 0.0001184707143693231, 0.0, 0.0], [0.9996154308319092, 3.4731729670056666e-07, 3.892052546916602e-08, 4.4684119870908034e-07, 0.00038369710091501474, 0.0], [0.9994840621948242, 1.6550142589721872e-08, 2.8715284372538008e-08, 1.0638243566063466e-06, 0.00021266618568915874, 0.0003021192387677729]], [[1.0, 0.0, 0.0, 0.0, 0.0, 0.0], [0.9514135122299194, 0.04858650639653206, 0.0, 0.0, 0.0, 0.0], [0.5749927163124084, 0.3902830183506012, 0.034724265336990356, 0.0, 0.0, 0.0], [0.7442320585250854, 0.1752411425113678, 0.07564745098352432, 0.004879296291619539, 0.0, 0.0], [0.5232062339782715, 0.09429318457841873, 0.11381882429122925, 0.19979412853717804, 0.0688876062631607, 0.0], [0.47472456097602844, 0.05636609345674515, 0.04530378431081772, 0.06967338919639587, 0.30980268120765686, 0.044129595160484314]], [[1.0, 0.0, 0.0, 0.0, 0.0, 0.0], [0.8734649419784546, 0.12653504312038422, 0.0, 0.0, 0.0, 0.0], [0.6097904443740845, 0.3541734218597412, 0.036036089062690735, 0.0, 0.0, 0.0], [0.45984190702438354, 0.38697871565818787, 0.09960109740495682, 0.053578317165374756, 0.0, 0.0], [0.5722200870513916, 0.23636260628700256, 0.08344568312168121, 0.0692194327712059, 0.03875222057104111, 0.0], [0.5143583416938782, 0.16723021864891052, 0.09019359201192856, 0.07654457539319992, 0.10578052699565887, 0.04589271545410156]], [[1.0, 0.0, 0.0, 0.0, 0.0, 0.0], [0.981228768825531, 0.01877124421298504, 0.0, 0.0, 0.0, 0.0], [0.6142942309379578, 0.3503977358341217, 0.03530803322792053, 0.0, 0.0, 0.0], [0.5770686268806458, 0.3285845220088959, 0.0550825372338295, 0.0392642468214035, 0.0, 0.0], [0.17188133299350739, 0.011042500846087933, 0.054578736424446106, 0.732658863067627, 0.029838504269719124, 0.0], [0.3783022165298462, 0.017070038244128227, 0.021754080429673195, 0.4409681558609009, 0.06093825772404671, 0.0809672474861145]], [[1.0, 0.0, 0.0, 0.0, 0.0, 0.0], [0.9923112392425537, 0.0076887644827365875, 0.0, 0.0, 0.0, 0.0], [0.9498787522315979, 0.0167098231613636, 0.03341146558523178, 0.0, 0.0, 0.0], [0.9961295127868652, 0.000878729042597115, 0.0006868155323900282, 0.0023048415314406157, 0.0, 0.0], [0.9935757517814636, 0.003263498190790415, 0.0009993816493079066, 0.0002793235471472144, 0.0018820646218955517, 0.0], [0.9907532930374146, 0.00021344318520277739, 0.0004595224454533309, 0.0007905631209723651, 0.004424748942255974, 0.003358360379934311]], [[1.0, 0.0, 0.0, 0.0, 0.0, 0.0], [0.9647740125656128, 0.03522592782974243, 0.0, 0.0, 0.0, 0.0], [0.8194129467010498, 0.13654382526874542, 0.044043298810720444, 0.0, 0.0, 0.0], [0.7584245800971985, 0.0068789334036409855, 0.20653390884399414, 0.028162555769085884, 0.0, 0.0], [0.5298126935958862, 0.002678810153156519, 0.07857989519834518, 0.35983750224113464, 0.0290911216288805, 0.0], [0.7544419765472412, 0.00036782328970730305, 0.0019713498186320066, 0.0032400551717728376, 0.19423381984233856, 0.045745015144348145]], [[1.0, 0.0, 0.0, 0.0, 0.0, 0.0], [0.9749132394790649, 0.02508677914738655, 0.0, 0.0, 0.0, 0.0], [0.9306467771530151, 0.05705687403678894, 0.012296292930841446, 0.0, 0.0, 0.0], [0.9305251836776733, 0.052771005779504776, 0.011119438335299492, 0.005584425758570433, 0.0, 0.0], [0.8863328099250793, 0.01292411144822836, 0.017724568024277687, 0.0615016408264637, 0.021516920998692513, 0.0], [0.7916848659515381, 0.015036086551845074, 0.03174794837832451, 0.033922094851732254, 0.03707980364561081, 0.09052912145853043]], [[1.0, 0.0, 0.0, 0.0, 0.0, 0.0], [0.960849940776825, 0.03915002942085266, 0.0, 0.0, 0.0, 0.0], [0.9121271371841431, 0.02257651463150978, 0.06529626995325089, 0.0, 0.0, 0.0], [0.9364106059074402, 0.015584473498165607, 0.02454494498670101, 0.023459957912564278, 0.0, 0.0], [0.9454619288444519, 0.006762274540960789, 0.022026117891073227, 0.00913781113922596, 0.016611842438578606, 0.0], [0.8346164226531982, 0.0018816981464624405, 0.0056090219877660275, 0.018873613327741623, 0.1244921013712883, 0.01452712994068861]], [[1.0, 0.0, 0.0, 0.0, 0.0, 0.0], [0.9964227080345154, 0.003577282652258873, 0.0, 0.0, 0.0, 0.0], [0.9713928699493408, 0.024453066289424896, 0.0041540684178471565, 0.0, 0.0, 0.0], [0.9735793471336365, 0.01900339312851429, 0.003664407879114151, 0.003752913326025009, 0.0, 0.0], [0.9586312174797058, 0.0071162013337016106, 0.00921841524541378, 0.022725671529769897, 0.0023084906861186028, 0.0], [0.973607063293457, 0.008490578271448612, 0.00325124547816813, 0.003606440033763647, 0.004877470899373293, 0.006167220883071423]], [[1.0, 0.0, 0.0, 0.0, 0.0, 0.0], [0.97598797082901, 0.024012047797441483, 0.0, 0.0, 0.0, 0.0], [0.9460636377334595, 0.04211386665701866, 0.011822440661489964, 0.0, 0.0, 0.0], [0.844681441783905, 0.04293115437030792, 0.05218186601996422, 0.060205549001693726, 0.0, 0.0], [0.9378373622894287, 0.033548470586538315, 0.008826438337564468, 0.002879225881770253, 0.01690845377743244, 0.0], [0.812493622303009, 0.026967551559209824, 0.059991877526044846, 0.03445727378129959, 0.011011872440576553, 0.05507795140147209]], [[1.0, 0.0, 0.0, 0.0, 0.0, 0.0], [0.9001205563545227, 0.0998794212937355, 0.0, 0.0, 0.0, 0.0], [0.6271926760673523, 0.07988721132278442, 0.2929200530052185, 0.0, 0.0, 0.0], [0.7624081373214722, 0.02734426222741604, 0.03867943212389946, 0.17156817018985748, 0.0, 0.0], [0.7995961308479309, 0.01433626189827919, 0.01437564380466938, 0.02543848566710949, 0.146253302693367, 0.0], [0.7851977348327637, 0.042040422558784485, 0.02525356411933899, 0.02908390387892723, 0.029306234791874886, 0.0891181156039238]]], [[[1.0, 0.0, 0.0, 0.0, 0.0, 0.0], [0.9954467415809631, 0.004553209990262985, 0.0, 0.0, 0.0, 0.0], [0.9356003999710083, 0.04476733133196831, 0.019632287323474884, 0.0, 0.0, 0.0], [0.5605546832084656, 0.09861995279788971, 0.29983294010162354, 0.040992371737957, 0.0, 0.0], [0.5893703103065491, 0.11000976711511612, 0.08033645898103714, 0.16754084825515747, 0.0527426153421402, 0.0], [0.22305940091609955, 0.05680793523788452, 0.05467953160405159, 0.24733982980251312, 0.31112435460090637, 0.10698901861906052]], [[1.0, 0.0, 0.0, 0.0, 0.0, 0.0], [0.9301448464393616, 0.06985516101121902, 0.0, 0.0, 0.0, 0.0], [0.8936476707458496, 0.08535725623369217, 0.020995063707232475, 0.0, 0.0, 0.0], [0.8404541611671448, 0.10619179904460907, 0.023636724799871445, 0.029717344790697098, 0.0, 0.0], [0.8927384614944458, 0.024784687906503677, 0.008319015614688396, 0.05165465548634529, 0.022503210231661797, 0.0], [0.8646609783172607, 0.009503178298473358, 0.00243298034183681, 0.0479675717651844, 0.04273209720849991, 0.032703250646591187]], [[1.0, 0.0, 0.0, 0.0, 0.0, 0.0], [0.9859625697135925, 0.014037402346730232, 0.0, 0.0, 0.0, 0.0], [0.9702037572860718, 0.016807029023766518, 0.012989101000130177, 0.0, 0.0, 0.0], [0.9524770379066467, 0.016064422205090523, 0.013456201180815697, 0.018002288416028023, 0.0, 0.0], [0.9332927465438843, 0.018971972167491913, 0.020146844908595085, 0.017023751512169838, 0.010564562864601612, 0.0], [0.9113593697547913, 0.012528621591627598, 0.022096149623394012, 0.017518572509288788, 0.01851790025830269, 0.017979338765144348]], [[1.0, 0.0, 0.0, 0.0, 0.0, 0.0], [0.9681769013404846, 0.03182310611009598, 0.0, 0.0, 0.0, 0.0], [0.9096420407295227, 0.07916669547557831, 0.011191215366125107, 0.0, 0.0, 0.0], [0.8379939794540405, 0.1307821273803711, 0.012140960432589054, 0.019082972779870033, 0.0, 0.0], [0.9116525053977966, 0.05451960489153862, 0.009499355219304562, 0.007465856149792671, 0.016862740740180016, 0.0], [0.8510288000106812, 0.07338212430477142, 0.008022487163543701, 0.009083160199224949, 0.04261011630296707, 0.015873296186327934]], [[1.0, 0.0, 0.0, 0.0, 0.0, 0.0], [0.9799023866653442, 0.020097654312849045, 0.0, 0.0, 0.0, 0.0], [0.9558743238449097, 0.029063209891319275, 0.015062456019222736, 0.0, 0.0, 0.0], [0.7943132519721985, 0.06074099987745285, 0.06907662749290466, 0.07586915045976639, 0.0, 0.0], [0.5494321584701538, 0.03154706582427025, 0.05482015013694763, 0.0578807108104229, 0.30631983280181885, 0.0], [0.6453981995582581, 0.010770930908620358, 0.01752805896103382, 0.021579844877123833, 0.24958281219005585, 0.055140089243650436]], [[1.0, 0.0, 0.0, 0.0, 0.0, 0.0], [0.9506809115409851, 0.0493190735578537, 0.0, 0.0, 0.0, 0.0], [0.8553208708763123, 0.09256314486265182, 0.0521160289645195, 0.0, 0.0, 0.0], [0.8508524298667908, 0.04734595865011215, 0.04417727142572403, 0.05762424319982529, 0.0, 0.0], [0.7697128057479858, 0.027885818853974342, 0.03101726807653904, 0.06842507421970367, 0.10295902192592621, 0.0], [0.7931903004646301, 0.04052191227674484, 0.029242003336548805, 0.04478134959936142, 0.048947013914585114, 0.04331740736961365]], [[1.0, 0.0, 0.0, 0.0, 0.0, 0.0], [0.9770310521125793, 0.02296891249716282, 0.0, 0.0, 0.0, 0.0], [0.9429818391799927, 0.017321480438113213, 0.03969673812389374, 0.0, 0.0, 0.0], [0.9144347310066223, 0.008583562448620796, 0.013035789132118225, 0.06394598633050919, 0.0, 0.0], [0.9222431182861328, 0.0036440163385123014, 0.003740256652235985, 0.010410315357148647, 0.05996221676468849, 0.0], [0.9198878407478333, 0.0030822623521089554, 0.0034827389754354954, 0.0042068022303283215, 0.021254288032650948, 0.04808596149086952]], [[1.0, 0.0, 0.0, 0.0, 0.0, 0.0], [0.9774582386016846, 0.022541815415024757, 0.0, 0.0, 0.0, 0.0], [0.8929324150085449, 0.07475479692220688, 0.032312821596860886, 0.0, 0.0, 0.0], [0.842351496219635, 0.05980279669165611, 0.037400729954242706, 0.06044498458504677, 0.0, 0.0], [0.7674636840820312, 0.03536335006356239, 0.04215497896075249, 0.0665862113237381, 0.08843175321817398, 0.0], [0.6182606220245361, 0.01611064374446869, 0.020167671144008636, 0.0386890210211277, 0.23147042095661163, 0.0753016397356987]], [[1.0, 0.0, 0.0, 0.0, 0.0, 0.0], [0.9634857773780823, 0.036514297127723694, 0.0, 0.0, 0.0, 0.0], [0.4363943338394165, 0.5226365327835083, 0.04096917435526848, 0.0, 0.0, 0.0], [0.36086180806159973, 0.351296603679657, 0.2655103802680969, 0.02233116701245308, 0.0, 0.0], [0.39429134130477905, 0.021704545244574547, 0.07794338464736938, 0.37168973684310913, 0.13437101244926453, 0.0], [0.6310718059539795, 0.016983916983008385, 0.025942010805010796, 0.08615943044424057, 0.2183198779821396, 0.021522900089621544]], [[1.0, 0.0, 0.0, 0.0, 0.0, 0.0], [0.9988250136375427, 0.0011750253615900874, 0.0, 0.0, 0.0, 0.0], [0.9944871068000793, 0.00048264084034599364, 0.005030250176787376, 0.0, 0.0, 0.0], [0.9981209635734558, 2.7051630240748636e-05, 0.00011307386739645153, 0.0017389393178746104, 0.0, 0.0], [0.9982239603996277, 6.836571265012026e-05, 0.00010199935059063137, 6.028358984622173e-05, 0.001545315026305616, 0.0], [0.9982888102531433, 1.0552178082434693e-06, 3.278078293078579e-05, 0.0001303895260207355, 0.0006605856469832361, 0.0008863697294145823]], [[1.0, 0.0, 0.0, 0.0, 0.0, 0.0], [0.9936710596084595, 0.0063289157114923, 0.0, 0.0, 0.0, 0.0], [0.9727688431739807, 0.0018561341566964984, 0.025375083088874817, 0.0, 0.0, 0.0], [0.9724301099777222, 0.001958605833351612, 0.01119242049753666, 0.014418858103454113, 0.0, 0.0], [0.9782042503356934, 0.0009589139372110367, 0.001870640553534031, 0.006326551549136639, 0.012639685533940792, 0.0], [0.9592596888542175, 0.0024555125273764133, 0.0016124151879921556, 0.005019658245146275, 0.006687100511044264, 0.024965668097138405]], [[1.0, 0.0, 0.0, 0.0, 0.0, 0.0], [0.9629000425338745, 0.03710000589489937, 0.0, 0.0, 0.0, 0.0], [0.36802077293395996, 0.6152244210243225, 0.01675482466816902, 0.0, 0.0, 0.0], [0.3173517882823944, 0.6140004396438599, 0.053751587867736816, 0.014896097593009472, 0.0, 0.0], [0.4898739755153656, 0.21071362495422363, 0.04693009331822395, 0.20700454711914062, 0.045477770268917084, 0.0], [0.48774147033691406, 0.17695252597332, 0.06915221363306046, 0.098493292927742, 0.12091471254825592, 0.046745747327804565]]], [[[1.0, 0.0, 0.0, 0.0, 0.0, 0.0], [0.9794419407844543, 0.02055804431438446, 0.0, 0.0, 0.0, 0.0], [0.6677895188331604, 0.31032443046569824, 0.021886125206947327, 0.0, 0.0, 0.0], [0.7118759751319885, 0.11108522862195969, 0.1418738067150116, 0.03516499698162079, 0.0, 0.0], [0.4501466155052185, 0.04036038741469383, 0.04045821353793144, 0.38856956362724304, 0.08046522736549377, 0.0], [0.49346256256103516, 0.013696923851966858, 0.008126811124384403, 0.13074487447738647, 0.30861377716064453, 0.045355040580034256]], [[1.0, 0.0, 0.0, 0.0, 0.0, 0.0], [0.9846054315567017, 0.015394587069749832, 0.0, 0.0, 0.0, 0.0], [0.9806739091873169, 0.007713791914284229, 0.01161231379956007, 0.0, 0.0, 0.0], [0.9326629042625427, 0.019578445702791214, 0.024103591218590736, 0.023654984310269356, 0.0, 0.0], [0.9422017931938171, 0.000953896960709244, 0.0010898043401539326, 0.0031933726277202368, 0.05256116762757301, 0.0], [0.9352929592132568, 0.0010279390262439847, 0.00444444827735424, 0.0016371407546103, 0.010591003112494946, 0.047006525099277496]], [[1.0, 0.0, 0.0, 0.0, 0.0, 0.0], [0.9985783100128174, 0.0014216763665899634, 0.0, 0.0, 0.0, 0.0], [0.9893348813056946, 0.0011178896529600024, 0.009547133930027485, 0.0, 0.0, 0.0], [0.9979978203773499, 7.997065404197201e-05, 0.0001321886375080794, 0.0017900315579026937, 0.0, 0.0], [0.9986976385116577, 4.104396066395566e-05, 3.86832516596769e-06, 2.367610068176873e-05, 0.0012337067164480686, 0.0], [0.9971562623977661, 1.8522143363952637e-05, 1.882652213680558e-06, 2.790012331388425e-05, 0.0006533475825563073, 0.0021419920958578587]], [[1.0, 0.0, 0.0, 0.0, 0.0, 0.0], [0.9768233299255371, 0.023176657035946846, 0.0, 0.0, 0.0, 0.0], [0.9194678068161011, 0.05088191106915474, 0.029650341719388962, 0.0, 0.0, 0.0], [0.8474555015563965, 0.061001650989055634, 0.04372372850775719, 0.047819118946790695, 0.0, 0.0], [0.8011621236801147, 0.04186706617474556, 0.04375816509127617, 0.041894786059856415, 0.0713178962469101, 0.0], [0.8031870126724243, 0.024504896253347397, 0.017323534935712814, 0.04744390398263931, 0.06109936535358429, 0.046441271901130676]], [[1.0, 0.0, 0.0, 0.0, 0.0, 0.0], [0.9829429388046265, 0.01705712266266346, 0.0, 0.0, 0.0, 0.0], [0.8863738179206848, 0.09492640197277069, 0.018699800595641136, 0.0, 0.0, 0.0], [0.9231084585189819, 0.03696344420313835, 0.03219839930534363, 0.007729677949100733, 0.0, 0.0], [0.9068528413772583, 0.01604657992720604, 0.014310497790575027, 0.04543786123394966, 0.01735222339630127, 0.0], [0.6555967330932617, 0.050910331308841705, 0.02838495746254921, 0.1256554126739502, 0.10546863824129105, 0.033983927220106125]], [[1.0, 0.0, 0.0, 0.0, 0.0, 0.0], [0.9502318501472473, 0.049768172204494476, 0.0, 0.0, 0.0, 0.0], [0.8829864859580994, 0.10009636729955673, 0.01691718026995659, 0.0, 0.0, 0.0], [0.8057456016540527, 0.1446356177330017, 0.030189262703061104, 0.01942942477762699, 0.0, 0.0], [0.8706230521202087, 0.03244061768054962, 0.02695167437195778, 0.04410310834646225, 0.025881577283143997, 0.0], [0.6883641481399536, 0.009681464172899723, 0.01644936017692089, 0.09871132671833038, 0.08971207588911057, 0.09708157181739807]], [[1.0, 0.0, 0.0, 0.0, 0.0, 0.0], [0.9792683124542236, 0.02073170244693756, 0.0, 0.0, 0.0, 0.0], [0.9523283243179321, 0.02593384124338627, 0.021737758070230484, 0.0, 0.0, 0.0], [0.9144353866577148, 0.017671288922429085, 0.02235858328640461, 0.04553478583693504, 0.0, 0.0], [0.9448293447494507, 0.006467604544013739, 0.006386082153767347, 0.032630886882543564, 0.00968618132174015, 0.0], [0.9347907900810242, 0.007862484082579613, 0.007788173854351044, 0.021432731300592422, 0.008491113781929016, 0.019634759053587914]], [[1.0, 0.0, 0.0, 0.0, 0.0, 0.0], [0.983370304107666, 0.01662970893085003, 0.0, 0.0, 0.0, 0.0], [0.9631112813949585, 0.009229965507984161, 0.027658741921186447, 0.0, 0.0, 0.0], [0.9706627130508423, 0.004149416461586952, 0.0068131363950669765, 0.018374674022197723, 0.0, 0.0], [0.987951934337616, 0.00216589099727571, 0.00034901060280390084, 0.0015838148538023233, 0.007949447259306908, 0.0], [0.9457950592041016, 0.014583580195903778, 0.0003652965242508799, 0.0009569551330059767, 0.01362164318561554, 0.024677490815520287]], [[1.0, 0.0, 0.0, 0.0, 0.0, 0.0], [0.9878059029579163, 0.012194057926535606, 0.0, 0.0, 0.0, 0.0], [0.87103670835495, 0.09448165446519852, 0.03448169678449631, 0.0, 0.0, 0.0], [0.630977988243103, 0.11090389639139175, 0.1923026740550995, 0.06581542640924454, 0.0, 0.0], [0.5360497236251831, 0.04618946462869644, 0.13605323433876038, 0.26455429196357727, 0.017153320834040642, 0.0], [0.8287516832351685, 0.023732801899313927, 0.0200804453343153, 0.07245279848575592, 0.030431242659687996, 0.024550994858145714]], [[1.0, 0.0, 0.0, 0.0, 0.0, 0.0], [0.8995685577392578, 0.10043147951364517, 0.0, 0.0, 0.0, 0.0], [0.2703429162502289, 0.6504334211349487, 0.0792236328125, 0.0, 0.0, 0.0], [0.20541740953922272, 0.5892507433891296, 0.180858314037323, 0.024473484605550766, 0.0, 0.0], [0.5573874711990356, 0.17741289734840393, 0.08806780725717545, 0.0988181084394455, 0.0783136710524559, 0.0], [0.5922905206680298, 0.0870063304901123, 0.0564328171312809, 0.05685894936323166, 0.12181543558835983, 0.0855960100889206]], [[1.0, 0.0, 0.0, 0.0, 0.0, 0.0], [0.9316378831863403, 0.06836217641830444, 0.0, 0.0, 0.0, 0.0], [0.9572947025299072, 0.02624352276325226, 0.016461821272969246, 0.0, 0.0, 0.0], [0.9880543351173401, 0.004273326601833105, 0.00295458547770977, 0.004717648960649967, 0.0, 0.0], [0.99403977394104, 0.000941342965234071, 0.00047398245078511536, 0.0001164695349871181, 0.004428444895893335, 0.0], [0.9806033968925476, 2.5468882085988298e-05, 0.00016239409160334617, 0.00014764141815248877, 0.001344245974905789, 0.01771688461303711]], [[1.0, 0.0, 0.0, 0.0, 0.0, 0.0], [0.993178129196167, 0.006821860559284687, 0.0, 0.0, 0.0, 0.0], [0.9756524562835693, 0.013184094801545143, 0.011163455434143543, 0.0, 0.0, 0.0], [0.9418966770172119, 0.004721757955849171, 0.0023818134795874357, 0.05099979043006897, 0.0, 0.0], [0.9905040860176086, 0.0022848115768283606, 6.19848069618456e-05, 0.0005984468152746558, 0.006550685502588749, 0.0], [0.9697660207748413, 0.000887882022652775, 0.00023466692073270679, 0.0017040784005075693, 0.00412834994494915, 0.023278910666704178]]], [[[1.0, 0.0, 0.0, 0.0, 0.0, 0.0], [0.9716230630874634, 0.028376881033182144, 0.0, 0.0, 0.0, 0.0], [0.9223619699478149, 0.028907235711812973, 0.048730745911598206, 0.0, 0.0, 0.0], [0.8426315784454346, 0.023872163146734238, 0.04748138412833214, 0.08601487427949905, 0.0, 0.0], [0.8521119356155396, 0.020744262263178825, 0.04494629427790642, 0.057650092989206314, 0.024547481909394264, 0.0], [0.8800724744796753, 0.02244853600859642, 0.01823573186993599, 0.019254812970757484, 0.01585429348051548, 0.044134095311164856]], [[1.0, 0.0, 0.0, 0.0, 0.0, 0.0], [0.9412722587585449, 0.05872771888971329, 0.0, 0.0, 0.0, 0.0], [0.9163140058517456, 0.05759194493293762, 0.026094084605574608, 0.0, 0.0, 0.0], [0.8392424583435059, 0.05769054964184761, 0.013829058036208153, 0.08923790603876114, 0.0, 0.0], [0.8987157344818115, 0.013477900996804237, 0.00034564663656055927, 0.0032987622544169426, 0.08416196703910828, 0.0], [0.8701688647270203, 0.0027008680626749992, 0.0014350003330036998, 0.00566617539152503, 0.08874333649873734, 0.03128569573163986]], [[1.0, 0.0, 0.0, 0.0, 0.0, 0.0], [0.9656725525856018, 0.03432747349143028, 0.0, 0.0, 0.0, 0.0], [0.9178615212440491, 0.062257975339889526, 0.019880516454577446, 0.0, 0.0, 0.0], [0.8233147859573364, 0.06282391399145126, 0.036704376339912415, 0.07715694606304169, 0.0, 0.0], [0.8501746654510498, 0.03816922754049301, 0.031965043395757675, 0.051601435989141464, 0.0280896108597517, 0.0], [0.6572403907775879, 0.058774013072252274, 0.043360184878110886, 0.09013211727142334, 0.08146581798791885, 0.06902754306793213]], [[1.0, 0.0, 0.0, 0.0, 0.0, 0.0], [0.916206419467926, 0.08379358053207397, 0.0, 0.0, 0.0, 0.0], [0.9451774954795837, 0.04099272936582565, 0.01382982823997736, 0.0, 0.0, 0.0], [0.8928355574607849, 0.0536867156624794, 0.017596973106265068, 0.03588072583079338, 0.0, 0.0], [0.8337051868438721, 0.04799612984061241, 0.033513281494379044, 0.04680860787630081, 0.03797680139541626, 0.0], [0.8167193531990051, 0.06337127089500427, 0.013286267407238483, 0.020469745621085167, 0.025292303413152695, 0.06086096540093422]], [[1.0, 0.0, 0.0, 0.0, 0.0, 0.0], [0.9525133371353149, 0.04748665913939476, 0.0, 0.0, 0.0, 0.0], [0.3019866645336151, 0.6520941853523254, 0.045919183641672134, 0.0, 0.0, 0.0], [0.2855834662914276, 0.5569518208503723, 0.14447422325611115, 0.012990490533411503, 0.0, 0.0], [0.8438042402267456, 0.03225122019648552, 0.039542876183986664, 0.06848160177469254, 0.01592010259628296, 0.0], [0.6664933562278748, 0.06095919385552406, 0.04064353555440903, 0.06804479658603668, 0.09186356514692307, 0.0719955638051033]], [[1.0, 0.0, 0.0, 0.0, 0.0, 0.0], [0.9682656526565552, 0.03173442557454109, 0.0, 0.0, 0.0, 0.0], [0.7385218739509583, 0.2285684049129486, 0.032909661531448364, 0.0, 0.0, 0.0], [0.5946672558784485, 0.23033154010772705, 0.1486765444278717, 0.026324644684791565, 0.0, 0.0], [0.6339259147644043, 0.05813009291887283, 0.09654296934604645, 0.1429193764925003, 0.06848166137933731, 0.0], [0.40375733375549316, 0.0894535630941391, 0.07635077834129333, 0.25587043166160583, 0.14330393075942993, 0.03126387298107147]], [[1.0, 0.0, 0.0, 0.0, 0.0, 0.0], [0.9869793653488159, 0.013020612299442291, 0.0, 0.0, 0.0, 0.0], [0.863138735294342, 0.11056644469499588, 0.026294855400919914, 0.0, 0.0, 0.0], [0.9488077759742737, 0.02861505188047886, 0.006535578519105911, 0.01604156754910946, 0.0, 0.0], [0.9672170877456665, 0.00660500256344676, 0.000451717060059309, 0.00484442850574851, 0.020881790667772293, 0.0], [0.9354623556137085, 0.020478004589676857, 0.001170022296719253, 0.0070569380186498165, 0.016318127512931824, 0.01951460912823677]], [[1.0, 0.0, 0.0, 0.0, 0.0, 0.0], [0.9846673011779785, 0.015332723967730999, 0.0, 0.0, 0.0, 0.0], [0.9052750468254089, 0.08373577147722244, 0.010989219881594181, 0.0, 0.0, 0.0], [0.814594030380249, 0.04283740371465683, 0.10568289458751678, 0.036885686218738556, 0.0, 0.0], [0.23519720137119293, 0.012018431909382343, 0.052801091223955154, 0.6516191959381104, 0.04836409166455269, 0.0], [0.3181873559951782, 0.01863233558833599, 0.03948170691728592, 0.37555375695228577, 0.2078721970319748, 0.040272682905197144]], [[1.0, 0.0, 0.0, 0.0, 0.0, 0.0], [0.9811733365058899, 0.018826717510819435, 0.0, 0.0, 0.0, 0.0], [0.8618941307067871, 0.0647914782166481, 0.0733143761754036, 0.0, 0.0, 0.0], [0.7664541006088257, 0.0733042061328888, 0.1035352423787117, 0.05670648068189621, 0.0, 0.0], [0.812849760055542, 0.032154861837625504, 0.059005606919527054, 0.05416528508067131, 0.041824452579021454, 0.0], [0.8687863945960999, 0.02698773704469204, 0.02046991139650345, 0.01629730686545372, 0.032183703035116196, 0.03527507930994034]], [[1.0, 0.0, 0.0, 0.0, 0.0, 0.0], [0.9264582395553589, 0.07354176044464111, 0.0, 0.0, 0.0, 0.0], [0.8403536677360535, 0.06373763084411621, 0.09590867906808853, 0.0, 0.0, 0.0], [0.7330994009971619, 0.06451122462749481, 0.10380087792873383, 0.09858854860067368, 0.0, 0.0], [0.9143611788749695, 0.00825779139995575, 0.007320405449718237, 0.017966296523809433, 0.05209442973136902, 0.0], [0.8971914052963257, 0.008555497974157333, 0.007019452750682831, 0.014860563911497593, 0.033997680991888046, 0.0383753627538681]], [[1.0, 0.0, 0.0, 0.0, 0.0, 0.0], [0.9180346727371216, 0.08196533471345901, 0.0, 0.0, 0.0, 0.0], [0.8328662514686584, 0.12199050188064575, 0.04514326900243759, 0.0, 0.0, 0.0], [0.7994154691696167, 0.08744151145219803, 0.03605785593390465, 0.0770852193236351, 0.0, 0.0], [0.8809850811958313, 0.02074962481856346, 0.020554568618535995, 0.01712079346179962, 0.060589827597141266, 0.0], [0.7453038692474365, 0.044334013015031815, 0.0225492212921381, 0.03315272554755211, 0.03357044979929924, 0.12108976393938065]], [[1.0, 0.0, 0.0, 0.0, 0.0, 0.0], [0.9867060780525208, 0.013293899595737457, 0.0, 0.0, 0.0, 0.0], [0.982177734375, 0.012414101511240005, 0.005408096127212048, 0.0, 0.0, 0.0], [0.9630486369132996, 0.015290781855583191, 0.010345703922212124, 0.011314942501485348, 0.0, 0.0], [0.9213569760322571, 0.014132505282759666, 0.017639201134443283, 0.016567667946219444, 0.03030373528599739, 0.0], [0.9373326301574707, 0.009064307436347008, 0.007548361551016569, 0.006576443091034889, 0.011827628128230572, 0.027650395408272743]]], [[[1.0, 0.0, 0.0, 0.0, 0.0, 0.0], [0.9951004385948181, 0.004899634979665279, 0.0, 0.0, 0.0, 0.0], [0.9476008415222168, 0.04140787944197655, 0.010991265997290611, 0.0, 0.0, 0.0], [0.9142175316810608, 0.02352379448711872, 0.03914506360888481, 0.02311364933848381, 0.0, 0.0], [0.9534734487533569, 0.008932997472584248, 0.015272882767021656, 0.00790832657366991, 0.014412370510399342, 0.0], [0.9427105188369751, 0.008233043365180492, 0.004650980234146118, 0.004178098868578672, 0.005463507957756519, 0.03476397693157196]], [[1.0, 0.0, 0.0, 0.0, 0.0, 0.0], [0.9543376564979553, 0.045662373304367065, 0.0, 0.0, 0.0, 0.0], [0.9696040749549866, 0.019547605887055397, 0.010848315432667732, 0.0, 0.0, 0.0], [0.9710449576377869, 0.012425404042005539, 0.008068892173469067, 0.00846072006970644, 0.0, 0.0], [0.9726192951202393, 0.0026976573280990124, 0.0004483137163333595, 0.0013814778067171574, 0.0228531863540411, 0.0], [0.9675466418266296, 0.009613418020308018, 0.0032030262518674135, 0.004248831421136856, 0.007442242931574583, 0.00794588215649128]], [[1.0, 0.0, 0.0, 0.0, 0.0, 0.0], [0.9887008666992188, 0.011299137957394123, 0.0, 0.0, 0.0, 0.0], [0.9382632374763489, 0.04204237088561058, 0.01969439722597599, 0.0, 0.0, 0.0], [0.8351992964744568, 0.03487858921289444, 0.05134483054280281, 0.07857727259397507, 0.0, 0.0], [0.9042677283287048, 0.010541580617427826, 0.016426725313067436, 0.025921951979398727, 0.04284194856882095, 0.0], [0.8913140296936035, 0.008912655524909496, 0.005010697059333324, 0.008175604976713657, 0.01351469662040472, 0.07307226955890656]], [[1.0, 0.0, 0.0, 0.0, 0.0, 0.0], [0.8693912029266357, 0.13060875236988068, 0.0, 0.0, 0.0, 0.0], [0.35079866647720337, 0.6063522696495056, 0.042849101126194, 0.0, 0.0, 0.0], [0.3547576069831848, 0.35020169615745544, 0.24722355604171753, 0.04781724885106087, 0.0, 0.0], [0.35370713472366333, 0.035277336835861206, 0.09567102789878845, 0.4497959017753601, 0.06554868817329407, 0.0], [0.4132586717605591, 0.09055551886558533, 0.05286578834056854, 0.17467999458312988, 0.1738487184047699, 0.09479133039712906]], [[1.0, 0.0, 0.0, 0.0, 0.0, 0.0], [0.9629756212234497, 0.0370243564248085, 0.0, 0.0, 0.0, 0.0], [0.9756426811218262, 0.019658589735627174, 0.004698721691966057, 0.0, 0.0, 0.0], [0.9775736331939697, 0.013286286033689976, 0.0025590427685528994, 0.006581075489521027, 0.0, 0.0], [0.9870141744613647, 0.007388271391391754, 0.0009579231846146286, 0.0018318331567570567, 0.0028077661991119385, 0.0], [0.9409247040748596, 0.016633691266179085, 0.002297908067703247, 0.005890644155442715, 0.005512923002243042, 0.028740182518959045]], [[1.0, 0.0, 0.0, 0.0, 0.0, 0.0], [0.9628270864486694, 0.037172842770814896, 0.0, 0.0, 0.0, 0.0], [0.9582237601280212, 0.0246418584138155, 0.017134418711066246, 0.0, 0.0, 0.0], [0.9351301193237305, 0.015331575646996498, 0.014810962602496147, 0.034727420657873154, 0.0, 0.0], [0.9225173592567444, 0.010528759099543095, 0.011010156944394112, 0.01944001391530037, 0.03650376573204994, 0.0], [0.8420169353485107, 0.04357187822461128, 0.007488256320357323, 0.014961502514779568, 0.023852793499827385, 0.06810855120420456]], [[1.0, 0.0, 0.0, 0.0, 0.0, 0.0], [0.9926387071609497, 0.007361318916082382, 0.0, 0.0, 0.0, 0.0], [0.9957393407821655, 0.003346983576193452, 0.0009136915905401111, 0.0, 0.0, 0.0], [0.9869900345802307, 0.001974785001948476, 0.0015245546819642186, 0.009510691277682781, 0.0, 0.0], [0.9933527708053589, 0.0010203277925029397, 0.0003433742094784975, 0.0010291151702404022, 0.004254395607858896, 0.0], [0.9749016761779785, 0.00043480106978677213, 0.00043065487989224494, 0.0012364371214061975, 0.0015347721055150032, 0.021461615338921547]], [[1.0, 0.0, 0.0, 0.0, 0.0, 0.0], [0.9897475242614746, 0.010252452455461025, 0.0, 0.0, 0.0, 0.0], [0.9790639281272888, 0.0165090411901474, 0.004427103791385889, 0.0, 0.0, 0.0], [0.9521434903144836, 0.02943234145641327, 0.00894317775964737, 0.009480922482907772, 0.0, 0.0], [0.9395942091941833, 0.021510882303118706, 0.010278544388711452, 0.004555218853056431, 0.024061087518930435, 0.0], [0.9205074310302734, 0.016153650358319283, 0.010818619281053543, 0.016644416376948357, 0.014566431753337383, 0.021309472620487213]], [[1.0, 0.0, 0.0, 0.0, 0.0, 0.0], [0.9898502826690674, 0.010149767622351646, 0.0, 0.0, 0.0, 0.0], [0.9820910096168518, 0.006907524075359106, 0.011001519858837128, 0.0, 0.0, 0.0], [0.9684997200965881, 0.0089876102283597, 0.015342594124376774, 0.007170107681304216, 0.0, 0.0], [0.9274120330810547, 0.009485266171395779, 0.02206614799797535, 0.032228872179985046, 0.008807661011815071, 0.0], [0.9006660580635071, 0.021623726934194565, 0.013808242976665497, 0.00984384398907423, 0.008521358482539654, 0.04553684964776039]], [[1.0, 0.0, 0.0, 0.0, 0.0, 0.0], [0.9954444169998169, 0.004555594641715288, 0.0, 0.0, 0.0, 0.0], [0.995254397392273, 0.002460234332829714, 0.0022854814305901527, 0.0, 0.0, 0.0], [0.9862446188926697, 0.0015168151585385203, 0.0040722922421991825, 0.008166349492967129, 0.0, 0.0], [0.9889962673187256, 0.0012260463554412127, 0.0007996400818228722, 0.0006774258799850941, 0.008300593122839928, 0.0], [0.9865202903747559, 0.0003942710463888943, 0.0009571771952323616, 0.0004954362520948052, 0.0009604956139810383, 0.010672265663743019]], [[1.0, 0.0, 0.0, 0.0, 0.0, 0.0], [0.9821295142173767, 0.017870483919978142, 0.0, 0.0, 0.0, 0.0], [0.7489438652992249, 0.22002694010734558, 0.03102920763194561, 0.0, 0.0, 0.0], [0.28547871112823486, 0.21125629544258118, 0.4787156581878662, 0.024549327790737152, 0.0, 0.0], [0.8056636452674866, 0.026974579319357872, 0.04302816465497017, 0.06993761658668518, 0.05439596623182297, 0.0], [0.33072158694267273, 0.02232649177312851, 0.01662701740860939, 0.08019447326660156, 0.41574782133102417, 0.13438254594802856]], [[1.0, 0.0, 0.0, 0.0, 0.0, 0.0], [0.9697746634483337, 0.03022528998553753, 0.0, 0.0, 0.0, 0.0], [0.9800565838813782, 0.015018886886537075, 0.004924531560391188, 0.0, 0.0, 0.0], [0.9237862229347229, 0.05276470258831978, 0.006302402354776859, 0.017146728932857513, 0.0, 0.0], [0.9451842904090881, 0.036180492490530014, 0.0019892146810889244, 0.003958729561418295, 0.0126873217523098, 0.0], [0.9633325934410095, 0.018662991002202034, 0.0030418462119996548, 0.007070919498801231, 0.0050094276666641235, 0.002882068045437336]]], [[[1.0, 0.0, 0.0, 0.0, 0.0, 0.0], [0.987324595451355, 0.012675454840064049, 0.0, 0.0, 0.0, 0.0], [0.9904569983482361, 0.005541946738958359, 0.00400111498311162, 0.0, 0.0, 0.0], [0.9814971685409546, 0.004653459880501032, 0.003725278889760375, 0.010124045424163342, 0.0, 0.0], [0.9744364619255066, 0.004632262047380209, 0.002379997167736292, 0.0065180836245417595, 0.012033039703965187, 0.0], [0.962449848651886, 0.0033743497915565968, 0.0013198532396927476, 0.0017274923156946898, 0.0029446734115481377, 0.02818375453352928]], [[1.0, 0.0, 0.0, 0.0, 0.0, 0.0], [0.9807673692703247, 0.019232643768191338, 0.0, 0.0, 0.0, 0.0], [0.9664245843887329, 0.015413948334753513, 0.018161429092288017, 0.0, 0.0, 0.0], [0.9632683396339417, 0.0045381267555058, 0.0029253889806568623, 0.029268156737089157, 0.0, 0.0], [0.9562349915504456, 0.0012223637895658612, 0.0005304078222252429, 0.008671474643051624, 0.03334079682826996, 0.0], [0.9657101035118103, 0.0009808293543756008, 0.0016686235321685672, 0.002634828444570303, 0.005866356194019318, 0.023139307275414467]], [[1.0, 0.0, 0.0, 0.0, 0.0, 0.0], [0.9639714956283569, 0.036028482019901276, 0.0, 0.0, 0.0, 0.0], [0.9562800526618958, 0.03373313695192337, 0.009986838325858116, 0.0, 0.0, 0.0], [0.853999674320221, 0.08073029667139053, 0.03334450721740723, 0.03192552179098129, 0.0, 0.0], [0.9547489881515503, 0.009605048224329948, 0.004146174527704716, 0.0020133245270699263, 0.02948645129799843, 0.0], [0.933113694190979, 0.028699694201350212, 0.005477478262037039, 0.006368071772158146, 0.012613082304596901, 0.01372809149324894]], [[1.0, 0.0, 0.0, 0.0, 0.0, 0.0], [0.9392993450164795, 0.06070064753293991, 0.0, 0.0, 0.0, 0.0], [0.929839015007019, 0.061895474791526794, 0.008265514858067036, 0.0, 0.0, 0.0], [0.8471820950508118, 0.09035061299800873, 0.01763615757226944, 0.04483114555478096, 0.0, 0.0], [0.8857700228691101, 0.03918186202645302, 0.007867734879255295, 0.02276589162647724, 0.044414542615413666, 0.0], [0.8563281893730164, 0.10088979452848434, 0.006531456485390663, 0.008485918864607811, 0.007368456572294235, 0.02039625309407711]], [[1.0, 0.0, 0.0, 0.0, 0.0, 0.0], [0.8353262543678284, 0.16467368602752686, 0.0, 0.0, 0.0, 0.0], [0.6160860061645508, 0.3137648403644562, 0.07014915347099304, 0.0, 0.0, 0.0], [0.34316328167915344, 0.2758496403694153, 0.11966029554605484, 0.26132670044898987, 0.0, 0.0], [0.5908163189888, 0.05029091611504555, 0.04166606068611145, 0.21994976699352264, 0.097276970744133, 0.0], [0.8481417894363403, 0.06318076699972153, 0.014733624644577503, 0.05526724457740784, 0.009014982730150223, 0.009661629796028137]], [[1.0, 0.0, 0.0, 0.0, 0.0, 0.0], [0.9627320766448975, 0.03726796805858612, 0.0, 0.0, 0.0, 0.0], [0.7757525444030762, 0.17996244132518768, 0.044284969568252563, 0.0, 0.0, 0.0], [0.6317057609558105, 0.24380731582641602, 0.10925661027431488, 0.015230287797749043, 0.0, 0.0], [0.9539909958839417, 0.01818227395415306, 0.011601822450757027, 0.012299099937081337, 0.003925768658518791, 0.0], [0.4035700857639313, 0.1423753947019577, 0.05661207064986229, 0.19757357239723206, 0.09299185872077942, 0.10687700659036636]], [[1.0, 0.0, 0.0, 0.0, 0.0, 0.0], [0.9802618026733398, 0.01973814144730568, 0.0, 0.0, 0.0, 0.0], [0.9873908162117004, 0.007800452411174774, 0.004808681085705757, 0.0, 0.0, 0.0], [0.9283919334411621, 0.008301244117319584, 0.013305652886629105, 0.050001174211502075, 0.0, 0.0], [0.8981053233146667, 0.01559136901050806, 0.010177613236010075, 0.039987094700336456, 0.036138664931058884, 0.0], [0.975350022315979, 0.0003543298807926476, 0.000586602371186018, 0.0011877468787133694, 0.0010750875808298588, 0.021446365863084793]], [[1.0, 0.0, 0.0, 0.0, 0.0, 0.0], [0.9295330047607422, 0.0704670250415802, 0.0, 0.0, 0.0, 0.0], [0.9361505508422852, 0.04116692394018173, 0.022682568058371544, 0.0, 0.0, 0.0], [0.8486821055412292, 0.05802803859114647, 0.024856189265847206, 0.0684337243437767, 0.0, 0.0], [0.8661178946495056, 0.02232474647462368, 0.010369163006544113, 0.02600198984146118, 0.07518628239631653, 0.0], [0.8074422478675842, 0.04438253492116928, 0.018497100099921227, 0.03357789292931557, 0.018561240285634995, 0.07753897458314896]], [[1.0, 0.0, 0.0, 0.0, 0.0, 0.0], [0.9680536389350891, 0.03194637969136238, 0.0, 0.0, 0.0, 0.0], [0.9693689942359924, 0.025684911757707596, 0.004946073051542044, 0.0, 0.0, 0.0], [0.9620568156242371, 0.02255242131650448, 0.005471329670399427, 0.009919446893036366, 0.0, 0.0], [0.9727528095245361, 0.010137123987078667, 0.0007573281181976199, 0.0028828938957303762, 0.013469832949340343, 0.0], [0.9624637365341187, 0.0031108956318348646, 0.0010007566306740046, 0.001947588985785842, 0.008266217075288296, 0.023210830986499786]], [[1.0, 0.0, 0.0, 0.0, 0.0, 0.0], [0.8542503118515015, 0.14574967324733734, 0.0, 0.0, 0.0, 0.0], [0.9725967645645142, 0.014116301201283932, 0.013286850415170193, 0.0, 0.0, 0.0], [0.925762414932251, 0.03257258981466293, 0.014612067490816116, 0.027053024619817734, 0.0, 0.0], [0.792343258857727, 0.027305010706186295, 0.018806690350174904, 0.13854101300239563, 0.0230039544403553, 0.0], [0.6152051091194153, 0.026655320078134537, 0.029353082180023193, 0.05590897426009178, 0.11611281335353851, 0.1567647010087967]], [[1.0, 0.0, 0.0, 0.0, 0.0, 0.0], [0.9804654121398926, 0.019534561783075333, 0.0, 0.0, 0.0, 0.0], [0.9882452487945557, 0.0075094737112522125, 0.004245338030159473, 0.0, 0.0, 0.0], [0.9584206342697144, 0.010963569395244122, 0.010456085205078125, 0.02015971578657627, 0.0, 0.0], [0.9604811668395996, 0.007182627450674772, 0.0030723437666893005, 0.006898913532495499, 0.022365091368556023, 0.0], [0.966888964176178, 0.003281285986304283, 0.00550053408369422, 0.004234079271554947, 0.005038041155785322, 0.01505716796964407]], [[1.0, 0.0, 0.0, 0.0, 0.0, 0.0], [0.9498193860054016, 0.05018061399459839, 0.0, 0.0, 0.0, 0.0], [0.9781363606452942, 0.016430014744400978, 0.005433553829789162, 0.0, 0.0, 0.0], [0.8618696928024292, 0.036093614995479584, 0.07555557787418365, 0.026481185108423233, 0.0, 0.0], [0.5449838042259216, 0.015411172062158585, 0.02351655624806881, 0.2574363648891449, 0.15865212678909302, 0.0], [0.9571873545646667, 0.0030803836416453123, 0.0014446867862716317, 0.006861567962914705, 0.014818796887993813, 0.016607260331511497]]], [[[1.0, 0.0, 0.0, 0.0, 0.0, 0.0], [0.6156559586524963, 0.38434407114982605, 0.0, 0.0, 0.0, 0.0], [0.36760640144348145, 0.42816370725631714, 0.2042299062013626, 0.0, 0.0, 0.0], [0.16471561789512634, 0.41367918252944946, 0.2509235739707947, 0.17068161070346832, 0.0, 0.0], [0.41844597458839417, 0.15247611701488495, 0.103053979575634, 0.11071508377790451, 0.21530891954898834, 0.0], [0.19686944782733917, 0.2014620304107666, 0.12827251851558685, 0.09203251451253891, 0.09167565405368805, 0.2896878123283386]], [[1.0, 0.0, 0.0, 0.0, 0.0, 0.0], [0.9027365446090698, 0.09726344794034958, 0.0, 0.0, 0.0, 0.0], [0.9736634492874146, 0.014004289172589779, 0.01233229786157608, 0.0, 0.0, 0.0], [0.8504456281661987, 0.05690573528409004, 0.0320608951151371, 0.06058765575289726, 0.0, 0.0], [0.7661212682723999, 0.03530392423272133, 0.034330423921346664, 0.09675194323062897, 0.06749241054058075, 0.0], [0.8650375008583069, 0.020085245370864868, 0.011498057283461094, 0.01855834759771824, 0.018430309370160103, 0.0663905069231987]], [[1.0, 0.0, 0.0, 0.0, 0.0, 0.0], [0.9653082489967346, 0.03469172492623329, 0.0, 0.0, 0.0, 0.0], [0.9816323518753052, 0.014176085591316223, 0.004191522020846605, 0.0, 0.0, 0.0], [0.9275254607200623, 0.04737222194671631, 0.011528272181749344, 0.013573983684182167, 0.0, 0.0], [0.9293117523193359, 0.02583332546055317, 0.0072271269746124744, 0.014300626702606678, 0.023327292874455452, 0.0], [0.8895062804222107, 0.04689617455005646, 0.004717112984508276, 0.006286591291427612, 0.006090148817747831, 0.046503711491823196]], [[1.0, 0.0, 0.0, 0.0, 0.0, 0.0], [0.8938026428222656, 0.10619732737541199, 0.0, 0.0, 0.0, 0.0], [0.8221707344055176, 0.06304489821195602, 0.11478440463542938, 0.0, 0.0, 0.0], [0.5047377347946167, 0.15375754237174988, 0.22770385444164276, 0.11380089074373245, 0.0, 0.0], [0.408207505941391, 0.09066356718540192, 0.11696861684322357, 0.24553203582763672, 0.1386282742023468, 0.0], [0.7291042804718018, 0.066388800740242, 0.023112773895263672, 0.031103070825338364, 0.057143133133649826, 0.09314797073602676]], [[1.0, 0.0, 0.0, 0.0, 0.0, 0.0], [0.9247532486915588, 0.07524671405553818, 0.0, 0.0, 0.0, 0.0], [0.8957376480102539, 0.06989558041095734, 0.034366779029369354, 0.0, 0.0, 0.0], [0.7924939393997192, 0.0960114598274231, 0.05509115755558014, 0.05640348419547081, 0.0, 0.0], [0.7891508340835571, 0.07880301028490067, 0.03840154409408569, 0.05396975204348564, 0.03967493027448654, 0.0], [0.780785858631134, 0.07993538677692413, 0.04253173619508743, 0.03234212473034859, 0.017816945910453796, 0.04658801481127739]], [[1.0, 0.0, 0.0, 0.0, 0.0, 0.0], [0.9480886459350586, 0.05191135033965111, 0.0, 0.0, 0.0, 0.0], [0.8636949062347412, 0.04756208136677742, 0.08874306827783585, 0.0, 0.0, 0.0], [0.9341371059417725, 0.02222408726811409, 0.02262447215616703, 0.021014338359236717, 0.0, 0.0], [0.9588144421577454, 0.00802090298384428, 0.004490075167268515, 0.005862294230610132, 0.0228123776614666, 0.0], [0.9385918378829956, 0.02122771367430687, 0.004872466903179884, 0.010940168052911758, 0.009524591267108917, 0.014843414537608624]], [[1.0, 0.0, 0.0, 0.0, 0.0, 0.0], [0.9763734340667725, 0.023626582697033882, 0.0, 0.0, 0.0, 0.0], [0.9884802103042603, 0.005189398769289255, 0.006330376956611872, 0.0, 0.0, 0.0], [0.9477092027664185, 0.017985161393880844, 0.010156610049307346, 0.02414901927113533, 0.0, 0.0], [0.967192530632019, 0.006552813574671745, 0.0033227845560759306, 0.00556332478299737, 0.017368387430906296, 0.0], [0.9584562182426453, 0.007502947002649307, 0.005136323627084494, 0.008071637712419033, 0.005997127387672663, 0.014835808426141739]], [[1.0, 0.0, 0.0, 0.0, 0.0, 0.0], [0.884070873260498, 0.11592914164066315, 0.0, 0.0, 0.0, 0.0], [0.9931254386901855, 0.005070803686976433, 0.0018038046546280384, 0.0, 0.0, 0.0], [0.9534159302711487, 0.02382904477417469, 0.007748984266072512, 0.015006089583039284, 0.0, 0.0], [0.9151288270950317, 0.010873109102249146, 0.013190999627113342, 0.011050445958971977, 0.049756646156311035, 0.0], [0.8769674301147461, 0.03385206311941147, 0.008486478589475155, 0.009969150647521019, 0.03468579798936844, 0.03603912517428398]], [[1.0, 0.0, 0.0, 0.0, 0.0, 0.0], [0.00037095125298947096, 0.999629020690918, 0.0, 0.0, 0.0, 0.0], [6.52503440505825e-05, 0.3737829029560089, 0.6261518597602844, 0.0, 0.0, 0.0], [4.606043148669414e-05, 0.21050876379013062, 0.41159671545028687, 0.37784847617149353, 0.0, 0.0], [4.7530887968605384e-05, 0.11616974323987961, 0.23264279961585999, 0.3985332250595093, 0.25260674953460693, 0.0], [1.247643581336888e-06, 0.14819703996181488, 0.15813179314136505, 0.30074378848075867, 0.11939027160406113, 0.2735357880592346]], [[1.0, 0.0, 0.0, 0.0, 0.0, 0.0], [0.971555769443512, 0.02844417281448841, 0.0, 0.0, 0.0, 0.0], [0.9529065489768982, 0.032330743968486786, 0.014762775972485542, 0.0, 0.0, 0.0], [0.9343128204345703, 0.02351297065615654, 0.020498069003224373, 0.02167624421417713, 0.0, 0.0], [0.9529677033424377, 0.008551422506570816, 0.004359331447631121, 0.008064559660851955, 0.026056941598653793, 0.0], [0.9653593897819519, 0.008487631566822529, 0.0034992785658687353, 0.002721573691815138, 0.003282879013568163, 0.016649343073368073]], [[1.0, 0.0, 0.0, 0.0, 0.0, 0.0], [0.8630780577659607, 0.13692191243171692, 0.0, 0.0, 0.0, 0.0], [0.7696157693862915, 0.08513335138559341, 0.1452508419752121, 0.0, 0.0, 0.0], [0.7133336067199707, 0.10170900821685791, 0.11931277066469193, 0.06564458459615707, 0.0, 0.0], [0.7186216711997986, 0.05444304645061493, 0.01386819127947092, 0.0780804231762886, 0.13498668372631073, 0.0], [0.7990152835845947, 0.05805584415793419, 0.009447006508708, 0.01777043752372265, 0.021138539537787437, 0.09457292407751083]], [[1.0, 0.0, 0.0, 0.0, 0.0, 0.0], [0.9518988728523254, 0.04810108244419098, 0.0, 0.0, 0.0, 0.0], [0.8580654263496399, 0.029445741325616837, 0.11248882114887238, 0.0, 0.0, 0.0], [0.6577739119529724, 0.08513443917036057, 0.12613078951835632, 0.13096082210540771, 0.0, 0.0], [0.8087369799613953, 0.032301630824804306, 0.018418163061141968, 0.06856144219636917, 0.07198183238506317, 0.0], [0.6683300733566284, 0.13281364738941193, 0.02188059873878956, 0.027877409011125565, 0.049234092235565186, 0.09986424446105957]]]], \"left_text\": [\"No\", \",\", \" I\", \" am\", \" your\", \" father\"], \"right_text\": [\"No\", \",\", \" I\", \" am\", \" your\", \" father\"]}], \"default_filter\": \"0\", \"display_mode\": \"dark\", \"root_div_id\": \"bertviz-03bc481939a04e91b577b401d9c92302\", \"include_layers\": [0, 1, 2, 3, 4, 5, 6, 7, 8, 9, 10, 11], \"include_heads\": [0, 1, 2, 3, 4, 5, 6, 7, 8, 9, 10, 11], \"total_heads\": 12} is a template marker that is replaced by actual params.\n",
              "        const config = {};\n",
              "\n",
              "        const MIN_X = 0;\n",
              "        const MIN_Y = 0;\n",
              "        const DIV_WIDTH = 970;\n",
              "        const THUMBNAIL_PADDING = 5;\n",
              "        const DETAIL_WIDTH = 300;\n",
              "        const DETAIL_ATTENTION_WIDTH = 140;\n",
              "        const DETAIL_BOX_WIDTH = 80;\n",
              "        const DETAIL_BOX_HEIGHT = 18;\n",
              "        const DETAIL_PADDING = 15;\n",
              "        const ATTN_PADDING = 0;\n",
              "        const DETAIL_HEADING_HEIGHT = 25;\n",
              "        const HEADING_TEXT_SIZE = 15;\n",
              "        const HEADING_PADDING = 5;\n",
              "        const TEXT_SIZE = 13;\n",
              "        const TEXT_PADDING = 5;\n",
              "        const LAYER_COLORS = d3.schemeCategory10;\n",
              "        const PALETTE = {\n",
              "            'light': {\n",
              "                'text': 'black',\n",
              "                'background': 'white',\n",
              "                'highlight': '#F5F5F5'\n",
              "            },\n",
              "            'dark': {\n",
              "                'text': '#ccc',\n",
              "                'background': 'black',\n",
              "                'highlight': '#222'\n",
              "            }\n",
              "        }\n",
              "\n",
              "        function render() {\n",
              "\n",
              "            // Set global state variables\n",
              "\n",
              "            var attData = config.attention[config.filter];\n",
              "            config.leftText = attData.left_text;\n",
              "            config.rightText = attData.right_text;\n",
              "            config.attn = attData.attn;\n",
              "            config.numLayers = config.attn.length;\n",
              "            config.numHeads = config.attn[0].length;\n",
              "            config.thumbnailBoxHeight = 7 * (12 / config.totalHeads);\n",
              "            const axisSize = HEADING_TEXT_SIZE + HEADING_PADDING + TEXT_SIZE + TEXT_PADDING;\n",
              "            config.thumbnailHeight = Math.max(config.leftText.length, config.rightText.length) * config.thumbnailBoxHeight + 2 * THUMBNAIL_PADDING;\n",
              "            config.thumbnailWidth = (DIV_WIDTH - axisSize) / config.totalHeads;\n",
              "            config.detailHeight = Math.max(config.leftText.length, config.rightText.length) * DETAIL_BOX_HEIGHT + 2 * DETAIL_PADDING + DETAIL_HEADING_HEIGHT;\n",
              "            config.divHeight = Math.max(config.numLayers * config.thumbnailHeight + axisSize, config.detailHeight);\n",
              "\n",
              "            const vis = $(`#${config.rootDivId} #vis`)\n",
              "            vis.empty();\n",
              "            vis.attr(\"height\", config.divHeight);\n",
              "            config.svg = d3.select(`#${config.rootDivId} #vis`)\n",
              "                .append('svg')\n",
              "                .attr(\"width\", DIV_WIDTH)\n",
              "                .attr(\"height\", config.divHeight)\n",
              "                .attr(\"fill\", getBackgroundColor());\n",
              "\n",
              "            renderAxisLabels();\n",
              "\n",
              "            var i;\n",
              "            var j;\n",
              "            for (i = 0; i < config.numLayers; i++) {\n",
              "                for (j = 0; j < config.numHeads; j++) {\n",
              "                    renderThumbnail(i, j);\n",
              "                }\n",
              "            }\n",
              "        }\n",
              "\n",
              "        function renderAxisLabels() {\n",
              "            const axisSize = HEADING_TEXT_SIZE + HEADING_PADDING + TEXT_SIZE + TEXT_PADDING;\n",
              "            const tableWidth = config.thumbnailWidth * config.heads.length;\n",
              "            config.svg.append(\"text\")\n",
              "                .text(\"Heads\")\n",
              "                .attr(\"fill\", \"black\")\n",
              "                .attr(\"font-weight\", \"bold\")\n",
              "                .attr(\"font-size\", HEADING_TEXT_SIZE + \"px\")\n",
              "                .attr(\"x\", axisSize + tableWidth / 2)\n",
              "                .attr(\"text-anchor\", \"middle\")\n",
              "                .attr(\"y\", 0)\n",
              "                .attr(\"dy\", HEADING_TEXT_SIZE);\n",
              "            for (let i = 0; i < config.numHeads; i++) {\n",
              "                config.svg.append(\"text\")\n",
              "                    .text(config.heads[i])\n",
              "                    .attr(\"fill\", \"black\")\n",
              "                    .attr(\"font-size\", TEXT_SIZE + \"px\")\n",
              "                    .attr(\"x\", axisSize + (i + .5) * config.thumbnailWidth)\n",
              "                    .attr(\"text-anchor\", \"middle\")\n",
              "                    .attr(\"y\", HEADING_TEXT_SIZE + HEADING_PADDING)\n",
              "                    .attr(\"dy\", TEXT_SIZE);\n",
              "            }\n",
              "            let x = 0;\n",
              "            let y = axisSize + config.thumbnailHeight * config.layers.length / 2;\n",
              "            console.log(\"x\", x, y)\n",
              "            config.svg.append(\"text\")\n",
              "                .text(\"Layers\")\n",
              "                .attr(\"fill\", \"black\")\n",
              "                .attr(\"font-weight\", \"bold\")\n",
              "                .attr(\"transform\", \"rotate(270, \" + x  + \", \" + y + \")\")\n",
              "                .attr(\"font-size\", HEADING_TEXT_SIZE + \"px\")\n",
              "                .attr(\"x\", x)\n",
              "                .attr(\"text-anchor\", \"middle\")\n",
              "                .attr(\"y\", y)\n",
              "                .attr(\"dy\", HEADING_TEXT_SIZE);\n",
              "            for (let i = 0; i < config.numLayers; i++) {\n",
              "                x = HEADING_TEXT_SIZE + HEADING_PADDING + TEXT_SIZE; // HACK\n",
              "                y = axisSize + (i + .5) * config.thumbnailHeight;\n",
              "                config.svg.append(\"text\")\n",
              "                    .text(config.layers[i])\n",
              "                    .attr(\"fill\", \"black\")\n",
              "                    .attr(\"font-size\", TEXT_SIZE + \"px\")\n",
              "                    .attr(\"x\", x)\n",
              "                    .attr(\"text-anchor\", \"end\")\n",
              "                    .attr(\"y\", y)\n",
              "                    .attr(\"dy\", TEXT_SIZE / 2);\n",
              "            }\n",
              "        }\n",
              "\n",
              "\n",
              "        function renderThumbnail(layerIndex, headIndex) {\n",
              "            const axisSize = HEADING_TEXT_SIZE + HEADING_PADDING + TEXT_SIZE + TEXT_PADDING\n",
              "            const x = headIndex * config.thumbnailWidth + axisSize;\n",
              "            const y = layerIndex * config.thumbnailHeight + axisSize;\n",
              "            renderThumbnailAttn(x, y, config.attn[layerIndex][headIndex], layerIndex, headIndex);\n",
              "        }\n",
              "\n",
              "        function renderDetail(att, layerIndex, headIndex) {\n",
              "            const axisSize = TEXT_SIZE + HEADING_PADDING + TEXT_SIZE + TEXT_PADDING;\n",
              "            var xOffset = .8 * config.thumbnailWidth;\n",
              "            var maxX = DIV_WIDTH;\n",
              "            var maxY = config.divHeight - 3;\n",
              "            var leftPos = axisSize + headIndex * config.thumbnailWidth;\n",
              "            var x = leftPos + THUMBNAIL_PADDING + xOffset;\n",
              "            if (x < MIN_X) {\n",
              "                x = MIN_X;\n",
              "            } else if (x + DETAIL_WIDTH > maxX) {\n",
              "                x = leftPos + THUMBNAIL_PADDING - DETAIL_WIDTH + 8;\n",
              "            }\n",
              "            var posLeftText = x;\n",
              "            var posAttention = posLeftText + DETAIL_BOX_WIDTH;\n",
              "            var posRightText = posAttention + DETAIL_ATTENTION_WIDTH;\n",
              "            var thumbnailHeight = Math.max(config.leftText.length, config.rightText.length) * config.thumbnailBoxHeight + 2 * THUMBNAIL_PADDING;\n",
              "            var yOffset = 20;\n",
              "            var y = layerIndex * thumbnailHeight + THUMBNAIL_PADDING + yOffset;\n",
              "            if (y < MIN_Y) {\n",
              "                y = MIN_Y;\n",
              "            } else if (y + config.detailHeight > maxY) {\n",
              "                y = maxY - config.detailHeight;\n",
              "            }\n",
              "            renderDetailFrame(x, y, layerIndex);\n",
              "            y = y + DETAIL_PADDING;\n",
              "            renderDetailHeading(x, y, layerIndex, headIndex);\n",
              "            y = y + DETAIL_HEADING_HEIGHT;\n",
              "            renderDetailText(config.leftText, \"leftText\", posLeftText, y , layerIndex);\n",
              "            renderDetailAttn(posAttention, y, att, layerIndex, headIndex);\n",
              "            renderDetailText(config.rightText, \"rightText\", posRightText, y, layerIndex);\n",
              "        }\n",
              "\n",
              "        function renderDetailHeading(x, y, layerIndex, headIndex) {\n",
              "            var fillColor = getTextColor();\n",
              "            config.svg.append(\"text\")\n",
              "                .classed(\"detail\", true)\n",
              "                .text('Layer ' + config.layers[layerIndex] + \", Head \" + config.heads[headIndex])\n",
              "                .attr(\"font-size\", TEXT_SIZE + \"px\")\n",
              "                .attr(\"font-weight\", \"bold\")\n",
              "                .style(\"cursor\", \"default\")\n",
              "                .style(\"-webkit-user-select\", \"none\")\n",
              "                .attr(\"fill\", fillColor)\n",
              "                .attr(\"x\", x + DETAIL_WIDTH / 2)\n",
              "                .attr(\"text-anchor\", \"middle\")\n",
              "                .attr(\"y\", y)\n",
              "                .attr(\"height\", DETAIL_HEADING_HEIGHT)\n",
              "                .attr(\"width\", DETAIL_WIDTH)\n",
              "                .attr(\"dy\", HEADING_TEXT_SIZE);\n",
              "        }\n",
              "\n",
              "        function renderDetailText(text, id, x, y, layerIndex) {\n",
              "            var tokenContainer = config.svg.append(\"svg:g\")\n",
              "                .classed(\"detail\", true)\n",
              "                .selectAll(\"g\")\n",
              "                .data(text)\n",
              "                .enter()\n",
              "                .append(\"g\");\n",
              "\n",
              "            var fillColor = getTextColor();\n",
              "\n",
              "            tokenContainer.append(\"rect\")\n",
              "                .classed(\"highlight\", true)\n",
              "                .attr(\"fill\", fillColor)\n",
              "                .style(\"opacity\", 0.0)\n",
              "                .attr(\"height\", DETAIL_BOX_HEIGHT)\n",
              "                .attr(\"width\", DETAIL_BOX_WIDTH)\n",
              "                .attr(\"x\", x)\n",
              "                .attr(\"y\", function (d, i) {\n",
              "                    return y + i * DETAIL_BOX_HEIGHT;\n",
              "                });\n",
              "\n",
              "            var textContainer = tokenContainer.append(\"text\")\n",
              "                .classed(\"token\", true)\n",
              "                .text(function (d) {\n",
              "                    return d;\n",
              "                })\n",
              "                .attr(\"font-size\", TEXT_SIZE + \"px\")\n",
              "                .style(\"cursor\", \"default\")\n",
              "                .style(\"-webkit-user-select\", \"none\")\n",
              "                .attr(\"fill\", fillColor)\n",
              "                .attr(\"x\", x)\n",
              "                .attr(\"y\", function (d, i) {\n",
              "                    return i * DETAIL_BOX_HEIGHT + y;\n",
              "                })\n",
              "                .attr(\"height\", DETAIL_BOX_HEIGHT)\n",
              "                .attr(\"width\", DETAIL_BOX_WIDTH)\n",
              "                .attr(\"dy\", TEXT_SIZE);\n",
              "\n",
              "            if (id == \"leftText\") {\n",
              "                textContainer.style(\"text-anchor\", \"end\")\n",
              "                    .attr(\"dx\", DETAIL_BOX_WIDTH - 2);\n",
              "                tokenContainer.on(\"mouseover\", function (d, index) {\n",
              "                    highlightSelection(index);\n",
              "                });\n",
              "                tokenContainer.on(\"mouseleave\", function () {\n",
              "                    unhighlightSelection();\n",
              "                });\n",
              "            }\n",
              "        }\n",
              "\n",
              "        function highlightSelection(index) {\n",
              "            config.svg.select(\"#leftText\")\n",
              "                .selectAll(\".highlight\")\n",
              "                .style(\"opacity\", function (d, i) {\n",
              "                    return i == index ? 1.0 : 0.0;\n",
              "                });\n",
              "            config.svg.selectAll(\".attn-line-group\")\n",
              "                .style(\"opacity\", function (d, i) {\n",
              "                    return i == index ? 1.0 : 0.0;\n",
              "                });\n",
              "        }\n",
              "\n",
              "        function unhighlightSelection() {\n",
              "            config.svg.select(\"#leftText\")\n",
              "                .selectAll(\".highlight\")\n",
              "                .style(\"opacity\", 0.0);\n",
              "            config.svg.selectAll(\".attn-line-group\")\n",
              "                .style(\"opacity\", 1);\n",
              "        }\n",
              "\n",
              "        function renderThumbnailAttn(x, y, att, layerIndex, headIndex) {\n",
              "\n",
              "            var attnContainer = config.svg.append(\"svg:g\");\n",
              "\n",
              "            var attnBackground = attnContainer.append(\"rect\")\n",
              "                .attr(\"id\", 'attn_background_' + layerIndex + \"_\" + headIndex)\n",
              "                .classed(\"attn_background\", true)\n",
              "                .attr(\"x\", x)\n",
              "                .attr(\"y\", y)\n",
              "                .attr(\"height\", config.thumbnailHeight)\n",
              "                .attr(\"width\", config.thumbnailWidth)\n",
              "                .attr(\"stroke-width\", 2)\n",
              "                .attr(\"stroke\", getLayerColor(layerIndex))\n",
              "                .attr(\"stroke-opacity\", 0)\n",
              "                .attr(\"fill\", getBackgroundColor());\n",
              "            var x1 = x + THUMBNAIL_PADDING;\n",
              "            var x2 = x1 + config.thumbnailWidth - 14;\n",
              "            var y1 = y + THUMBNAIL_PADDING;\n",
              "\n",
              "            attnContainer.selectAll(\"g\")\n",
              "                .data(att)\n",
              "                .enter()\n",
              "                .append(\"g\") // Add group for each source token\n",
              "                .attr(\"source-index\", function (d, i) { // Save index of source token\n",
              "                    return i;\n",
              "                })\n",
              "                .selectAll(\"line\")\n",
              "                .data(function (d) { // Loop over all target tokens\n",
              "                    return d;\n",
              "                })\n",
              "                .enter() // When entering\n",
              "                .append(\"line\")\n",
              "                .attr(\"x1\", x1)\n",
              "                .attr(\"y1\", function (d) {\n",
              "                    var sourceIndex = +this.parentNode.getAttribute(\"source-index\");\n",
              "                    return y1 + (sourceIndex + .5) * config.thumbnailBoxHeight;\n",
              "                })\n",
              "                .attr(\"x2\", x2)\n",
              "                .attr(\"y2\", function (d, targetIndex) {\n",
              "                    return y1 + (targetIndex + .5) * config.thumbnailBoxHeight;\n",
              "                })\n",
              "                .attr(\"stroke-width\", 2.2)\n",
              "                .attr(\"stroke\", getLayerColor(layerIndex))\n",
              "                .attr(\"stroke-opacity\", function (d) {\n",
              "                    return d;\n",
              "                });\n",
              "\n",
              "            var clickRegion = attnContainer.append(\"rect\")\n",
              "                .attr(\"x\", x)\n",
              "                .attr(\"y\", y)\n",
              "                .attr(\"height\", config.thumbnailHeight)\n",
              "                .attr(\"width\", config.thumbnailWidth)\n",
              "                .style(\"opacity\", 0);\n",
              "\n",
              "            clickRegion.on(\"click\", function (d, index) {\n",
              "                var attnBackgroundOther = config.svg.selectAll(\".attn_background\");\n",
              "                attnBackgroundOther.attr(\"fill\", getBackgroundColor());\n",
              "                attnBackgroundOther.attr(\"stroke-opacity\", 0);\n",
              "\n",
              "                config.svg.selectAll(\".detail\").remove();\n",
              "                if (config.detail_layer != layerIndex || config.detail_head != headIndex) {\n",
              "                    renderDetail(att, layerIndex, headIndex);\n",
              "                    config.detail_layer = layerIndex;\n",
              "                    config.detail_head = headIndex;\n",
              "                    attnBackground.attr(\"fill\", getHighlightColor());\n",
              "                    attnBackground.attr(\"stroke-opacity\", .8);\n",
              "                } else {\n",
              "                    config.detail_layer = null;\n",
              "                    config.detail_head = null;\n",
              "                    attnBackground.attr(\"fill\", getBackgroundColor());\n",
              "                    attnBackground.attr(\"stroke-opacity\", 0);\n",
              "                }\n",
              "            });\n",
              "\n",
              "            clickRegion.on(\"mouseover\", function (d) {\n",
              "                d3.select(this).style(\"cursor\", \"pointer\");\n",
              "            });\n",
              "        }\n",
              "\n",
              "        function renderDetailFrame(x, y, layerIndex) {\n",
              "            var detailFrame = config.svg.append(\"rect\")\n",
              "                .classed(\"detail\", true)\n",
              "                .attr(\"x\", x)\n",
              "                .attr(\"y\", y)\n",
              "                .attr(\"height\", config.detailHeight)\n",
              "                .attr(\"width\", DETAIL_WIDTH)\n",
              "                .style(\"opacity\", 1)\n",
              "                .attr(\"stroke-width\", 1.5)\n",
              "                .attr(\"stroke-opacity\", 0.7)\n",
              "                .attr(\"stroke\", getLayerColor(layerIndex));\n",
              "        }\n",
              "\n",
              "        function renderDetailAttn(x, y, att, layerIndex) {\n",
              "            var attnContainer = config.svg.append(\"svg:g\")\n",
              "                .classed(\"detail\", true)\n",
              "                .attr(\"pointer-events\", \"none\");\n",
              "            attnContainer.selectAll(\"g\")\n",
              "                .data(att)\n",
              "                .enter()\n",
              "                .append(\"g\") // Add group for each source token\n",
              "                .classed('attn-line-group', true)\n",
              "                .attr(\"source-index\", function (d, i) { // Save index of source token\n",
              "                    return i;\n",
              "                })\n",
              "                .selectAll(\"line\")\n",
              "                .data(function (d) { // Loop over all target tokens\n",
              "                    return d;\n",
              "                })\n",
              "                .enter()\n",
              "                .append(\"line\")\n",
              "                .attr(\"x1\", x + ATTN_PADDING)\n",
              "                .attr(\"y1\", function (d) {\n",
              "                    var sourceIndex = +this.parentNode.getAttribute(\"source-index\");\n",
              "                    return y + (sourceIndex + .5) * DETAIL_BOX_HEIGHT;\n",
              "                })\n",
              "                .attr(\"x2\", x + DETAIL_ATTENTION_WIDTH - ATTN_PADDING)\n",
              "                .attr(\"y2\", function (d, targetIndex) {\n",
              "                    return y + (targetIndex + .5) * DETAIL_BOX_HEIGHT;\n",
              "                })\n",
              "                .attr(\"stroke-width\", 2.2)\n",
              "                .attr(\"stroke\", getLayerColor(layerIndex))\n",
              "                .attr(\"stroke-opacity\", function (d) {\n",
              "                    return d;\n",
              "                });\n",
              "        }\n",
              "\n",
              "        function getLayerColor(layer) {\n",
              "          return LAYER_COLORS[config.layers[layer] % 10];\n",
              "        }\n",
              "\n",
              "        function getTextColor() {\n",
              "            return PALETTE[config.mode]['text']\n",
              "        }\n",
              "\n",
              "        function getBackgroundColor() {\n",
              "           return PALETTE[config.mode]['background']\n",
              "        }\n",
              "\n",
              "        function getHighlightColor() {\n",
              "           return PALETTE[config.mode]['highlight']\n",
              "        }\n",
              "\n",
              "        function initialize() {\n",
              "            config.attention = params['attention'];\n",
              "            config.filter = params['default_filter'];\n",
              "            config.mode = params['display_mode'];\n",
              "            config.layers = params['include_layers']\n",
              "            config.heads = params['include_heads']\n",
              "            config.totalHeads = params['total_heads']\n",
              "            config.rootDivId = params['root_div_id'];\n",
              "            $(`#${config.rootDivId} #filter`).on('change', function (e) {\n",
              "                config.filter = e.currentTarget.value;\n",
              "                render();\n",
              "            });\n",
              "        }\n",
              "\n",
              "        initialize();\n",
              "        render();\n",
              "\n",
              "    });"
            ]
          },
          "metadata": {}
        }
      ],
      "source": [
        "from transformers import AutoTokenizer, AutoModel, utils, AutoModelForCausalLM\n",
        "\n",
        "from bertviz import model_view\n",
        "utils.logging.set_verbosity_error()  # Suppress standard warnings\n",
        "\n",
        "model_name = 'openai-community/gpt2'\n",
        "input_text = \"No, I am your father\"\n",
        "model = AutoModelForCausalLM.from_pretrained(model_name, output_attentions=True)\n",
        "tokenizer = AutoTokenizer.from_pretrained(model_name)\n",
        "inputs = tokenizer.encode(input_text, return_tensors='pt')  # Tokenize input text\n",
        "outputs = model(inputs)  # Run model\n",
        "attention = outputs[-1]  # Retrieve attention from model outputs\n",
        "tokens = tokenizer.convert_ids_to_tokens(inputs[0])  # Convert input ids to token strings\n",
        "model_view(attention, tokens)  # Display model view"
      ]
    },
    {
      "cell_type": "markdown",
      "metadata": {
        "id": "3F18GCIERkI2"
      },
      "source": [
        "## Positional encoding"
      ]
    },
    {
      "cell_type": "markdown",
      "metadata": {
        "id": "IFq78-kjbrWp"
      },
      "source": [
        "Last week, Carlo discussed token embedding, which is when words are encoded into a vocabulary. Now, we just discussed attention mechanisms which account for context between words. Another question we should ask is how do we account for the order of words in an input sentence\n",
        "\n",
        "Consider the following two sentences to see why this is important:\n",
        "\n",
        "``The man ate the sandwich.``\n",
        "\n",
        "``The sandwich ate the man.``\n",
        "\n",
        "Clearly, these are two vastly different situations even though they have the same words. The Transformer can\n",
        "\n",
        "Transformers differentiate between these situations by adding a **Positional encoding** vector to each input embedding. These vectors follow a specific pattern that the model learns, which helps it determine the position of each word."
      ]
    },
    {
      "cell_type": "markdown",
      "metadata": {
        "id": "pSTdZdvCRkI2"
      },
      "source": [
        "<img src=\"https://github.com/lueiyaya/ai-science-training-series-copy-mz/blob/main/05_llm_part2/images/positional_encoding.png?raw=1\" alt=\"Drawing\" style=\"width: 500px;\"/>\n",
        "Image credit: https://medium.com/@xuer.chen.human/llm-study-notes-positional-encoding-0639a1002ec0"
      ]
    },
    {
      "cell_type": "markdown",
      "metadata": {
        "id": "FAGYYpaSRkI3"
      },
      "source": [
        "We set up positional encoding similarly as token embedding using the ``nn.Embedding`` tool. We use a simple embedding here but there are more complex positional encodings used such as sinusoidal.\n",
        "\n",
        "For an explanation of different positional encodings, refer to this post: https://machinelearningmastery.com/a-gentle-introduction-to-positional-encoding-in-transformer-models-part-1/"
      ]
    },
    {
      "cell_type": "code",
      "execution_count": 9,
      "metadata": {
        "id": "OUMnof3JRkJD"
      },
      "outputs": [],
      "source": [
        "vocab_size = 65\n",
        "n_embd = 64\n",
        "\n",
        "token_embedding_table = nn.Embedding(vocab_size, n_embd)\n",
        "block_size = 32 # what is the maximum context length for predictions?\n",
        "position_embedding_table = nn.Embedding(block_size, n_embd)"
      ]
    },
    {
      "cell_type": "markdown",
      "metadata": {
        "id": "X3nmlCX8RkJD"
      },
      "source": [
        "You will notice the positional encoding size is `(block_size, n_embed)` because it encodes for the postion of a token within the sequence of size `block_size`"
      ]
    },
    {
      "cell_type": "markdown",
      "metadata": {
        "id": "gVUOpAzoRkJD"
      },
      "source": [
        "Then, the position embedding used is simply added to the token embedding to apply positional embedding."
      ]
    },
    {
      "cell_type": "markdown",
      "metadata": {
        "id": "ujr-deEXRkJD"
      },
      "source": [
        "Let's look at token embedding alone:"
      ]
    },
    {
      "cell_type": "code",
      "execution_count": 20,
      "metadata": {
        "scrolled": false,
        "tags": [],
        "id": "nf61AsVaRkJD",
        "outputId": "9d91af3f-bd4e-4147-b954-4ff752c85dc8",
        "colab": {
          "base_uri": "https://localhost:8080/"
        }
      },
      "outputs": [
        {
          "output_type": "stream",
          "name": "stdout",
          "text": [
            "tensor([ 0.7221, -0.9629, -2.0578,  1.9740,  0.7434,  1.1139,  0.6926,  0.0296,\n",
            "         0.6405, -1.6464,  0.4935,  0.7485,  0.9238, -0.4940,  0.4814, -0.3859,\n",
            "        -0.3094,  1.1066, -0.2891,  0.1891,  2.0440, -0.7945, -0.4331,  0.3007,\n",
            "         1.4317,  0.2881, -0.4343,  0.4280,  1.2469,  1.4047, -0.3404, -2.2190,\n",
            "         0.4893,  0.0398, -0.2717, -2.2400, -0.0029, -1.4251,  0.7330,  0.3551,\n",
            "         0.1472, -1.1895, -0.8407,  0.3134, -0.6709, -0.8176,  0.6929, -0.6374,\n",
            "         0.3174,  0.4837, -0.0073, -1.5924,  1.8606, -1.2910, -0.1594,  0.3111,\n",
            "        -0.1536, -0.3414, -0.0170, -0.1633,  0.2794,  0.6755,  0.7066, -1.6665],\n",
            "       grad_fn=<SelectBackward0>)\n"
          ]
        }
      ],
      "source": [
        "x = torch.tensor([1,3,15,4,7,1,4,9])\n",
        "x = token_embedding_table(x)\n",
        "print(x[0])"
      ]
    },
    {
      "cell_type": "markdown",
      "metadata": {
        "id": "UDrVUQZ8RkJE"
      },
      "source": [
        "And token + positional embeddings:"
      ]
    },
    {
      "cell_type": "code",
      "execution_count": 21,
      "metadata": {
        "scrolled": false,
        "id": "aA4IzMgoRkJE",
        "outputId": "09196193-25bc-4614-f0a2-83bdb876711b",
        "colab": {
          "base_uri": "https://localhost:8080/"
        }
      },
      "outputs": [
        {
          "output_type": "stream",
          "name": "stdout",
          "text": [
            "tensor([ 0.4326, -1.6287, -0.8684,  3.0704,  0.3646,  1.9826,  0.7582, -0.1918,\n",
            "         1.0491, -2.2562, -0.4931, -0.7808,  1.7206, -1.0297,  2.0798, -1.3427,\n",
            "        -0.7896, -0.1746,  0.0926,  0.0543,  2.3831, -0.6208,  0.3902,  0.1097,\n",
            "         1.0455, -1.4557,  0.3402,  2.6717,  1.8380,  1.2628, -0.4831, -4.6023,\n",
            "         0.6959,  1.0347,  0.5903, -0.7541,  0.4682, -0.3895,  2.1526,  0.6272,\n",
            "        -0.8558, -0.8434,  0.1311, -1.0272, -2.0580,  0.0584,  0.3442, -0.3464,\n",
            "        -0.3444,  2.3134, -1.1142, -1.4629,  3.3503, -2.0594,  1.4105,  0.4558,\n",
            "        -1.3366,  1.9283,  1.5187,  0.3906,  1.1448, -0.8422,  2.2692, -0.7949],\n",
            "       grad_fn=<SelectBackward0>)\n"
          ]
        }
      ],
      "source": [
        "x = torch.tensor([1,3,15,4,7,1,4,9])\n",
        "x= position_embedding_table(x) + token_embedding_table(x)\n",
        "print(x[0])"
      ]
    },
    {
      "cell_type": "markdown",
      "metadata": {
        "id": "C8oytcsGRkJE"
      },
      "source": [
        "You can see a clear offset between these two embeddings."
      ]
    },
    {
      "cell_type": "markdown",
      "metadata": {
        "id": "1tiw3Vg_RkJF"
      },
      "source": [
        "During the training process, these embeddings will be learned to best encode the token and positional embeddings of the sequences."
      ]
    },
    {
      "cell_type": "markdown",
      "metadata": {
        "id": "iF1HzH9xNJ7S"
      },
      "source": [
        "## Output layers\n",
        "\n",
        "At the end of our Transformer model, we are left with a vector, so how do we turn this into a word?\n",
        "\n",
        "<img src=\"https://github.com/lueiyaya/ai-science-training-series-copy-mz/blob/main/05_llm_part2/images/transformer-decoder-intro.png?raw=1\" alt=\"Drawing\" style=\"width: 400px;\"/>\n",
        "\n",
        "Using a final Linear layer and a Softmax Layer.\n",
        "The Linear layer projects the vector produced by the stack of decoders, into a larger vector called a logits vector.\n",
        "\n",
        "If our model knows 10,000 unique English words learned from its training dataset the logits vector is 10,000 cells wide – each cell corresponds to the score of a unique word.\n",
        "\n",
        "The softmax layer turns those scores into probabilities. The cell with the highest probability is chosen, and the word associated with it is produced as the output for this time step."
      ]
    },
    {
      "cell_type": "markdown",
      "metadata": {
        "id": "bSiqGiRtRkJF"
      },
      "source": [
        "<img src=\"https://github.com/lueiyaya/ai-science-training-series-copy-mz/blob/main/05_llm_part2/images/transformer_decoder_output_softmax.png?raw=1\" alt=\"Drawing\" style=\"width: 450px;\"/>"
      ]
    },
    {
      "cell_type": "markdown",
      "metadata": {
        "id": "HS6r-z8dN_RV"
      },
      "source": [
        "Image credit: https://jalammar.github.io/illustrated-transformer/"
      ]
    },
    {
      "cell_type": "markdown",
      "metadata": {
        "id": "XK8q67P03yr4"
      },
      "source": [
        "## Training\n",
        "\n",
        "How does an LLM improve over time?\n",
        "We want to compare the probabilitiy distribution for each token generated by our model to the ground truths.\n",
        "Our model produces a probability distribution for each token. We want to compare these probability distributions to the ground truths.\n",
        "For example, when translating the sentence: “je suis étudiant” into “i am a student” as can be seen in the example:"
      ]
    },
    {
      "cell_type": "markdown",
      "metadata": {
        "id": "hIs4go3dRkJG"
      },
      "source": [
        "<img src=\"https://github.com/lueiyaya/ai-science-training-series-copy-mz/blob/main/05_llm_part2/images/output_target_probability_distributions.png?raw=1\" alt=\"Drawing\" style=\"width: 500px;\"/>"
      ]
    },
    {
      "cell_type": "markdown",
      "metadata": {
        "id": "h_X3pegMRkJG"
      },
      "source": [
        "Image credit: https://jalammar.github.io/illustrated-transformer/"
      ]
    },
    {
      "cell_type": "markdown",
      "metadata": {
        "id": "1jrg6gXLRkJG"
      },
      "source": [
        "The model can calculate the loss between the vector it generates and the ground truth vector seen in this example. A commonly used loss function is cross entropy loss:\n",
        "\n",
        "$CE = -\\sum_{x \\in X} p(x) log q(x)$\n",
        "\n",
        "where p(x) represents the true distribution and q(x) represents the predicted distribution."
      ]
    },
    {
      "cell_type": "code",
      "execution_count": 9,
      "metadata": {
        "scrolled": true,
        "id": "TqI2DbmNRkJG",
        "outputId": "859cf0bf-0c67-49b8-e021-90c01ef04ae2",
        "colab": {
          "base_uri": "https://localhost:8080/"
        }
      },
      "outputs": [
        {
          "output_type": "stream",
          "name": "stdout",
          "text": [
            "tensor(0.9119)\n"
          ]
        }
      ],
      "source": [
        "from torch.nn import functional as F\n",
        "logits = torch.tensor([0.5, 0.1, 0.3])\n",
        "targets = torch.tensor([1.0, 0.0, 0.0])\n",
        "loss = F.cross_entropy(logits, targets)\n",
        "print(loss)"
      ]
    },
    {
      "cell_type": "markdown",
      "metadata": {
        "id": "CLykXulaRkJH"
      },
      "source": [
        "Another important metric commonly used in LLMs is **perplexity**.\n",
        "\n",
        "Intuitively, perplexity means to be surprised. We measure how much the model is surprised by seeing new data. The lower the perplexity, the better the training is."
      ]
    },
    {
      "cell_type": "markdown",
      "metadata": {
        "id": "9CmQ8TiRRkJH"
      },
      "source": [
        "Mathematically, perplexity is just the exponent of the negative cross entropy loss:\n",
        "\n",
        "$\\text{perplexity} = exp(\\text{CE})$"
      ]
    },
    {
      "cell_type": "code",
      "execution_count": 12,
      "metadata": {
        "id": "saKm-uYLRkJH",
        "outputId": "2f1a0899-7c70-4712-9d88-96cdd980da25",
        "colab": {
          "base_uri": "https://localhost:8080/"
        }
      },
      "outputs": [
        {
          "output_type": "stream",
          "name": "stdout",
          "text": [
            "tensor(2.4891)\n"
          ]
        }
      ],
      "source": [
        "perplexity = torch.exp(loss)\n",
        "print(perplexity)"
      ]
    },
    {
      "cell_type": "markdown",
      "metadata": {
        "id": "jotishsPRkJH"
      },
      "source": [
        "In this example, we are using cross entropy loss."
      ]
    },
    {
      "cell_type": "markdown",
      "metadata": {
        "id": "q71C-IvZRkJH"
      },
      "source": [
        "## Let's train a mini-LLM from scratch"
      ]
    },
    {
      "cell_type": "markdown",
      "metadata": {
        "id": "YF12RFuuRkJI"
      },
      "source": [
        "### Set up hyperparameters:"
      ]
    },
    {
      "cell_type": "code",
      "source": [
        "import torch\n",
        "from torch import nn"
      ],
      "metadata": {
        "id": "SSaWiRYXvNZS"
      },
      "execution_count": 13,
      "outputs": []
    },
    {
      "cell_type": "code",
      "execution_count": 8,
      "metadata": {
        "id": "XcoecyFDRkJI"
      },
      "outputs": [],
      "source": [
        "# hyperparameters\n",
        "batch_size = 16 # how many independent sequences will we process in parallel?\n",
        "block_size = 32 # what is the maximum context length for predictions?\n",
        "max_iters = 5000\n",
        "eval_interval = 10\n",
        "learning_rate = 1e-3\n",
        "device = 'cuda' if torch.cuda.is_available() else 'cpu'\n",
        "eval_iters = 200\n",
        "n_embd = 64\n",
        "n_head = 4 ## so head_size = 16\n",
        "n_layer = 4\n",
        "dropout = 0.0\n",
        "# ------------"
      ]
    },
    {
      "cell_type": "markdown",
      "metadata": {
        "id": "a9FpcVLoRkJI"
      },
      "source": [
        "### Load in data and create train and test datasets"
      ]
    },
    {
      "cell_type": "markdown",
      "metadata": {
        "id": "YI_RHOTwRkJI"
      },
      "source": [
        "We're going to be using the tiny Shakespeare dataset.\n",
        "Data is tokenized according to a simple character based tokenizer.\n",
        "Data is split into a train and test set so we have something to test after performing training (9:1 split)."
      ]
    },
    {
      "cell_type": "code",
      "execution_count": 10,
      "metadata": {
        "id": "FaLACgVuRkJI"
      },
      "outputs": [],
      "source": [
        "with open('dataset/input.txt', 'r', encoding='utf-8') as f:\n",
        "    text = f.read()\n",
        "\n",
        "# here are all the unique characters that occur in this text\n",
        "chars = sorted(list(set(text)))\n",
        "vocab_size = len(chars)\n",
        "# create a mapping from characters to integers\n",
        "stoi = { ch:i for i,ch in enumerate(chars) }\n",
        "itos = { i:ch for i,ch in enumerate(chars) }\n",
        "encode = lambda s: [stoi[c] for c in s] # encoder: take a string, output a list of integers\n",
        "decode = lambda l: ''.join([itos[i] for i in l]) # decoder: take a list of integers, output a string\n",
        "\n",
        "# Train and test splits\n",
        "data = torch.tensor(encode(text), dtype=torch.long)\n",
        "n = int(0.9*len(data)) # first 90% will be train, rest val\n",
        "train_data = data[:n]\n",
        "val_data = data[n:]\n",
        "\n",
        "# data loading\n",
        "def get_batch(split):\n",
        "    # generate a small batch of data of inputs x and targets y\n",
        "    data = train_data if split == 'train' else val_data\n",
        "    ix = torch.randint(len(data) - block_size, (batch_size,))\n",
        "    x = torch.stack([data[i:i+block_size] for i in ix])\n",
        "    y = torch.stack([data[i+1:i+block_size+1] for i in ix])\n",
        "    x, y = x.to(device), y.to(device)\n",
        "    return x, y"
      ]
    },
    {
      "cell_type": "code",
      "source": [],
      "metadata": {
        "id": "tCDmj9yH2TeQ",
        "outputId": "7badcf3c-8d58-4aca-f894-89b3ef0d45f6",
        "colab": {
          "base_uri": "https://localhost:8080/"
        }
      },
      "execution_count": 57,
      "outputs": [
        {
          "output_type": "execute_result",
          "data": {
            "text/plain": [
              "torch.Size([1115394])"
            ]
          },
          "metadata": {},
          "execution_count": 57
        }
      ]
    },
    {
      "cell_type": "code",
      "source": [
        "ix = torch.randint(len(data) - block_size, (batch_size,))\n",
        "ix"
      ],
      "metadata": {
        "id": "9u7ECAmz2e3I",
        "outputId": "e9e6dbb8-9229-41e3-b0e1-28e054fa782c",
        "colab": {
          "base_uri": "https://localhost:8080/"
        }
      },
      "execution_count": 56,
      "outputs": [
        {
          "output_type": "execute_result",
          "data": {
            "text/plain": [
              "tensor([   8138,  940008,  395746,  432447,  559418,  727505,  344105,  360199,\n",
              "         812343,   19082,  334713, 1096942,  219261,  132458, 1096195,  122649])"
            ]
          },
          "metadata": {},
          "execution_count": 56
        }
      ]
    },
    {
      "cell_type": "markdown",
      "metadata": {
        "id": "hmq0fqODRkJI"
      },
      "source": [
        "### Set up the components of the Decoder block:\n",
        "* MultiHeadAttention\n",
        "* FeedForward Network"
      ]
    },
    {
      "cell_type": "code",
      "execution_count": 14,
      "metadata": {
        "id": "m29xpWgyRkJI"
      },
      "outputs": [],
      "source": [
        "class Head(nn.Module):\n",
        "    \"\"\" one head of self-attention \"\"\"\n",
        "\n",
        "    def __init__(self, head_size):\n",
        "        super().__init__()\n",
        "        self.key = nn.Linear(n_embd, head_size, bias=False)\n",
        "        self.query = nn.Linear(n_embd, head_size, bias=False)\n",
        "        self.value = nn.Linear(n_embd, head_size, bias=False)\n",
        "        self.register_buffer('tril', torch.tril(torch.ones(block_size, block_size)))\n",
        "\n",
        "        self.dropout = nn.Dropout(dropout)\n",
        "\n",
        "    def forward(self, x):\n",
        "        B,T,C = x.shape\n",
        "        k = self.key(x)   # (B,T,C) 16,32,16\n",
        "        q = self.query(x) # (B,T,C)\n",
        "        # compute attention scores (\"affinities\")\n",
        "        wei = q @ k.transpose(-2,-1) * C**-0.5 # (B, T, C) @ (B, C, T) -> (B, T, T)\n",
        "        wei = wei.masked_fill(self.tril[:T, :T] == 0, float('-inf')) # (B, T, T)\n",
        "        wei = F.softmax(wei, dim=-1) # (B, T, T)\n",
        "        wei = self.dropout(wei)\n",
        "        # perform the weighted aggregation of the values\n",
        "        v = self.value(x) # (B,T,C)\n",
        "        out = wei @ v # (B, T, T) @ (B, T, C) -> (B, T, C)\n",
        "        return out\n",
        "\n",
        "class MultiHeadAttention(nn.Module):\n",
        "    \"\"\" multiple heads of self-attention in parallel \"\"\"\n",
        "\n",
        "    def __init__(self, num_heads, head_size):\n",
        "        super().__init__()\n",
        "        self.heads = nn.ModuleList([Head(head_size) for _ in range(num_heads)])\n",
        "        self.proj = nn.Linear(n_embd, n_embd)\n",
        "        self.dropout = nn.Dropout(dropout)\n",
        "\n",
        "    def forward(self, x):\n",
        "        out = torch.cat([h(x) for h in self.heads], dim=-1)\n",
        "        out = self.dropout(self.proj(out))\n",
        "        return out\n",
        "\n",
        "class FeedFoward(nn.Module):\n",
        "    \"\"\" a simple linear layer followed by a non-linearity \"\"\"\n",
        "\n",
        "    def __init__(self, n_embd):\n",
        "        super().__init__()\n",
        "        self.net = nn.Sequential(\n",
        "            nn.Linear(n_embd, 4 * n_embd),\n",
        "            nn.ReLU(),\n",
        "            nn.Linear(4 * n_embd, n_embd), # Projection layer going back into the residual pathway\n",
        "            nn.Dropout(dropout),\n",
        "        )\n",
        "\n",
        "    def forward(self, x):\n",
        "        return self.net(x)\n"
      ]
    },
    {
      "cell_type": "markdown",
      "metadata": {
        "id": "-Ew7DYksRkJJ"
      },
      "source": [
        "### Combine components into the Decoder block"
      ]
    },
    {
      "cell_type": "code",
      "execution_count": 15,
      "metadata": {
        "id": "UZh0FkBIRkJJ"
      },
      "outputs": [],
      "source": [
        "class Block(nn.Module):\n",
        "    \"\"\" Transformer block: communication followed by computation \"\"\"\n",
        "\n",
        "    def __init__(self, n_embd, n_head):\n",
        "        # n_embd: embedding dimension, n_head: the number of heads we'd like\n",
        "        super().__init__()\n",
        "        head_size = n_embd // n_head\n",
        "        self.sa = MultiHeadAttention(n_head, head_size)\n",
        "        self.ffwd = FeedFoward(n_embd)\n",
        "        self.ln1 = nn.LayerNorm(n_embd)\n",
        "        self.ln2 = nn.LayerNorm(n_embd)\n",
        "\n",
        "    def forward(self, x):\n",
        "        x = x + self.sa(self.ln1(x))    # Communication\n",
        "        x = x + self.ffwd(self.ln2(x))  # Computation\n",
        "        return x"
      ]
    },
    {
      "cell_type": "markdown",
      "metadata": {
        "id": "eAxTw6ppRkJJ"
      },
      "source": [
        "### Set up the full Transformer model\n",
        "This is a combination of the Token embeddings, Positional embeddings, a stack of Transformer blocks and an output block."
      ]
    },
    {
      "cell_type": "code",
      "execution_count": 16,
      "metadata": {
        "id": "Fw7tOWlIRkJJ"
      },
      "outputs": [],
      "source": [
        "# super simple language model\n",
        "class LanguageModel(nn.Module):\n",
        "\n",
        "    def __init__(self):\n",
        "        super().__init__()\n",
        "        # each token directly reads off the logits for the next token from a lookup table\n",
        "        self.token_embedding_table = nn.Embedding(vocab_size, n_embd)\n",
        "        self.position_embedding_table = nn.Embedding(block_size, n_embd)\n",
        "        self.blocks = nn.Sequential(*[Block(n_embd, n_head=n_head) for _ in range(n_layer)])\n",
        "        self.ln_f = nn.LayerNorm(n_embd) # final layer norm\n",
        "        self.lm_head = nn.Linear(n_embd, vocab_size)\n",
        "\n",
        "    def forward(self, idx, targets=None):\n",
        "        B, T = idx.shape\n",
        "\n",
        "        # idx and targets are both (B,T) tensor of integers\n",
        "        tok_emb = self.token_embedding_table(idx) # (B,T,C)\n",
        "        pos_emb = self.position_embedding_table(torch.arange(T, device=device)) # (T,C)\n",
        "        x = tok_emb + pos_emb # (B,T,C)\n",
        "        x = self.blocks(x) # (B,T,C)\n",
        "        x = self.ln_f(x) # (B,T,C)\n",
        "        logits = self.lm_head(x) # (B,T,vocab_size)\n",
        "\n",
        "        if targets is None:\n",
        "            loss = None\n",
        "        else:\n",
        "            B, T, C = logits.shape\n",
        "            logits = logits.view(B*T, C)\n",
        "            targets = targets.view(B*T)\n",
        "            loss = F.cross_entropy(logits, targets)\n",
        "\n",
        "        return logits, loss\n",
        "\n",
        "    def generate(self, idx, max_new_tokens):\n",
        "        # idx is (B, T) array of indices in the current context\n",
        "        for _ in range(max_new_tokens):\n",
        "            # crop idx to the last block_size tokens\n",
        "            idx_cond = idx[:, -block_size:]\n",
        "            # get the predictions\n",
        "            logits, loss = self(idx_cond)\n",
        "            # focus only on the last time step\n",
        "            logits = logits[:, -1, :] # becomes (B, C)\n",
        "            # apply softmax to get probabilities\n",
        "            probs = F.softmax(logits, dim=-1) # (B, C)\n",
        "            # sample from the distribution\n",
        "            idx_next = torch.multinomial(probs, num_samples=1) # (B, 1)\n",
        "            # append sampled index to the running sequence\n",
        "            idx = torch.cat((idx, idx_next), dim=1) # (B, T+1)\n",
        "        return idx\n",
        "\n"
      ]
    },
    {
      "cell_type": "markdown",
      "metadata": {
        "id": "Yt7cWGM4RkJJ"
      },
      "source": [
        "We will be training a larger LLM on distributed resources in session 6."
      ]
    },
    {
      "cell_type": "markdown",
      "metadata": {
        "id": "U2NyPMz0RkJK"
      },
      "source": [
        "## Homework\n",
        "\n",
        "1. In this notebook, we learned the various components of an LLM.\n",
        "    Your homework this week is to take the mini LLM we created from scratch and run your own training loop. Show how the training and validation perplexity change over the steps.\n",
        "      \n",
        "    Hint: this function might be useful for you:"
      ]
    },
    {
      "cell_type": "code",
      "execution_count": 100,
      "metadata": {
        "id": "1LYDjnRtRkJK"
      },
      "outputs": [],
      "source": [
        "@torch.no_grad()\n",
        "def estimate_loss():\n",
        "    out = {}\n",
        "    model.eval()\n",
        "    for split in ['train', 'val']:\n",
        "        losses = torch.zeros(eval_iters).to(device)\n",
        "        for k in range(eval_iters):\n",
        "            X, Y = get_batch(split)\n",
        "            logits, loss = model(X, Y)\n",
        "            losses[k] = loss.item()\n",
        "        out[split] = losses.mean()\n",
        "    model.train()\n",
        "    return out"
      ]
    },
    {
      "cell_type": "code",
      "source": [
        "model = LanguageModel().to(device)\n",
        "optimizer = torch.optim.Adam(model.parameters(), lr=learning_rate)"
      ],
      "metadata": {
        "id": "9yTi6NeCxR8P"
      },
      "execution_count": 71,
      "outputs": []
    },
    {
      "cell_type": "code",
      "source": [
        "print(model)"
      ],
      "metadata": {
        "id": "G2lqRDsQ-nts",
        "outputId": "c734c240-5b67-46c4-8130-18ab398e871d",
        "colab": {
          "base_uri": "https://localhost:8080/"
        }
      },
      "execution_count": 75,
      "outputs": [
        {
          "output_type": "stream",
          "name": "stdout",
          "text": [
            "LanguageModel(\n",
            "  (token_embedding_table): Embedding(65, 64)\n",
            "  (position_embedding_table): Embedding(32, 64)\n",
            "  (blocks): Sequential(\n",
            "    (0): Block(\n",
            "      (sa): MultiHeadAttention(\n",
            "        (heads): ModuleList(\n",
            "          (0-3): 4 x Head(\n",
            "            (key): Linear(in_features=64, out_features=16, bias=False)\n",
            "            (query): Linear(in_features=64, out_features=16, bias=False)\n",
            "            (value): Linear(in_features=64, out_features=16, bias=False)\n",
            "            (dropout): Dropout(p=0.0, inplace=False)\n",
            "          )\n",
            "        )\n",
            "        (proj): Linear(in_features=64, out_features=64, bias=True)\n",
            "        (dropout): Dropout(p=0.0, inplace=False)\n",
            "      )\n",
            "      (ffwd): FeedFoward(\n",
            "        (net): Sequential(\n",
            "          (0): Linear(in_features=64, out_features=256, bias=True)\n",
            "          (1): ReLU()\n",
            "          (2): Linear(in_features=256, out_features=64, bias=True)\n",
            "          (3): Dropout(p=0.0, inplace=False)\n",
            "        )\n",
            "      )\n",
            "      (ln1): LayerNorm((64,), eps=1e-05, elementwise_affine=True)\n",
            "      (ln2): LayerNorm((64,), eps=1e-05, elementwise_affine=True)\n",
            "    )\n",
            "    (1): Block(\n",
            "      (sa): MultiHeadAttention(\n",
            "        (heads): ModuleList(\n",
            "          (0-3): 4 x Head(\n",
            "            (key): Linear(in_features=64, out_features=16, bias=False)\n",
            "            (query): Linear(in_features=64, out_features=16, bias=False)\n",
            "            (value): Linear(in_features=64, out_features=16, bias=False)\n",
            "            (dropout): Dropout(p=0.0, inplace=False)\n",
            "          )\n",
            "        )\n",
            "        (proj): Linear(in_features=64, out_features=64, bias=True)\n",
            "        (dropout): Dropout(p=0.0, inplace=False)\n",
            "      )\n",
            "      (ffwd): FeedFoward(\n",
            "        (net): Sequential(\n",
            "          (0): Linear(in_features=64, out_features=256, bias=True)\n",
            "          (1): ReLU()\n",
            "          (2): Linear(in_features=256, out_features=64, bias=True)\n",
            "          (3): Dropout(p=0.0, inplace=False)\n",
            "        )\n",
            "      )\n",
            "      (ln1): LayerNorm((64,), eps=1e-05, elementwise_affine=True)\n",
            "      (ln2): LayerNorm((64,), eps=1e-05, elementwise_affine=True)\n",
            "    )\n",
            "    (2): Block(\n",
            "      (sa): MultiHeadAttention(\n",
            "        (heads): ModuleList(\n",
            "          (0-3): 4 x Head(\n",
            "            (key): Linear(in_features=64, out_features=16, bias=False)\n",
            "            (query): Linear(in_features=64, out_features=16, bias=False)\n",
            "            (value): Linear(in_features=64, out_features=16, bias=False)\n",
            "            (dropout): Dropout(p=0.0, inplace=False)\n",
            "          )\n",
            "        )\n",
            "        (proj): Linear(in_features=64, out_features=64, bias=True)\n",
            "        (dropout): Dropout(p=0.0, inplace=False)\n",
            "      )\n",
            "      (ffwd): FeedFoward(\n",
            "        (net): Sequential(\n",
            "          (0): Linear(in_features=64, out_features=256, bias=True)\n",
            "          (1): ReLU()\n",
            "          (2): Linear(in_features=256, out_features=64, bias=True)\n",
            "          (3): Dropout(p=0.0, inplace=False)\n",
            "        )\n",
            "      )\n",
            "      (ln1): LayerNorm((64,), eps=1e-05, elementwise_affine=True)\n",
            "      (ln2): LayerNorm((64,), eps=1e-05, elementwise_affine=True)\n",
            "    )\n",
            "    (3): Block(\n",
            "      (sa): MultiHeadAttention(\n",
            "        (heads): ModuleList(\n",
            "          (0-3): 4 x Head(\n",
            "            (key): Linear(in_features=64, out_features=16, bias=False)\n",
            "            (query): Linear(in_features=64, out_features=16, bias=False)\n",
            "            (value): Linear(in_features=64, out_features=16, bias=False)\n",
            "            (dropout): Dropout(p=0.0, inplace=False)\n",
            "          )\n",
            "        )\n",
            "        (proj): Linear(in_features=64, out_features=64, bias=True)\n",
            "        (dropout): Dropout(p=0.0, inplace=False)\n",
            "      )\n",
            "      (ffwd): FeedFoward(\n",
            "        (net): Sequential(\n",
            "          (0): Linear(in_features=64, out_features=256, bias=True)\n",
            "          (1): ReLU()\n",
            "          (2): Linear(in_features=256, out_features=64, bias=True)\n",
            "          (3): Dropout(p=0.0, inplace=False)\n",
            "        )\n",
            "      )\n",
            "      (ln1): LayerNorm((64,), eps=1e-05, elementwise_affine=True)\n",
            "      (ln2): LayerNorm((64,), eps=1e-05, elementwise_affine=True)\n",
            "    )\n",
            "  )\n",
            "  (ln_f): LayerNorm((64,), eps=1e-05, elementwise_affine=True)\n",
            "  (lm_head): Linear(in_features=64, out_features=65, bias=True)\n",
            ")\n"
          ]
        }
      ]
    },
    {
      "cell_type": "code",
      "source": [
        "loss_final = []\n",
        "epochs = 1\n",
        "for epoch in range(epochs):\n",
        "  for i in range(100):\n",
        "    X, Y = get_batch('train')\n",
        "    logits, loss = model(X, Y)\n",
        "    loss.backward()\n",
        "    optimizer.step()\n",
        "    optimizer.zero_grad()\n",
        "  loss_final.append(loss.item())"
      ],
      "metadata": {
        "id": "XHsaMMcfx1z9"
      },
      "execution_count": 72,
      "outputs": []
    },
    {
      "cell_type": "code",
      "source": [
        "loss_final"
      ],
      "metadata": {
        "id": "Z2htYl94y5h2",
        "outputId": "18f9f1c1-8b6d-4bab-c4ea-e931e21dd4fc",
        "colab": {
          "base_uri": "https://localhost:8080/"
        }
      },
      "execution_count": 74,
      "outputs": [
        {
          "output_type": "execute_result",
          "data": {
            "text/plain": [
              "[2.7858381271362305]"
            ]
          },
          "metadata": {},
          "execution_count": 74
        }
      ]
    },
    {
      "cell_type": "code",
      "source": [
        "model = LanguageModel().to(device)\n",
        "optimizer = torch.optim.Adam(model.parameters(), lr=learning_rate)"
      ],
      "metadata": {
        "id": "JZqSf_mFTQWk"
      },
      "execution_count": 44,
      "outputs": []
    },
    {
      "cell_type": "code",
      "source": [
        "def estimate_loss2():\n",
        "    out = {}\n",
        "    model.eval()\n",
        "    for split in ['train', 'val']:\n",
        "        losses = torch.zeros(eval_iters).to(device)\n",
        "        for k in range(eval_iters):\n",
        "            X, Y = get_batch(split)\n",
        "            logits, loss = model(X, Y)\n",
        "            losses[k] = loss.item()\n",
        "        out[split] = losses.mean()\n",
        "    model.train()\n",
        "\n",
        "    return out\n"
      ],
      "metadata": {
        "id": "u8LrMZ6iigJ8"
      },
      "execution_count": 17,
      "outputs": []
    },
    {
      "cell_type": "code",
      "source": [
        "estimate_loss2()"
      ],
      "metadata": {
        "id": "6Gvf6Tgl9vq2"
      },
      "execution_count": null,
      "outputs": []
    },
    {
      "cell_type": "code",
      "source": [
        "def train_one_epoch(dataloader, model, loss_fn, optimizer):\n",
        "    model.train()\n",
        "    for X, y in enumerate(dataloader):\n",
        "        # forward pass\n",
        "        pred[0] = model(X,y)\n",
        "        loss = loss_fn(pred, y)\n",
        "\n",
        "        # backward pass calculates gradients\n",
        "        loss.backward()\n",
        "\n",
        "        # take one step with these gradients\n",
        "        optimizer.step()\n",
        "\n",
        "        # resets the gradients\n",
        "        optimizer.zero_grad()"
      ],
      "metadata": {
        "id": "W-Py3FG4lPv4"
      },
      "execution_count": 46,
      "outputs": []
    },
    {
      "cell_type": "code",
      "source": [
        "torch.exp(estimate_loss()['train'])"
      ],
      "metadata": {
        "id": "Juvv8pdrcb0k",
        "outputId": "8563539d-6717-4c3a-e520-fc8302f3afc4",
        "colab": {
          "base_uri": "https://localhost:8080/"
        }
      },
      "execution_count": 101,
      "outputs": [
        {
          "output_type": "execute_result",
          "data": {
            "text/plain": [
              "tensor(75.5714, device='cuda:0')"
            ]
          },
          "metadata": {},
          "execution_count": 101
        }
      ]
    },
    {
      "cell_type": "markdown",
      "metadata": {
        "id": "_ZYontl2RkJL"
      },
      "source": [
        "2. Run the same training loop but modify one of the hyperparameters from this list:"
      ]
    },
    {
      "cell_type": "code",
      "execution_count": null,
      "metadata": {
        "id": "m1tsrjpgRkJL"
      },
      "outputs": [],
      "source": [
        "# hyperparameters\n",
        "n_embd = 64\n",
        "n_head = 4 ## so head_size = 16\n",
        "n_layer = 4"
      ]
    },
    {
      "cell_type": "markdown",
      "source": [],
      "metadata": {
        "id": "GhaGTvY7R8W1"
      }
    },
    {
      "cell_type": "markdown",
      "metadata": {
        "id": "yRBUz9ySRkJL"
      },
      "source": [
        "Run this at least 4 times with a different value and plot each perplexity over training step. Write a sentence on how the perplexity changed."
      ]
    },
    {
      "cell_type": "markdown",
      "metadata": {
        "id": "Um2LFQRBRkJM"
      },
      "source": [
        "Bonus 1: output some generated text from each model you trained. Did the output make more sense with some hyperparameters than others?"
      ]
    },
    {
      "cell_type": "markdown",
      "metadata": {
        "id": "rvBEjdbARkJM"
      },
      "source": [
        "Bonus 2: We saw a cool visualization of attention mechanisms with BertViz. Take a more complicated model than GPT2 such as \"meta-llama/Llama-2-7b-chat-hf\" and see how the attention mechanisms are different"
      ]
    },
    {
      "cell_type": "code",
      "source": [
        "# Due to the meta model need authorization, so we have to login in the huggingface\n",
        "from huggingface_hub import notebook_login\n",
        "notebook_login()\n"
      ],
      "metadata": {
        "id": "jB6-jijbPEa_",
        "outputId": "3ee9eb20-61c6-4940-e76c-38db70f58058",
        "colab": {
          "base_uri": "https://localhost:8080/",
          "height": 145,
          "referenced_widgets": [
            "1a2e1700e894420da70ea0d1c932b9f8",
            "e59a91c966464da8bbf2a3b38400f0a8",
            "ae579c051f1148c6aca0148ec268992b",
            "16543b419fab4697b91e4a14e0e1dfa6",
            "b0a2b320b00e4b119d6993870f56117a",
            "08ae7809ecf54452bf917559779d6546",
            "6955ce78f8bd4645a39d66ffd3e17c7a",
            "b10fec6a55b14d139a6905f59adca126",
            "cc70714aac354845a827f45998279478",
            "bdedbe4c0da8408faa58a8e4d671a93f",
            "0512397453904a37825b7d6e4064462e",
            "6da225853dbf408097d3bae2c4cd33ff",
            "ddf26913522a4340a60d01c016d8d4e9",
            "9bef3924970e4508a71ed79589e86ccb",
            "2b51af9ee658420785c6b5a052074963",
            "630f69459e674a2483b97943696db3ea",
            "b56b651ee8d54bea8df1faa6211116ec",
            "e977baa7c57b4d7386a2b60ce068d303",
            "9ab38b8c448c48cbbf6111baeb46b65c",
            "369fab5670704adf94190b6bd5ca6e6e",
            "e80dcfa19e5c420c9e90ef1cd55e03fd",
            "e4174eca727a492d8daf0697470e7d71",
            "3e6a2b0920334102a59fb2a8fecc4139",
            "b2fe1d81f5b54181a60111ea5876d287",
            "eb24efae1a70440ea873950eb2934ddd",
            "202e956e6bc64970843d014fbb5b8f10",
            "a42f216c56ab4924803e8ed7b19b6c8e",
            "efb5200a83d143329d8ba80cea6330de",
            "654b5512869b4cbf81bb45ec1221dc30",
            "da5c0c11f76e494fa62a1777cf1a3d1f",
            "2c84a090914a43c6be75b6c370f3d294",
            "28eb64faf7f54023be48da9bca233a4f"
          ]
        }
      },
      "execution_count": 41,
      "outputs": [
        {
          "output_type": "display_data",
          "data": {
            "text/plain": [
              "VBox(children=(HTML(value='<center> <img\\nsrc=https://huggingface.co/front/assets/huggingface_logo-noborder.sv…"
            ],
            "application/vnd.jupyter.widget-view+json": {
              "version_major": 2,
              "version_minor": 0,
              "model_id": "1a2e1700e894420da70ea0d1c932b9f8"
            }
          },
          "metadata": {}
        }
      ]
    },
    {
      "cell_type": "code",
      "source": [
        "from transformers import AutoTokenizer, AutoModel, utils, AutoModelForCausalLM\n",
        "from bertviz import model_view\n",
        "# utils.logging.set_verbosity_error()  # Suppress standard warnings\n",
        "\n",
        "# model_name = 'batterydata/batterybert-uncased'\n",
        "model_name = 'meta-llama/Llama-2-7b-chat-hf'\n",
        "input_text = \"No, I am your father\"\n",
        "model = AutoModelForCausalLM.from_pretrained(model_name, output_attentions=True)\n",
        "tokenizer = AutoTokenizer.from_pretrained(model_name)\n",
        "inputs = tokenizer.encode(input_text, return_tensors='pt')  # Tokenize input text\n",
        "outputs = model(inputs)  # Run model\n",
        "attention = outputs[-1]  # Retrieve attention from model outputs\n",
        "tokens = tokenizer.convert_ids_to_tokens(inputs[0])  # Convert input ids to token strings\n",
        "model_view(attention, tokens)  # Display model view"
      ],
      "metadata": {
        "id": "cxH6cL2qMYdo",
        "outputId": "11c418f2-8793-4f1f-a813-5471190e8bcc",
        "colab": {
          "base_uri": "https://localhost:8080/",
          "height": 176,
          "referenced_widgets": [
            "d556abf3fe364063b04b5733879c7692",
            "022f630a9d8245f292ce2259b7ad96f3",
            "f803498593824f3fa65658cef9fbed31",
            "5196c6205de44bdf9de7919b818af36f",
            "ccb4bf8266f34a04ba72d39cddc933c7",
            "18d0d490f91e4565b602ab2ff9b903c9",
            "0e116b0e58f34f2c8f8f6123f5808711",
            "41bd43f621f44ca99ead9eebbe1a8b15",
            "bd964b027f3d4144a89666626df7bc90",
            "1d6a7d0990cc47a19c89e12efb9ae9cf",
            "ccefa1dfe2f74c3bbad276163bb40cb7"
          ]
        }
      },
      "execution_count": null,
      "outputs": [
        {
          "output_type": "stream",
          "name": "stderr",
          "text": [
            "/usr/local/lib/python3.10/dist-packages/huggingface_hub/utils/_token.py:88: UserWarning: \n",
            "The secret `HF_TOKEN` does not exist in your Colab secrets.\n",
            "To authenticate with the Hugging Face Hub, create a token in your settings tab (https://huggingface.co/settings/tokens), set it as secret in your Google Colab and restart your session.\n",
            "You will be able to reuse this secret in all of your notebooks.\n",
            "Please note that authentication is recommended but still optional to access public models or datasets.\n",
            "  warnings.warn(\n"
          ]
        },
        {
          "output_type": "display_data",
          "data": {
            "text/plain": [
              "Loading checkpoint shards:   0%|          | 0/2 [00:00<?, ?it/s]"
            ],
            "application/vnd.jupyter.widget-view+json": {
              "version_major": 2,
              "version_minor": 0,
              "model_id": "d556abf3fe364063b04b5733879c7692"
            }
          },
          "metadata": {}
        }
      ]
    },
    {
      "cell_type": "markdown",
      "metadata": {
        "id": "nDXLTusqxXHf"
      },
      "source": [
        "## References"
      ]
    },
    {
      "cell_type": "markdown",
      "metadata": {
        "id": "OQJcV7w_RkJN"
      },
      "source": [
        "Here are some recommendations for further reading and additional code for review.\n",
        "\n",
        "* \"The Illustrated Transformer\" by Jay Alammar\n",
        "* \"Visualizing A Neural Machine Translation Model (Mechanics of Seq2seq Models With Attention)\"\n",
        "* \"The Illustrated GPT-2 (Visualizing Transformer Language Models)\"\n",
        "* \"A gentle introduction to positional encoding\"\n",
        "* \"LLM Tutorial Workshop (Argonne National Laboratory)\"\n",
        "* \"LLM Tutorial Workshop Part 2 (Argonne National Laboratory)\""
      ]
    },
    {
      "cell_type": "code",
      "execution_count": null,
      "metadata": {
        "id": "ANYZR4EtRkJN"
      },
      "outputs": [],
      "source": []
    }
  ],
  "metadata": {
    "colab": {
      "provenance": [],
      "toc_visible": true
    },
    "kernelspec": {
      "display_name": "Python 3",
      "name": "python3"
    },
    "language_info": {
      "codemirror_mode": {
        "name": "ipython",
        "version": 3
      },
      "file_extension": ".py",
      "mimetype": "text/x-python",
      "name": "python",
      "nbconvert_exporter": "python",
      "pygments_lexer": "ipython3",
      "version": "3.11.3"
    },
    "widgets": {
      "application/vnd.jupyter.widget-state+json": {
        "f377c4dc8a874d9a976a9355e0684ad0": {
          "model_module": "@jupyter-widgets/controls",
          "model_name": "HBoxModel",
          "model_module_version": "1.5.0",
          "state": {
            "_dom_classes": [],
            "_model_module": "@jupyter-widgets/controls",
            "_model_module_version": "1.5.0",
            "_model_name": "HBoxModel",
            "_view_count": null,
            "_view_module": "@jupyter-widgets/controls",
            "_view_module_version": "1.5.0",
            "_view_name": "HBoxView",
            "box_style": "",
            "children": [
              "IPY_MODEL_086c8aa6cd3741bd82e5e14ea877ff37",
              "IPY_MODEL_fb6319f368644431a22e3cb3cb80b1d4",
              "IPY_MODEL_05562e354d1e4cbfadfb3a0ff44adcd3"
            ],
            "layout": "IPY_MODEL_5772cf5ca930420fa866aee16e0fa337"
          }
        },
        "086c8aa6cd3741bd82e5e14ea877ff37": {
          "model_module": "@jupyter-widgets/controls",
          "model_name": "HTMLModel",
          "model_module_version": "1.5.0",
          "state": {
            "_dom_classes": [],
            "_model_module": "@jupyter-widgets/controls",
            "_model_module_version": "1.5.0",
            "_model_name": "HTMLModel",
            "_view_count": null,
            "_view_module": "@jupyter-widgets/controls",
            "_view_module_version": "1.5.0",
            "_view_name": "HTMLView",
            "description": "",
            "description_tooltip": null,
            "layout": "IPY_MODEL_4a2b0645755c478089eb325d9c8664c8",
            "placeholder": "​",
            "style": "IPY_MODEL_a3e0f5d549be4b809068dbbaf59c5582",
            "value": "tokenizer_config.json: 100%"
          }
        },
        "fb6319f368644431a22e3cb3cb80b1d4": {
          "model_module": "@jupyter-widgets/controls",
          "model_name": "FloatProgressModel",
          "model_module_version": "1.5.0",
          "state": {
            "_dom_classes": [],
            "_model_module": "@jupyter-widgets/controls",
            "_model_module_version": "1.5.0",
            "_model_name": "FloatProgressModel",
            "_view_count": null,
            "_view_module": "@jupyter-widgets/controls",
            "_view_module_version": "1.5.0",
            "_view_name": "ProgressView",
            "bar_style": "success",
            "description": "",
            "description_tooltip": null,
            "layout": "IPY_MODEL_371cda03909b4145804aa218b2d24e86",
            "max": 26,
            "min": 0,
            "orientation": "horizontal",
            "style": "IPY_MODEL_986e297c8ba84a918563db6da8b54080",
            "value": 26
          }
        },
        "05562e354d1e4cbfadfb3a0ff44adcd3": {
          "model_module": "@jupyter-widgets/controls",
          "model_name": "HTMLModel",
          "model_module_version": "1.5.0",
          "state": {
            "_dom_classes": [],
            "_model_module": "@jupyter-widgets/controls",
            "_model_module_version": "1.5.0",
            "_model_name": "HTMLModel",
            "_view_count": null,
            "_view_module": "@jupyter-widgets/controls",
            "_view_module_version": "1.5.0",
            "_view_name": "HTMLView",
            "description": "",
            "description_tooltip": null,
            "layout": "IPY_MODEL_cdcdbf423bd849beaf823ebe124c9dee",
            "placeholder": "​",
            "style": "IPY_MODEL_bc69caf65a8c48aca3982d7b7d49829e",
            "value": " 26.0/26.0 [00:00&lt;00:00, 1.61kB/s]"
          }
        },
        "5772cf5ca930420fa866aee16e0fa337": {
          "model_module": "@jupyter-widgets/base",
          "model_name": "LayoutModel",
          "model_module_version": "1.2.0",
          "state": {
            "_model_module": "@jupyter-widgets/base",
            "_model_module_version": "1.2.0",
            "_model_name": "LayoutModel",
            "_view_count": null,
            "_view_module": "@jupyter-widgets/base",
            "_view_module_version": "1.2.0",
            "_view_name": "LayoutView",
            "align_content": null,
            "align_items": null,
            "align_self": null,
            "border": null,
            "bottom": null,
            "display": null,
            "flex": null,
            "flex_flow": null,
            "grid_area": null,
            "grid_auto_columns": null,
            "grid_auto_flow": null,
            "grid_auto_rows": null,
            "grid_column": null,
            "grid_gap": null,
            "grid_row": null,
            "grid_template_areas": null,
            "grid_template_columns": null,
            "grid_template_rows": null,
            "height": null,
            "justify_content": null,
            "justify_items": null,
            "left": null,
            "margin": null,
            "max_height": null,
            "max_width": null,
            "min_height": null,
            "min_width": null,
            "object_fit": null,
            "object_position": null,
            "order": null,
            "overflow": null,
            "overflow_x": null,
            "overflow_y": null,
            "padding": null,
            "right": null,
            "top": null,
            "visibility": null,
            "width": null
          }
        },
        "4a2b0645755c478089eb325d9c8664c8": {
          "model_module": "@jupyter-widgets/base",
          "model_name": "LayoutModel",
          "model_module_version": "1.2.0",
          "state": {
            "_model_module": "@jupyter-widgets/base",
            "_model_module_version": "1.2.0",
            "_model_name": "LayoutModel",
            "_view_count": null,
            "_view_module": "@jupyter-widgets/base",
            "_view_module_version": "1.2.0",
            "_view_name": "LayoutView",
            "align_content": null,
            "align_items": null,
            "align_self": null,
            "border": null,
            "bottom": null,
            "display": null,
            "flex": null,
            "flex_flow": null,
            "grid_area": null,
            "grid_auto_columns": null,
            "grid_auto_flow": null,
            "grid_auto_rows": null,
            "grid_column": null,
            "grid_gap": null,
            "grid_row": null,
            "grid_template_areas": null,
            "grid_template_columns": null,
            "grid_template_rows": null,
            "height": null,
            "justify_content": null,
            "justify_items": null,
            "left": null,
            "margin": null,
            "max_height": null,
            "max_width": null,
            "min_height": null,
            "min_width": null,
            "object_fit": null,
            "object_position": null,
            "order": null,
            "overflow": null,
            "overflow_x": null,
            "overflow_y": null,
            "padding": null,
            "right": null,
            "top": null,
            "visibility": null,
            "width": null
          }
        },
        "a3e0f5d549be4b809068dbbaf59c5582": {
          "model_module": "@jupyter-widgets/controls",
          "model_name": "DescriptionStyleModel",
          "model_module_version": "1.5.0",
          "state": {
            "_model_module": "@jupyter-widgets/controls",
            "_model_module_version": "1.5.0",
            "_model_name": "DescriptionStyleModel",
            "_view_count": null,
            "_view_module": "@jupyter-widgets/base",
            "_view_module_version": "1.2.0",
            "_view_name": "StyleView",
            "description_width": ""
          }
        },
        "371cda03909b4145804aa218b2d24e86": {
          "model_module": "@jupyter-widgets/base",
          "model_name": "LayoutModel",
          "model_module_version": "1.2.0",
          "state": {
            "_model_module": "@jupyter-widgets/base",
            "_model_module_version": "1.2.0",
            "_model_name": "LayoutModel",
            "_view_count": null,
            "_view_module": "@jupyter-widgets/base",
            "_view_module_version": "1.2.0",
            "_view_name": "LayoutView",
            "align_content": null,
            "align_items": null,
            "align_self": null,
            "border": null,
            "bottom": null,
            "display": null,
            "flex": null,
            "flex_flow": null,
            "grid_area": null,
            "grid_auto_columns": null,
            "grid_auto_flow": null,
            "grid_auto_rows": null,
            "grid_column": null,
            "grid_gap": null,
            "grid_row": null,
            "grid_template_areas": null,
            "grid_template_columns": null,
            "grid_template_rows": null,
            "height": null,
            "justify_content": null,
            "justify_items": null,
            "left": null,
            "margin": null,
            "max_height": null,
            "max_width": null,
            "min_height": null,
            "min_width": null,
            "object_fit": null,
            "object_position": null,
            "order": null,
            "overflow": null,
            "overflow_x": null,
            "overflow_y": null,
            "padding": null,
            "right": null,
            "top": null,
            "visibility": null,
            "width": null
          }
        },
        "986e297c8ba84a918563db6da8b54080": {
          "model_module": "@jupyter-widgets/controls",
          "model_name": "ProgressStyleModel",
          "model_module_version": "1.5.0",
          "state": {
            "_model_module": "@jupyter-widgets/controls",
            "_model_module_version": "1.5.0",
            "_model_name": "ProgressStyleModel",
            "_view_count": null,
            "_view_module": "@jupyter-widgets/base",
            "_view_module_version": "1.2.0",
            "_view_name": "StyleView",
            "bar_color": null,
            "description_width": ""
          }
        },
        "cdcdbf423bd849beaf823ebe124c9dee": {
          "model_module": "@jupyter-widgets/base",
          "model_name": "LayoutModel",
          "model_module_version": "1.2.0",
          "state": {
            "_model_module": "@jupyter-widgets/base",
            "_model_module_version": "1.2.0",
            "_model_name": "LayoutModel",
            "_view_count": null,
            "_view_module": "@jupyter-widgets/base",
            "_view_module_version": "1.2.0",
            "_view_name": "LayoutView",
            "align_content": null,
            "align_items": null,
            "align_self": null,
            "border": null,
            "bottom": null,
            "display": null,
            "flex": null,
            "flex_flow": null,
            "grid_area": null,
            "grid_auto_columns": null,
            "grid_auto_flow": null,
            "grid_auto_rows": null,
            "grid_column": null,
            "grid_gap": null,
            "grid_row": null,
            "grid_template_areas": null,
            "grid_template_columns": null,
            "grid_template_rows": null,
            "height": null,
            "justify_content": null,
            "justify_items": null,
            "left": null,
            "margin": null,
            "max_height": null,
            "max_width": null,
            "min_height": null,
            "min_width": null,
            "object_fit": null,
            "object_position": null,
            "order": null,
            "overflow": null,
            "overflow_x": null,
            "overflow_y": null,
            "padding": null,
            "right": null,
            "top": null,
            "visibility": null,
            "width": null
          }
        },
        "bc69caf65a8c48aca3982d7b7d49829e": {
          "model_module": "@jupyter-widgets/controls",
          "model_name": "DescriptionStyleModel",
          "model_module_version": "1.5.0",
          "state": {
            "_model_module": "@jupyter-widgets/controls",
            "_model_module_version": "1.5.0",
            "_model_name": "DescriptionStyleModel",
            "_view_count": null,
            "_view_module": "@jupyter-widgets/base",
            "_view_module_version": "1.2.0",
            "_view_name": "StyleView",
            "description_width": ""
          }
        },
        "6814773d160d4c71831db27ae5f0fa72": {
          "model_module": "@jupyter-widgets/controls",
          "model_name": "HBoxModel",
          "model_module_version": "1.5.0",
          "state": {
            "_dom_classes": [],
            "_model_module": "@jupyter-widgets/controls",
            "_model_module_version": "1.5.0",
            "_model_name": "HBoxModel",
            "_view_count": null,
            "_view_module": "@jupyter-widgets/controls",
            "_view_module_version": "1.5.0",
            "_view_name": "HBoxView",
            "box_style": "",
            "children": [
              "IPY_MODEL_1319def5718d4397846fe945a28b669e",
              "IPY_MODEL_fb13460704f7415a82f77d189dfea92c",
              "IPY_MODEL_278a10b1848b41729c74eaf3ec4fc609"
            ],
            "layout": "IPY_MODEL_d57ba5c6a67b443f8fbc40f625e3d995"
          }
        },
        "1319def5718d4397846fe945a28b669e": {
          "model_module": "@jupyter-widgets/controls",
          "model_name": "HTMLModel",
          "model_module_version": "1.5.0",
          "state": {
            "_dom_classes": [],
            "_model_module": "@jupyter-widgets/controls",
            "_model_module_version": "1.5.0",
            "_model_name": "HTMLModel",
            "_view_count": null,
            "_view_module": "@jupyter-widgets/controls",
            "_view_module_version": "1.5.0",
            "_view_name": "HTMLView",
            "description": "",
            "description_tooltip": null,
            "layout": "IPY_MODEL_c6da7198b77a4958815b46fd948ace3a",
            "placeholder": "​",
            "style": "IPY_MODEL_e8292ac93c124da79be2525ee45be013",
            "value": "config.json: 100%"
          }
        },
        "fb13460704f7415a82f77d189dfea92c": {
          "model_module": "@jupyter-widgets/controls",
          "model_name": "FloatProgressModel",
          "model_module_version": "1.5.0",
          "state": {
            "_dom_classes": [],
            "_model_module": "@jupyter-widgets/controls",
            "_model_module_version": "1.5.0",
            "_model_name": "FloatProgressModel",
            "_view_count": null,
            "_view_module": "@jupyter-widgets/controls",
            "_view_module_version": "1.5.0",
            "_view_name": "ProgressView",
            "bar_style": "success",
            "description": "",
            "description_tooltip": null,
            "layout": "IPY_MODEL_b7272e828365438bb71aed097b6d9c65",
            "max": 665,
            "min": 0,
            "orientation": "horizontal",
            "style": "IPY_MODEL_cb992a1d981340c2b75dcf9b05c83dca",
            "value": 665
          }
        },
        "278a10b1848b41729c74eaf3ec4fc609": {
          "model_module": "@jupyter-widgets/controls",
          "model_name": "HTMLModel",
          "model_module_version": "1.5.0",
          "state": {
            "_dom_classes": [],
            "_model_module": "@jupyter-widgets/controls",
            "_model_module_version": "1.5.0",
            "_model_name": "HTMLModel",
            "_view_count": null,
            "_view_module": "@jupyter-widgets/controls",
            "_view_module_version": "1.5.0",
            "_view_name": "HTMLView",
            "description": "",
            "description_tooltip": null,
            "layout": "IPY_MODEL_08ed8d4307aa47d9b4d1f49e3ca9e961",
            "placeholder": "​",
            "style": "IPY_MODEL_9c62183e11b849c6868f934f27b49ba3",
            "value": " 665/665 [00:00&lt;00:00, 46.2kB/s]"
          }
        },
        "d57ba5c6a67b443f8fbc40f625e3d995": {
          "model_module": "@jupyter-widgets/base",
          "model_name": "LayoutModel",
          "model_module_version": "1.2.0",
          "state": {
            "_model_module": "@jupyter-widgets/base",
            "_model_module_version": "1.2.0",
            "_model_name": "LayoutModel",
            "_view_count": null,
            "_view_module": "@jupyter-widgets/base",
            "_view_module_version": "1.2.0",
            "_view_name": "LayoutView",
            "align_content": null,
            "align_items": null,
            "align_self": null,
            "border": null,
            "bottom": null,
            "display": null,
            "flex": null,
            "flex_flow": null,
            "grid_area": null,
            "grid_auto_columns": null,
            "grid_auto_flow": null,
            "grid_auto_rows": null,
            "grid_column": null,
            "grid_gap": null,
            "grid_row": null,
            "grid_template_areas": null,
            "grid_template_columns": null,
            "grid_template_rows": null,
            "height": null,
            "justify_content": null,
            "justify_items": null,
            "left": null,
            "margin": null,
            "max_height": null,
            "max_width": null,
            "min_height": null,
            "min_width": null,
            "object_fit": null,
            "object_position": null,
            "order": null,
            "overflow": null,
            "overflow_x": null,
            "overflow_y": null,
            "padding": null,
            "right": null,
            "top": null,
            "visibility": null,
            "width": null
          }
        },
        "c6da7198b77a4958815b46fd948ace3a": {
          "model_module": "@jupyter-widgets/base",
          "model_name": "LayoutModel",
          "model_module_version": "1.2.0",
          "state": {
            "_model_module": "@jupyter-widgets/base",
            "_model_module_version": "1.2.0",
            "_model_name": "LayoutModel",
            "_view_count": null,
            "_view_module": "@jupyter-widgets/base",
            "_view_module_version": "1.2.0",
            "_view_name": "LayoutView",
            "align_content": null,
            "align_items": null,
            "align_self": null,
            "border": null,
            "bottom": null,
            "display": null,
            "flex": null,
            "flex_flow": null,
            "grid_area": null,
            "grid_auto_columns": null,
            "grid_auto_flow": null,
            "grid_auto_rows": null,
            "grid_column": null,
            "grid_gap": null,
            "grid_row": null,
            "grid_template_areas": null,
            "grid_template_columns": null,
            "grid_template_rows": null,
            "height": null,
            "justify_content": null,
            "justify_items": null,
            "left": null,
            "margin": null,
            "max_height": null,
            "max_width": null,
            "min_height": null,
            "min_width": null,
            "object_fit": null,
            "object_position": null,
            "order": null,
            "overflow": null,
            "overflow_x": null,
            "overflow_y": null,
            "padding": null,
            "right": null,
            "top": null,
            "visibility": null,
            "width": null
          }
        },
        "e8292ac93c124da79be2525ee45be013": {
          "model_module": "@jupyter-widgets/controls",
          "model_name": "DescriptionStyleModel",
          "model_module_version": "1.5.0",
          "state": {
            "_model_module": "@jupyter-widgets/controls",
            "_model_module_version": "1.5.0",
            "_model_name": "DescriptionStyleModel",
            "_view_count": null,
            "_view_module": "@jupyter-widgets/base",
            "_view_module_version": "1.2.0",
            "_view_name": "StyleView",
            "description_width": ""
          }
        },
        "b7272e828365438bb71aed097b6d9c65": {
          "model_module": "@jupyter-widgets/base",
          "model_name": "LayoutModel",
          "model_module_version": "1.2.0",
          "state": {
            "_model_module": "@jupyter-widgets/base",
            "_model_module_version": "1.2.0",
            "_model_name": "LayoutModel",
            "_view_count": null,
            "_view_module": "@jupyter-widgets/base",
            "_view_module_version": "1.2.0",
            "_view_name": "LayoutView",
            "align_content": null,
            "align_items": null,
            "align_self": null,
            "border": null,
            "bottom": null,
            "display": null,
            "flex": null,
            "flex_flow": null,
            "grid_area": null,
            "grid_auto_columns": null,
            "grid_auto_flow": null,
            "grid_auto_rows": null,
            "grid_column": null,
            "grid_gap": null,
            "grid_row": null,
            "grid_template_areas": null,
            "grid_template_columns": null,
            "grid_template_rows": null,
            "height": null,
            "justify_content": null,
            "justify_items": null,
            "left": null,
            "margin": null,
            "max_height": null,
            "max_width": null,
            "min_height": null,
            "min_width": null,
            "object_fit": null,
            "object_position": null,
            "order": null,
            "overflow": null,
            "overflow_x": null,
            "overflow_y": null,
            "padding": null,
            "right": null,
            "top": null,
            "visibility": null,
            "width": null
          }
        },
        "cb992a1d981340c2b75dcf9b05c83dca": {
          "model_module": "@jupyter-widgets/controls",
          "model_name": "ProgressStyleModel",
          "model_module_version": "1.5.0",
          "state": {
            "_model_module": "@jupyter-widgets/controls",
            "_model_module_version": "1.5.0",
            "_model_name": "ProgressStyleModel",
            "_view_count": null,
            "_view_module": "@jupyter-widgets/base",
            "_view_module_version": "1.2.0",
            "_view_name": "StyleView",
            "bar_color": null,
            "description_width": ""
          }
        },
        "08ed8d4307aa47d9b4d1f49e3ca9e961": {
          "model_module": "@jupyter-widgets/base",
          "model_name": "LayoutModel",
          "model_module_version": "1.2.0",
          "state": {
            "_model_module": "@jupyter-widgets/base",
            "_model_module_version": "1.2.0",
            "_model_name": "LayoutModel",
            "_view_count": null,
            "_view_module": "@jupyter-widgets/base",
            "_view_module_version": "1.2.0",
            "_view_name": "LayoutView",
            "align_content": null,
            "align_items": null,
            "align_self": null,
            "border": null,
            "bottom": null,
            "display": null,
            "flex": null,
            "flex_flow": null,
            "grid_area": null,
            "grid_auto_columns": null,
            "grid_auto_flow": null,
            "grid_auto_rows": null,
            "grid_column": null,
            "grid_gap": null,
            "grid_row": null,
            "grid_template_areas": null,
            "grid_template_columns": null,
            "grid_template_rows": null,
            "height": null,
            "justify_content": null,
            "justify_items": null,
            "left": null,
            "margin": null,
            "max_height": null,
            "max_width": null,
            "min_height": null,
            "min_width": null,
            "object_fit": null,
            "object_position": null,
            "order": null,
            "overflow": null,
            "overflow_x": null,
            "overflow_y": null,
            "padding": null,
            "right": null,
            "top": null,
            "visibility": null,
            "width": null
          }
        },
        "9c62183e11b849c6868f934f27b49ba3": {
          "model_module": "@jupyter-widgets/controls",
          "model_name": "DescriptionStyleModel",
          "model_module_version": "1.5.0",
          "state": {
            "_model_module": "@jupyter-widgets/controls",
            "_model_module_version": "1.5.0",
            "_model_name": "DescriptionStyleModel",
            "_view_count": null,
            "_view_module": "@jupyter-widgets/base",
            "_view_module_version": "1.2.0",
            "_view_name": "StyleView",
            "description_width": ""
          }
        },
        "2f440a92d009477aa39af929631876a0": {
          "model_module": "@jupyter-widgets/controls",
          "model_name": "HBoxModel",
          "model_module_version": "1.5.0",
          "state": {
            "_dom_classes": [],
            "_model_module": "@jupyter-widgets/controls",
            "_model_module_version": "1.5.0",
            "_model_name": "HBoxModel",
            "_view_count": null,
            "_view_module": "@jupyter-widgets/controls",
            "_view_module_version": "1.5.0",
            "_view_name": "HBoxView",
            "box_style": "",
            "children": [
              "IPY_MODEL_aa7cb6bce19d43d2aa5ba5360f760947",
              "IPY_MODEL_c49ed470c9a3443dac7a894cc8ac52a1",
              "IPY_MODEL_3a38021e5ec0481fb6c89f1af35d0630"
            ],
            "layout": "IPY_MODEL_e64befe259a84a38b215d13b6aafb8cf"
          }
        },
        "aa7cb6bce19d43d2aa5ba5360f760947": {
          "model_module": "@jupyter-widgets/controls",
          "model_name": "HTMLModel",
          "model_module_version": "1.5.0",
          "state": {
            "_dom_classes": [],
            "_model_module": "@jupyter-widgets/controls",
            "_model_module_version": "1.5.0",
            "_model_name": "HTMLModel",
            "_view_count": null,
            "_view_module": "@jupyter-widgets/controls",
            "_view_module_version": "1.5.0",
            "_view_name": "HTMLView",
            "description": "",
            "description_tooltip": null,
            "layout": "IPY_MODEL_3be8bec8f2df412aa36bbc465b6ccb8a",
            "placeholder": "​",
            "style": "IPY_MODEL_139c81d0717c43008ec4300b795c5a0a",
            "value": "vocab.json: 100%"
          }
        },
        "c49ed470c9a3443dac7a894cc8ac52a1": {
          "model_module": "@jupyter-widgets/controls",
          "model_name": "FloatProgressModel",
          "model_module_version": "1.5.0",
          "state": {
            "_dom_classes": [],
            "_model_module": "@jupyter-widgets/controls",
            "_model_module_version": "1.5.0",
            "_model_name": "FloatProgressModel",
            "_view_count": null,
            "_view_module": "@jupyter-widgets/controls",
            "_view_module_version": "1.5.0",
            "_view_name": "ProgressView",
            "bar_style": "success",
            "description": "",
            "description_tooltip": null,
            "layout": "IPY_MODEL_a8d080b5cdee48568884f1dc9576636d",
            "max": 1042301,
            "min": 0,
            "orientation": "horizontal",
            "style": "IPY_MODEL_1dc38caf28294f81afb903adb66d87bd",
            "value": 1042301
          }
        },
        "3a38021e5ec0481fb6c89f1af35d0630": {
          "model_module": "@jupyter-widgets/controls",
          "model_name": "HTMLModel",
          "model_module_version": "1.5.0",
          "state": {
            "_dom_classes": [],
            "_model_module": "@jupyter-widgets/controls",
            "_model_module_version": "1.5.0",
            "_model_name": "HTMLModel",
            "_view_count": null,
            "_view_module": "@jupyter-widgets/controls",
            "_view_module_version": "1.5.0",
            "_view_name": "HTMLView",
            "description": "",
            "description_tooltip": null,
            "layout": "IPY_MODEL_79c90446d3434ec39aef9a0dadebbff8",
            "placeholder": "​",
            "style": "IPY_MODEL_80426c02c97b42c0a7f64626d2005222",
            "value": " 1.04M/1.04M [00:00&lt;00:00, 13.5MB/s]"
          }
        },
        "e64befe259a84a38b215d13b6aafb8cf": {
          "model_module": "@jupyter-widgets/base",
          "model_name": "LayoutModel",
          "model_module_version": "1.2.0",
          "state": {
            "_model_module": "@jupyter-widgets/base",
            "_model_module_version": "1.2.0",
            "_model_name": "LayoutModel",
            "_view_count": null,
            "_view_module": "@jupyter-widgets/base",
            "_view_module_version": "1.2.0",
            "_view_name": "LayoutView",
            "align_content": null,
            "align_items": null,
            "align_self": null,
            "border": null,
            "bottom": null,
            "display": null,
            "flex": null,
            "flex_flow": null,
            "grid_area": null,
            "grid_auto_columns": null,
            "grid_auto_flow": null,
            "grid_auto_rows": null,
            "grid_column": null,
            "grid_gap": null,
            "grid_row": null,
            "grid_template_areas": null,
            "grid_template_columns": null,
            "grid_template_rows": null,
            "height": null,
            "justify_content": null,
            "justify_items": null,
            "left": null,
            "margin": null,
            "max_height": null,
            "max_width": null,
            "min_height": null,
            "min_width": null,
            "object_fit": null,
            "object_position": null,
            "order": null,
            "overflow": null,
            "overflow_x": null,
            "overflow_y": null,
            "padding": null,
            "right": null,
            "top": null,
            "visibility": null,
            "width": null
          }
        },
        "3be8bec8f2df412aa36bbc465b6ccb8a": {
          "model_module": "@jupyter-widgets/base",
          "model_name": "LayoutModel",
          "model_module_version": "1.2.0",
          "state": {
            "_model_module": "@jupyter-widgets/base",
            "_model_module_version": "1.2.0",
            "_model_name": "LayoutModel",
            "_view_count": null,
            "_view_module": "@jupyter-widgets/base",
            "_view_module_version": "1.2.0",
            "_view_name": "LayoutView",
            "align_content": null,
            "align_items": null,
            "align_self": null,
            "border": null,
            "bottom": null,
            "display": null,
            "flex": null,
            "flex_flow": null,
            "grid_area": null,
            "grid_auto_columns": null,
            "grid_auto_flow": null,
            "grid_auto_rows": null,
            "grid_column": null,
            "grid_gap": null,
            "grid_row": null,
            "grid_template_areas": null,
            "grid_template_columns": null,
            "grid_template_rows": null,
            "height": null,
            "justify_content": null,
            "justify_items": null,
            "left": null,
            "margin": null,
            "max_height": null,
            "max_width": null,
            "min_height": null,
            "min_width": null,
            "object_fit": null,
            "object_position": null,
            "order": null,
            "overflow": null,
            "overflow_x": null,
            "overflow_y": null,
            "padding": null,
            "right": null,
            "top": null,
            "visibility": null,
            "width": null
          }
        },
        "139c81d0717c43008ec4300b795c5a0a": {
          "model_module": "@jupyter-widgets/controls",
          "model_name": "DescriptionStyleModel",
          "model_module_version": "1.5.0",
          "state": {
            "_model_module": "@jupyter-widgets/controls",
            "_model_module_version": "1.5.0",
            "_model_name": "DescriptionStyleModel",
            "_view_count": null,
            "_view_module": "@jupyter-widgets/base",
            "_view_module_version": "1.2.0",
            "_view_name": "StyleView",
            "description_width": ""
          }
        },
        "a8d080b5cdee48568884f1dc9576636d": {
          "model_module": "@jupyter-widgets/base",
          "model_name": "LayoutModel",
          "model_module_version": "1.2.0",
          "state": {
            "_model_module": "@jupyter-widgets/base",
            "_model_module_version": "1.2.0",
            "_model_name": "LayoutModel",
            "_view_count": null,
            "_view_module": "@jupyter-widgets/base",
            "_view_module_version": "1.2.0",
            "_view_name": "LayoutView",
            "align_content": null,
            "align_items": null,
            "align_self": null,
            "border": null,
            "bottom": null,
            "display": null,
            "flex": null,
            "flex_flow": null,
            "grid_area": null,
            "grid_auto_columns": null,
            "grid_auto_flow": null,
            "grid_auto_rows": null,
            "grid_column": null,
            "grid_gap": null,
            "grid_row": null,
            "grid_template_areas": null,
            "grid_template_columns": null,
            "grid_template_rows": null,
            "height": null,
            "justify_content": null,
            "justify_items": null,
            "left": null,
            "margin": null,
            "max_height": null,
            "max_width": null,
            "min_height": null,
            "min_width": null,
            "object_fit": null,
            "object_position": null,
            "order": null,
            "overflow": null,
            "overflow_x": null,
            "overflow_y": null,
            "padding": null,
            "right": null,
            "top": null,
            "visibility": null,
            "width": null
          }
        },
        "1dc38caf28294f81afb903adb66d87bd": {
          "model_module": "@jupyter-widgets/controls",
          "model_name": "ProgressStyleModel",
          "model_module_version": "1.5.0",
          "state": {
            "_model_module": "@jupyter-widgets/controls",
            "_model_module_version": "1.5.0",
            "_model_name": "ProgressStyleModel",
            "_view_count": null,
            "_view_module": "@jupyter-widgets/base",
            "_view_module_version": "1.2.0",
            "_view_name": "StyleView",
            "bar_color": null,
            "description_width": ""
          }
        },
        "79c90446d3434ec39aef9a0dadebbff8": {
          "model_module": "@jupyter-widgets/base",
          "model_name": "LayoutModel",
          "model_module_version": "1.2.0",
          "state": {
            "_model_module": "@jupyter-widgets/base",
            "_model_module_version": "1.2.0",
            "_model_name": "LayoutModel",
            "_view_count": null,
            "_view_module": "@jupyter-widgets/base",
            "_view_module_version": "1.2.0",
            "_view_name": "LayoutView",
            "align_content": null,
            "align_items": null,
            "align_self": null,
            "border": null,
            "bottom": null,
            "display": null,
            "flex": null,
            "flex_flow": null,
            "grid_area": null,
            "grid_auto_columns": null,
            "grid_auto_flow": null,
            "grid_auto_rows": null,
            "grid_column": null,
            "grid_gap": null,
            "grid_row": null,
            "grid_template_areas": null,
            "grid_template_columns": null,
            "grid_template_rows": null,
            "height": null,
            "justify_content": null,
            "justify_items": null,
            "left": null,
            "margin": null,
            "max_height": null,
            "max_width": null,
            "min_height": null,
            "min_width": null,
            "object_fit": null,
            "object_position": null,
            "order": null,
            "overflow": null,
            "overflow_x": null,
            "overflow_y": null,
            "padding": null,
            "right": null,
            "top": null,
            "visibility": null,
            "width": null
          }
        },
        "80426c02c97b42c0a7f64626d2005222": {
          "model_module": "@jupyter-widgets/controls",
          "model_name": "DescriptionStyleModel",
          "model_module_version": "1.5.0",
          "state": {
            "_model_module": "@jupyter-widgets/controls",
            "_model_module_version": "1.5.0",
            "_model_name": "DescriptionStyleModel",
            "_view_count": null,
            "_view_module": "@jupyter-widgets/base",
            "_view_module_version": "1.2.0",
            "_view_name": "StyleView",
            "description_width": ""
          }
        },
        "4f83f3b67f4546529bc51cb06868dedd": {
          "model_module": "@jupyter-widgets/controls",
          "model_name": "HBoxModel",
          "model_module_version": "1.5.0",
          "state": {
            "_dom_classes": [],
            "_model_module": "@jupyter-widgets/controls",
            "_model_module_version": "1.5.0",
            "_model_name": "HBoxModel",
            "_view_count": null,
            "_view_module": "@jupyter-widgets/controls",
            "_view_module_version": "1.5.0",
            "_view_name": "HBoxView",
            "box_style": "",
            "children": [
              "IPY_MODEL_1d6fdecdf10a461a9b2ed895544912dd",
              "IPY_MODEL_1d0f3b8b49334794a8a115486693017a",
              "IPY_MODEL_ddc5957a09224bfc8c53f7131f227fa8"
            ],
            "layout": "IPY_MODEL_82b0be325c634eeba480cf89b7f2a68f"
          }
        },
        "1d6fdecdf10a461a9b2ed895544912dd": {
          "model_module": "@jupyter-widgets/controls",
          "model_name": "HTMLModel",
          "model_module_version": "1.5.0",
          "state": {
            "_dom_classes": [],
            "_model_module": "@jupyter-widgets/controls",
            "_model_module_version": "1.5.0",
            "_model_name": "HTMLModel",
            "_view_count": null,
            "_view_module": "@jupyter-widgets/controls",
            "_view_module_version": "1.5.0",
            "_view_name": "HTMLView",
            "description": "",
            "description_tooltip": null,
            "layout": "IPY_MODEL_0c65736da5e64a688931246f9db617be",
            "placeholder": "​",
            "style": "IPY_MODEL_d2912d1aa6b64ef8b01b2d249538f793",
            "value": "merges.txt: 100%"
          }
        },
        "1d0f3b8b49334794a8a115486693017a": {
          "model_module": "@jupyter-widgets/controls",
          "model_name": "FloatProgressModel",
          "model_module_version": "1.5.0",
          "state": {
            "_dom_classes": [],
            "_model_module": "@jupyter-widgets/controls",
            "_model_module_version": "1.5.0",
            "_model_name": "FloatProgressModel",
            "_view_count": null,
            "_view_module": "@jupyter-widgets/controls",
            "_view_module_version": "1.5.0",
            "_view_name": "ProgressView",
            "bar_style": "success",
            "description": "",
            "description_tooltip": null,
            "layout": "IPY_MODEL_1064f82e258a4f28af35f2db292147b8",
            "max": 456318,
            "min": 0,
            "orientation": "horizontal",
            "style": "IPY_MODEL_4f7aa2b6213043658cacc1d9f09e2b80",
            "value": 456318
          }
        },
        "ddc5957a09224bfc8c53f7131f227fa8": {
          "model_module": "@jupyter-widgets/controls",
          "model_name": "HTMLModel",
          "model_module_version": "1.5.0",
          "state": {
            "_dom_classes": [],
            "_model_module": "@jupyter-widgets/controls",
            "_model_module_version": "1.5.0",
            "_model_name": "HTMLModel",
            "_view_count": null,
            "_view_module": "@jupyter-widgets/controls",
            "_view_module_version": "1.5.0",
            "_view_name": "HTMLView",
            "description": "",
            "description_tooltip": null,
            "layout": "IPY_MODEL_459cf38b63014559be23ce9a3af8becf",
            "placeholder": "​",
            "style": "IPY_MODEL_9c3b3fbf2a114f5a95bcc6a86c03421a",
            "value": " 456k/456k [00:00&lt;00:00, 17.5MB/s]"
          }
        },
        "82b0be325c634eeba480cf89b7f2a68f": {
          "model_module": "@jupyter-widgets/base",
          "model_name": "LayoutModel",
          "model_module_version": "1.2.0",
          "state": {
            "_model_module": "@jupyter-widgets/base",
            "_model_module_version": "1.2.0",
            "_model_name": "LayoutModel",
            "_view_count": null,
            "_view_module": "@jupyter-widgets/base",
            "_view_module_version": "1.2.0",
            "_view_name": "LayoutView",
            "align_content": null,
            "align_items": null,
            "align_self": null,
            "border": null,
            "bottom": null,
            "display": null,
            "flex": null,
            "flex_flow": null,
            "grid_area": null,
            "grid_auto_columns": null,
            "grid_auto_flow": null,
            "grid_auto_rows": null,
            "grid_column": null,
            "grid_gap": null,
            "grid_row": null,
            "grid_template_areas": null,
            "grid_template_columns": null,
            "grid_template_rows": null,
            "height": null,
            "justify_content": null,
            "justify_items": null,
            "left": null,
            "margin": null,
            "max_height": null,
            "max_width": null,
            "min_height": null,
            "min_width": null,
            "object_fit": null,
            "object_position": null,
            "order": null,
            "overflow": null,
            "overflow_x": null,
            "overflow_y": null,
            "padding": null,
            "right": null,
            "top": null,
            "visibility": null,
            "width": null
          }
        },
        "0c65736da5e64a688931246f9db617be": {
          "model_module": "@jupyter-widgets/base",
          "model_name": "LayoutModel",
          "model_module_version": "1.2.0",
          "state": {
            "_model_module": "@jupyter-widgets/base",
            "_model_module_version": "1.2.0",
            "_model_name": "LayoutModel",
            "_view_count": null,
            "_view_module": "@jupyter-widgets/base",
            "_view_module_version": "1.2.0",
            "_view_name": "LayoutView",
            "align_content": null,
            "align_items": null,
            "align_self": null,
            "border": null,
            "bottom": null,
            "display": null,
            "flex": null,
            "flex_flow": null,
            "grid_area": null,
            "grid_auto_columns": null,
            "grid_auto_flow": null,
            "grid_auto_rows": null,
            "grid_column": null,
            "grid_gap": null,
            "grid_row": null,
            "grid_template_areas": null,
            "grid_template_columns": null,
            "grid_template_rows": null,
            "height": null,
            "justify_content": null,
            "justify_items": null,
            "left": null,
            "margin": null,
            "max_height": null,
            "max_width": null,
            "min_height": null,
            "min_width": null,
            "object_fit": null,
            "object_position": null,
            "order": null,
            "overflow": null,
            "overflow_x": null,
            "overflow_y": null,
            "padding": null,
            "right": null,
            "top": null,
            "visibility": null,
            "width": null
          }
        },
        "d2912d1aa6b64ef8b01b2d249538f793": {
          "model_module": "@jupyter-widgets/controls",
          "model_name": "DescriptionStyleModel",
          "model_module_version": "1.5.0",
          "state": {
            "_model_module": "@jupyter-widgets/controls",
            "_model_module_version": "1.5.0",
            "_model_name": "DescriptionStyleModel",
            "_view_count": null,
            "_view_module": "@jupyter-widgets/base",
            "_view_module_version": "1.2.0",
            "_view_name": "StyleView",
            "description_width": ""
          }
        },
        "1064f82e258a4f28af35f2db292147b8": {
          "model_module": "@jupyter-widgets/base",
          "model_name": "LayoutModel",
          "model_module_version": "1.2.0",
          "state": {
            "_model_module": "@jupyter-widgets/base",
            "_model_module_version": "1.2.0",
            "_model_name": "LayoutModel",
            "_view_count": null,
            "_view_module": "@jupyter-widgets/base",
            "_view_module_version": "1.2.0",
            "_view_name": "LayoutView",
            "align_content": null,
            "align_items": null,
            "align_self": null,
            "border": null,
            "bottom": null,
            "display": null,
            "flex": null,
            "flex_flow": null,
            "grid_area": null,
            "grid_auto_columns": null,
            "grid_auto_flow": null,
            "grid_auto_rows": null,
            "grid_column": null,
            "grid_gap": null,
            "grid_row": null,
            "grid_template_areas": null,
            "grid_template_columns": null,
            "grid_template_rows": null,
            "height": null,
            "justify_content": null,
            "justify_items": null,
            "left": null,
            "margin": null,
            "max_height": null,
            "max_width": null,
            "min_height": null,
            "min_width": null,
            "object_fit": null,
            "object_position": null,
            "order": null,
            "overflow": null,
            "overflow_x": null,
            "overflow_y": null,
            "padding": null,
            "right": null,
            "top": null,
            "visibility": null,
            "width": null
          }
        },
        "4f7aa2b6213043658cacc1d9f09e2b80": {
          "model_module": "@jupyter-widgets/controls",
          "model_name": "ProgressStyleModel",
          "model_module_version": "1.5.0",
          "state": {
            "_model_module": "@jupyter-widgets/controls",
            "_model_module_version": "1.5.0",
            "_model_name": "ProgressStyleModel",
            "_view_count": null,
            "_view_module": "@jupyter-widgets/base",
            "_view_module_version": "1.2.0",
            "_view_name": "StyleView",
            "bar_color": null,
            "description_width": ""
          }
        },
        "459cf38b63014559be23ce9a3af8becf": {
          "model_module": "@jupyter-widgets/base",
          "model_name": "LayoutModel",
          "model_module_version": "1.2.0",
          "state": {
            "_model_module": "@jupyter-widgets/base",
            "_model_module_version": "1.2.0",
            "_model_name": "LayoutModel",
            "_view_count": null,
            "_view_module": "@jupyter-widgets/base",
            "_view_module_version": "1.2.0",
            "_view_name": "LayoutView",
            "align_content": null,
            "align_items": null,
            "align_self": null,
            "border": null,
            "bottom": null,
            "display": null,
            "flex": null,
            "flex_flow": null,
            "grid_area": null,
            "grid_auto_columns": null,
            "grid_auto_flow": null,
            "grid_auto_rows": null,
            "grid_column": null,
            "grid_gap": null,
            "grid_row": null,
            "grid_template_areas": null,
            "grid_template_columns": null,
            "grid_template_rows": null,
            "height": null,
            "justify_content": null,
            "justify_items": null,
            "left": null,
            "margin": null,
            "max_height": null,
            "max_width": null,
            "min_height": null,
            "min_width": null,
            "object_fit": null,
            "object_position": null,
            "order": null,
            "overflow": null,
            "overflow_x": null,
            "overflow_y": null,
            "padding": null,
            "right": null,
            "top": null,
            "visibility": null,
            "width": null
          }
        },
        "9c3b3fbf2a114f5a95bcc6a86c03421a": {
          "model_module": "@jupyter-widgets/controls",
          "model_name": "DescriptionStyleModel",
          "model_module_version": "1.5.0",
          "state": {
            "_model_module": "@jupyter-widgets/controls",
            "_model_module_version": "1.5.0",
            "_model_name": "DescriptionStyleModel",
            "_view_count": null,
            "_view_module": "@jupyter-widgets/base",
            "_view_module_version": "1.2.0",
            "_view_name": "StyleView",
            "description_width": ""
          }
        },
        "429e29db3be94ba18c8745022398d68d": {
          "model_module": "@jupyter-widgets/controls",
          "model_name": "HBoxModel",
          "model_module_version": "1.5.0",
          "state": {
            "_dom_classes": [],
            "_model_module": "@jupyter-widgets/controls",
            "_model_module_version": "1.5.0",
            "_model_name": "HBoxModel",
            "_view_count": null,
            "_view_module": "@jupyter-widgets/controls",
            "_view_module_version": "1.5.0",
            "_view_name": "HBoxView",
            "box_style": "",
            "children": [
              "IPY_MODEL_3d17263cfdf64cc0910bf480e4a917ca",
              "IPY_MODEL_8309c821785b4c8f8579c19159c4ec18",
              "IPY_MODEL_bb3584cf2d4c4624b4f3275c43d82693"
            ],
            "layout": "IPY_MODEL_628af388b57f48af9b66cdb475e68fc1"
          }
        },
        "3d17263cfdf64cc0910bf480e4a917ca": {
          "model_module": "@jupyter-widgets/controls",
          "model_name": "HTMLModel",
          "model_module_version": "1.5.0",
          "state": {
            "_dom_classes": [],
            "_model_module": "@jupyter-widgets/controls",
            "_model_module_version": "1.5.0",
            "_model_name": "HTMLModel",
            "_view_count": null,
            "_view_module": "@jupyter-widgets/controls",
            "_view_module_version": "1.5.0",
            "_view_name": "HTMLView",
            "description": "",
            "description_tooltip": null,
            "layout": "IPY_MODEL_30fad2e52fa64f48bb92d3ba30be2542",
            "placeholder": "​",
            "style": "IPY_MODEL_b2b25ed14e1445d28394d9baeb0094ff",
            "value": "tokenizer.json: 100%"
          }
        },
        "8309c821785b4c8f8579c19159c4ec18": {
          "model_module": "@jupyter-widgets/controls",
          "model_name": "FloatProgressModel",
          "model_module_version": "1.5.0",
          "state": {
            "_dom_classes": [],
            "_model_module": "@jupyter-widgets/controls",
            "_model_module_version": "1.5.0",
            "_model_name": "FloatProgressModel",
            "_view_count": null,
            "_view_module": "@jupyter-widgets/controls",
            "_view_module_version": "1.5.0",
            "_view_name": "ProgressView",
            "bar_style": "success",
            "description": "",
            "description_tooltip": null,
            "layout": "IPY_MODEL_fa0d655b1fba429f994de873fc21dadf",
            "max": 1355256,
            "min": 0,
            "orientation": "horizontal",
            "style": "IPY_MODEL_a583d34b94ab4c689e2f947c660d8436",
            "value": 1355256
          }
        },
        "bb3584cf2d4c4624b4f3275c43d82693": {
          "model_module": "@jupyter-widgets/controls",
          "model_name": "HTMLModel",
          "model_module_version": "1.5.0",
          "state": {
            "_dom_classes": [],
            "_model_module": "@jupyter-widgets/controls",
            "_model_module_version": "1.5.0",
            "_model_name": "HTMLModel",
            "_view_count": null,
            "_view_module": "@jupyter-widgets/controls",
            "_view_module_version": "1.5.0",
            "_view_name": "HTMLView",
            "description": "",
            "description_tooltip": null,
            "layout": "IPY_MODEL_7128836bb6f247acb5face2e7d2f992f",
            "placeholder": "​",
            "style": "IPY_MODEL_48f5149070b44d6398cd49f357a2048b",
            "value": " 1.36M/1.36M [00:00&lt;00:00, 13.2MB/s]"
          }
        },
        "628af388b57f48af9b66cdb475e68fc1": {
          "model_module": "@jupyter-widgets/base",
          "model_name": "LayoutModel",
          "model_module_version": "1.2.0",
          "state": {
            "_model_module": "@jupyter-widgets/base",
            "_model_module_version": "1.2.0",
            "_model_name": "LayoutModel",
            "_view_count": null,
            "_view_module": "@jupyter-widgets/base",
            "_view_module_version": "1.2.0",
            "_view_name": "LayoutView",
            "align_content": null,
            "align_items": null,
            "align_self": null,
            "border": null,
            "bottom": null,
            "display": null,
            "flex": null,
            "flex_flow": null,
            "grid_area": null,
            "grid_auto_columns": null,
            "grid_auto_flow": null,
            "grid_auto_rows": null,
            "grid_column": null,
            "grid_gap": null,
            "grid_row": null,
            "grid_template_areas": null,
            "grid_template_columns": null,
            "grid_template_rows": null,
            "height": null,
            "justify_content": null,
            "justify_items": null,
            "left": null,
            "margin": null,
            "max_height": null,
            "max_width": null,
            "min_height": null,
            "min_width": null,
            "object_fit": null,
            "object_position": null,
            "order": null,
            "overflow": null,
            "overflow_x": null,
            "overflow_y": null,
            "padding": null,
            "right": null,
            "top": null,
            "visibility": null,
            "width": null
          }
        },
        "30fad2e52fa64f48bb92d3ba30be2542": {
          "model_module": "@jupyter-widgets/base",
          "model_name": "LayoutModel",
          "model_module_version": "1.2.0",
          "state": {
            "_model_module": "@jupyter-widgets/base",
            "_model_module_version": "1.2.0",
            "_model_name": "LayoutModel",
            "_view_count": null,
            "_view_module": "@jupyter-widgets/base",
            "_view_module_version": "1.2.0",
            "_view_name": "LayoutView",
            "align_content": null,
            "align_items": null,
            "align_self": null,
            "border": null,
            "bottom": null,
            "display": null,
            "flex": null,
            "flex_flow": null,
            "grid_area": null,
            "grid_auto_columns": null,
            "grid_auto_flow": null,
            "grid_auto_rows": null,
            "grid_column": null,
            "grid_gap": null,
            "grid_row": null,
            "grid_template_areas": null,
            "grid_template_columns": null,
            "grid_template_rows": null,
            "height": null,
            "justify_content": null,
            "justify_items": null,
            "left": null,
            "margin": null,
            "max_height": null,
            "max_width": null,
            "min_height": null,
            "min_width": null,
            "object_fit": null,
            "object_position": null,
            "order": null,
            "overflow": null,
            "overflow_x": null,
            "overflow_y": null,
            "padding": null,
            "right": null,
            "top": null,
            "visibility": null,
            "width": null
          }
        },
        "b2b25ed14e1445d28394d9baeb0094ff": {
          "model_module": "@jupyter-widgets/controls",
          "model_name": "DescriptionStyleModel",
          "model_module_version": "1.5.0",
          "state": {
            "_model_module": "@jupyter-widgets/controls",
            "_model_module_version": "1.5.0",
            "_model_name": "DescriptionStyleModel",
            "_view_count": null,
            "_view_module": "@jupyter-widgets/base",
            "_view_module_version": "1.2.0",
            "_view_name": "StyleView",
            "description_width": ""
          }
        },
        "fa0d655b1fba429f994de873fc21dadf": {
          "model_module": "@jupyter-widgets/base",
          "model_name": "LayoutModel",
          "model_module_version": "1.2.0",
          "state": {
            "_model_module": "@jupyter-widgets/base",
            "_model_module_version": "1.2.0",
            "_model_name": "LayoutModel",
            "_view_count": null,
            "_view_module": "@jupyter-widgets/base",
            "_view_module_version": "1.2.0",
            "_view_name": "LayoutView",
            "align_content": null,
            "align_items": null,
            "align_self": null,
            "border": null,
            "bottom": null,
            "display": null,
            "flex": null,
            "flex_flow": null,
            "grid_area": null,
            "grid_auto_columns": null,
            "grid_auto_flow": null,
            "grid_auto_rows": null,
            "grid_column": null,
            "grid_gap": null,
            "grid_row": null,
            "grid_template_areas": null,
            "grid_template_columns": null,
            "grid_template_rows": null,
            "height": null,
            "justify_content": null,
            "justify_items": null,
            "left": null,
            "margin": null,
            "max_height": null,
            "max_width": null,
            "min_height": null,
            "min_width": null,
            "object_fit": null,
            "object_position": null,
            "order": null,
            "overflow": null,
            "overflow_x": null,
            "overflow_y": null,
            "padding": null,
            "right": null,
            "top": null,
            "visibility": null,
            "width": null
          }
        },
        "a583d34b94ab4c689e2f947c660d8436": {
          "model_module": "@jupyter-widgets/controls",
          "model_name": "ProgressStyleModel",
          "model_module_version": "1.5.0",
          "state": {
            "_model_module": "@jupyter-widgets/controls",
            "_model_module_version": "1.5.0",
            "_model_name": "ProgressStyleModel",
            "_view_count": null,
            "_view_module": "@jupyter-widgets/base",
            "_view_module_version": "1.2.0",
            "_view_name": "StyleView",
            "bar_color": null,
            "description_width": ""
          }
        },
        "7128836bb6f247acb5face2e7d2f992f": {
          "model_module": "@jupyter-widgets/base",
          "model_name": "LayoutModel",
          "model_module_version": "1.2.0",
          "state": {
            "_model_module": "@jupyter-widgets/base",
            "_model_module_version": "1.2.0",
            "_model_name": "LayoutModel",
            "_view_count": null,
            "_view_module": "@jupyter-widgets/base",
            "_view_module_version": "1.2.0",
            "_view_name": "LayoutView",
            "align_content": null,
            "align_items": null,
            "align_self": null,
            "border": null,
            "bottom": null,
            "display": null,
            "flex": null,
            "flex_flow": null,
            "grid_area": null,
            "grid_auto_columns": null,
            "grid_auto_flow": null,
            "grid_auto_rows": null,
            "grid_column": null,
            "grid_gap": null,
            "grid_row": null,
            "grid_template_areas": null,
            "grid_template_columns": null,
            "grid_template_rows": null,
            "height": null,
            "justify_content": null,
            "justify_items": null,
            "left": null,
            "margin": null,
            "max_height": null,
            "max_width": null,
            "min_height": null,
            "min_width": null,
            "object_fit": null,
            "object_position": null,
            "order": null,
            "overflow": null,
            "overflow_x": null,
            "overflow_y": null,
            "padding": null,
            "right": null,
            "top": null,
            "visibility": null,
            "width": null
          }
        },
        "48f5149070b44d6398cd49f357a2048b": {
          "model_module": "@jupyter-widgets/controls",
          "model_name": "DescriptionStyleModel",
          "model_module_version": "1.5.0",
          "state": {
            "_model_module": "@jupyter-widgets/controls",
            "_model_module_version": "1.5.0",
            "_model_name": "DescriptionStyleModel",
            "_view_count": null,
            "_view_module": "@jupyter-widgets/base",
            "_view_module_version": "1.2.0",
            "_view_name": "StyleView",
            "description_width": ""
          }
        },
        "d5ac08da265a474792dde863ed06776d": {
          "model_module": "@jupyter-widgets/controls",
          "model_name": "HBoxModel",
          "model_module_version": "1.5.0",
          "state": {
            "_dom_classes": [],
            "_model_module": "@jupyter-widgets/controls",
            "_model_module_version": "1.5.0",
            "_model_name": "HBoxModel",
            "_view_count": null,
            "_view_module": "@jupyter-widgets/controls",
            "_view_module_version": "1.5.0",
            "_view_name": "HBoxView",
            "box_style": "",
            "children": [
              "IPY_MODEL_91802db65bbf4504b2f38397fd21ce5a",
              "IPY_MODEL_fd35b71ececb43118aa5ddd1fd22f2c2",
              "IPY_MODEL_ba60de05e7d340e2b4fc06a5b8dc95c8"
            ],
            "layout": "IPY_MODEL_1717a67959924be0ab31bb8f23716759"
          }
        },
        "91802db65bbf4504b2f38397fd21ce5a": {
          "model_module": "@jupyter-widgets/controls",
          "model_name": "HTMLModel",
          "model_module_version": "1.5.0",
          "state": {
            "_dom_classes": [],
            "_model_module": "@jupyter-widgets/controls",
            "_model_module_version": "1.5.0",
            "_model_name": "HTMLModel",
            "_view_count": null,
            "_view_module": "@jupyter-widgets/controls",
            "_view_module_version": "1.5.0",
            "_view_name": "HTMLView",
            "description": "",
            "description_tooltip": null,
            "layout": "IPY_MODEL_6298700dc11341b49354303043d6682c",
            "placeholder": "​",
            "style": "IPY_MODEL_ae4324d9cfc6469ab7374dd5e7f88edf",
            "value": "model.safetensors: 100%"
          }
        },
        "fd35b71ececb43118aa5ddd1fd22f2c2": {
          "model_module": "@jupyter-widgets/controls",
          "model_name": "FloatProgressModel",
          "model_module_version": "1.5.0",
          "state": {
            "_dom_classes": [],
            "_model_module": "@jupyter-widgets/controls",
            "_model_module_version": "1.5.0",
            "_model_name": "FloatProgressModel",
            "_view_count": null,
            "_view_module": "@jupyter-widgets/controls",
            "_view_module_version": "1.5.0",
            "_view_name": "ProgressView",
            "bar_style": "success",
            "description": "",
            "description_tooltip": null,
            "layout": "IPY_MODEL_cfba745585044f9bb6153cdca2fa3285",
            "max": 548105171,
            "min": 0,
            "orientation": "horizontal",
            "style": "IPY_MODEL_c25aa9c4517c4ddc858126849492fe85",
            "value": 548105171
          }
        },
        "ba60de05e7d340e2b4fc06a5b8dc95c8": {
          "model_module": "@jupyter-widgets/controls",
          "model_name": "HTMLModel",
          "model_module_version": "1.5.0",
          "state": {
            "_dom_classes": [],
            "_model_module": "@jupyter-widgets/controls",
            "_model_module_version": "1.5.0",
            "_model_name": "HTMLModel",
            "_view_count": null,
            "_view_module": "@jupyter-widgets/controls",
            "_view_module_version": "1.5.0",
            "_view_name": "HTMLView",
            "description": "",
            "description_tooltip": null,
            "layout": "IPY_MODEL_64f976418d2241c18c56bc802fbc3dc8",
            "placeholder": "​",
            "style": "IPY_MODEL_3b017ece42e84485b5c3542e047603c4",
            "value": " 548M/548M [00:03&lt;00:00, 162MB/s]"
          }
        },
        "1717a67959924be0ab31bb8f23716759": {
          "model_module": "@jupyter-widgets/base",
          "model_name": "LayoutModel",
          "model_module_version": "1.2.0",
          "state": {
            "_model_module": "@jupyter-widgets/base",
            "_model_module_version": "1.2.0",
            "_model_name": "LayoutModel",
            "_view_count": null,
            "_view_module": "@jupyter-widgets/base",
            "_view_module_version": "1.2.0",
            "_view_name": "LayoutView",
            "align_content": null,
            "align_items": null,
            "align_self": null,
            "border": null,
            "bottom": null,
            "display": null,
            "flex": null,
            "flex_flow": null,
            "grid_area": null,
            "grid_auto_columns": null,
            "grid_auto_flow": null,
            "grid_auto_rows": null,
            "grid_column": null,
            "grid_gap": null,
            "grid_row": null,
            "grid_template_areas": null,
            "grid_template_columns": null,
            "grid_template_rows": null,
            "height": null,
            "justify_content": null,
            "justify_items": null,
            "left": null,
            "margin": null,
            "max_height": null,
            "max_width": null,
            "min_height": null,
            "min_width": null,
            "object_fit": null,
            "object_position": null,
            "order": null,
            "overflow": null,
            "overflow_x": null,
            "overflow_y": null,
            "padding": null,
            "right": null,
            "top": null,
            "visibility": null,
            "width": null
          }
        },
        "6298700dc11341b49354303043d6682c": {
          "model_module": "@jupyter-widgets/base",
          "model_name": "LayoutModel",
          "model_module_version": "1.2.0",
          "state": {
            "_model_module": "@jupyter-widgets/base",
            "_model_module_version": "1.2.0",
            "_model_name": "LayoutModel",
            "_view_count": null,
            "_view_module": "@jupyter-widgets/base",
            "_view_module_version": "1.2.0",
            "_view_name": "LayoutView",
            "align_content": null,
            "align_items": null,
            "align_self": null,
            "border": null,
            "bottom": null,
            "display": null,
            "flex": null,
            "flex_flow": null,
            "grid_area": null,
            "grid_auto_columns": null,
            "grid_auto_flow": null,
            "grid_auto_rows": null,
            "grid_column": null,
            "grid_gap": null,
            "grid_row": null,
            "grid_template_areas": null,
            "grid_template_columns": null,
            "grid_template_rows": null,
            "height": null,
            "justify_content": null,
            "justify_items": null,
            "left": null,
            "margin": null,
            "max_height": null,
            "max_width": null,
            "min_height": null,
            "min_width": null,
            "object_fit": null,
            "object_position": null,
            "order": null,
            "overflow": null,
            "overflow_x": null,
            "overflow_y": null,
            "padding": null,
            "right": null,
            "top": null,
            "visibility": null,
            "width": null
          }
        },
        "ae4324d9cfc6469ab7374dd5e7f88edf": {
          "model_module": "@jupyter-widgets/controls",
          "model_name": "DescriptionStyleModel",
          "model_module_version": "1.5.0",
          "state": {
            "_model_module": "@jupyter-widgets/controls",
            "_model_module_version": "1.5.0",
            "_model_name": "DescriptionStyleModel",
            "_view_count": null,
            "_view_module": "@jupyter-widgets/base",
            "_view_module_version": "1.2.0",
            "_view_name": "StyleView",
            "description_width": ""
          }
        },
        "cfba745585044f9bb6153cdca2fa3285": {
          "model_module": "@jupyter-widgets/base",
          "model_name": "LayoutModel",
          "model_module_version": "1.2.0",
          "state": {
            "_model_module": "@jupyter-widgets/base",
            "_model_module_version": "1.2.0",
            "_model_name": "LayoutModel",
            "_view_count": null,
            "_view_module": "@jupyter-widgets/base",
            "_view_module_version": "1.2.0",
            "_view_name": "LayoutView",
            "align_content": null,
            "align_items": null,
            "align_self": null,
            "border": null,
            "bottom": null,
            "display": null,
            "flex": null,
            "flex_flow": null,
            "grid_area": null,
            "grid_auto_columns": null,
            "grid_auto_flow": null,
            "grid_auto_rows": null,
            "grid_column": null,
            "grid_gap": null,
            "grid_row": null,
            "grid_template_areas": null,
            "grid_template_columns": null,
            "grid_template_rows": null,
            "height": null,
            "justify_content": null,
            "justify_items": null,
            "left": null,
            "margin": null,
            "max_height": null,
            "max_width": null,
            "min_height": null,
            "min_width": null,
            "object_fit": null,
            "object_position": null,
            "order": null,
            "overflow": null,
            "overflow_x": null,
            "overflow_y": null,
            "padding": null,
            "right": null,
            "top": null,
            "visibility": null,
            "width": null
          }
        },
        "c25aa9c4517c4ddc858126849492fe85": {
          "model_module": "@jupyter-widgets/controls",
          "model_name": "ProgressStyleModel",
          "model_module_version": "1.5.0",
          "state": {
            "_model_module": "@jupyter-widgets/controls",
            "_model_module_version": "1.5.0",
            "_model_name": "ProgressStyleModel",
            "_view_count": null,
            "_view_module": "@jupyter-widgets/base",
            "_view_module_version": "1.2.0",
            "_view_name": "StyleView",
            "bar_color": null,
            "description_width": ""
          }
        },
        "64f976418d2241c18c56bc802fbc3dc8": {
          "model_module": "@jupyter-widgets/base",
          "model_name": "LayoutModel",
          "model_module_version": "1.2.0",
          "state": {
            "_model_module": "@jupyter-widgets/base",
            "_model_module_version": "1.2.0",
            "_model_name": "LayoutModel",
            "_view_count": null,
            "_view_module": "@jupyter-widgets/base",
            "_view_module_version": "1.2.0",
            "_view_name": "LayoutView",
            "align_content": null,
            "align_items": null,
            "align_self": null,
            "border": null,
            "bottom": null,
            "display": null,
            "flex": null,
            "flex_flow": null,
            "grid_area": null,
            "grid_auto_columns": null,
            "grid_auto_flow": null,
            "grid_auto_rows": null,
            "grid_column": null,
            "grid_gap": null,
            "grid_row": null,
            "grid_template_areas": null,
            "grid_template_columns": null,
            "grid_template_rows": null,
            "height": null,
            "justify_content": null,
            "justify_items": null,
            "left": null,
            "margin": null,
            "max_height": null,
            "max_width": null,
            "min_height": null,
            "min_width": null,
            "object_fit": null,
            "object_position": null,
            "order": null,
            "overflow": null,
            "overflow_x": null,
            "overflow_y": null,
            "padding": null,
            "right": null,
            "top": null,
            "visibility": null,
            "width": null
          }
        },
        "3b017ece42e84485b5c3542e047603c4": {
          "model_module": "@jupyter-widgets/controls",
          "model_name": "DescriptionStyleModel",
          "model_module_version": "1.5.0",
          "state": {
            "_model_module": "@jupyter-widgets/controls",
            "_model_module_version": "1.5.0",
            "_model_name": "DescriptionStyleModel",
            "_view_count": null,
            "_view_module": "@jupyter-widgets/base",
            "_view_module_version": "1.2.0",
            "_view_name": "StyleView",
            "description_width": ""
          }
        },
        "e54d6c053de549f39960a297c252b0c6": {
          "model_module": "@jupyter-widgets/controls",
          "model_name": "HBoxModel",
          "model_module_version": "1.5.0",
          "state": {
            "_dom_classes": [],
            "_model_module": "@jupyter-widgets/controls",
            "_model_module_version": "1.5.0",
            "_model_name": "HBoxModel",
            "_view_count": null,
            "_view_module": "@jupyter-widgets/controls",
            "_view_module_version": "1.5.0",
            "_view_name": "HBoxView",
            "box_style": "",
            "children": [
              "IPY_MODEL_dca95e9ea74f4c889b36bba05a3f1055",
              "IPY_MODEL_770bb43438064ec7b12c7ea30540fc28",
              "IPY_MODEL_639121757f354ff3b74e985e01bd0496"
            ],
            "layout": "IPY_MODEL_08dea39e67da4a12a8a0069a20df25b6"
          }
        },
        "dca95e9ea74f4c889b36bba05a3f1055": {
          "model_module": "@jupyter-widgets/controls",
          "model_name": "HTMLModel",
          "model_module_version": "1.5.0",
          "state": {
            "_dom_classes": [],
            "_model_module": "@jupyter-widgets/controls",
            "_model_module_version": "1.5.0",
            "_model_name": "HTMLModel",
            "_view_count": null,
            "_view_module": "@jupyter-widgets/controls",
            "_view_module_version": "1.5.0",
            "_view_name": "HTMLView",
            "description": "",
            "description_tooltip": null,
            "layout": "IPY_MODEL_98f875b96621488d9bdb3c8d805c6cd6",
            "placeholder": "​",
            "style": "IPY_MODEL_2e03fc141c7645a1800ea0a0cfc2532f",
            "value": "generation_config.json: 100%"
          }
        },
        "770bb43438064ec7b12c7ea30540fc28": {
          "model_module": "@jupyter-widgets/controls",
          "model_name": "FloatProgressModel",
          "model_module_version": "1.5.0",
          "state": {
            "_dom_classes": [],
            "_model_module": "@jupyter-widgets/controls",
            "_model_module_version": "1.5.0",
            "_model_name": "FloatProgressModel",
            "_view_count": null,
            "_view_module": "@jupyter-widgets/controls",
            "_view_module_version": "1.5.0",
            "_view_name": "ProgressView",
            "bar_style": "success",
            "description": "",
            "description_tooltip": null,
            "layout": "IPY_MODEL_b6ec9e5499b4474b98d60b311c1aff33",
            "max": 124,
            "min": 0,
            "orientation": "horizontal",
            "style": "IPY_MODEL_09e7cac5065842ecb8955589d00822d3",
            "value": 124
          }
        },
        "639121757f354ff3b74e985e01bd0496": {
          "model_module": "@jupyter-widgets/controls",
          "model_name": "HTMLModel",
          "model_module_version": "1.5.0",
          "state": {
            "_dom_classes": [],
            "_model_module": "@jupyter-widgets/controls",
            "_model_module_version": "1.5.0",
            "_model_name": "HTMLModel",
            "_view_count": null,
            "_view_module": "@jupyter-widgets/controls",
            "_view_module_version": "1.5.0",
            "_view_name": "HTMLView",
            "description": "",
            "description_tooltip": null,
            "layout": "IPY_MODEL_34531706cdf24f71820905e2841aa250",
            "placeholder": "​",
            "style": "IPY_MODEL_12ad4036828543e4bb0c98c1a00687ed",
            "value": " 124/124 [00:00&lt;00:00, 7.68kB/s]"
          }
        },
        "08dea39e67da4a12a8a0069a20df25b6": {
          "model_module": "@jupyter-widgets/base",
          "model_name": "LayoutModel",
          "model_module_version": "1.2.0",
          "state": {
            "_model_module": "@jupyter-widgets/base",
            "_model_module_version": "1.2.0",
            "_model_name": "LayoutModel",
            "_view_count": null,
            "_view_module": "@jupyter-widgets/base",
            "_view_module_version": "1.2.0",
            "_view_name": "LayoutView",
            "align_content": null,
            "align_items": null,
            "align_self": null,
            "border": null,
            "bottom": null,
            "display": null,
            "flex": null,
            "flex_flow": null,
            "grid_area": null,
            "grid_auto_columns": null,
            "grid_auto_flow": null,
            "grid_auto_rows": null,
            "grid_column": null,
            "grid_gap": null,
            "grid_row": null,
            "grid_template_areas": null,
            "grid_template_columns": null,
            "grid_template_rows": null,
            "height": null,
            "justify_content": null,
            "justify_items": null,
            "left": null,
            "margin": null,
            "max_height": null,
            "max_width": null,
            "min_height": null,
            "min_width": null,
            "object_fit": null,
            "object_position": null,
            "order": null,
            "overflow": null,
            "overflow_x": null,
            "overflow_y": null,
            "padding": null,
            "right": null,
            "top": null,
            "visibility": null,
            "width": null
          }
        },
        "98f875b96621488d9bdb3c8d805c6cd6": {
          "model_module": "@jupyter-widgets/base",
          "model_name": "LayoutModel",
          "model_module_version": "1.2.0",
          "state": {
            "_model_module": "@jupyter-widgets/base",
            "_model_module_version": "1.2.0",
            "_model_name": "LayoutModel",
            "_view_count": null,
            "_view_module": "@jupyter-widgets/base",
            "_view_module_version": "1.2.0",
            "_view_name": "LayoutView",
            "align_content": null,
            "align_items": null,
            "align_self": null,
            "border": null,
            "bottom": null,
            "display": null,
            "flex": null,
            "flex_flow": null,
            "grid_area": null,
            "grid_auto_columns": null,
            "grid_auto_flow": null,
            "grid_auto_rows": null,
            "grid_column": null,
            "grid_gap": null,
            "grid_row": null,
            "grid_template_areas": null,
            "grid_template_columns": null,
            "grid_template_rows": null,
            "height": null,
            "justify_content": null,
            "justify_items": null,
            "left": null,
            "margin": null,
            "max_height": null,
            "max_width": null,
            "min_height": null,
            "min_width": null,
            "object_fit": null,
            "object_position": null,
            "order": null,
            "overflow": null,
            "overflow_x": null,
            "overflow_y": null,
            "padding": null,
            "right": null,
            "top": null,
            "visibility": null,
            "width": null
          }
        },
        "2e03fc141c7645a1800ea0a0cfc2532f": {
          "model_module": "@jupyter-widgets/controls",
          "model_name": "DescriptionStyleModel",
          "model_module_version": "1.5.0",
          "state": {
            "_model_module": "@jupyter-widgets/controls",
            "_model_module_version": "1.5.0",
            "_model_name": "DescriptionStyleModel",
            "_view_count": null,
            "_view_module": "@jupyter-widgets/base",
            "_view_module_version": "1.2.0",
            "_view_name": "StyleView",
            "description_width": ""
          }
        },
        "b6ec9e5499b4474b98d60b311c1aff33": {
          "model_module": "@jupyter-widgets/base",
          "model_name": "LayoutModel",
          "model_module_version": "1.2.0",
          "state": {
            "_model_module": "@jupyter-widgets/base",
            "_model_module_version": "1.2.0",
            "_model_name": "LayoutModel",
            "_view_count": null,
            "_view_module": "@jupyter-widgets/base",
            "_view_module_version": "1.2.0",
            "_view_name": "LayoutView",
            "align_content": null,
            "align_items": null,
            "align_self": null,
            "border": null,
            "bottom": null,
            "display": null,
            "flex": null,
            "flex_flow": null,
            "grid_area": null,
            "grid_auto_columns": null,
            "grid_auto_flow": null,
            "grid_auto_rows": null,
            "grid_column": null,
            "grid_gap": null,
            "grid_row": null,
            "grid_template_areas": null,
            "grid_template_columns": null,
            "grid_template_rows": null,
            "height": null,
            "justify_content": null,
            "justify_items": null,
            "left": null,
            "margin": null,
            "max_height": null,
            "max_width": null,
            "min_height": null,
            "min_width": null,
            "object_fit": null,
            "object_position": null,
            "order": null,
            "overflow": null,
            "overflow_x": null,
            "overflow_y": null,
            "padding": null,
            "right": null,
            "top": null,
            "visibility": null,
            "width": null
          }
        },
        "09e7cac5065842ecb8955589d00822d3": {
          "model_module": "@jupyter-widgets/controls",
          "model_name": "ProgressStyleModel",
          "model_module_version": "1.5.0",
          "state": {
            "_model_module": "@jupyter-widgets/controls",
            "_model_module_version": "1.5.0",
            "_model_name": "ProgressStyleModel",
            "_view_count": null,
            "_view_module": "@jupyter-widgets/base",
            "_view_module_version": "1.2.0",
            "_view_name": "StyleView",
            "bar_color": null,
            "description_width": ""
          }
        },
        "34531706cdf24f71820905e2841aa250": {
          "model_module": "@jupyter-widgets/base",
          "model_name": "LayoutModel",
          "model_module_version": "1.2.0",
          "state": {
            "_model_module": "@jupyter-widgets/base",
            "_model_module_version": "1.2.0",
            "_model_name": "LayoutModel",
            "_view_count": null,
            "_view_module": "@jupyter-widgets/base",
            "_view_module_version": "1.2.0",
            "_view_name": "LayoutView",
            "align_content": null,
            "align_items": null,
            "align_self": null,
            "border": null,
            "bottom": null,
            "display": null,
            "flex": null,
            "flex_flow": null,
            "grid_area": null,
            "grid_auto_columns": null,
            "grid_auto_flow": null,
            "grid_auto_rows": null,
            "grid_column": null,
            "grid_gap": null,
            "grid_row": null,
            "grid_template_areas": null,
            "grid_template_columns": null,
            "grid_template_rows": null,
            "height": null,
            "justify_content": null,
            "justify_items": null,
            "left": null,
            "margin": null,
            "max_height": null,
            "max_width": null,
            "min_height": null,
            "min_width": null,
            "object_fit": null,
            "object_position": null,
            "order": null,
            "overflow": null,
            "overflow_x": null,
            "overflow_y": null,
            "padding": null,
            "right": null,
            "top": null,
            "visibility": null,
            "width": null
          }
        },
        "12ad4036828543e4bb0c98c1a00687ed": {
          "model_module": "@jupyter-widgets/controls",
          "model_name": "DescriptionStyleModel",
          "model_module_version": "1.5.0",
          "state": {
            "_model_module": "@jupyter-widgets/controls",
            "_model_module_version": "1.5.0",
            "_model_name": "DescriptionStyleModel",
            "_view_count": null,
            "_view_module": "@jupyter-widgets/base",
            "_view_module_version": "1.2.0",
            "_view_name": "StyleView",
            "description_width": ""
          }
        },
        "1a2e1700e894420da70ea0d1c932b9f8": {
          "model_module": "@jupyter-widgets/controls",
          "model_name": "VBoxModel",
          "model_module_version": "1.5.0",
          "state": {
            "_dom_classes": [],
            "_model_module": "@jupyter-widgets/controls",
            "_model_module_version": "1.5.0",
            "_model_name": "VBoxModel",
            "_view_count": null,
            "_view_module": "@jupyter-widgets/controls",
            "_view_module_version": "1.5.0",
            "_view_name": "VBoxView",
            "box_style": "",
            "children": [
              "IPY_MODEL_e80dcfa19e5c420c9e90ef1cd55e03fd",
              "IPY_MODEL_e4174eca727a492d8daf0697470e7d71",
              "IPY_MODEL_3e6a2b0920334102a59fb2a8fecc4139",
              "IPY_MODEL_b2fe1d81f5b54181a60111ea5876d287"
            ],
            "layout": "IPY_MODEL_6955ce78f8bd4645a39d66ffd3e17c7a"
          }
        },
        "e59a91c966464da8bbf2a3b38400f0a8": {
          "model_module": "@jupyter-widgets/controls",
          "model_name": "HTMLModel",
          "model_module_version": "1.5.0",
          "state": {
            "_dom_classes": [],
            "_model_module": "@jupyter-widgets/controls",
            "_model_module_version": "1.5.0",
            "_model_name": "HTMLModel",
            "_view_count": null,
            "_view_module": "@jupyter-widgets/controls",
            "_view_module_version": "1.5.0",
            "_view_name": "HTMLView",
            "description": "",
            "description_tooltip": null,
            "layout": "IPY_MODEL_b10fec6a55b14d139a6905f59adca126",
            "placeholder": "​",
            "style": "IPY_MODEL_cc70714aac354845a827f45998279478",
            "value": "<center> <img\nsrc=https://huggingface.co/front/assets/huggingface_logo-noborder.svg\nalt='Hugging Face'> <br> Copy a token from <a\nhref=\"https://huggingface.co/settings/tokens\" target=\"_blank\">your Hugging Face\ntokens page</a> and paste it below. <br> Immediately click login after copying\nyour token or it might be stored in plain text in this notebook file. </center>"
          }
        },
        "ae579c051f1148c6aca0148ec268992b": {
          "model_module": "@jupyter-widgets/controls",
          "model_name": "PasswordModel",
          "model_module_version": "1.5.0",
          "state": {
            "_dom_classes": [],
            "_model_module": "@jupyter-widgets/controls",
            "_model_module_version": "1.5.0",
            "_model_name": "PasswordModel",
            "_view_count": null,
            "_view_module": "@jupyter-widgets/controls",
            "_view_module_version": "1.5.0",
            "_view_name": "PasswordView",
            "continuous_update": true,
            "description": "Token:",
            "description_tooltip": null,
            "disabled": false,
            "layout": "IPY_MODEL_bdedbe4c0da8408faa58a8e4d671a93f",
            "placeholder": "​",
            "style": "IPY_MODEL_0512397453904a37825b7d6e4064462e",
            "value": ""
          }
        },
        "16543b419fab4697b91e4a14e0e1dfa6": {
          "model_module": "@jupyter-widgets/controls",
          "model_name": "CheckboxModel",
          "model_module_version": "1.5.0",
          "state": {
            "_dom_classes": [],
            "_model_module": "@jupyter-widgets/controls",
            "_model_module_version": "1.5.0",
            "_model_name": "CheckboxModel",
            "_view_count": null,
            "_view_module": "@jupyter-widgets/controls",
            "_view_module_version": "1.5.0",
            "_view_name": "CheckboxView",
            "description": "Add token as git credential?",
            "description_tooltip": null,
            "disabled": false,
            "indent": true,
            "layout": "IPY_MODEL_6da225853dbf408097d3bae2c4cd33ff",
            "style": "IPY_MODEL_ddf26913522a4340a60d01c016d8d4e9",
            "value": true
          }
        },
        "b0a2b320b00e4b119d6993870f56117a": {
          "model_module": "@jupyter-widgets/controls",
          "model_name": "ButtonModel",
          "model_module_version": "1.5.0",
          "state": {
            "_dom_classes": [],
            "_model_module": "@jupyter-widgets/controls",
            "_model_module_version": "1.5.0",
            "_model_name": "ButtonModel",
            "_view_count": null,
            "_view_module": "@jupyter-widgets/controls",
            "_view_module_version": "1.5.0",
            "_view_name": "ButtonView",
            "button_style": "",
            "description": "Login",
            "disabled": false,
            "icon": "",
            "layout": "IPY_MODEL_9bef3924970e4508a71ed79589e86ccb",
            "style": "IPY_MODEL_2b51af9ee658420785c6b5a052074963",
            "tooltip": ""
          }
        },
        "08ae7809ecf54452bf917559779d6546": {
          "model_module": "@jupyter-widgets/controls",
          "model_name": "HTMLModel",
          "model_module_version": "1.5.0",
          "state": {
            "_dom_classes": [],
            "_model_module": "@jupyter-widgets/controls",
            "_model_module_version": "1.5.0",
            "_model_name": "HTMLModel",
            "_view_count": null,
            "_view_module": "@jupyter-widgets/controls",
            "_view_module_version": "1.5.0",
            "_view_name": "HTMLView",
            "description": "",
            "description_tooltip": null,
            "layout": "IPY_MODEL_630f69459e674a2483b97943696db3ea",
            "placeholder": "​",
            "style": "IPY_MODEL_b56b651ee8d54bea8df1faa6211116ec",
            "value": "\n<b>Pro Tip:</b> If you don't already have one, you can create a dedicated\n'notebooks' token with 'write' access, that you can then easily reuse for all\nnotebooks. </center>"
          }
        },
        "6955ce78f8bd4645a39d66ffd3e17c7a": {
          "model_module": "@jupyter-widgets/base",
          "model_name": "LayoutModel",
          "model_module_version": "1.2.0",
          "state": {
            "_model_module": "@jupyter-widgets/base",
            "_model_module_version": "1.2.0",
            "_model_name": "LayoutModel",
            "_view_count": null,
            "_view_module": "@jupyter-widgets/base",
            "_view_module_version": "1.2.0",
            "_view_name": "LayoutView",
            "align_content": null,
            "align_items": "center",
            "align_self": null,
            "border": null,
            "bottom": null,
            "display": "flex",
            "flex": null,
            "flex_flow": "column",
            "grid_area": null,
            "grid_auto_columns": null,
            "grid_auto_flow": null,
            "grid_auto_rows": null,
            "grid_column": null,
            "grid_gap": null,
            "grid_row": null,
            "grid_template_areas": null,
            "grid_template_columns": null,
            "grid_template_rows": null,
            "height": null,
            "justify_content": null,
            "justify_items": null,
            "left": null,
            "margin": null,
            "max_height": null,
            "max_width": null,
            "min_height": null,
            "min_width": null,
            "object_fit": null,
            "object_position": null,
            "order": null,
            "overflow": null,
            "overflow_x": null,
            "overflow_y": null,
            "padding": null,
            "right": null,
            "top": null,
            "visibility": null,
            "width": "50%"
          }
        },
        "b10fec6a55b14d139a6905f59adca126": {
          "model_module": "@jupyter-widgets/base",
          "model_name": "LayoutModel",
          "model_module_version": "1.2.0",
          "state": {
            "_model_module": "@jupyter-widgets/base",
            "_model_module_version": "1.2.0",
            "_model_name": "LayoutModel",
            "_view_count": null,
            "_view_module": "@jupyter-widgets/base",
            "_view_module_version": "1.2.0",
            "_view_name": "LayoutView",
            "align_content": null,
            "align_items": null,
            "align_self": null,
            "border": null,
            "bottom": null,
            "display": null,
            "flex": null,
            "flex_flow": null,
            "grid_area": null,
            "grid_auto_columns": null,
            "grid_auto_flow": null,
            "grid_auto_rows": null,
            "grid_column": null,
            "grid_gap": null,
            "grid_row": null,
            "grid_template_areas": null,
            "grid_template_columns": null,
            "grid_template_rows": null,
            "height": null,
            "justify_content": null,
            "justify_items": null,
            "left": null,
            "margin": null,
            "max_height": null,
            "max_width": null,
            "min_height": null,
            "min_width": null,
            "object_fit": null,
            "object_position": null,
            "order": null,
            "overflow": null,
            "overflow_x": null,
            "overflow_y": null,
            "padding": null,
            "right": null,
            "top": null,
            "visibility": null,
            "width": null
          }
        },
        "cc70714aac354845a827f45998279478": {
          "model_module": "@jupyter-widgets/controls",
          "model_name": "DescriptionStyleModel",
          "model_module_version": "1.5.0",
          "state": {
            "_model_module": "@jupyter-widgets/controls",
            "_model_module_version": "1.5.0",
            "_model_name": "DescriptionStyleModel",
            "_view_count": null,
            "_view_module": "@jupyter-widgets/base",
            "_view_module_version": "1.2.0",
            "_view_name": "StyleView",
            "description_width": ""
          }
        },
        "bdedbe4c0da8408faa58a8e4d671a93f": {
          "model_module": "@jupyter-widgets/base",
          "model_name": "LayoutModel",
          "model_module_version": "1.2.0",
          "state": {
            "_model_module": "@jupyter-widgets/base",
            "_model_module_version": "1.2.0",
            "_model_name": "LayoutModel",
            "_view_count": null,
            "_view_module": "@jupyter-widgets/base",
            "_view_module_version": "1.2.0",
            "_view_name": "LayoutView",
            "align_content": null,
            "align_items": null,
            "align_self": null,
            "border": null,
            "bottom": null,
            "display": null,
            "flex": null,
            "flex_flow": null,
            "grid_area": null,
            "grid_auto_columns": null,
            "grid_auto_flow": null,
            "grid_auto_rows": null,
            "grid_column": null,
            "grid_gap": null,
            "grid_row": null,
            "grid_template_areas": null,
            "grid_template_columns": null,
            "grid_template_rows": null,
            "height": null,
            "justify_content": null,
            "justify_items": null,
            "left": null,
            "margin": null,
            "max_height": null,
            "max_width": null,
            "min_height": null,
            "min_width": null,
            "object_fit": null,
            "object_position": null,
            "order": null,
            "overflow": null,
            "overflow_x": null,
            "overflow_y": null,
            "padding": null,
            "right": null,
            "top": null,
            "visibility": null,
            "width": null
          }
        },
        "0512397453904a37825b7d6e4064462e": {
          "model_module": "@jupyter-widgets/controls",
          "model_name": "DescriptionStyleModel",
          "model_module_version": "1.5.0",
          "state": {
            "_model_module": "@jupyter-widgets/controls",
            "_model_module_version": "1.5.0",
            "_model_name": "DescriptionStyleModel",
            "_view_count": null,
            "_view_module": "@jupyter-widgets/base",
            "_view_module_version": "1.2.0",
            "_view_name": "StyleView",
            "description_width": ""
          }
        },
        "6da225853dbf408097d3bae2c4cd33ff": {
          "model_module": "@jupyter-widgets/base",
          "model_name": "LayoutModel",
          "model_module_version": "1.2.0",
          "state": {
            "_model_module": "@jupyter-widgets/base",
            "_model_module_version": "1.2.0",
            "_model_name": "LayoutModel",
            "_view_count": null,
            "_view_module": "@jupyter-widgets/base",
            "_view_module_version": "1.2.0",
            "_view_name": "LayoutView",
            "align_content": null,
            "align_items": null,
            "align_self": null,
            "border": null,
            "bottom": null,
            "display": null,
            "flex": null,
            "flex_flow": null,
            "grid_area": null,
            "grid_auto_columns": null,
            "grid_auto_flow": null,
            "grid_auto_rows": null,
            "grid_column": null,
            "grid_gap": null,
            "grid_row": null,
            "grid_template_areas": null,
            "grid_template_columns": null,
            "grid_template_rows": null,
            "height": null,
            "justify_content": null,
            "justify_items": null,
            "left": null,
            "margin": null,
            "max_height": null,
            "max_width": null,
            "min_height": null,
            "min_width": null,
            "object_fit": null,
            "object_position": null,
            "order": null,
            "overflow": null,
            "overflow_x": null,
            "overflow_y": null,
            "padding": null,
            "right": null,
            "top": null,
            "visibility": null,
            "width": null
          }
        },
        "ddf26913522a4340a60d01c016d8d4e9": {
          "model_module": "@jupyter-widgets/controls",
          "model_name": "DescriptionStyleModel",
          "model_module_version": "1.5.0",
          "state": {
            "_model_module": "@jupyter-widgets/controls",
            "_model_module_version": "1.5.0",
            "_model_name": "DescriptionStyleModel",
            "_view_count": null,
            "_view_module": "@jupyter-widgets/base",
            "_view_module_version": "1.2.0",
            "_view_name": "StyleView",
            "description_width": ""
          }
        },
        "9bef3924970e4508a71ed79589e86ccb": {
          "model_module": "@jupyter-widgets/base",
          "model_name": "LayoutModel",
          "model_module_version": "1.2.0",
          "state": {
            "_model_module": "@jupyter-widgets/base",
            "_model_module_version": "1.2.0",
            "_model_name": "LayoutModel",
            "_view_count": null,
            "_view_module": "@jupyter-widgets/base",
            "_view_module_version": "1.2.0",
            "_view_name": "LayoutView",
            "align_content": null,
            "align_items": null,
            "align_self": null,
            "border": null,
            "bottom": null,
            "display": null,
            "flex": null,
            "flex_flow": null,
            "grid_area": null,
            "grid_auto_columns": null,
            "grid_auto_flow": null,
            "grid_auto_rows": null,
            "grid_column": null,
            "grid_gap": null,
            "grid_row": null,
            "grid_template_areas": null,
            "grid_template_columns": null,
            "grid_template_rows": null,
            "height": null,
            "justify_content": null,
            "justify_items": null,
            "left": null,
            "margin": null,
            "max_height": null,
            "max_width": null,
            "min_height": null,
            "min_width": null,
            "object_fit": null,
            "object_position": null,
            "order": null,
            "overflow": null,
            "overflow_x": null,
            "overflow_y": null,
            "padding": null,
            "right": null,
            "top": null,
            "visibility": null,
            "width": null
          }
        },
        "2b51af9ee658420785c6b5a052074963": {
          "model_module": "@jupyter-widgets/controls",
          "model_name": "ButtonStyleModel",
          "model_module_version": "1.5.0",
          "state": {
            "_model_module": "@jupyter-widgets/controls",
            "_model_module_version": "1.5.0",
            "_model_name": "ButtonStyleModel",
            "_view_count": null,
            "_view_module": "@jupyter-widgets/base",
            "_view_module_version": "1.2.0",
            "_view_name": "StyleView",
            "button_color": null,
            "font_weight": ""
          }
        },
        "630f69459e674a2483b97943696db3ea": {
          "model_module": "@jupyter-widgets/base",
          "model_name": "LayoutModel",
          "model_module_version": "1.2.0",
          "state": {
            "_model_module": "@jupyter-widgets/base",
            "_model_module_version": "1.2.0",
            "_model_name": "LayoutModel",
            "_view_count": null,
            "_view_module": "@jupyter-widgets/base",
            "_view_module_version": "1.2.0",
            "_view_name": "LayoutView",
            "align_content": null,
            "align_items": null,
            "align_self": null,
            "border": null,
            "bottom": null,
            "display": null,
            "flex": null,
            "flex_flow": null,
            "grid_area": null,
            "grid_auto_columns": null,
            "grid_auto_flow": null,
            "grid_auto_rows": null,
            "grid_column": null,
            "grid_gap": null,
            "grid_row": null,
            "grid_template_areas": null,
            "grid_template_columns": null,
            "grid_template_rows": null,
            "height": null,
            "justify_content": null,
            "justify_items": null,
            "left": null,
            "margin": null,
            "max_height": null,
            "max_width": null,
            "min_height": null,
            "min_width": null,
            "object_fit": null,
            "object_position": null,
            "order": null,
            "overflow": null,
            "overflow_x": null,
            "overflow_y": null,
            "padding": null,
            "right": null,
            "top": null,
            "visibility": null,
            "width": null
          }
        },
        "b56b651ee8d54bea8df1faa6211116ec": {
          "model_module": "@jupyter-widgets/controls",
          "model_name": "DescriptionStyleModel",
          "model_module_version": "1.5.0",
          "state": {
            "_model_module": "@jupyter-widgets/controls",
            "_model_module_version": "1.5.0",
            "_model_name": "DescriptionStyleModel",
            "_view_count": null,
            "_view_module": "@jupyter-widgets/base",
            "_view_module_version": "1.2.0",
            "_view_name": "StyleView",
            "description_width": ""
          }
        },
        "e977baa7c57b4d7386a2b60ce068d303": {
          "model_module": "@jupyter-widgets/controls",
          "model_name": "LabelModel",
          "model_module_version": "1.5.0",
          "state": {
            "_dom_classes": [],
            "_model_module": "@jupyter-widgets/controls",
            "_model_module_version": "1.5.0",
            "_model_name": "LabelModel",
            "_view_count": null,
            "_view_module": "@jupyter-widgets/controls",
            "_view_module_version": "1.5.0",
            "_view_name": "LabelView",
            "description": "",
            "description_tooltip": null,
            "layout": "IPY_MODEL_9ab38b8c448c48cbbf6111baeb46b65c",
            "placeholder": "​",
            "style": "IPY_MODEL_369fab5670704adf94190b6bd5ca6e6e",
            "value": "Connecting..."
          }
        },
        "9ab38b8c448c48cbbf6111baeb46b65c": {
          "model_module": "@jupyter-widgets/base",
          "model_name": "LayoutModel",
          "model_module_version": "1.2.0",
          "state": {
            "_model_module": "@jupyter-widgets/base",
            "_model_module_version": "1.2.0",
            "_model_name": "LayoutModel",
            "_view_count": null,
            "_view_module": "@jupyter-widgets/base",
            "_view_module_version": "1.2.0",
            "_view_name": "LayoutView",
            "align_content": null,
            "align_items": null,
            "align_self": null,
            "border": null,
            "bottom": null,
            "display": null,
            "flex": null,
            "flex_flow": null,
            "grid_area": null,
            "grid_auto_columns": null,
            "grid_auto_flow": null,
            "grid_auto_rows": null,
            "grid_column": null,
            "grid_gap": null,
            "grid_row": null,
            "grid_template_areas": null,
            "grid_template_columns": null,
            "grid_template_rows": null,
            "height": null,
            "justify_content": null,
            "justify_items": null,
            "left": null,
            "margin": null,
            "max_height": null,
            "max_width": null,
            "min_height": null,
            "min_width": null,
            "object_fit": null,
            "object_position": null,
            "order": null,
            "overflow": null,
            "overflow_x": null,
            "overflow_y": null,
            "padding": null,
            "right": null,
            "top": null,
            "visibility": null,
            "width": null
          }
        },
        "369fab5670704adf94190b6bd5ca6e6e": {
          "model_module": "@jupyter-widgets/controls",
          "model_name": "DescriptionStyleModel",
          "model_module_version": "1.5.0",
          "state": {
            "_model_module": "@jupyter-widgets/controls",
            "_model_module_version": "1.5.0",
            "_model_name": "DescriptionStyleModel",
            "_view_count": null,
            "_view_module": "@jupyter-widgets/base",
            "_view_module_version": "1.2.0",
            "_view_name": "StyleView",
            "description_width": ""
          }
        },
        "e80dcfa19e5c420c9e90ef1cd55e03fd": {
          "model_module": "@jupyter-widgets/controls",
          "model_name": "LabelModel",
          "model_module_version": "1.5.0",
          "state": {
            "_dom_classes": [],
            "_model_module": "@jupyter-widgets/controls",
            "_model_module_version": "1.5.0",
            "_model_name": "LabelModel",
            "_view_count": null,
            "_view_module": "@jupyter-widgets/controls",
            "_view_module_version": "1.5.0",
            "_view_name": "LabelView",
            "description": "",
            "description_tooltip": null,
            "layout": "IPY_MODEL_eb24efae1a70440ea873950eb2934ddd",
            "placeholder": "​",
            "style": "IPY_MODEL_202e956e6bc64970843d014fbb5b8f10",
            "value": "Token is valid (permission: write)."
          }
        },
        "e4174eca727a492d8daf0697470e7d71": {
          "model_module": "@jupyter-widgets/controls",
          "model_name": "LabelModel",
          "model_module_version": "1.5.0",
          "state": {
            "_dom_classes": [],
            "_model_module": "@jupyter-widgets/controls",
            "_model_module_version": "1.5.0",
            "_model_name": "LabelModel",
            "_view_count": null,
            "_view_module": "@jupyter-widgets/controls",
            "_view_module_version": "1.5.0",
            "_view_name": "LabelView",
            "description": "",
            "description_tooltip": null,
            "layout": "IPY_MODEL_a42f216c56ab4924803e8ed7b19b6c8e",
            "placeholder": "​",
            "style": "IPY_MODEL_efb5200a83d143329d8ba80cea6330de",
            "value": "Your token has been saved in your configured git credential helpers (store)."
          }
        },
        "3e6a2b0920334102a59fb2a8fecc4139": {
          "model_module": "@jupyter-widgets/controls",
          "model_name": "LabelModel",
          "model_module_version": "1.5.0",
          "state": {
            "_dom_classes": [],
            "_model_module": "@jupyter-widgets/controls",
            "_model_module_version": "1.5.0",
            "_model_name": "LabelModel",
            "_view_count": null,
            "_view_module": "@jupyter-widgets/controls",
            "_view_module_version": "1.5.0",
            "_view_name": "LabelView",
            "description": "",
            "description_tooltip": null,
            "layout": "IPY_MODEL_654b5512869b4cbf81bb45ec1221dc30",
            "placeholder": "​",
            "style": "IPY_MODEL_da5c0c11f76e494fa62a1777cf1a3d1f",
            "value": "Your token has been saved to /root/.cache/huggingface/token"
          }
        },
        "b2fe1d81f5b54181a60111ea5876d287": {
          "model_module": "@jupyter-widgets/controls",
          "model_name": "LabelModel",
          "model_module_version": "1.5.0",
          "state": {
            "_dom_classes": [],
            "_model_module": "@jupyter-widgets/controls",
            "_model_module_version": "1.5.0",
            "_model_name": "LabelModel",
            "_view_count": null,
            "_view_module": "@jupyter-widgets/controls",
            "_view_module_version": "1.5.0",
            "_view_name": "LabelView",
            "description": "",
            "description_tooltip": null,
            "layout": "IPY_MODEL_2c84a090914a43c6be75b6c370f3d294",
            "placeholder": "​",
            "style": "IPY_MODEL_28eb64faf7f54023be48da9bca233a4f",
            "value": "Login successful"
          }
        },
        "eb24efae1a70440ea873950eb2934ddd": {
          "model_module": "@jupyter-widgets/base",
          "model_name": "LayoutModel",
          "model_module_version": "1.2.0",
          "state": {
            "_model_module": "@jupyter-widgets/base",
            "_model_module_version": "1.2.0",
            "_model_name": "LayoutModel",
            "_view_count": null,
            "_view_module": "@jupyter-widgets/base",
            "_view_module_version": "1.2.0",
            "_view_name": "LayoutView",
            "align_content": null,
            "align_items": null,
            "align_self": null,
            "border": null,
            "bottom": null,
            "display": null,
            "flex": null,
            "flex_flow": null,
            "grid_area": null,
            "grid_auto_columns": null,
            "grid_auto_flow": null,
            "grid_auto_rows": null,
            "grid_column": null,
            "grid_gap": null,
            "grid_row": null,
            "grid_template_areas": null,
            "grid_template_columns": null,
            "grid_template_rows": null,
            "height": null,
            "justify_content": null,
            "justify_items": null,
            "left": null,
            "margin": null,
            "max_height": null,
            "max_width": null,
            "min_height": null,
            "min_width": null,
            "object_fit": null,
            "object_position": null,
            "order": null,
            "overflow": null,
            "overflow_x": null,
            "overflow_y": null,
            "padding": null,
            "right": null,
            "top": null,
            "visibility": null,
            "width": null
          }
        },
        "202e956e6bc64970843d014fbb5b8f10": {
          "model_module": "@jupyter-widgets/controls",
          "model_name": "DescriptionStyleModel",
          "model_module_version": "1.5.0",
          "state": {
            "_model_module": "@jupyter-widgets/controls",
            "_model_module_version": "1.5.0",
            "_model_name": "DescriptionStyleModel",
            "_view_count": null,
            "_view_module": "@jupyter-widgets/base",
            "_view_module_version": "1.2.0",
            "_view_name": "StyleView",
            "description_width": ""
          }
        },
        "a42f216c56ab4924803e8ed7b19b6c8e": {
          "model_module": "@jupyter-widgets/base",
          "model_name": "LayoutModel",
          "model_module_version": "1.2.0",
          "state": {
            "_model_module": "@jupyter-widgets/base",
            "_model_module_version": "1.2.0",
            "_model_name": "LayoutModel",
            "_view_count": null,
            "_view_module": "@jupyter-widgets/base",
            "_view_module_version": "1.2.0",
            "_view_name": "LayoutView",
            "align_content": null,
            "align_items": null,
            "align_self": null,
            "border": null,
            "bottom": null,
            "display": null,
            "flex": null,
            "flex_flow": null,
            "grid_area": null,
            "grid_auto_columns": null,
            "grid_auto_flow": null,
            "grid_auto_rows": null,
            "grid_column": null,
            "grid_gap": null,
            "grid_row": null,
            "grid_template_areas": null,
            "grid_template_columns": null,
            "grid_template_rows": null,
            "height": null,
            "justify_content": null,
            "justify_items": null,
            "left": null,
            "margin": null,
            "max_height": null,
            "max_width": null,
            "min_height": null,
            "min_width": null,
            "object_fit": null,
            "object_position": null,
            "order": null,
            "overflow": null,
            "overflow_x": null,
            "overflow_y": null,
            "padding": null,
            "right": null,
            "top": null,
            "visibility": null,
            "width": null
          }
        },
        "efb5200a83d143329d8ba80cea6330de": {
          "model_module": "@jupyter-widgets/controls",
          "model_name": "DescriptionStyleModel",
          "model_module_version": "1.5.0",
          "state": {
            "_model_module": "@jupyter-widgets/controls",
            "_model_module_version": "1.5.0",
            "_model_name": "DescriptionStyleModel",
            "_view_count": null,
            "_view_module": "@jupyter-widgets/base",
            "_view_module_version": "1.2.0",
            "_view_name": "StyleView",
            "description_width": ""
          }
        },
        "654b5512869b4cbf81bb45ec1221dc30": {
          "model_module": "@jupyter-widgets/base",
          "model_name": "LayoutModel",
          "model_module_version": "1.2.0",
          "state": {
            "_model_module": "@jupyter-widgets/base",
            "_model_module_version": "1.2.0",
            "_model_name": "LayoutModel",
            "_view_count": null,
            "_view_module": "@jupyter-widgets/base",
            "_view_module_version": "1.2.0",
            "_view_name": "LayoutView",
            "align_content": null,
            "align_items": null,
            "align_self": null,
            "border": null,
            "bottom": null,
            "display": null,
            "flex": null,
            "flex_flow": null,
            "grid_area": null,
            "grid_auto_columns": null,
            "grid_auto_flow": null,
            "grid_auto_rows": null,
            "grid_column": null,
            "grid_gap": null,
            "grid_row": null,
            "grid_template_areas": null,
            "grid_template_columns": null,
            "grid_template_rows": null,
            "height": null,
            "justify_content": null,
            "justify_items": null,
            "left": null,
            "margin": null,
            "max_height": null,
            "max_width": null,
            "min_height": null,
            "min_width": null,
            "object_fit": null,
            "object_position": null,
            "order": null,
            "overflow": null,
            "overflow_x": null,
            "overflow_y": null,
            "padding": null,
            "right": null,
            "top": null,
            "visibility": null,
            "width": null
          }
        },
        "da5c0c11f76e494fa62a1777cf1a3d1f": {
          "model_module": "@jupyter-widgets/controls",
          "model_name": "DescriptionStyleModel",
          "model_module_version": "1.5.0",
          "state": {
            "_model_module": "@jupyter-widgets/controls",
            "_model_module_version": "1.5.0",
            "_model_name": "DescriptionStyleModel",
            "_view_count": null,
            "_view_module": "@jupyter-widgets/base",
            "_view_module_version": "1.2.0",
            "_view_name": "StyleView",
            "description_width": ""
          }
        },
        "2c84a090914a43c6be75b6c370f3d294": {
          "model_module": "@jupyter-widgets/base",
          "model_name": "LayoutModel",
          "model_module_version": "1.2.0",
          "state": {
            "_model_module": "@jupyter-widgets/base",
            "_model_module_version": "1.2.0",
            "_model_name": "LayoutModel",
            "_view_count": null,
            "_view_module": "@jupyter-widgets/base",
            "_view_module_version": "1.2.0",
            "_view_name": "LayoutView",
            "align_content": null,
            "align_items": null,
            "align_self": null,
            "border": null,
            "bottom": null,
            "display": null,
            "flex": null,
            "flex_flow": null,
            "grid_area": null,
            "grid_auto_columns": null,
            "grid_auto_flow": null,
            "grid_auto_rows": null,
            "grid_column": null,
            "grid_gap": null,
            "grid_row": null,
            "grid_template_areas": null,
            "grid_template_columns": null,
            "grid_template_rows": null,
            "height": null,
            "justify_content": null,
            "justify_items": null,
            "left": null,
            "margin": null,
            "max_height": null,
            "max_width": null,
            "min_height": null,
            "min_width": null,
            "object_fit": null,
            "object_position": null,
            "order": null,
            "overflow": null,
            "overflow_x": null,
            "overflow_y": null,
            "padding": null,
            "right": null,
            "top": null,
            "visibility": null,
            "width": null
          }
        },
        "28eb64faf7f54023be48da9bca233a4f": {
          "model_module": "@jupyter-widgets/controls",
          "model_name": "DescriptionStyleModel",
          "model_module_version": "1.5.0",
          "state": {
            "_model_module": "@jupyter-widgets/controls",
            "_model_module_version": "1.5.0",
            "_model_name": "DescriptionStyleModel",
            "_view_count": null,
            "_view_module": "@jupyter-widgets/base",
            "_view_module_version": "1.2.0",
            "_view_name": "StyleView",
            "description_width": ""
          }
        },
        "d556abf3fe364063b04b5733879c7692": {
          "model_module": "@jupyter-widgets/controls",
          "model_name": "HBoxModel",
          "model_module_version": "1.5.0",
          "state": {
            "_dom_classes": [],
            "_model_module": "@jupyter-widgets/controls",
            "_model_module_version": "1.5.0",
            "_model_name": "HBoxModel",
            "_view_count": null,
            "_view_module": "@jupyter-widgets/controls",
            "_view_module_version": "1.5.0",
            "_view_name": "HBoxView",
            "box_style": "",
            "children": [
              "IPY_MODEL_022f630a9d8245f292ce2259b7ad96f3",
              "IPY_MODEL_f803498593824f3fa65658cef9fbed31",
              "IPY_MODEL_5196c6205de44bdf9de7919b818af36f"
            ],
            "layout": "IPY_MODEL_ccb4bf8266f34a04ba72d39cddc933c7"
          }
        },
        "022f630a9d8245f292ce2259b7ad96f3": {
          "model_module": "@jupyter-widgets/controls",
          "model_name": "HTMLModel",
          "model_module_version": "1.5.0",
          "state": {
            "_dom_classes": [],
            "_model_module": "@jupyter-widgets/controls",
            "_model_module_version": "1.5.0",
            "_model_name": "HTMLModel",
            "_view_count": null,
            "_view_module": "@jupyter-widgets/controls",
            "_view_module_version": "1.5.0",
            "_view_name": "HTMLView",
            "description": "",
            "description_tooltip": null,
            "layout": "IPY_MODEL_18d0d490f91e4565b602ab2ff9b903c9",
            "placeholder": "​",
            "style": "IPY_MODEL_0e116b0e58f34f2c8f8f6123f5808711",
            "value": "Loading checkpoint shards:   0%"
          }
        },
        "f803498593824f3fa65658cef9fbed31": {
          "model_module": "@jupyter-widgets/controls",
          "model_name": "FloatProgressModel",
          "model_module_version": "1.5.0",
          "state": {
            "_dom_classes": [],
            "_model_module": "@jupyter-widgets/controls",
            "_model_module_version": "1.5.0",
            "_model_name": "FloatProgressModel",
            "_view_count": null,
            "_view_module": "@jupyter-widgets/controls",
            "_view_module_version": "1.5.0",
            "_view_name": "ProgressView",
            "bar_style": "",
            "description": "",
            "description_tooltip": null,
            "layout": "IPY_MODEL_41bd43f621f44ca99ead9eebbe1a8b15",
            "max": 2,
            "min": 0,
            "orientation": "horizontal",
            "style": "IPY_MODEL_bd964b027f3d4144a89666626df7bc90",
            "value": 0
          }
        },
        "5196c6205de44bdf9de7919b818af36f": {
          "model_module": "@jupyter-widgets/controls",
          "model_name": "HTMLModel",
          "model_module_version": "1.5.0",
          "state": {
            "_dom_classes": [],
            "_model_module": "@jupyter-widgets/controls",
            "_model_module_version": "1.5.0",
            "_model_name": "HTMLModel",
            "_view_count": null,
            "_view_module": "@jupyter-widgets/controls",
            "_view_module_version": "1.5.0",
            "_view_name": "HTMLView",
            "description": "",
            "description_tooltip": null,
            "layout": "IPY_MODEL_1d6a7d0990cc47a19c89e12efb9ae9cf",
            "placeholder": "​",
            "style": "IPY_MODEL_ccefa1dfe2f74c3bbad276163bb40cb7",
            "value": " 0/2 [00:00&lt;?, ?it/s]"
          }
        },
        "ccb4bf8266f34a04ba72d39cddc933c7": {
          "model_module": "@jupyter-widgets/base",
          "model_name": "LayoutModel",
          "model_module_version": "1.2.0",
          "state": {
            "_model_module": "@jupyter-widgets/base",
            "_model_module_version": "1.2.0",
            "_model_name": "LayoutModel",
            "_view_count": null,
            "_view_module": "@jupyter-widgets/base",
            "_view_module_version": "1.2.0",
            "_view_name": "LayoutView",
            "align_content": null,
            "align_items": null,
            "align_self": null,
            "border": null,
            "bottom": null,
            "display": null,
            "flex": null,
            "flex_flow": null,
            "grid_area": null,
            "grid_auto_columns": null,
            "grid_auto_flow": null,
            "grid_auto_rows": null,
            "grid_column": null,
            "grid_gap": null,
            "grid_row": null,
            "grid_template_areas": null,
            "grid_template_columns": null,
            "grid_template_rows": null,
            "height": null,
            "justify_content": null,
            "justify_items": null,
            "left": null,
            "margin": null,
            "max_height": null,
            "max_width": null,
            "min_height": null,
            "min_width": null,
            "object_fit": null,
            "object_position": null,
            "order": null,
            "overflow": null,
            "overflow_x": null,
            "overflow_y": null,
            "padding": null,
            "right": null,
            "top": null,
            "visibility": null,
            "width": null
          }
        },
        "18d0d490f91e4565b602ab2ff9b903c9": {
          "model_module": "@jupyter-widgets/base",
          "model_name": "LayoutModel",
          "model_module_version": "1.2.0",
          "state": {
            "_model_module": "@jupyter-widgets/base",
            "_model_module_version": "1.2.0",
            "_model_name": "LayoutModel",
            "_view_count": null,
            "_view_module": "@jupyter-widgets/base",
            "_view_module_version": "1.2.0",
            "_view_name": "LayoutView",
            "align_content": null,
            "align_items": null,
            "align_self": null,
            "border": null,
            "bottom": null,
            "display": null,
            "flex": null,
            "flex_flow": null,
            "grid_area": null,
            "grid_auto_columns": null,
            "grid_auto_flow": null,
            "grid_auto_rows": null,
            "grid_column": null,
            "grid_gap": null,
            "grid_row": null,
            "grid_template_areas": null,
            "grid_template_columns": null,
            "grid_template_rows": null,
            "height": null,
            "justify_content": null,
            "justify_items": null,
            "left": null,
            "margin": null,
            "max_height": null,
            "max_width": null,
            "min_height": null,
            "min_width": null,
            "object_fit": null,
            "object_position": null,
            "order": null,
            "overflow": null,
            "overflow_x": null,
            "overflow_y": null,
            "padding": null,
            "right": null,
            "top": null,
            "visibility": null,
            "width": null
          }
        },
        "0e116b0e58f34f2c8f8f6123f5808711": {
          "model_module": "@jupyter-widgets/controls",
          "model_name": "DescriptionStyleModel",
          "model_module_version": "1.5.0",
          "state": {
            "_model_module": "@jupyter-widgets/controls",
            "_model_module_version": "1.5.0",
            "_model_name": "DescriptionStyleModel",
            "_view_count": null,
            "_view_module": "@jupyter-widgets/base",
            "_view_module_version": "1.2.0",
            "_view_name": "StyleView",
            "description_width": ""
          }
        },
        "41bd43f621f44ca99ead9eebbe1a8b15": {
          "model_module": "@jupyter-widgets/base",
          "model_name": "LayoutModel",
          "model_module_version": "1.2.0",
          "state": {
            "_model_module": "@jupyter-widgets/base",
            "_model_module_version": "1.2.0",
            "_model_name": "LayoutModel",
            "_view_count": null,
            "_view_module": "@jupyter-widgets/base",
            "_view_module_version": "1.2.0",
            "_view_name": "LayoutView",
            "align_content": null,
            "align_items": null,
            "align_self": null,
            "border": null,
            "bottom": null,
            "display": null,
            "flex": null,
            "flex_flow": null,
            "grid_area": null,
            "grid_auto_columns": null,
            "grid_auto_flow": null,
            "grid_auto_rows": null,
            "grid_column": null,
            "grid_gap": null,
            "grid_row": null,
            "grid_template_areas": null,
            "grid_template_columns": null,
            "grid_template_rows": null,
            "height": null,
            "justify_content": null,
            "justify_items": null,
            "left": null,
            "margin": null,
            "max_height": null,
            "max_width": null,
            "min_height": null,
            "min_width": null,
            "object_fit": null,
            "object_position": null,
            "order": null,
            "overflow": null,
            "overflow_x": null,
            "overflow_y": null,
            "padding": null,
            "right": null,
            "top": null,
            "visibility": null,
            "width": null
          }
        },
        "bd964b027f3d4144a89666626df7bc90": {
          "model_module": "@jupyter-widgets/controls",
          "model_name": "ProgressStyleModel",
          "model_module_version": "1.5.0",
          "state": {
            "_model_module": "@jupyter-widgets/controls",
            "_model_module_version": "1.5.0",
            "_model_name": "ProgressStyleModel",
            "_view_count": null,
            "_view_module": "@jupyter-widgets/base",
            "_view_module_version": "1.2.0",
            "_view_name": "StyleView",
            "bar_color": null,
            "description_width": ""
          }
        },
        "1d6a7d0990cc47a19c89e12efb9ae9cf": {
          "model_module": "@jupyter-widgets/base",
          "model_name": "LayoutModel",
          "model_module_version": "1.2.0",
          "state": {
            "_model_module": "@jupyter-widgets/base",
            "_model_module_version": "1.2.0",
            "_model_name": "LayoutModel",
            "_view_count": null,
            "_view_module": "@jupyter-widgets/base",
            "_view_module_version": "1.2.0",
            "_view_name": "LayoutView",
            "align_content": null,
            "align_items": null,
            "align_self": null,
            "border": null,
            "bottom": null,
            "display": null,
            "flex": null,
            "flex_flow": null,
            "grid_area": null,
            "grid_auto_columns": null,
            "grid_auto_flow": null,
            "grid_auto_rows": null,
            "grid_column": null,
            "grid_gap": null,
            "grid_row": null,
            "grid_template_areas": null,
            "grid_template_columns": null,
            "grid_template_rows": null,
            "height": null,
            "justify_content": null,
            "justify_items": null,
            "left": null,
            "margin": null,
            "max_height": null,
            "max_width": null,
            "min_height": null,
            "min_width": null,
            "object_fit": null,
            "object_position": null,
            "order": null,
            "overflow": null,
            "overflow_x": null,
            "overflow_y": null,
            "padding": null,
            "right": null,
            "top": null,
            "visibility": null,
            "width": null
          }
        },
        "ccefa1dfe2f74c3bbad276163bb40cb7": {
          "model_module": "@jupyter-widgets/controls",
          "model_name": "DescriptionStyleModel",
          "model_module_version": "1.5.0",
          "state": {
            "_model_module": "@jupyter-widgets/controls",
            "_model_module_version": "1.5.0",
            "_model_name": "DescriptionStyleModel",
            "_view_count": null,
            "_view_module": "@jupyter-widgets/base",
            "_view_module_version": "1.2.0",
            "_view_name": "StyleView",
            "description_width": ""
          }
        }
      }
    }
  },
  "nbformat": 4,
  "nbformat_minor": 0
}